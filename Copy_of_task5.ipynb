{
  "cells": [
    {
      "cell_type": "markdown",
      "metadata": {
        "id": "jYysdyb-CaWM"
      },
      "source": [
        "# Intro to TensorFlow: Classify images of clothing"
      ]
    },
    {
      "cell_type": "code",
      "execution_count": 2,
      "metadata": {
        "id": "dzLKpmZICaWN"
      },
      "outputs": [],
      "source": [
        "# import Tensorflow\n",
        "import tensorflow as tf\n",
        "\n",
        "\n",
        "# import the other helper libraries required\n",
        "import tensorflow as tf\n",
        "from tensorflow import keras\n",
        "from tensorflow.keras.models import Sequential\n",
        "from tensorflow.keras.layers import Activation, Dense\n",
        "from tensorflow.keras.optimizers import Adam\n",
        "from tensorflow.keras.metrics import categorical_crossentropy \n",
        "\n"
      ]
    },
    {
      "cell_type": "markdown",
      "source": [
        "Resoureces:\n",
        "\n",
        "Loss functions: https://www.youtube.com/watch?v=QBbC3Cjsnjg\n",
        "\n",
        "Optimizers: https://www.youtube.com/watch?v=mdKjMPmcWjY\n",
        "\n",
        "Batch processing: https://www.youtube.com/watch?v=Y-zswp6Yxf0\n",
        "\n",
        "Overfitting in DL: https://www.youtube.com/watch?v=BqzgUnrNhFM\n",
        "\n",
        "Regularization: https://www.youtube.com/watch?v=VqKq78PVO9g\n",
        "\n",
        "L1 and L2 regularization: https://www.analyticssteps.com/blogs/l2-and-l1-regularization-machine-learning\n",
        "\n",
        "Dropout: https://www.youtube.com/watch?v=lcI8ukTUEbo\n",
        "\n",
        "Batch normalization: https://www.youtube.com/watch?v=DtEq44FTPM4\n",
        "\n",
        "Batch Normalization as reducing the covariant shift: https://www.youtube.com/watch?v=nUUqwaxLnWs&t=300s"
      ],
      "metadata": {
        "id": "jgmGEdHV8Kkl"
      }
    },
    {
      "cell_type": "markdown",
      "metadata": {
        "id": "yR0EdgrLCaWR"
      },
      "source": [
        "## Import the Fashion MNIST dataset"
      ]
    },
    {
      "cell_type": "markdown",
      "metadata": {
        "id": "DLdCchMdCaWQ"
      },
      "source": [
        "This guide uses the [Fashion MNIST](https://github.com/zalandoresearch/fashion-mnist) dataset which contains 70,000 grayscale images in 10 categories. The images show individual articles of clothing at low resolution (28 by 28 pixels), as seen here:\n",
        "\n",
        "<table>\n",
        "  <tr><td>\n",
        "    <img src=\"https://tensorflow.org/images/fashion-mnist-sprite.png\"\n",
        "         alt=\"Fashion MNIST sprite\"  width=\"600\">\n",
        "  </td></tr>\n",
        "  <tr><td align=\"center\">\n",
        "    <b>Figure 1.</b> <a href=\"https://github.com/zalandoresearch/fashion-mnist\">Fashion-MNIST samples</a> (by Zalando, MIT License).<br/>&nbsp;\n",
        "  </td></tr>\n",
        "</table>\n",
        "\n",
        "Fashion MNIST is intended as a drop-in replacement for the classic [MNIST](http://yann.lecun.com/exdb/mnist/) dataset—often used as the \"Hello, World\" of machine learning programs for computer vision. The MNIST dataset contains images of handwritten digits (0, 1, 2, etc.) in a format identical to that of the articles of clothing you'll use here.\n",
        "\n",
        "This guide uses Fashion MNIST for variety, and because it's a slightly more challenging problem than regular MNIST. Both datasets are relatively small and are used to verify that an algorithm works as expected. They're good starting points to test and debug code.\n",
        "\n",
        "Here, 60,000 images are used to train the network and 10,000 images to evaluate how accurately the network learned to classify images. You can access the Fashion MNIST directly from TensorFlow. Import and [load the Fashion MNIST data](https://www.tensorflow.org/api_docs/python/tf/keras/datasets/fashion_mnist/load_data) directly from TensorFlow:"
      ]
    },
    {
      "cell_type": "code",
      "execution_count": 3,
      "metadata": {
        "id": "7MqDQO0KCaWS",
        "colab": {
          "base_uri": "https://localhost:8080/"
        },
        "outputId": "5de41c18-1135-4337-ca03-38cf31bb9ae4"
      },
      "outputs": [
        {
          "output_type": "stream",
          "name": "stdout",
          "text": [
            "Downloading data from https://storage.googleapis.com/tensorflow/tf-keras-datasets/train-labels-idx1-ubyte.gz\n",
            "29515/29515 [==============================] - 0s 0us/step\n",
            "Downloading data from https://storage.googleapis.com/tensorflow/tf-keras-datasets/train-images-idx3-ubyte.gz\n",
            "26421880/26421880 [==============================] - 0s 0us/step\n",
            "Downloading data from https://storage.googleapis.com/tensorflow/tf-keras-datasets/t10k-labels-idx1-ubyte.gz\n",
            "5148/5148 [==============================] - 0s 0us/step\n",
            "Downloading data from https://storage.googleapis.com/tensorflow/tf-keras-datasets/t10k-images-idx3-ubyte.gz\n",
            "4422102/4422102 [==============================] - 0s 0us/step\n"
          ]
        }
      ],
      "source": [
        "#complete the code below:\n",
        "fashion_mnist =  tf.keras.datasets.fashion_mnist\n",
        "\n",
        "#load the data into train_images, train_labels, test_images, test_labels\n",
        "(train_images, train_labels), (test_images, test_labels) = fashion_mnist.load_data()"
      ]
    },
    {
      "cell_type": "markdown",
      "metadata": {
        "id": "t9FDsUlxCaWW"
      },
      "source": [
        "Loading the dataset returns four NumPy arrays:\n",
        "\n",
        "* The `train_images` and `train_labels` arrays are the *training set*—the data the model uses to learn.\n",
        "* The model is tested against the *test set*, the `test_images`, and `test_labels` arrays.\n",
        "\n",
        "The images are 28x28 NumPy arrays, with pixel values ranging from 0 to 255. The *labels* are an array of integers, ranging from 0 to 9. These correspond to the *class* of clothing the image represents:\n",
        "\n",
        "<table>\n",
        "  <tr>\n",
        "    <th>Label</th>\n",
        "    <th>Class</th>\n",
        "  </tr>\n",
        "  <tr>\n",
        "    <td>0</td>\n",
        "    <td>T-shirt/top</td>\n",
        "  </tr>\n",
        "  <tr>\n",
        "    <td>1</td>\n",
        "    <td>Trouser</td>\n",
        "  </tr>\n",
        "    <tr>\n",
        "    <td>2</td>\n",
        "    <td>Pullover</td>\n",
        "  </tr>\n",
        "    <tr>\n",
        "    <td>3</td>\n",
        "    <td>Dress</td>\n",
        "  </tr>\n",
        "    <tr>\n",
        "    <td>4</td>\n",
        "    <td>Coat</td>\n",
        "  </tr>\n",
        "    <tr>\n",
        "    <td>5</td>\n",
        "    <td>Sandal</td>\n",
        "  </tr>\n",
        "    <tr>\n",
        "    <td>6</td>\n",
        "    <td>Shirt</td>\n",
        "  </tr>\n",
        "    <tr>\n",
        "    <td>7</td>\n",
        "    <td>Sneaker</td>\n",
        "  </tr>\n",
        "    <tr>\n",
        "    <td>8</td>\n",
        "    <td>Bag</td>\n",
        "  </tr>\n",
        "    <tr>\n",
        "    <td>9</td>\n",
        "    <td>Ankle boot</td>\n",
        "  </tr>\n",
        "</table>\n",
        "\n",
        "Each image is mapped to a single label. Since the *class names* are not included with the dataset, store them here to use later when plotting the images:"
      ]
    },
    {
      "cell_type": "code",
      "execution_count": 4,
      "metadata": {
        "id": "IjnLH5S2CaWx"
      },
      "outputs": [],
      "source": [
        "#store the class names in a list\n",
        "#complete the code bel\n",
        "class_names = ['T-shirt/top','Trouser','Pullover','Dress','Coat','Sandal','Shirt','Sneaker','Bag','Ankle boot']"
      ]
    },
    {
      "cell_type": "markdown",
      "metadata": {
        "id": "Brm0b_KACaWX"
      },
      "source": [
        "## Explore the data\n",
        "\n",
        "Let's explore the format of the dataset before training the model. The following shows there are 60,000 images in the training set, with each image represented as 28 x 28 pixels:"
      ]
    },
    {
      "cell_type": "code",
      "execution_count": 5,
      "metadata": {
        "id": "zW5k_xz1CaWX",
        "colab": {
          "base_uri": "https://localhost:8080/"
        },
        "outputId": "c3e0577c-3244-4a8b-cb81-ca57dc6b10e3"
      },
      "outputs": [
        {
          "output_type": "execute_result",
          "data": {
            "text/plain": [
              "(60000, 28, 28)"
            ]
          },
          "metadata": {},
          "execution_count": 5
        }
      ],
      "source": [
        "#check the dimensions of the training data\n",
        "train_images.shape\n"
      ]
    },
    {
      "cell_type": "markdown",
      "metadata": {
        "id": "cIAcvQqMCaWf"
      },
      "source": [
        "Likewise, there are 60,000 labels in the training set:"
      ]
    },
    {
      "cell_type": "code",
      "execution_count": 6,
      "metadata": {
        "id": "TRFYHB2mCaWb",
        "colab": {
          "base_uri": "https://localhost:8080/"
        },
        "outputId": "26444f49-c2f3-468f-d6fa-4e28c2a260bd"
      },
      "outputs": [
        {
          "output_type": "execute_result",
          "data": {
            "text/plain": [
              "(60000,)"
            ]
          },
          "metadata": {},
          "execution_count": 6
        }
      ],
      "source": [
        "#verify the number of train_lables\n",
        "\n",
        "train_labels.shape"
      ]
    },
    {
      "cell_type": "markdown",
      "metadata": {
        "id": "TMPI88iZpO2T"
      },
      "source": [
        "There are 10,000 images in the test set. Again, each image is represented as 28 x 28 pixels:"
      ]
    },
    {
      "cell_type": "code",
      "execution_count": 7,
      "metadata": {
        "id": "2KFnYlcwCaWl",
        "colab": {
          "base_uri": "https://localhost:8080/"
        },
        "outputId": "5b3a4fcb-94b6-4d6a-8e1f-5dcd86215172"
      },
      "outputs": [
        {
          "output_type": "execute_result",
          "data": {
            "text/plain": [
              "(10000, 28, 28)"
            ]
          },
          "metadata": {},
          "execution_count": 7
        }
      ],
      "source": [
        "\n",
        "#verify the number of images in test_images by checking the dimensions\n",
        "test_images.shape\n"
      ]
    },
    {
      "cell_type": "markdown",
      "metadata": {
        "id": "rd0A0Iu0CaWq"
      },
      "source": [
        "And the test set contains 10,000 images labels:"
      ]
    },
    {
      "cell_type": "code",
      "execution_count": 8,
      "metadata": {
        "id": "iJmPr5-ACaWn",
        "colab": {
          "base_uri": "https://localhost:8080/"
        },
        "outputId": "1f8fa331-de42-4b17-ca88-cb637176d9ac"
      },
      "outputs": [
        {
          "output_type": "execute_result",
          "data": {
            "text/plain": [
              "(10000,)"
            ]
          },
          "metadata": {},
          "execution_count": 8
        }
      ],
      "source": [
        "#verify the number of images in test_labels\n",
        "\n",
        "test_labels.shape"
      ]
    },
    {
      "cell_type": "markdown",
      "metadata": {
        "id": "ES6uQoLKCaWr"
      },
      "source": [
        "## Preprocess the data\n",
        "\n",
        "The data must be preprocessed before training the network. If you inspect the first image in the training set, you will see that the pixel values fall in the range of 0 to 255:"
      ]
    },
    {
      "cell_type": "code",
      "source": [
        "import matplotlib.pyplot as plt\n",
        "from matplotlib.pyplot import *"
      ],
      "metadata": {
        "id": "etPRDxlBVwEq"
      },
      "execution_count": 9,
      "outputs": []
    },
    {
      "cell_type": "code",
      "execution_count": 10,
      "metadata": {
        "id": "m4VEw8Ud9Quh",
        "colab": {
          "base_uri": "https://localhost:8080/",
          "height": 283
        },
        "outputId": "14fef845-a677-4966-c756-4a1b57e9b7c7"
      },
      "outputs": [
        {
          "output_type": "execute_result",
          "data": {
            "text/plain": [
              "<matplotlib.image.AxesImage at 0x7fd5fd6635b0>"
            ]
          },
          "metadata": {},
          "execution_count": 10
        },
        {
          "output_type": "display_data",
          "data": {
            "text/plain": [
              "<Figure size 432x288 with 1 Axes>"
            ],
            "image/png": "[encoded data removed]"
          },
          "metadata": {
            "needs_background": "light"
          }
        }
      ],
      "source": [
        "#plot a figure using the imshow() function to view the first image in train_images (train_images[0])\n",
        "\n",
        "fig, ax = plt.subplots()\n",
        "\n",
        "ax.imshow(train_images[0])"
      ]
    },
    {
      "cell_type": "markdown",
      "metadata": {
        "id": "Wz7l27Lz9S1P"
      },
      "source": [
        "Scale these values to a range of 0 to 1 before feeding them to the neural network model. To do so, divide the values by 255. It's important that the *training set* and the *testing set* be preprocessed in the same way:"
      ]
    },
    {
      "cell_type": "code",
      "execution_count": 11,
      "metadata": {
        "id": "bW5WzIPlCaWv"
      },
      "outputs": [],
      "source": [
        "#complete the code below\n",
        "train_images = train_images/255\n",
        "\n",
        "test_images = test_images/255\n"
      ]
    },
    {
      "cell_type": "markdown",
      "metadata": {
        "id": "Ee638AlnCaWz"
      },
      "source": [
        "To verify that the data is in the correct format and that you're ready to build and train the network, display the first 25 images from the *training set* and display the class name below each image."
      ]
    },
    {
      "cell_type": "code",
      "execution_count": 12,
      "metadata": {
        "id": "oZTImqg_CaW1",
        "colab": {
          "base_uri": "https://localhost:8080/",
          "height": 1000
        },
        "outputId": "c7dee346-3f8e-491d-df78-9688a8fd88f3"
      },
      "outputs": [
        {
          "output_type": "stream",
          "name": "stderr",
          "text": [
            "<ipython-input-12-fbb5c3fd2374>:3: RuntimeWarning: More than 20 figures have been opened. Figures created through the pyplot interface (`matplotlib.pyplot.figure`) are retained until explicitly closed and may consume too much memory. (To control this warning, see the rcParam `figure.max_open_warning`).\n",
            "  fig, ax = plt.subplots()\n"
          ]
        },
        {
          "output_type": "display_data",
          "data": {
            "text/plain": [
              "<Figure size 432x288 with 1 Axes>"
            ],
            "image/png": "[encoded data removed]"
          },
          "metadata": {
            "needs_background": "light"
          }
        },
        {
          "output_type": "display_data",
          "data": {
            "text/plain": [
              "<Figure size 432x288 with 1 Axes>"
            ],
            "image/png": "[encoded data removed]"
          },
          "metadata": {
            "needs_background": "light"
          }
        },
        {
          "output_type": "display_data",
          "data": {
            "text/plain": [
              "<Figure size 432x288 with 1 Axes>"
            ],
            "image/png": "[encoded data removed]"
          },
          "metadata": {
            "needs_background": "light"
          }
        },
        {
          "output_type": "display_data",
          "data": {
            "text/plain": [
              "<Figure size 432x288 with 1 Axes>"
            ],
            "image/png": "[encoded data removed]"
          },
          "metadata": {
            "needs_background": "light"
          }
        },
        {
          "output_type": "display_data",
          "data": {
            "text/plain": [
              "<Figure size 432x288 with 1 Axes>"
            ],
            "image/png": "[encoded data removed]"
          },
          "metadata": {
            "needs_background": "light"
          }
        },
        {
          "output_type": "display_data",
          "data": {
            "text/plain": [
              "<Figure size 432x288 with 1 Axes>"
            ],
            "image/png": "[encoded data removed]"
          },
          "metadata": {
            "needs_background": "light"
          }
        },
        {
          "output_type": "display_data",
          "data": {
            "text/plain": [
              "<Figure size 432x288 with 1 Axes>"
            ],
            "image/png": "[encoded data removed]"
          },
          "metadata": {
            "needs_background": "light"
          }
        },
        {
          "output_type": "display_data",
          "data": {
            "text/plain": [
              "<Figure size 432x288 with 1 Axes>"
            ],
            "image/png": "[encoded data removed]"
          },
          "metadata": {
            "needs_background": "light"
          }
        },
        {
          "output_type": "display_data",
          "data": {
            "text/plain": [
              "<Figure size 432x288 with 1 Axes>"
            ],
            "image/png": "[encoded data removed]"
          },
          "metadata": {
            "needs_background": "light"
          }
        },
        {
          "output_type": "display_data",
          "data": {
            "text/plain": [
              "<Figure size 432x288 with 1 Axes>"
            ],
            "image/png": "[encoded data removed]"
          },
          "metadata": {
            "needs_background": "light"
          }
        },
        {
          "output_type": "display_data",
          "data": {
            "text/plain": [
              "<Figure size 432x288 with 1 Axes>"
            ],
            "image/png": "[encoded data removed]"
          },
          "metadata": {
            "needs_background": "light"
          }
        },
        {
          "output_type": "display_data",
          "data": {
            "text/plain": [
              "<Figure size 432x288 with 1 Axes>"
            ],
            "image/png": "[encoded data removed]"
          },
          "metadata": {
            "needs_background": "light"
          }
        },
        {
          "output_type": "display_data",
          "data": {
            "text/plain": [
              "<Figure size 432x288 with 1 Axes>"
            ],
            "image/png": "[encoded data removed]"
          },
          "metadata": {
            "needs_background": "light"
          }
        },
        {
          "output_type": "display_data",
          "data": {
            "text/plain": [
              "<Figure size 432x288 with 1 Axes>"
            ],
            "image/png": "[encoded data removed]"
          },
          "metadata": {
            "needs_background": "light"
          }
        },
        {
          "output_type": "display_data",
          "data": {
            "text/plain": [
              "<Figure size 432x288 with 1 Axes>"
            ],
            "image/png": "[encoded data removed]"
          },
          "metadata": {
            "needs_background": "light"
          }
        },
        {
          "output_type": "display_data",
          "data": {
            "text/plain": [
              "<Figure size 432x288 with 1 Axes>"
            ],
            "image/png": "[encoded data removed]"
          },
          "metadata": {
            "needs_background": "light"
          }
        },
        {
          "output_type": "display_data",
          "data": {
            "text/plain": [
              "<Figure size 432x288 with 1 Axes>"
            ],
            "image/png": "[encoded data removed]"
          },
          "metadata": {
            "needs_background": "light"
          }
        },
        {
          "output_type": "display_data",
          "data": {
            "text/plain": [
              "<Figure size 432x288 with 1 Axes>"
            ],
            "image/png": "[encoded data removed]"
          },
          "metadata": {
            "needs_background": "light"
          }
        },
        {
          "output_type": "display_data",
          "data": {
            "text/plain": [
              "<Figure size 432x288 with 1 Axes>"
            ],
            "image/png": "[encoded data removed]"
          },
          "metadata": {
            "needs_background": "light"
          }
        },
        {
          "output_type": "display_data",
          "data": {
            "text/plain": [
              "<Figure size 432x288 with 1 Axes>"
            ],
            "image/png": "[encoded data removed]"
          },
          "metadata": {
            "needs_background": "light"
          }
        },
        {
          "output_type": "display_data",
          "data": {
            "text/plain": [
              "<Figure size 432x288 with 1 Axes>"
            ],
            "image/png": "[encoded data removed]"
          },
          "metadata": {
            "needs_background": "light"
          }
        },
        {
          "output_type": "display_data",
          "data": {
            "text/plain": [
              "<Figure size 432x288 with 1 Axes>"
            ],
            "image/png": "[encoded data removed]"
          },
          "metadata": {
            "needs_background": "light"
          }
        },
        {
          "output_type": "display_data",
          "data": {
            "text/plain": [
              "<Figure size 432x288 with 1 Axes>"
            ],
            "image/png": "[encoded data removed]"
          },
          "metadata": {
            "needs_background": "light"
          }
        },
        {
          "output_type": "display_data",
          "data": {
            "text/plain": [
              "<Figure size 432x288 with 1 Axes>"
            ],
            "image/png": "[encoded data removed]"
          },
          "metadata": {
            "needs_background": "light"
          }
        },
        {
          "output_type": "display_data",
          "data": {
            "text/plain": [
              "<Figure size 432x288 with 1 Axes>"
            ],
            "image/png": "[encoded data removed]"
          },
          "metadata": {
            "needs_background": "light"
          }
        }
      ],
      "source": [
        "#write code below\n",
        "for i in range(25):\n",
        "  fig, ax = plt.subplots()\n",
        "\n",
        "  ax.imshow(train_images[i])\n",
        "  \n"
      ]
    },
    {
      "cell_type": "markdown",
      "metadata": {
        "id": "59veuiEZCaW4"
      },
      "source": [
        "## Build the model\n",
        "\n",
        "Building the neural network requires configuring the layers of the model, then compiling the model."
      ]
    },
    {
      "cell_type": "markdown",
      "metadata": {
        "id": "Gxg1XGm0eOBy"
      },
      "source": [
        "### Set up the layers\n",
        "\n",
        "The basic building block of a neural network is the [*layer*](https://www.tensorflow.org/api_docs/python/tf/keras/layers). Layers extract representations from the data fed into them. Hopefully, these representations are meaningful for the problem at hand.\n",
        "\n",
        "Most of deep learning consists of chaining together simple layers. Most layers, such as `tf.keras.layers.Dense`, have parameters that are learned during training."
      ]
    },
    {
      "cell_type": "code",
      "execution_count": 13,
      "metadata": {
        "id": "9ODch-OFCaW4"
      },
      "outputs": [],
      "source": [
        "#create a model having the layers defined below this cel\n",
        "ann = tf.keras.models.Sequential([tf.keras.layers.Flatten(),\n",
        "                                    tf.keras.layers.Dense(128, activation=tf.nn.relu),\n",
        "                                    tf.keras.layers.Dense(10, activation=tf.nn.softmax)])\n",
        "                                    "
      ]
    },
    {
      "cell_type": "markdown",
      "metadata": {
        "id": "gut8A_7rCaW6"
      },
      "source": [
        "The first layer in this network, `tf.keras.layers.Flatten`, transforms the format of the images from a two-dimensional array (of 28 by 28 pixels) to a one-dimensional array (of 28 * 28 = 784 pixels). Think of this layer as unstacking rows of pixels in the image and lining them up. This layer has no parameters to learn; it only reformats the data.\n",
        "\n",
        "After the pixels are flattened, the network consists of a sequence of two `tf.keras.layers.Dense` layers with a 'BatchNormalization()' layer in between the 2 dense layers. These are densely connected, or fully connected, neural layers. The first `Dense` layer has 128 nodes (or neurons). The second (and last) layer returns a logits array with length of 10. Each node contains a score that indicates the current image belongs to one of the 10 classes. \n",
        "The Batch Normalization layer works by performing a series of operations on the incoming input data. The set of operations involves standardization, normalization, rescaling and shifting of offset of input values coming into the BN layer.\n",
        "\n",
        "### Compile the model\n",
        "\n",
        "Before the model is ready for training, it needs a few more settings. These are added during the model's [*compile*](https://www.tensorflow.org/api_docs/python/tf/keras/Model#compile) step:\n",
        "\n",
        "* [*Loss function*](https://www.tensorflow.org/api_docs/python/tf/keras/losses) —This measures how accurate the model is during training. You want to minimize this function to \"steer\" the model in the right direction.\n",
        "* [*Optimizer*](https://www.tensorflow.org/api_docs/python/tf/keras/optimizers) —This is how the model is updated based on the data it sees and its loss function.\n",
        "* [*Metrics*](https://www.tensorflow.org/api_docs/python/tf/keras/metrics) —Used to monitor the training and testing steps. The following example uses *accuracy*, the fraction of the images that are correctly classified."
      ]
    },
    {
      "cell_type": "code",
      "execution_count": 14,
      "metadata": {
        "id": "Lhan11blCaW7"
      },
      "outputs": [],
      "source": [
        "#compile the model using model.compile using the adam optimizer, SparseCategoricalCrossentropy loss and accuracy as metrics\n",
        "\n",
        "ann.compile(optimizer='adam',loss='SparseCategoricalCrossentropy',metrics=['accuracy']) "
      ]
    },
    {
      "cell_type": "markdown",
      "metadata": {
        "id": "qKF6uW-BCaW-"
      },
      "source": [
        "## Train the model\n",
        "\n",
        "Training the neural network model requires the following steps:\n",
        "\n",
        "1. Feed the training data to the model. In this example, the training data is in the `train_images` and `train_labels` arrays.\n",
        "2. The model learns to associate images and labels.\n",
        "3. You ask the model to make predictions about a test set—in this example, the `test_images` array.\n",
        "4. Verify that the predictions match the labels from the `test_labels` array.\n"
      ]
    },
    {
      "cell_type": "markdown",
      "metadata": {
        "id": "Z4P4zIV7E28Z"
      },
      "source": [
        "### Feed the model\n",
        "\n",
        "To start training,  call the [`model.fit`](https://www.tensorflow.org/api_docs/python/tf/keras/Model#fit) method—so called because it \"fits\" the model to the training data:"
      ]
    },
    {
      "cell_type": "code",
      "execution_count": 15,
      "metadata": {
        "id": "xvwvpA64CaW_",
        "colab": {
          "base_uri": "https://localhost:8080/"
        },
        "outputId": "c1726083-232e-4951-a52a-26181449fc8c"
      },
      "outputs": [
        {
          "output_type": "stream",
          "name": "stdout",
          "text": [
            "Epoch 1/10\n",
            "1875/1875 [==============================] - 5s 2ms/step - loss: 0.4983 - accuracy: 0.8267\n",
            "Epoch 2/10\n",
            "1875/1875 [==============================] - 5s 2ms/step - loss: 0.3761 - accuracy: 0.8650\n",
            "Epoch 3/10\n",
            "1875/1875 [==============================] - 6s 3ms/step - loss: 0.3387 - accuracy: 0.8769\n",
            "Epoch 4/10\n",
            "1875/1875 [==============================] - 5s 2ms/step - loss: 0.3123 - accuracy: 0.8863\n",
            "Epoch 5/10\n",
            "1875/1875 [==============================] - 4s 2ms/step - loss: 0.2938 - accuracy: 0.8920\n",
            "Epoch 6/10\n",
            "1875/1875 [==============================] - 4s 2ms/step - loss: 0.2814 - accuracy: 0.8954\n",
            "Epoch 7/10\n",
            "1875/1875 [==============================] - 4s 2ms/step - loss: 0.2671 - accuracy: 0.9013\n",
            "Epoch 8/10\n",
            "1875/1875 [==============================] - 4s 2ms/step - loss: 0.2586 - accuracy: 0.9029\n",
            "Epoch 9/10\n",
            "1875/1875 [==============================] - 5s 3ms/step - loss: 0.2500 - accuracy: 0.9067\n",
            "Epoch 10/10\n",
            "1875/1875 [==============================] - 5s 2ms/step - loss: 0.2397 - accuracy: 0.9097\n"
          ]
        },
        {
          "output_type": "execute_result",
          "data": {
            "text/plain": [
              "<keras.callbacks.History at 0x7fd595985ac0>"
            ]
          },
          "metadata": {},
          "execution_count": 15
        }
      ],
      "source": [
        "#write code below setting epochs=10:\n",
        "ann.fit(train_images, train_labels, epochs=10)"
      ]
    },
    {
      "cell_type": "markdown",
      "metadata": {
        "id": "W3ZVOhugCaXA"
      },
      "source": [
        "As the model trains, the loss and accuracy metrics are displayed. This model reaches an accuracy of about 0.91 (or 91%) on the training data."
      ]
    },
    {
      "cell_type": "markdown",
      "metadata": {
        "id": "wCpr6DGyE28h"
      },
      "source": [
        "### Evaluate accuracy\n",
        "\n",
        "Next, compare how the model performs on the test dataset using model.evaluate():"
      ]
    },
    {
      "cell_type": "code",
      "execution_count": 16,
      "metadata": {
        "id": "VflXLEeECaXC",
        "colab": {
          "base_uri": "https://localhost:8080/"
        },
        "outputId": "9d1ef177-fe3d-4757-faaa-5f2fed4d5cbd"
      },
      "outputs": [
        {
          "output_type": "stream",
          "name": "stdout",
          "text": [
            "313/313 [==============================] - 1s 1ms/step - loss: 0.3351 - accuracy: 0.8802\n",
            "\n",
            "Test accuracy: [0.3350525200366974, 0.8802000284194946]\n"
          ]
        }
      ],
      "source": [
        "#complete code below\n",
        "test_acc = ann.evaluate(test_images, test_labels)\n",
        " \n",
        "\n",
        "print('\\nTest accuracy:', test_acc)"
      ]
    },
    {
      "cell_type": "markdown",
      "metadata": {
        "id": "yWfgsmVXCaXG"
      },
      "source": [
        "It turns out that the accuracy on the test dataset is a little less than the accuracy on the training dataset. This gap between training accuracy and test accuracy represents *overfitting*. Overfitting happens when a machine learning model performs worse on new, previously unseen inputs than it does on the training data. An overfitted model \"memorizes\" the noise and details in the training dataset to a point where it negatively impacts the performance of the model on the new data. For more information, see the following:\n",
        "*   [Demonstrate overfitting](https://www.tensorflow.org/tutorials/keras/overfit_and_underfit#demonstrate_overfitting)\n",
        "*   [Strategies to prevent overfitting](https://www.tensorflow.org/tutorials/keras/overfit_and_underfit#strategies_to_prevent_overfitting)"
      ]
    },
    {
      "cell_type": "markdown",
      "metadata": {
        "id": "v-PyD1SYE28q"
      },
      "source": [
        "### Make predictions\n",
        "\n",
        "With the model trained, you can use it to make predictions about some images.\n",
        "The model's linear outputs, [logits](https://developers.google.com/machine-learning/glossary#logits). Attach a softmax layer to convert the logits to probabilities, which are easier to interpret. "
      ]
    },
    {
      "cell_type": "code",
      "execution_count": 17,
      "metadata": {
        "id": "DnfNA0CrQLSD"
      },
      "outputs": [],
      "source": [
        "#complete code below\n",
        "probability_model = tf.keras.Sequential([ann,tf.keras.layers.Softmax()])"
      ]
    },
    {
      "cell_type": "code",
      "execution_count": 18,
      "metadata": {
        "id": "Gl91RPhdCaXI",
        "colab": {
          "base_uri": "https://localhost:8080/"
        },
        "outputId": "307895ec-2e88-4419-e9e0-60f45271251b"
      },
      "outputs": [
        {
          "output_type": "stream",
          "name": "stdout",
          "text": [
            "313/313 [==============================] - 0s 1ms/step\n"
          ]
        }
      ],
      "source": [
        "#predict on the test_images using the probability_model\n",
        "predictions = probability_model.predict(test_images)"
      ]
    },
    {
      "cell_type": "markdown",
      "metadata": {
        "id": "x9Kk1voUCaXJ"
      },
      "source": [
        "Here, the model has predicted the label for each image in the testing set. Let's take a look at the first prediction:"
      ]
    },
    {
      "cell_type": "code",
      "execution_count": 19,
      "metadata": {
        "id": "3DmJEUinCaXK",
        "colab": {
          "base_uri": "https://localhost:8080/"
        },
        "outputId": "9dae5c79-417e-413c-a10d-1672075dd1c1"
      },
      "outputs": [
        {
          "output_type": "execute_result",
          "data": {
            "text/plain": [
              "array([0.08550894, 0.08550893, 0.08550894, 0.08550893, 0.08550894,\n",
              "       0.08584415, 0.08550894, 0.08636819, 0.08550952, 0.22922455],\n",
              "      dtype=float32)"
            ]
          },
          "metadata": {},
          "execution_count": 19
        }
      ],
      "source": [
        "predictions[0]"
      ]
    },
    {
      "cell_type": "markdown",
      "metadata": {
        "id": "-hw1hgeSCaXN"
      },
      "source": [
        "A prediction is an array of 10 numbers. They represent the model's \"confidence\" that the image corresponds to each of the 10 different articles of clothing. You can see which label has the highest confidence value:"
      ]
    },
    {
      "cell_type": "code",
      "execution_count": 20,
      "metadata": {
        "id": "qsqenuPnCaXO",
        "colab": {
          "base_uri": "https://localhost:8080/"
        },
        "outputId": "c0963e9b-7504-4ed4-ff5a-f788a419378e"
      },
      "outputs": [
        {
          "output_type": "execute_result",
          "data": {
            "text/plain": [
              "308"
            ]
          },
          "metadata": {},
          "execution_count": 20
        }
      ],
      "source": [
        "#use np.argmax to find the highest confidence value\n",
        "np.argmax(predictions)"
      ]
    },
    {
      "cell_type": "markdown",
      "metadata": {
        "id": "E51yS7iCCaXO"
      },
      "source": [
        "So, the model is most confident that this image is an ankle boot, or `class_names[9]`. Examining the test label shows that this classification is correct:"
      ]
    },
    {
      "cell_type": "code",
      "execution_count": 21,
      "metadata": {
        "id": "Sd7Pgsu6CaXP",
        "colab": {
          "base_uri": "https://localhost:8080/"
        },
        "outputId": "1cd36777-2d80-4a59-c41f-6357a17bca75"
      },
      "outputs": [
        {
          "output_type": "execute_result",
          "data": {
            "text/plain": [
              "9"
            ]
          },
          "metadata": {},
          "execution_count": 21
        }
      ],
      "source": [
        "test_labels[0]"
      ]
    },
    {
      "cell_type": "markdown",
      "metadata": {
        "id": "Zh9yABaME29S"
      },
      "source": [
        "### Verify predictions\n",
        "\n",
        "With the model trained, you can use it to make predictions about some images."
      ]
    },
    {
      "cell_type": "markdown",
      "metadata": {
        "id": "d4Ov9OFDMmOD"
      },
      "source": [
        "Let's look at the 0th image, predictions, and prediction array. Correct prediction labels are blue and incorrect prediction labels are red. The number gives the percentage (out of 100) for the predicted label.\n",
        "Plot should look like this:\n",
        "![image.png](data:image/png;base64,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)"
      ]
    },
    {
      "cell_type": "code",
      "execution_count": 22,
      "metadata": {
        "id": "HV5jw-5HwSmO",
        "colab": {
          "base_uri": "https://localhost:8080/",
          "height": 211
        },
        "outputId": "4befb63f-7092-4691-9f8e-cb186bf81d71"
      },
      "outputs": [
        {
          "output_type": "display_data",
          "data": {
            "text/plain": [
              "<Figure size 432x216 with 2 Axes>"
            ],
            "image/png": "[encoded data removed]"
          },
          "metadata": {
            "needs_background": "light"
          }
        }
      ],
      "source": [
        "#plot the 0th image and next to that plot a bar graph of the predicted values for that image\n",
        "#  if predicted_label is the same as the actual label of the image then the x_axis label should be in blue, whereas \n",
        "# if the predicted_label is not the same as the actual label of the image then the x_axis label should be in red\n",
        "def plot_image(i, predictions_array, true_label, img):\n",
        "  true_label, img = true_label[i], img[i]\n",
        "  plt.grid(False)\n",
        "  plt.xticks([])\n",
        "  plt.yticks([])\n",
        "\n",
        "  plt.imshow(img, cmap=plt.cm.binary)\n",
        "\n",
        "  predicted_label = np.argmax(predictions_array)\n",
        "  if predicted_label == true_label:\n",
        "    color = 'blue'\n",
        "  else:\n",
        "    color = 'red'\n",
        "\n",
        "  plt.xlabel(\"{} {:2.0f}% ({})\".format(class_names[predicted_label],\n",
        "                                100*np.max(predictions_array),\n",
        "                                class_names[true_label]),\n",
        "                                color=color)\n",
        "\n",
        "def plot_value_array(i, predictions, true_label):\n",
        "  true_label = true_label[i]\n",
        "  plt.grid(False)\n",
        "  plt.xticks(range(10))\n",
        "  plt.yticks([])\n",
        "  thisplot = plt.bar(range(10), predictions)\n",
        "  plt.ylim([0, 1])\n",
        "  predicted_label = np.argmax(predictions)\n",
        "\n",
        "  thisplot[predicted_label].set_color('red')\n",
        "  thisplot[true_label].set_color('blue')\n",
        "\n",
        "i = 0\n",
        "plt.figure(figsize=(6,3))\n",
        "plt.subplot(1,2,1)\n",
        "plot_image(i, predictions[i], test_labels, test_images)\n",
        "plt.subplot(1,2,2)\n",
        "plot_value_array(i, predictions[i],  test_labels)\n",
        "plt.show()\n",
        "\n",
        "\n"
      ]
    },
    {
      "cell_type": "markdown",
      "metadata": {
        "id": "5wiMlS6wTeM0"
      },
      "source": [
        "Similarly plot the image and predicted values for another value in the test_images"
      ]
    },
    {
      "cell_type": "code",
      "execution_count": 23,
      "metadata": {
        "id": "Ko-uzOufSCSe",
        "colab": {
          "base_uri": "https://localhost:8080/",
          "height": 211
        },
        "outputId": "fe39678a-6d21-4bd5-b7bd-17656a8644c8"
      },
      "outputs": [
        {
          "output_type": "display_data",
          "data": {
            "text/plain": [
              "<Figure size 432x216 with 2 Axes>"
            ],
            "image/png": "[encoded data removed]"
          },
          "metadata": {
            "needs_background": "light"
          }
        }
      ],
      "source": [
        "#write code below\n",
        "i = 15\n",
        "plt.figure(figsize=(6,3))\n",
        "plt.subplot(1,2,1)\n",
        "plot_image(i, predictions[i], test_labels, test_images)\n",
        "plt.subplot(1,2,2)\n",
        "plot_value_array(i, predictions[i],  test_labels)\n",
        "plt.show()"
      ]
    },
    {
      "cell_type": "markdown",
      "metadata": {
        "id": "kgdvGD52CaXR"
      },
      "source": [
        "plot several images with their predictions. Note that the model can be wrong even when very confident."
      ]
    },
    {
      "cell_type": "code",
      "execution_count": 24,
      "metadata": {
        "id": "hQlnbqaw2Qu_",
        "colab": {
          "base_uri": "https://localhost:8080/",
          "height": 1000
        },
        "outputId": "5a97b928-8763-4730-d69d-9fa130e05eb2"
      },
      "outputs": [
        {
          "output_type": "display_data",
          "data": {
            "text/plain": [
              "<Figure size 432x216 with 2 Axes>"
            ],
            "image/png": "[encoded data removed]"
          },
          "metadata": {
            "needs_background": "light"
          }
        },
        {
          "output_type": "display_data",
          "data": {
            "text/plain": [
              "<Figure size 432x216 with 2 Axes>"
            ],
            "image/png": "[encoded data removed]"
          },
          "metadata": {
            "needs_background": "light"
          }
        },
        {
          "output_type": "display_data",
          "data": {
            "text/plain": [
              "<Figure size 432x216 with 2 Axes>"
            ],
            "image/png": "[encoded data removed]"
          },
          "metadata": {
            "needs_background": "light"
          }
        },
        {
          "output_type": "display_data",
          "data": {
            "text/plain": [
              "<Figure size 432x216 with 2 Axes>"
            ],
            "image/png": "[encoded data removed]"
          },
          "metadata": {
            "needs_background": "light"
          }
        },
        {
          "output_type": "display_data",
          "data": {
            "text/plain": [
              "<Figure size 432x216 with 2 Axes>"
            ],
            "image/png": "[encoded data removed]"
          },
          "metadata": {
            "needs_background": "light"
          }
        },
        {
          "output_type": "display_data",
          "data": {
            "text/plain": [
              "<Figure size 432x216 with 2 Axes>"
            ],
            "image/png": "[encoded data removed]"
          },
          "metadata": {
            "needs_background": "light"
          }
        },
        {
          "output_type": "display_data",
          "data": {
            "text/plain": [
              "<Figure size 432x216 with 2 Axes>"
            ],
            "image/png": "[encoded data removed]"
          },
          "metadata": {
            "needs_background": "light"
          }
        },
        {
          "output_type": "display_data",
          "data": {
            "text/plain": [
              "<Figure size 432x216 with 2 Axes>"
            ],
            "image/png": "[encoded data removed]"
          },
          "metadata": {
            "needs_background": "light"
          }
        },
        {
          "output_type": "display_data",
          "data": {
            "text/plain": [
              "<Figure size 432x216 with 2 Axes>"
            ],
            "image/png": "[encoded data removed]"
          },
          "metadata": {
            "needs_background": "light"
          }
        },
        {
          "output_type": "display_data",
          "data": {
            "text/plain": [
              "<Figure size 432x216 with 2 Axes>"
            ],
            "image/png": "[encoded data removed]"
          },
          "metadata": {
            "needs_background": "light"
          }
        }
      ],
      "source": [
        "# Plot the first 10 test images, their predicted labels, and the true labels.\n",
        "# Color correct predictions in blue and incorrect predictions in red.\n",
        "for i in range(10):\n",
        "  plt.figure(figsize=(6,3))\n",
        "  plt.subplot(1,2,1)\n",
        "  plot_image(i, predictions[i], test_labels, test_images)\n",
        "  plt.subplot(1,2,2)\n",
        "  plot_value_array(i, predictions[i],  test_labels)\n",
        "  plt.show()\n"
      ]
    },
    {
      "cell_type": "markdown",
      "metadata": {
        "id": "R32zteKHCaXT"
      },
      "source": [
        "## Use the trained model\n",
        "\n",
        "Finally, use the trained model to make a prediction about a single image."
      ]
    },
    {
      "cell_type": "code",
      "execution_count": 78,
      "metadata": {
        "id": "yRJ7JU7JCaXT",
        "colab": {
          "base_uri": "https://localhost:8080/"
        },
        "outputId": "bc23248a-abc7-47d5-80da-ec6f356c70ec"
      },
      "outputs": [
        {
          "output_type": "stream",
          "name": "stdout",
          "text": [
            "(28, 28)\n"
          ]
        }
      ],
      "source": [
        "# Grab an image from the test dataset.\n",
        "img = test_images[0]\n",
        "\n",
        "print(img.shape)\n",
        "\n"
      ]
    },
    {
      "cell_type": "markdown",
      "metadata": {
        "id": "vz3bVp21CaXV"
      },
      "source": [
        "`tf.keras` models are optimized to make predictions on a *batch*, or collection, of examples at once. Accordingly, even though you're using a single image, you need to add it to a list:"
      ]
    },
    {
      "cell_type": "code",
      "execution_count": 79,
      "metadata": {
        "id": "lDFh5yF_CaXW",
        "colab": {
          "base_uri": "https://localhost:8080/"
        },
        "outputId": "0b4eedfc-cd5b-4c08-faf5-5e8010a10275"
      },
      "outputs": [
        {
          "output_type": "stream",
          "name": "stdout",
          "text": [
            "(1, 28, 28)\n"
          ]
        }
      ],
      "source": [
        "# Add the image to a batch where it's the only member.\n",
        "#hint: use np.expand_dims\n",
        "#complete code below\n",
        "img = (np.expand_dims(img,0))\n",
        "\n",
        "print(img.shape)"
      ]
    },
    {
      "cell_type": "markdown",
      "metadata": {
        "id": "EQ5wLTkcCaXY"
      },
      "source": [
        "Now predict the correct label for this image:"
      ]
    },
    {
      "cell_type": "code",
      "execution_count": 81,
      "metadata": {
        "id": "o_rzNSdrCaXY",
        "colab": {
          "base_uri": "https://localhost:8080/"
        },
        "outputId": "403b2017-b75a-4623-f556-b4973e65a0c8"
      },
      "outputs": [
        {
          "output_type": "stream",
          "name": "stdout",
          "text": [
            "1/1 [==============================] - 0s 66ms/step\n",
            "[[7.0743852e-08 1.1275058e-10 9.7483131e-08 8.5878379e-12 6.5941144e-08\n",
            "  3.9127101e-03 1.4851933e-07 9.9986335e-03 6.9621237e-06 9.8608136e-01]]\n"
          ]
        }
      ],
      "source": [
        "#complete code below\n",
        "predictions_single = ann.predict(img)\n",
        "\n",
        "print(predictions_single)"
      ]
    },
    {
      "cell_type": "markdown",
      "metadata": {
        "id": "cU1Y2OAMCaXb"
      },
      "source": [
        "`tf.keras.Model.predict` returns a list of lists—one list for each image in the batch of data. Grab the predictions for our (only) image in the batch:"
      ]
    },
    {
      "cell_type": "code",
      "execution_count": 82,
      "metadata": {
        "id": "2tRmdq_8CaXb",
        "colab": {
          "base_uri": "https://localhost:8080/",
          "height": 300
        },
        "outputId": "da0ee6d2-48ac-48d1-dd34-1d23fba7fda1"
      },
      "outputs": [
        {
          "output_type": "display_data",
          "data": {
            "text/plain": [
              "<Figure size 432x288 with 1 Axes>"
            ],
            "image/png": "[encoded data removed]"
          },
          "metadata": {}
        }
      ],
      "source": [
        "#print the predicted class for the image\n",
        "plot_value_array(i, predictions[i], test_labels)\n",
        "_ = plt.xticks(range(10), class_names, rotation=45)"
      ]
    },
    {
      "cell_type": "markdown",
      "metadata": {
        "id": "H7sKxSX28ImP"
      },
      "source": [
        "# Regularization\n",
        "In mathematics, statistics, and computer science, particularly in machine learning and inverse problems, regularization is the process of adding information in order to solve an ill-posed problem or to prevent overfitting.\n",
        "\n",
        "In order to improve the performance of the model, we use different regularization techniques. There are several techniques, but we will discuss 4 main techniques.\n",
        "\n",
        "1. L1 Regularization\n",
        "2. L2 Regularization\n",
        "3. Dropout\n",
        "4. Batch Normalization"
      ]
    },
    {
      "cell_type": "code",
      "execution_count": 25,
      "metadata": {
        "id": "vocr5A838ImP"
      },
      "outputs": [],
      "source": [
        "#Basic pre-processing\n",
        "#we're importing the iris dataset from sklearn for our model\n",
        "from sklearn.datasets import load_iris\n",
        "from tensorflow.keras.models import Sequential\n",
        "from tensorflow.keras.utils import to_categorical\n",
        "from tensorflow.keras.layers import Dense\n",
        "from sklearn.preprocessing import StandardScaler\n",
        "from sklearn.model_selection import train_test_split\n",
        "iris = load_iris()\n",
        "X = iris.data\n",
        "y = iris.target\n",
        "y = to_categorical(y) #converting output to one-hot vector\n",
        "ss = StandardScaler() #standardizing the data\n",
        "X = ss.fit_transform(X)\n",
        "X_train, X_test, y_train, y_test = train_test_split(X,y, random_state=16)"
      ]
    },
    {
      "cell_type": "code",
      "execution_count": 26,
      "metadata": {
        "id": "ALy9G9ur8ImQ",
        "colab": {
          "base_uri": "https://localhost:8080/",
          "height": 206
        },
        "outputId": "6898e051-db34-4d40-8066-3f40ec855c2d"
      },
      "outputs": [
        {
          "output_type": "execute_result",
          "data": {
            "text/plain": [
              "          0         1         2         3\n",
              "0 -0.900681  1.019004 -1.340227 -1.315444\n",
              "1 -1.143017 -0.131979 -1.340227 -1.315444\n",
              "2 -1.385353  0.328414 -1.397064 -1.315444\n",
              "3 -1.506521  0.098217 -1.283389 -1.315444\n",
              "4 -1.021849  1.249201 -1.340227 -1.315444"
            ],
            "text/html": [
              "\n",
              "  <div id=\"df-8099a8c6-253f-41d9-943d-9da9c0065285\">\n",
              "    <div class=\"colab-df-container\">\n",
              "      <div>\n",
              "<style scoped>\n",
              "    .dataframe tbody tr th:only-of-type {\n",
              "        vertical-align: middle;\n",
              "    }\n",
              "\n",
              "    .dataframe tbody tr th {\n",
              "        vertical-align: top;\n",
              "    }\n",
              "\n",
              "    .dataframe thead th {\n",
              "        text-align: right;\n",
              "    }\n",
              "</style>\n",
              "<table border=\"1\" class=\"dataframe\">\n",
              "  <thead>\n",
              "    <tr style=\"text-align: right;\">\n",
              "      <th></th>\n",
              "      <th>0</th>\n",
              "      <th>1</th>\n",
              "      <th>2</th>\n",
              "      <th>3</th>\n",
              "    </tr>\n",
              "  </thead>\n",
              "  <tbody>\n",
              "    <tr>\n",
              "      <th>0</th>\n",
              "      <td>-0.900681</td>\n",
              "      <td>1.019004</td>\n",
              "      <td>-1.340227</td>\n",
              "      <td>-1.315444</td>\n",
              "    </tr>\n",
              "    <tr>\n",
              "      <th>1</th>\n",
              "      <td>-1.143017</td>\n",
              "      <td>-0.131979</td>\n",
              "      <td>-1.340227</td>\n",
              "      <td>-1.315444</td>\n",
              "    </tr>\n",
              "    <tr>\n",
              "      <th>2</th>\n",
              "      <td>-1.385353</td>\n",
              "      <td>0.328414</td>\n",
              "      <td>-1.397064</td>\n",
              "      <td>-1.315444</td>\n",
              "    </tr>\n",
              "    <tr>\n",
              "      <th>3</th>\n",
              "      <td>-1.506521</td>\n",
              "      <td>0.098217</td>\n",
              "      <td>-1.283389</td>\n",
              "      <td>-1.315444</td>\n",
              "    </tr>\n",
              "    <tr>\n",
              "      <th>4</th>\n",
              "      <td>-1.021849</td>\n",
              "      <td>1.249201</td>\n",
              "      <td>-1.340227</td>\n",
              "      <td>-1.315444</td>\n",
              "    </tr>\n",
              "  </tbody>\n",
              "</table>\n",
              "</div>\n",
              "      <button class=\"colab-df-convert\" onclick=\"convertToInteractive('df-8099a8c6-253f-41d9-943d-9da9c0065285')\"\n",
              "              title=\"Convert this dataframe to an interactive table.\"\n",
              "              style=\"display:none;\">\n",
              "        \n",
              "  <svg xmlns=\"http://www.w3.org/2000/svg\" height=\"24px\"viewBox=\"0 0 24 24\"\n",
              "       width=\"24px\">\n",
              "    <path d=\"M0 0h24v24H0V0z\" fill=\"none\"/>\n",
              "    <path d=\"M18.56 5.44l.94 2.06.94-2.06 2.06-.94-2.06-.94-.94-2.06-.94 2.06-2.06.94zm-11 1L8.5 8.5l.94-2.06 2.06-.94-2.06-.94L8.5 2.5l-.94 2.06-2.06.94zm10 10l.94 2.06.94-2.06 2.06-.94-2.06-.94-.94-2.06-.94 2.06-2.06.94z\"/><path d=\"M17.41 7.96l-1.37-1.37c-.4-.4-.92-.59-1.43-.59-.52 0-1.04.2-1.43.59L10.3 9.45l-7.72 7.72c-.78.78-.78 2.05 0 2.83L4 21.41c.39.39.9.59 1.41.59.51 0 1.02-.2 1.41-.59l7.78-7.78 2.81-2.81c.8-.78.8-2.07 0-2.86zM5.41 20L4 18.59l7.72-7.72 1.47 1.35L5.41 20z\"/>\n",
              "  </svg>\n",
              "      </button>\n",
              "      \n",
              "  <style>\n",
              "    .colab-df-container {\n",
              "      display:flex;\n",
              "      flex-wrap:wrap;\n",
              "      gap: 12px;\n",
              "    }\n",
              "\n",
              "    .colab-df-convert {\n",
              "      background-color: #E8F0FE;\n",
              "      border: none;\n",
              "      border-radius: 50%;\n",
              "      cursor: pointer;\n",
              "      display: none;\n",
              "      fill: #1967D2;\n",
              "      height: 32px;\n",
              "      padding: 0 0 0 0;\n",
              "      width: 32px;\n",
              "    }\n",
              "\n",
              "    .colab-df-convert:hover {\n",
              "      background-color: #E2EBFA;\n",
              "      box-shadow: 0px 1px 2px rgba(60, 64, 67, 0.3), 0px 1px 3px 1px rgba(60, 64, 67, 0.15);\n",
              "      fill: #174EA6;\n",
              "    }\n",
              "\n",
              "    [theme=dark] .colab-df-convert {\n",
              "      background-color: #3B4455;\n",
              "      fill: #D2E3FC;\n",
              "    }\n",
              "\n",
              "    [theme=dark] .colab-df-convert:hover {\n",
              "      background-color: #434B5C;\n",
              "      box-shadow: 0px 1px 3px 1px rgba(0, 0, 0, 0.15);\n",
              "      filter: drop-shadow(0px 1px 2px rgba(0, 0, 0, 0.3));\n",
              "      fill: #FFFFFF;\n",
              "    }\n",
              "  </style>\n",
              "\n",
              "      <script>\n",
              "        const buttonEl =\n",
              "          document.querySelector('#df-8099a8c6-253f-41d9-943d-9da9c0065285 button.colab-df-convert');\n",
              "        buttonEl.style.display =\n",
              "          google.colab.kernel.accessAllowed ? 'block' : 'none';\n",
              "\n",
              "        async function convertToInteractive(key) {\n",
              "          const element = document.querySelector('#df-8099a8c6-253f-41d9-943d-9da9c0065285');\n",
              "          const dataTable =\n",
              "            await google.colab.kernel.invokeFunction('convertToInteractive',\n",
              "                                                     [key], {});\n",
              "          if (!dataTable) return;\n",
              "\n",
              "          const docLinkHtml = 'Like what you see? Visit the ' +\n",
              "            '<a target=\"_blank\" href=https://colab.research.google.com/notebooks/data_table.ipynb>data table notebook</a>'\n",
              "            + ' to learn more about interactive tables.';\n",
              "          element.innerHTML = '';\n",
              "          dataTable['output_type'] = 'display_data';\n",
              "          await google.colab.output.renderOutput(dataTable, element);\n",
              "          const docLink = document.createElement('div');\n",
              "          docLink.innerHTML = docLinkHtml;\n",
              "          element.appendChild(docLink);\n",
              "        }\n",
              "      </script>\n",
              "    </div>\n",
              "  </div>\n",
              "  "
            ]
          },
          "metadata": {},
          "execution_count": 26
        }
      ],
      "source": [
        "#explore the data (X and y) however you like, (using info(), describe, graphs, etc.) and write any 4 lines on what you understood about.info()\n",
        "#Solution can be anything\n",
        "import pandas as pd\n",
        "X=pd.DataFrame(X)\n",
        "y=pd.DataFrame(X)\n",
        "X.head()"
      ]
    },
    {
      "cell_type": "markdown",
      "metadata": {
        "id": "YFc2HbEVCaXd"
      },
      "source": [
        "And the model predicts a label as expected."
      ]
    },
    {
      "cell_type": "code",
      "execution_count": 27,
      "metadata": {
        "id": "SlRzRQkL8ImQ",
        "colab": {
          "base_uri": "https://localhost:8080/"
        },
        "outputId": "1703c2f0-4387-4b4f-b906-c4215e49b544"
      },
      "outputs": [
        {
          "output_type": "stream",
          "name": "stdout",
          "text": [
            "Model: \"sequential_2\"\n",
            "_________________________________________________________________\n",
            " Layer (type)                Output Shape              Param #   \n",
            "=================================================================\n",
            " dense_2 (Dense)             (None, 512)               2560      \n",
            "                                                                 \n",
            " dense_3 (Dense)             (None, 256)               131328    \n",
            "                                                                 \n",
            " dense_4 (Dense)             (None, 128)               32896     \n",
            "                                                                 \n",
            " dense_5 (Dense)             (None, 64)                8256      \n",
            "                                                                 \n",
            " dense_6 (Dense)             (None, 32)                2080      \n",
            "                                                                 \n",
            " dense_7 (Dense)             (None, 3)                 99        \n",
            "                                                                 \n",
            "=================================================================\n",
            "Total params: 177,219\n",
            "Trainable params: 177,219\n",
            "Non-trainable params: 0\n",
            "_________________________________________________________________\n",
            "None\n",
            "Epoch 1/150\n",
            "1/1 [==============================] - 1s 588ms/step - loss: 0.9727 - acc: 0.6607 - mse: 0.1928 - val_loss: 0.8858 - val_acc: 0.8158 - val_mse: 0.1724\n",
            "Epoch 2/150\n",
            "1/1 [==============================] - 0s 30ms/step - loss: 0.9149 - acc: 0.7321 - mse: 0.1800 - val_loss: 0.8493 - val_acc: 0.8158 - val_mse: 0.1642\n",
            "Epoch 3/150\n",
            "1/1 [==============================] - 0s 25ms/step - loss: 0.8679 - acc: 0.7679 - mse: 0.1695 - val_loss: 0.8170 - val_acc: 0.8421 - val_mse: 0.1569\n",
            "Epoch 4/150\n",
            "1/1 [==============================] - 0s 26ms/step - loss: 0.8276 - acc: 0.8036 - mse: 0.1604 - val_loss: 0.7869 - val_acc: 0.8158 - val_mse: 0.1502\n",
            "Epoch 5/150\n",
            "1/1 [==============================] - 0s 25ms/step - loss: 0.7915 - acc: 0.8304 - mse: 0.1523 - val_loss: 0.7598 - val_acc: 0.7895 - val_mse: 0.1443\n",
            "Epoch 6/150\n",
            "1/1 [==============================] - 0s 26ms/step - loss: 0.7603 - acc: 0.8214 - mse: 0.1453 - val_loss: 0.7350 - val_acc: 0.7632 - val_mse: 0.1390\n",
            "Epoch 7/150\n",
            "1/1 [==============================] - 0s 26ms/step - loss: 0.7328 - acc: 0.8304 - mse: 0.1392 - val_loss: 0.7128 - val_acc: 0.7632 - val_mse: 0.1344\n",
            "Epoch 8/150\n",
            "1/1 [==============================] - 0s 26ms/step - loss: 0.7083 - acc: 0.8304 - mse: 0.1338 - val_loss: 0.6935 - val_acc: 0.7895 - val_mse: 0.1304\n",
            "Epoch 9/150\n",
            "1/1 [==============================] - 0s 25ms/step - loss: 0.6866 - acc: 0.8571 - mse: 0.1291 - val_loss: 0.6765 - val_acc: 0.7895 - val_mse: 0.1270\n",
            "Epoch 10/150\n",
            "1/1 [==============================] - 0s 32ms/step - loss: 0.6669 - acc: 0.8750 - mse: 0.1249 - val_loss: 0.6614 - val_acc: 0.7895 - val_mse: 0.1241\n",
            "Epoch 11/150\n",
            "1/1 [==============================] - 0s 27ms/step - loss: 0.6488 - acc: 0.8839 - mse: 0.1210 - val_loss: 0.6478 - val_acc: 0.7895 - val_mse: 0.1215\n",
            "Epoch 12/150\n",
            "1/1 [==============================] - 0s 30ms/step - loss: 0.6323 - acc: 0.8750 - mse: 0.1175 - val_loss: 0.6354 - val_acc: 0.7895 - val_mse: 0.1192\n",
            "Epoch 13/150\n",
            "1/1 [==============================] - 0s 27ms/step - loss: 0.6172 - acc: 0.8750 - mse: 0.1144 - val_loss: 0.6240 - val_acc: 0.7895 - val_mse: 0.1171\n",
            "Epoch 14/150\n",
            "1/1 [==============================] - 0s 29ms/step - loss: 0.6030 - acc: 0.8750 - mse: 0.1114 - val_loss: 0.6136 - val_acc: 0.7895 - val_mse: 0.1153\n",
            "Epoch 15/150\n",
            "1/1 [==============================] - 0s 30ms/step - loss: 0.5898 - acc: 0.8750 - mse: 0.1087 - val_loss: 0.6039 - val_acc: 0.7632 - val_mse: 0.1136\n",
            "Epoch 16/150\n",
            "1/1 [==============================] - 0s 26ms/step - loss: 0.5774 - acc: 0.8839 - mse: 0.1062 - val_loss: 0.5950 - val_acc: 0.7632 - val_mse: 0.1121\n",
            "Epoch 17/150\n",
            "1/1 [==============================] - 0s 28ms/step - loss: 0.5658 - acc: 0.8929 - mse: 0.1038 - val_loss: 0.5868 - val_acc: 0.7632 - val_mse: 0.1108\n",
            "Epoch 18/150\n",
            "1/1 [==============================] - 0s 40ms/step - loss: 0.5548 - acc: 0.9018 - mse: 0.1016 - val_loss: 0.5791 - val_acc: 0.7632 - val_mse: 0.1095\n",
            "Epoch 19/150\n",
            "1/1 [==============================] - 0s 28ms/step - loss: 0.5445 - acc: 0.9018 - mse: 0.0995 - val_loss: 0.5721 - val_acc: 0.7368 - val_mse: 0.1084\n",
            "Epoch 20/150\n",
            "1/1 [==============================] - 0s 28ms/step - loss: 0.5348 - acc: 0.8929 - mse: 0.0976 - val_loss: 0.5654 - val_acc: 0.7368 - val_mse: 0.1074\n",
            "Epoch 21/150\n",
            "1/1 [==============================] - 0s 27ms/step - loss: 0.5256 - acc: 0.8929 - mse: 0.0957 - val_loss: 0.5591 - val_acc: 0.7368 - val_mse: 0.1064\n",
            "Epoch 22/150\n",
            "1/1 [==============================] - 0s 32ms/step - loss: 0.5169 - acc: 0.8929 - mse: 0.0940 - val_loss: 0.5533 - val_acc: 0.7368 - val_mse: 0.1056\n",
            "Epoch 23/150\n",
            "1/1 [==============================] - 0s 26ms/step - loss: 0.5087 - acc: 0.8929 - mse: 0.0924 - val_loss: 0.5478 - val_acc: 0.7368 - val_mse: 0.1048\n",
            "Epoch 24/150\n",
            "1/1 [==============================] - 0s 26ms/step - loss: 0.5008 - acc: 0.8929 - mse: 0.0908 - val_loss: 0.5426 - val_acc: 0.7368 - val_mse: 0.1041\n",
            "Epoch 25/150\n",
            "1/1 [==============================] - 0s 28ms/step - loss: 0.4934 - acc: 0.8929 - mse: 0.0894 - val_loss: 0.5377 - val_acc: 0.7368 - val_mse: 0.1034\n",
            "Epoch 26/150\n",
            "1/1 [==============================] - 0s 26ms/step - loss: 0.4863 - acc: 0.8929 - mse: 0.0880 - val_loss: 0.5331 - val_acc: 0.7368 - val_mse: 0.1028\n",
            "Epoch 27/150\n",
            "1/1 [==============================] - 0s 47ms/step - loss: 0.4795 - acc: 0.8929 - mse: 0.0866 - val_loss: 0.5287 - val_acc: 0.7368 - val_mse: 0.1022\n",
            "Epoch 28/150\n",
            "1/1 [==============================] - 0s 27ms/step - loss: 0.4730 - acc: 0.8839 - mse: 0.0854 - val_loss: 0.5246 - val_acc: 0.7368 - val_mse: 0.1016\n",
            "Epoch 29/150\n",
            "1/1 [==============================] - 0s 27ms/step - loss: 0.4668 - acc: 0.8839 - mse: 0.0842 - val_loss: 0.5207 - val_acc: 0.7368 - val_mse: 0.1011\n",
            "Epoch 30/150\n",
            "1/1 [==============================] - 0s 26ms/step - loss: 0.4608 - acc: 0.8839 - mse: 0.0830 - val_loss: 0.5169 - val_acc: 0.7368 - val_mse: 0.1006\n",
            "Epoch 31/150\n",
            "1/1 [==============================] - 0s 30ms/step - loss: 0.4551 - acc: 0.8839 - mse: 0.0819 - val_loss: 0.5133 - val_acc: 0.7368 - val_mse: 0.1002\n",
            "Epoch 32/150\n",
            "1/1 [==============================] - 0s 31ms/step - loss: 0.4496 - acc: 0.8839 - mse: 0.0808 - val_loss: 0.5100 - val_acc: 0.7368 - val_mse: 0.0998\n",
            "Epoch 33/150\n",
            "1/1 [==============================] - 0s 31ms/step - loss: 0.4443 - acc: 0.8839 - mse: 0.0798 - val_loss: 0.5067 - val_acc: 0.7368 - val_mse: 0.0994\n",
            "Epoch 34/150\n",
            "1/1 [==============================] - 0s 31ms/step - loss: 0.4392 - acc: 0.8839 - mse: 0.0788 - val_loss: 0.5036 - val_acc: 0.7368 - val_mse: 0.0991\n",
            "Epoch 35/150\n",
            "1/1 [==============================] - 0s 26ms/step - loss: 0.4342 - acc: 0.8839 - mse: 0.0779 - val_loss: 0.5007 - val_acc: 0.7368 - val_mse: 0.0987\n",
            "Epoch 36/150\n",
            "1/1 [==============================] - 0s 27ms/step - loss: 0.4295 - acc: 0.8839 - mse: 0.0770 - val_loss: 0.4979 - val_acc: 0.7368 - val_mse: 0.0984\n",
            "Epoch 37/150\n",
            "1/1 [==============================] - 0s 27ms/step - loss: 0.4249 - acc: 0.8839 - mse: 0.0761 - val_loss: 0.4952 - val_acc: 0.7368 - val_mse: 0.0981\n",
            "Epoch 38/150\n",
            "1/1 [==============================] - 0s 32ms/step - loss: 0.4205 - acc: 0.8839 - mse: 0.0753 - val_loss: 0.4927 - val_acc: 0.7368 - val_mse: 0.0978\n",
            "Epoch 39/150\n",
            "1/1 [==============================] - 0s 46ms/step - loss: 0.4162 - acc: 0.8839 - mse: 0.0745 - val_loss: 0.4902 - val_acc: 0.7368 - val_mse: 0.0976\n",
            "Epoch 40/150\n",
            "1/1 [==============================] - 0s 26ms/step - loss: 0.4120 - acc: 0.8839 - mse: 0.0737 - val_loss: 0.4878 - val_acc: 0.7368 - val_mse: 0.0973\n",
            "Epoch 41/150\n",
            "1/1 [==============================] - 0s 28ms/step - loss: 0.4080 - acc: 0.8839 - mse: 0.0729 - val_loss: 0.4855 - val_acc: 0.7368 - val_mse: 0.0971\n",
            "Epoch 42/150\n",
            "1/1 [==============================] - 0s 49ms/step - loss: 0.4041 - acc: 0.8839 - mse: 0.0722 - val_loss: 0.4833 - val_acc: 0.7368 - val_mse: 0.0969\n",
            "Epoch 43/150\n",
            "1/1 [==============================] - 0s 27ms/step - loss: 0.4003 - acc: 0.8839 - mse: 0.0715 - val_loss: 0.4811 - val_acc: 0.7368 - val_mse: 0.0966\n",
            "Epoch 44/150\n",
            "1/1 [==============================] - 0s 28ms/step - loss: 0.3966 - acc: 0.8839 - mse: 0.0708 - val_loss: 0.4791 - val_acc: 0.7368 - val_mse: 0.0964\n",
            "Epoch 45/150\n",
            "1/1 [==============================] - 0s 33ms/step - loss: 0.3930 - acc: 0.8839 - mse: 0.0701 - val_loss: 0.4771 - val_acc: 0.7368 - val_mse: 0.0963\n",
            "Epoch 46/150\n",
            "1/1 [==============================] - 0s 27ms/step - loss: 0.3895 - acc: 0.8839 - mse: 0.0694 - val_loss: 0.4751 - val_acc: 0.7368 - val_mse: 0.0961\n",
            "Epoch 47/150\n",
            "1/1 [==============================] - 0s 28ms/step - loss: 0.3861 - acc: 0.8839 - mse: 0.0688 - val_loss: 0.4732 - val_acc: 0.7368 - val_mse: 0.0959\n",
            "Epoch 48/150\n",
            "1/1 [==============================] - 0s 33ms/step - loss: 0.3827 - acc: 0.8839 - mse: 0.0682 - val_loss: 0.4714 - val_acc: 0.7368 - val_mse: 0.0957\n",
            "Epoch 49/150\n",
            "1/1 [==============================] - 0s 47ms/step - loss: 0.3795 - acc: 0.8929 - mse: 0.0676 - val_loss: 0.4696 - val_acc: 0.7368 - val_mse: 0.0955\n",
            "Epoch 50/150\n",
            "1/1 [==============================] - 0s 30ms/step - loss: 0.3763 - acc: 0.8929 - mse: 0.0670 - val_loss: 0.4678 - val_acc: 0.7368 - val_mse: 0.0953\n",
            "Epoch 51/150\n",
            "1/1 [==============================] - 0s 28ms/step - loss: 0.3732 - acc: 0.8929 - mse: 0.0664 - val_loss: 0.4661 - val_acc: 0.7368 - val_mse: 0.0951\n",
            "Epoch 52/150\n",
            "1/1 [==============================] - 0s 31ms/step - loss: 0.3702 - acc: 0.8929 - mse: 0.0658 - val_loss: 0.4644 - val_acc: 0.7368 - val_mse: 0.0950\n",
            "Epoch 53/150\n",
            "1/1 [==============================] - 0s 31ms/step - loss: 0.3672 - acc: 0.8929 - mse: 0.0653 - val_loss: 0.4627 - val_acc: 0.7368 - val_mse: 0.0948\n",
            "Epoch 54/150\n",
            "1/1 [==============================] - 0s 29ms/step - loss: 0.3644 - acc: 0.8929 - mse: 0.0647 - val_loss: 0.4611 - val_acc: 0.7368 - val_mse: 0.0946\n",
            "Epoch 55/150\n",
            "1/1 [==============================] - 0s 29ms/step - loss: 0.3615 - acc: 0.8929 - mse: 0.0642 - val_loss: 0.4595 - val_acc: 0.7368 - val_mse: 0.0944\n",
            "Epoch 56/150\n",
            "1/1 [==============================] - 0s 26ms/step - loss: 0.3588 - acc: 0.8929 - mse: 0.0637 - val_loss: 0.4579 - val_acc: 0.7368 - val_mse: 0.0943\n",
            "Epoch 57/150\n",
            "1/1 [==============================] - 0s 27ms/step - loss: 0.3561 - acc: 0.8929 - mse: 0.0632 - val_loss: 0.4563 - val_acc: 0.7368 - val_mse: 0.0941\n",
            "Epoch 58/150\n",
            "1/1 [==============================] - 0s 33ms/step - loss: 0.3534 - acc: 0.8929 - mse: 0.0627 - val_loss: 0.4548 - val_acc: 0.7368 - val_mse: 0.0939\n",
            "Epoch 59/150\n",
            "1/1 [==============================] - 0s 47ms/step - loss: 0.3508 - acc: 0.8929 - mse: 0.0622 - val_loss: 0.4533 - val_acc: 0.7368 - val_mse: 0.0938\n",
            "Epoch 60/150\n",
            "1/1 [==============================] - 0s 51ms/step - loss: 0.3483 - acc: 0.8929 - mse: 0.0617 - val_loss: 0.4518 - val_acc: 0.7368 - val_mse: 0.0936\n",
            "Epoch 61/150\n",
            "1/1 [==============================] - 0s 28ms/step - loss: 0.3458 - acc: 0.8929 - mse: 0.0613 - val_loss: 0.4503 - val_acc: 0.7368 - val_mse: 0.0934\n",
            "Epoch 62/150\n",
            "1/1 [==============================] - 0s 26ms/step - loss: 0.3433 - acc: 0.9018 - mse: 0.0608 - val_loss: 0.4489 - val_acc: 0.7368 - val_mse: 0.0933\n",
            "Epoch 63/150\n",
            "1/1 [==============================] - 0s 28ms/step - loss: 0.3410 - acc: 0.9018 - mse: 0.0604 - val_loss: 0.4475 - val_acc: 0.7368 - val_mse: 0.0931\n",
            "Epoch 64/150\n",
            "1/1 [==============================] - 0s 29ms/step - loss: 0.3386 - acc: 0.9018 - mse: 0.0599 - val_loss: 0.4461 - val_acc: 0.7368 - val_mse: 0.0930\n",
            "Epoch 65/150\n",
            "1/1 [==============================] - 0s 29ms/step - loss: 0.3363 - acc: 0.9018 - mse: 0.0595 - val_loss: 0.4447 - val_acc: 0.7368 - val_mse: 0.0928\n",
            "Epoch 66/150\n",
            "1/1 [==============================] - 0s 29ms/step - loss: 0.3340 - acc: 0.9018 - mse: 0.0591 - val_loss: 0.4434 - val_acc: 0.7368 - val_mse: 0.0927\n",
            "Epoch 67/150\n",
            "1/1 [==============================] - 0s 27ms/step - loss: 0.3318 - acc: 0.9018 - mse: 0.0587 - val_loss: 0.4421 - val_acc: 0.7632 - val_mse: 0.0925\n",
            "Epoch 68/150\n",
            "1/1 [==============================] - 0s 38ms/step - loss: 0.3297 - acc: 0.9018 - mse: 0.0583 - val_loss: 0.4408 - val_acc: 0.7632 - val_mse: 0.0924\n",
            "Epoch 69/150\n",
            "1/1 [==============================] - 0s 28ms/step - loss: 0.3275 - acc: 0.9018 - mse: 0.0579 - val_loss: 0.4396 - val_acc: 0.7632 - val_mse: 0.0922\n",
            "Epoch 70/150\n",
            "1/1 [==============================] - 0s 29ms/step - loss: 0.3254 - acc: 0.9018 - mse: 0.0575 - val_loss: 0.4384 - val_acc: 0.7632 - val_mse: 0.0921\n",
            "Epoch 71/150\n",
            "1/1 [==============================] - 0s 30ms/step - loss: 0.3234 - acc: 0.9018 - mse: 0.0572 - val_loss: 0.4372 - val_acc: 0.7632 - val_mse: 0.0920\n",
            "Epoch 72/150\n",
            "1/1 [==============================] - 0s 32ms/step - loss: 0.3214 - acc: 0.9018 - mse: 0.0568 - val_loss: 0.4361 - val_acc: 0.7632 - val_mse: 0.0918\n",
            "Epoch 73/150\n",
            "1/1 [==============================] - 0s 29ms/step - loss: 0.3194 - acc: 0.9018 - mse: 0.0564 - val_loss: 0.4349 - val_acc: 0.7632 - val_mse: 0.0917\n",
            "Epoch 74/150\n",
            "1/1 [==============================] - 0s 47ms/step - loss: 0.3174 - acc: 0.9018 - mse: 0.0561 - val_loss: 0.4338 - val_acc: 0.7632 - val_mse: 0.0916\n",
            "Epoch 75/150\n",
            "1/1 [==============================] - 0s 28ms/step - loss: 0.3155 - acc: 0.9018 - mse: 0.0557 - val_loss: 0.4327 - val_acc: 0.7632 - val_mse: 0.0915\n",
            "Epoch 76/150\n",
            "1/1 [==============================] - 0s 35ms/step - loss: 0.3136 - acc: 0.9018 - mse: 0.0554 - val_loss: 0.4316 - val_acc: 0.7632 - val_mse: 0.0913\n",
            "Epoch 77/150\n",
            "1/1 [==============================] - 0s 30ms/step - loss: 0.3118 - acc: 0.9018 - mse: 0.0550 - val_loss: 0.4305 - val_acc: 0.7632 - val_mse: 0.0912\n",
            "Epoch 78/150\n",
            "1/1 [==============================] - 0s 30ms/step - loss: 0.3099 - acc: 0.9018 - mse: 0.0547 - val_loss: 0.4295 - val_acc: 0.7632 - val_mse: 0.0911\n",
            "Epoch 79/150\n",
            "1/1 [==============================] - 0s 28ms/step - loss: 0.3081 - acc: 0.9018 - mse: 0.0544 - val_loss: 0.4284 - val_acc: 0.7632 - val_mse: 0.0910\n",
            "Epoch 80/150\n",
            "1/1 [==============================] - 0s 49ms/step - loss: 0.3063 - acc: 0.9018 - mse: 0.0540 - val_loss: 0.4274 - val_acc: 0.7632 - val_mse: 0.0908\n",
            "Epoch 81/150\n",
            "1/1 [==============================] - 0s 34ms/step - loss: 0.3045 - acc: 0.9018 - mse: 0.0537 - val_loss: 0.4263 - val_acc: 0.7632 - val_mse: 0.0907\n",
            "Epoch 82/150\n",
            "1/1 [==============================] - 0s 47ms/step - loss: 0.3028 - acc: 0.9018 - mse: 0.0534 - val_loss: 0.4252 - val_acc: 0.7632 - val_mse: 0.0906\n",
            "Epoch 83/150\n",
            "1/1 [==============================] - 0s 32ms/step - loss: 0.3011 - acc: 0.9018 - mse: 0.0531 - val_loss: 0.4241 - val_acc: 0.7632 - val_mse: 0.0904\n",
            "Epoch 84/150\n",
            "1/1 [==============================] - 0s 30ms/step - loss: 0.2994 - acc: 0.9018 - mse: 0.0528 - val_loss: 0.4231 - val_acc: 0.7632 - val_mse: 0.0903\n",
            "Epoch 85/150\n",
            "1/1 [==============================] - 0s 28ms/step - loss: 0.2978 - acc: 0.9018 - mse: 0.0525 - val_loss: 0.4221 - val_acc: 0.7632 - val_mse: 0.0902\n",
            "Epoch 86/150\n",
            "1/1 [==============================] - 0s 30ms/step - loss: 0.2961 - acc: 0.9018 - mse: 0.0522 - val_loss: 0.4211 - val_acc: 0.7632 - val_mse: 0.0900\n",
            "Epoch 87/150\n",
            "1/1 [==============================] - 0s 28ms/step - loss: 0.2945 - acc: 0.9107 - mse: 0.0519 - val_loss: 0.4202 - val_acc: 0.7632 - val_mse: 0.0899\n",
            "Epoch 88/150\n",
            "1/1 [==============================] - 0s 27ms/step - loss: 0.2929 - acc: 0.9196 - mse: 0.0516 - val_loss: 0.4192 - val_acc: 0.7632 - val_mse: 0.0898\n",
            "Epoch 89/150\n",
            "1/1 [==============================] - 0s 29ms/step - loss: 0.2914 - acc: 0.9196 - mse: 0.0513 - val_loss: 0.4182 - val_acc: 0.7632 - val_mse: 0.0897\n",
            "Epoch 90/150\n",
            "1/1 [==============================] - 0s 46ms/step - loss: 0.2898 - acc: 0.9196 - mse: 0.0510 - val_loss: 0.4173 - val_acc: 0.7632 - val_mse: 0.0895\n",
            "Epoch 91/150\n",
            "1/1 [==============================] - 0s 28ms/step - loss: 0.2883 - acc: 0.9196 - mse: 0.0507 - val_loss: 0.4163 - val_acc: 0.7632 - val_mse: 0.0894\n",
            "Epoch 92/150\n",
            "1/1 [==============================] - 0s 36ms/step - loss: 0.2868 - acc: 0.9196 - mse: 0.0504 - val_loss: 0.4154 - val_acc: 0.7632 - val_mse: 0.0893\n",
            "Epoch 93/150\n",
            "1/1 [==============================] - 0s 33ms/step - loss: 0.2853 - acc: 0.9196 - mse: 0.0502 - val_loss: 0.4145 - val_acc: 0.7632 - val_mse: 0.0891\n",
            "Epoch 94/150\n",
            "1/1 [==============================] - 0s 28ms/step - loss: 0.2838 - acc: 0.9196 - mse: 0.0499 - val_loss: 0.4135 - val_acc: 0.7632 - val_mse: 0.0890\n",
            "Epoch 95/150\n",
            "1/1 [==============================] - 0s 28ms/step - loss: 0.2823 - acc: 0.9196 - mse: 0.0496 - val_loss: 0.4126 - val_acc: 0.7632 - val_mse: 0.0889\n",
            "Epoch 96/150\n",
            "1/1 [==============================] - 0s 36ms/step - loss: 0.2808 - acc: 0.9196 - mse: 0.0493 - val_loss: 0.4116 - val_acc: 0.7632 - val_mse: 0.0887\n",
            "Epoch 97/150\n",
            "1/1 [==============================] - 0s 47ms/step - loss: 0.2794 - acc: 0.9196 - mse: 0.0491 - val_loss: 0.4106 - val_acc: 0.7632 - val_mse: 0.0886\n",
            "Epoch 98/150\n",
            "1/1 [==============================] - 0s 28ms/step - loss: 0.2780 - acc: 0.9286 - mse: 0.0488 - val_loss: 0.4096 - val_acc: 0.7632 - val_mse: 0.0884\n",
            "Epoch 99/150\n",
            "1/1 [==============================] - 0s 29ms/step - loss: 0.2766 - acc: 0.9286 - mse: 0.0485 - val_loss: 0.4087 - val_acc: 0.7632 - val_mse: 0.0883\n",
            "Epoch 100/150\n",
            "1/1 [==============================] - 0s 33ms/step - loss: 0.2752 - acc: 0.9286 - mse: 0.0483 - val_loss: 0.4077 - val_acc: 0.7632 - val_mse: 0.0881\n",
            "Epoch 101/150\n",
            "1/1 [==============================] - 0s 27ms/step - loss: 0.2738 - acc: 0.9286 - mse: 0.0480 - val_loss: 0.4067 - val_acc: 0.7632 - val_mse: 0.0880\n",
            "Epoch 102/150\n",
            "1/1 [==============================] - 0s 29ms/step - loss: 0.2724 - acc: 0.9375 - mse: 0.0478 - val_loss: 0.4057 - val_acc: 0.7632 - val_mse: 0.0878\n",
            "Epoch 103/150\n",
            "1/1 [==============================] - 0s 27ms/step - loss: 0.2710 - acc: 0.9464 - mse: 0.0475 - val_loss: 0.4047 - val_acc: 0.7632 - val_mse: 0.0876\n",
            "Epoch 104/150\n",
            "1/1 [==============================] - 0s 36ms/step - loss: 0.2696 - acc: 0.9464 - mse: 0.0472 - val_loss: 0.4038 - val_acc: 0.7632 - val_mse: 0.0875\n",
            "Epoch 105/150\n",
            "1/1 [==============================] - 0s 31ms/step - loss: 0.2683 - acc: 0.9464 - mse: 0.0470 - val_loss: 0.4028 - val_acc: 0.7632 - val_mse: 0.0873\n",
            "Epoch 106/150\n",
            "1/1 [==============================] - 0s 28ms/step - loss: 0.2669 - acc: 0.9464 - mse: 0.0467 - val_loss: 0.4019 - val_acc: 0.7632 - val_mse: 0.0872\n",
            "Epoch 107/150\n",
            "1/1 [==============================] - 0s 29ms/step - loss: 0.2655 - acc: 0.9464 - mse: 0.0465 - val_loss: 0.4009 - val_acc: 0.7632 - val_mse: 0.0870\n",
            "Epoch 108/150\n",
            "1/1 [==============================] - 0s 32ms/step - loss: 0.2642 - acc: 0.9464 - mse: 0.0462 - val_loss: 0.4001 - val_acc: 0.7632 - val_mse: 0.0869\n",
            "Epoch 109/150\n",
            "1/1 [==============================] - 0s 28ms/step - loss: 0.2629 - acc: 0.9464 - mse: 0.0460 - val_loss: 0.3992 - val_acc: 0.7632 - val_mse: 0.0867\n",
            "Epoch 110/150\n",
            "1/1 [==============================] - 0s 35ms/step - loss: 0.2616 - acc: 0.9464 - mse: 0.0457 - val_loss: 0.3982 - val_acc: 0.7632 - val_mse: 0.0866\n",
            "Epoch 111/150\n",
            "1/1 [==============================] - 0s 35ms/step - loss: 0.2603 - acc: 0.9464 - mse: 0.0455 - val_loss: 0.3973 - val_acc: 0.7632 - val_mse: 0.0864\n",
            "Epoch 112/150\n",
            "1/1 [==============================] - 0s 37ms/step - loss: 0.2590 - acc: 0.9464 - mse: 0.0452 - val_loss: 0.3964 - val_acc: 0.7632 - val_mse: 0.0863\n",
            "Epoch 113/150\n",
            "1/1 [==============================] - 0s 29ms/step - loss: 0.2577 - acc: 0.9464 - mse: 0.0450 - val_loss: 0.3955 - val_acc: 0.7632 - val_mse: 0.0861\n",
            "Epoch 114/150\n",
            "1/1 [==============================] - 0s 31ms/step - loss: 0.2564 - acc: 0.9464 - mse: 0.0447 - val_loss: 0.3945 - val_acc: 0.7632 - val_mse: 0.0859\n",
            "Epoch 115/150\n",
            "1/1 [==============================] - 0s 31ms/step - loss: 0.2551 - acc: 0.9464 - mse: 0.0445 - val_loss: 0.3936 - val_acc: 0.7632 - val_mse: 0.0858\n",
            "Epoch 116/150\n",
            "1/1 [==============================] - 0s 28ms/step - loss: 0.2538 - acc: 0.9464 - mse: 0.0442 - val_loss: 0.3926 - val_acc: 0.7632 - val_mse: 0.0856\n",
            "Epoch 117/150\n",
            "1/1 [==============================] - 0s 30ms/step - loss: 0.2526 - acc: 0.9464 - mse: 0.0440 - val_loss: 0.3917 - val_acc: 0.7632 - val_mse: 0.0854\n",
            "Epoch 118/150\n",
            "1/1 [==============================] - 0s 45ms/step - loss: 0.2513 - acc: 0.9464 - mse: 0.0437 - val_loss: 0.3907 - val_acc: 0.7632 - val_mse: 0.0852\n",
            "Epoch 119/150\n",
            "1/1 [==============================] - 0s 27ms/step - loss: 0.2501 - acc: 0.9464 - mse: 0.0435 - val_loss: 0.3897 - val_acc: 0.7632 - val_mse: 0.0850\n",
            "Epoch 120/150\n",
            "1/1 [==============================] - 0s 28ms/step - loss: 0.2488 - acc: 0.9464 - mse: 0.0432 - val_loss: 0.3887 - val_acc: 0.7632 - val_mse: 0.0848\n",
            "Epoch 121/150\n",
            "1/1 [==============================] - 0s 27ms/step - loss: 0.2476 - acc: 0.9464 - mse: 0.0430 - val_loss: 0.3877 - val_acc: 0.7632 - val_mse: 0.0846\n",
            "Epoch 122/150\n",
            "1/1 [==============================] - 0s 27ms/step - loss: 0.2464 - acc: 0.9464 - mse: 0.0428 - val_loss: 0.3867 - val_acc: 0.7632 - val_mse: 0.0845\n",
            "Epoch 123/150\n",
            "1/1 [==============================] - 0s 34ms/step - loss: 0.2452 - acc: 0.9464 - mse: 0.0425 - val_loss: 0.3857 - val_acc: 0.7632 - val_mse: 0.0843\n",
            "Epoch 124/150\n",
            "1/1 [==============================] - 0s 28ms/step - loss: 0.2440 - acc: 0.9464 - mse: 0.0423 - val_loss: 0.3848 - val_acc: 0.7632 - val_mse: 0.0841\n",
            "Epoch 125/150\n",
            "1/1 [==============================] - 0s 28ms/step - loss: 0.2429 - acc: 0.9464 - mse: 0.0421 - val_loss: 0.3838 - val_acc: 0.7632 - val_mse: 0.0839\n",
            "Epoch 126/150\n",
            "1/1 [==============================] - 0s 53ms/step - loss: 0.2417 - acc: 0.9464 - mse: 0.0419 - val_loss: 0.3828 - val_acc: 0.7632 - val_mse: 0.0837\n",
            "Epoch 127/150\n",
            "1/1 [==============================] - 0s 29ms/step - loss: 0.2406 - acc: 0.9464 - mse: 0.0416 - val_loss: 0.3818 - val_acc: 0.7632 - val_mse: 0.0835\n",
            "Epoch 128/150\n",
            "1/1 [==============================] - 0s 30ms/step - loss: 0.2395 - acc: 0.9464 - mse: 0.0414 - val_loss: 0.3809 - val_acc: 0.7632 - val_mse: 0.0833\n",
            "Epoch 129/150\n",
            "1/1 [==============================] - 0s 28ms/step - loss: 0.2383 - acc: 0.9464 - mse: 0.0412 - val_loss: 0.3798 - val_acc: 0.7632 - val_mse: 0.0831\n",
            "Epoch 130/150\n",
            "1/1 [==============================] - 0s 28ms/step - loss: 0.2372 - acc: 0.9464 - mse: 0.0410 - val_loss: 0.3788 - val_acc: 0.7632 - val_mse: 0.0829\n",
            "Epoch 131/150\n",
            "1/1 [==============================] - 0s 29ms/step - loss: 0.2361 - acc: 0.9464 - mse: 0.0408 - val_loss: 0.3778 - val_acc: 0.7632 - val_mse: 0.0827\n",
            "Epoch 132/150\n",
            "1/1 [==============================] - 0s 47ms/step - loss: 0.2350 - acc: 0.9464 - mse: 0.0405 - val_loss: 0.3767 - val_acc: 0.7632 - val_mse: 0.0825\n",
            "Epoch 133/150\n",
            "1/1 [==============================] - 0s 28ms/step - loss: 0.2339 - acc: 0.9464 - mse: 0.0403 - val_loss: 0.3756 - val_acc: 0.7632 - val_mse: 0.0823\n",
            "Epoch 134/150\n",
            "1/1 [==============================] - 0s 29ms/step - loss: 0.2328 - acc: 0.9464 - mse: 0.0401 - val_loss: 0.3746 - val_acc: 0.7632 - val_mse: 0.0821\n",
            "Epoch 135/150\n",
            "1/1 [==============================] - 0s 28ms/step - loss: 0.2317 - acc: 0.9464 - mse: 0.0399 - val_loss: 0.3736 - val_acc: 0.7632 - val_mse: 0.0819\n",
            "Epoch 136/150\n",
            "1/1 [==============================] - 0s 30ms/step - loss: 0.2306 - acc: 0.9464 - mse: 0.0397 - val_loss: 0.3725 - val_acc: 0.7632 - val_mse: 0.0816\n",
            "Epoch 137/150\n",
            "1/1 [==============================] - 0s 29ms/step - loss: 0.2295 - acc: 0.9464 - mse: 0.0395 - val_loss: 0.3714 - val_acc: 0.7632 - val_mse: 0.0814\n",
            "Epoch 138/150\n",
            "1/1 [==============================] - 0s 30ms/step - loss: 0.2285 - acc: 0.9464 - mse: 0.0392 - val_loss: 0.3703 - val_acc: 0.7632 - val_mse: 0.0812\n",
            "Epoch 139/150\n",
            "1/1 [==============================] - 0s 32ms/step - loss: 0.2274 - acc: 0.9464 - mse: 0.0390 - val_loss: 0.3693 - val_acc: 0.7632 - val_mse: 0.0810\n",
            "Epoch 140/150\n",
            "1/1 [==============================] - 0s 29ms/step - loss: 0.2263 - acc: 0.9464 - mse: 0.0388 - val_loss: 0.3683 - val_acc: 0.7632 - val_mse: 0.0808\n",
            "Epoch 141/150\n",
            "1/1 [==============================] - 0s 27ms/step - loss: 0.2253 - acc: 0.9464 - mse: 0.0386 - val_loss: 0.3673 - val_acc: 0.7632 - val_mse: 0.0806\n",
            "Epoch 142/150\n",
            "1/1 [==============================] - 0s 30ms/step - loss: 0.2242 - acc: 0.9464 - mse: 0.0384 - val_loss: 0.3663 - val_acc: 0.7632 - val_mse: 0.0804\n",
            "Epoch 143/150\n",
            "1/1 [==============================] - 0s 34ms/step - loss: 0.2232 - acc: 0.9464 - mse: 0.0382 - val_loss: 0.3654 - val_acc: 0.7632 - val_mse: 0.0802\n",
            "Epoch 144/150\n",
            "1/1 [==============================] - 0s 35ms/step - loss: 0.2221 - acc: 0.9464 - mse: 0.0380 - val_loss: 0.3644 - val_acc: 0.7632 - val_mse: 0.0800\n",
            "Epoch 145/150\n",
            "1/1 [==============================] - 0s 32ms/step - loss: 0.2211 - acc: 0.9464 - mse: 0.0378 - val_loss: 0.3635 - val_acc: 0.7632 - val_mse: 0.0798\n",
            "Epoch 146/150\n",
            "1/1 [==============================] - 0s 33ms/step - loss: 0.2200 - acc: 0.9464 - mse: 0.0376 - val_loss: 0.3625 - val_acc: 0.7632 - val_mse: 0.0796\n",
            "Epoch 147/150\n",
            "1/1 [==============================] - 0s 29ms/step - loss: 0.2190 - acc: 0.9464 - mse: 0.0373 - val_loss: 0.3616 - val_acc: 0.7632 - val_mse: 0.0794\n",
            "Epoch 148/150\n",
            "1/1 [==============================] - 0s 31ms/step - loss: 0.2180 - acc: 0.9464 - mse: 0.0371 - val_loss: 0.3607 - val_acc: 0.7632 - val_mse: 0.0792\n",
            "Epoch 149/150\n",
            "1/1 [==============================] - 0s 29ms/step - loss: 0.2170 - acc: 0.9464 - mse: 0.0369 - val_loss: 0.3598 - val_acc: 0.7895 - val_mse: 0.0790\n",
            "Epoch 150/150\n",
            "1/1 [==============================] - 0s 48ms/step - loss: 0.2159 - acc: 0.9464 - mse: 0.0367 - val_loss: 0.3588 - val_acc: 0.7895 - val_mse: 0.0789\n"
          ]
        }
      ],
      "source": [
        "#model building\n",
        "\n",
        "#run the code given below and observe the performance of this simple model having no regularization\n",
        "\n",
        "model1 = Sequential([\n",
        "    Dense(512, activation='tanh', input_shape = X_train[0].shape),\n",
        "    Dense(512//2, activation='tanh'),\n",
        "    Dense(512//4, activation='tanh'),\n",
        "    Dense(512//8, activation='tanh'),\n",
        "    Dense(32, activation='relu'),\n",
        "    Dense(3, activation='softmax')\n",
        "])\n",
        "print(model1.summary())\n",
        "model1.compile(optimizer='sgd',loss='categorical_crossentropy', metrics=['acc', 'mse'])\n",
        "\n",
        "hist1 = model1.fit(X_train, y_train, epochs=150, batch_size=128, validation_data=(X_test,y_test))\n"
      ]
    },
    {
      "cell_type": "code",
      "execution_count": 34,
      "metadata": {
        "id": "T5bItJ6A8ImQ",
        "colab": {
          "base_uri": "https://localhost:8080/"
        },
        "outputId": "61ca437e-d00a-4643-ca2b-06bae820919b"
      },
      "outputs": [
        {
          "output_type": "stream",
          "name": "stdout",
          "text": [
            "2/2 [==============================] - 0s 8ms/step\n",
            "2/2 [==============================] - 0s 5ms/step - loss: 0.0000e+00 - acc: 0.0000e+00 - mse: 0.0000e+00\n"
          ]
        },
        {
          "output_type": "execute_result",
          "data": {
            "text/plain": [
              "[0.0, 0.0, 0.0]"
            ]
          },
          "metadata": {},
          "execution_count": 34
        }
      ],
      "source": [
        "#After training the model, evaluate the model and find the  loss, accuracy and mse on the test set using the evaluate() function\n",
        "#print the loss, accuracy and MSE\n",
        "pred=model1.predict(X_test)\n",
        "model1.evaluate(X_test)\n"
      ]
    },
    {
      "cell_type": "code",
      "execution_count": 30,
      "metadata": {
        "id": "2k9s5vO18ImQ",
        "colab": {
          "base_uri": "https://localhost:8080/",
          "height": 581
        },
        "outputId": "f345840f-7e48-42af-aa71-5c58aa0b457c"
      },
      "outputs": [
        {
          "output_type": "display_data",
          "data": {
            "text/plain": [
              "<Figure size 432x288 with 1 Axes>"
            ],
            "image/png": "[encoded data removed]"
          },
          "metadata": {}
        },
        {
          "output_type": "display_data",
          "data": {
            "text/plain": [
              "<Figure size 432x288 with 1 Axes>"
            ],
            "image/png": "[encoded data removed]"
          },
          "metadata": {}
        }
      ],
      "source": [
        "(#Observe the plots for Validation Loss and Training Loss.\n",
        "\n",
        "\n",
        "\n",
        "# we observe that validation loss is increasing as compared to training loss. \n",
        "# This increase in training loss shows that our model is overfitted.\n",
        "\n",
        "#similarly we plot for model accuracy \n",
        "plt.plot(hist1.history['acc'], label = 'train acc')\n",
        "plt.plot(hist1.history['val_acc'], label='val acc')\n",
        "plt.title(\"train acc vs Val_acc\")\n",
        "plt.xlabel(\"Epochs\")\n",
        "plt.ylabel(\"acc\")\n",
        "plt.legend()\n",
        "plt.show()\n",
        "\n",
        "#This again shows that validation accuracy is low as compared to training accuracy, which again shows signs of overfitting. \n"
      ]
    },
    {
      "cell_type": "markdown",
      "metadata": {
        "id": "jzfeUYUV8ImR"
      },
      "source": [
        "\n",
        "\n",
        "## L1 Regularization:\n",
        " \n"
      ]
    },
    {
      "cell_type": "code",
      "execution_count": 44,
      "metadata": {
        "id": "5bGRPl6o8ImR",
        "colab": {
          "base_uri": "https://localhost:8080/"
        },
        "outputId": "5c6bccf8-7ff0-4b85-d1eb-32acd7dff2ab"
      },
      "outputs": [
        {
          "output_type": "stream",
          "name": "stdout",
          "text": [
            "Model: \"sequential_2\"\n",
            "_________________________________________________________________\n",
            " Layer (type)                Output Shape              Param #   \n",
            "=================================================================\n",
            " dense_2 (Dense)             (None, 512)               2560      \n",
            "                                                                 \n",
            " dense_3 (Dense)             (None, 256)               131328    \n",
            "                                                                 \n",
            " dense_4 (Dense)             (None, 128)               32896     \n",
            "                                                                 \n",
            " dense_5 (Dense)             (None, 64)                8256      \n",
            "                                                                 \n",
            " dense_6 (Dense)             (None, 32)                2080      \n",
            "                                                                 \n",
            " dense_7 (Dense)             (None, 3)                 99        \n",
            "                                                                 \n",
            "=================================================================\n",
            "Total params: 177,219\n",
            "Trainable params: 177,219\n",
            "Non-trainable params: 0\n",
            "_________________________________________________________________\n",
            "None\n",
            "Epoch 1/150\n",
            "1/1 [==============================] - 1s 588ms/step - loss: 2.3662 - acc: 0.3750 - mse: 0.2468 - val_loss: 2.3632 - val_acc: 0.2632 - val_mse: 0.2497\n",
            "Epoch 2/150\n",
            "1/1 [==============================] - 0s 36ms/step - loss: 2.2846 - acc: 0.3661 - mse: 0.2322 - val_loss: 2.2968 - val_acc: 0.2632 - val_mse: 0.2377\n",
            "Epoch 3/150\n",
            "1/1 [==============================] - 0s 33ms/step - loss: 2.2142 - acc: 0.3661 - mse: 0.2186 - val_loss: 2.2453 - val_acc: 0.2632 - val_mse: 0.2278\n",
            "Epoch 4/150\n",
            "1/1 [==============================] - 0s 28ms/step - loss: 2.1588 - acc: 0.3571 - mse: 0.2074 - val_loss: 2.2045 - val_acc: 0.2632 - val_mse: 0.2197\n",
            "Epoch 5/150\n",
            "1/1 [==============================] - 0s 28ms/step - loss: 2.1129 - acc: 0.3571 - mse: 0.1978 - val_loss: 2.1678 - val_acc: 0.2632 - val_mse: 0.2122\n",
            "Epoch 6/150\n",
            "1/1 [==============================] - 0s 29ms/step - loss: 2.0725 - acc: 0.3571 - mse: 0.1892 - val_loss: 2.1337 - val_acc: 0.3684 - val_mse: 0.2050\n",
            "Epoch 7/150\n",
            "1/1 [==============================] - 0s 30ms/step - loss: 2.0357 - acc: 0.4821 - mse: 0.1812 - val_loss: 2.1022 - val_acc: 0.6053 - val_mse: 0.1983\n",
            "Epoch 8/150\n",
            "1/1 [==============================] - 0s 29ms/step - loss: 2.0019 - acc: 0.6696 - mse: 0.1737 - val_loss: 2.0737 - val_acc: 0.6053 - val_mse: 0.1922\n",
            "Epoch 9/150\n",
            "1/1 [==============================] - 0s 27ms/step - loss: 1.9716 - acc: 0.6875 - mse: 0.1671 - val_loss: 2.0492 - val_acc: 0.6053 - val_mse: 0.1871\n",
            "Epoch 10/150\n",
            "1/1 [==============================] - 0s 33ms/step - loss: 1.9450 - acc: 0.6875 - mse: 0.1613 - val_loss: 2.0268 - val_acc: 0.6053 - val_mse: 0.1824\n",
            "Epoch 11/150\n",
            "1/1 [==============================] - 0s 30ms/step - loss: 1.9204 - acc: 0.6875 - mse: 0.1561 - val_loss: 2.0056 - val_acc: 0.6053 - val_mse: 0.1781\n",
            "Epoch 12/150\n",
            "1/1 [==============================] - 0s 30ms/step - loss: 1.8974 - acc: 0.6875 - mse: 0.1512 - val_loss: 1.9855 - val_acc: 0.6053 - val_mse: 0.1740\n",
            "Epoch 13/150\n",
            "1/1 [==============================] - 0s 34ms/step - loss: 1.8759 - acc: 0.6875 - mse: 0.1467 - val_loss: 1.9667 - val_acc: 0.6053 - val_mse: 0.1702\n",
            "Epoch 14/150\n",
            "1/1 [==============================] - 0s 30ms/step - loss: 1.8558 - acc: 0.6875 - mse: 0.1426 - val_loss: 1.9484 - val_acc: 0.6053 - val_mse: 0.1666\n",
            "Epoch 15/150\n",
            "1/1 [==============================] - 0s 29ms/step - loss: 1.8369 - acc: 0.6875 - mse: 0.1387 - val_loss: 1.9314 - val_acc: 0.6053 - val_mse: 0.1633\n",
            "Epoch 16/150\n",
            "1/1 [==============================] - 0s 29ms/step - loss: 1.8189 - acc: 0.7143 - mse: 0.1351 - val_loss: 1.9148 - val_acc: 0.6053 - val_mse: 0.1601\n",
            "Epoch 17/150\n",
            "1/1 [==============================] - 0s 28ms/step - loss: 1.8014 - acc: 0.7321 - mse: 0.1316 - val_loss: 1.8987 - val_acc: 0.6316 - val_mse: 0.1571\n",
            "Epoch 18/150\n",
            "1/1 [==============================] - 0s 29ms/step - loss: 1.7847 - acc: 0.7500 - mse: 0.1283 - val_loss: 1.8832 - val_acc: 0.6316 - val_mse: 0.1542\n",
            "Epoch 19/150\n",
            "1/1 [==============================] - 0s 27ms/step - loss: 1.7687 - acc: 0.7589 - mse: 0.1252 - val_loss: 1.8683 - val_acc: 0.6316 - val_mse: 0.1514\n",
            "Epoch 20/150\n",
            "1/1 [==============================] - 0s 39ms/step - loss: 1.7535 - acc: 0.7768 - mse: 0.1223 - val_loss: 1.8537 - val_acc: 0.6316 - val_mse: 0.1487\n",
            "Epoch 21/150\n",
            "1/1 [==============================] - 0s 29ms/step - loss: 1.7388 - acc: 0.7946 - mse: 0.1195 - val_loss: 1.8398 - val_acc: 0.6316 - val_mse: 0.1461\n",
            "Epoch 22/150\n",
            "1/1 [==============================] - 0s 49ms/step - loss: 1.7247 - acc: 0.7946 - mse: 0.1168 - val_loss: 1.8260 - val_acc: 0.6316 - val_mse: 0.1436\n",
            "Epoch 23/150\n",
            "1/1 [==============================] - 0s 28ms/step - loss: 1.7108 - acc: 0.8036 - mse: 0.1142 - val_loss: 1.8127 - val_acc: 0.6316 - val_mse: 0.1413\n",
            "Epoch 24/150\n",
            "1/1 [==============================] - 0s 32ms/step - loss: 1.6976 - acc: 0.8125 - mse: 0.1118 - val_loss: 1.7998 - val_acc: 0.6316 - val_mse: 0.1390\n",
            "Epoch 25/150\n",
            "1/1 [==============================] - 0s 29ms/step - loss: 1.6846 - acc: 0.8214 - mse: 0.1094 - val_loss: 1.7871 - val_acc: 0.7105 - val_mse: 0.1367\n",
            "Epoch 26/150\n",
            "1/1 [==============================] - 0s 28ms/step - loss: 1.6720 - acc: 0.8304 - mse: 0.1071 - val_loss: 1.7747 - val_acc: 0.7105 - val_mse: 0.1346\n",
            "Epoch 27/150\n",
            "1/1 [==============================] - 0s 31ms/step - loss: 1.6598 - acc: 0.8304 - mse: 0.1049 - val_loss: 1.7627 - val_acc: 0.7368 - val_mse: 0.1325\n",
            "Epoch 28/150\n",
            "1/1 [==============================] - 0s 29ms/step - loss: 1.6480 - acc: 0.8393 - mse: 0.1028 - val_loss: 1.7510 - val_acc: 0.7368 - val_mse: 0.1305\n",
            "Epoch 29/150\n",
            "1/1 [==============================] - 0s 29ms/step - loss: 1.6365 - acc: 0.8393 - mse: 0.1008 - val_loss: 1.7396 - val_acc: 0.7368 - val_mse: 0.1286\n",
            "Epoch 30/150\n",
            "1/1 [==============================] - 0s 49ms/step - loss: 1.6254 - acc: 0.8482 - mse: 0.0988 - val_loss: 1.7287 - val_acc: 0.7368 - val_mse: 0.1268\n",
            "Epoch 31/150\n",
            "1/1 [==============================] - 0s 30ms/step - loss: 1.6146 - acc: 0.8482 - mse: 0.0970 - val_loss: 1.7181 - val_acc: 0.7368 - val_mse: 0.1251\n",
            "Epoch 32/150\n",
            "1/1 [==============================] - 0s 30ms/step - loss: 1.6041 - acc: 0.8482 - mse: 0.0952 - val_loss: 1.7079 - val_acc: 0.7368 - val_mse: 0.1234\n",
            "Epoch 33/150\n",
            "1/1 [==============================] - 0s 32ms/step - loss: 1.5940 - acc: 0.8482 - mse: 0.0935 - val_loss: 1.6979 - val_acc: 0.7368 - val_mse: 0.1218\n",
            "Epoch 34/150\n",
            "1/1 [==============================] - 0s 31ms/step - loss: 1.5841 - acc: 0.8482 - mse: 0.0918 - val_loss: 1.6882 - val_acc: 0.7368 - val_mse: 0.1203\n",
            "Epoch 35/150\n",
            "1/1 [==============================] - 0s 28ms/step - loss: 1.5746 - acc: 0.8482 - mse: 0.0903 - val_loss: 1.6786 - val_acc: 0.7368 - val_mse: 0.1188\n",
            "Epoch 36/150\n",
            "1/1 [==============================] - 0s 29ms/step - loss: 1.5652 - acc: 0.8482 - mse: 0.0887 - val_loss: 1.6692 - val_acc: 0.7368 - val_mse: 0.1173\n",
            "Epoch 37/150\n",
            "1/1 [==============================] - 0s 30ms/step - loss: 1.5561 - acc: 0.8482 - mse: 0.0872 - val_loss: 1.6600 - val_acc: 0.7368 - val_mse: 0.1159\n",
            "Epoch 38/150\n",
            "1/1 [==============================] - 0s 29ms/step - loss: 1.5472 - acc: 0.8571 - mse: 0.0858 - val_loss: 1.6508 - val_acc: 0.7368 - val_mse: 0.1144\n",
            "Epoch 39/150\n",
            "1/1 [==============================] - 0s 39ms/step - loss: 1.5386 - acc: 0.8571 - mse: 0.0844 - val_loss: 1.6421 - val_acc: 0.7368 - val_mse: 0.1131\n",
            "Epoch 40/150\n",
            "1/1 [==============================] - 0s 32ms/step - loss: 1.5302 - acc: 0.8571 - mse: 0.0831 - val_loss: 1.6334 - val_acc: 0.7368 - val_mse: 0.1118\n",
            "Epoch 41/150\n",
            "1/1 [==============================] - 0s 31ms/step - loss: 1.5220 - acc: 0.8661 - mse: 0.0818 - val_loss: 1.6252 - val_acc: 0.7632 - val_mse: 0.1105\n",
            "Epoch 42/150\n",
            "1/1 [==============================] - 0s 32ms/step - loss: 1.5140 - acc: 0.8661 - mse: 0.0806 - val_loss: 1.6172 - val_acc: 0.7632 - val_mse: 0.1094\n",
            "Epoch 43/150\n",
            "1/1 [==============================] - 0s 48ms/step - loss: 1.5062 - acc: 0.8661 - mse: 0.0794 - val_loss: 1.6094 - val_acc: 0.7632 - val_mse: 0.1083\n",
            "Epoch 44/150\n",
            "1/1 [==============================] - 0s 46ms/step - loss: 1.4986 - acc: 0.8661 - mse: 0.0782 - val_loss: 1.6018 - val_acc: 0.7632 - val_mse: 0.1072\n",
            "Epoch 45/150\n",
            "1/1 [==============================] - 0s 29ms/step - loss: 1.4910 - acc: 0.8661 - mse: 0.0771 - val_loss: 1.5943 - val_acc: 0.7632 - val_mse: 0.1061\n",
            "Epoch 46/150\n",
            "1/1 [==============================] - 0s 30ms/step - loss: 1.4836 - acc: 0.8661 - mse: 0.0760 - val_loss: 1.5871 - val_acc: 0.7632 - val_mse: 0.1051\n",
            "Epoch 47/150\n",
            "1/1 [==============================] - 0s 36ms/step - loss: 1.4764 - acc: 0.8661 - mse: 0.0749 - val_loss: 1.5800 - val_acc: 0.7895 - val_mse: 0.1041\n",
            "Epoch 48/150\n",
            "1/1 [==============================] - 0s 28ms/step - loss: 1.4693 - acc: 0.8661 - mse: 0.0738 - val_loss: 1.5731 - val_acc: 0.7895 - val_mse: 0.1032\n",
            "Epoch 49/150\n",
            "1/1 [==============================] - 0s 28ms/step - loss: 1.4623 - acc: 0.8661 - mse: 0.0728 - val_loss: 1.5664 - val_acc: 0.7895 - val_mse: 0.1023\n",
            "Epoch 50/150\n",
            "1/1 [==============================] - 0s 30ms/step - loss: 1.4555 - acc: 0.8661 - mse: 0.0718 - val_loss: 1.5598 - val_acc: 0.7895 - val_mse: 0.1015\n",
            "Epoch 51/150\n",
            "1/1 [==============================] - 0s 30ms/step - loss: 1.4488 - acc: 0.8750 - mse: 0.0709 - val_loss: 1.5532 - val_acc: 0.7632 - val_mse: 0.1006\n",
            "Epoch 52/150\n",
            "1/1 [==============================] - 0s 31ms/step - loss: 1.4422 - acc: 0.8750 - mse: 0.0699 - val_loss: 1.5468 - val_acc: 0.7632 - val_mse: 0.0998\n",
            "Epoch 53/150\n",
            "1/1 [==============================] - 0s 29ms/step - loss: 1.4357 - acc: 0.8839 - mse: 0.0690 - val_loss: 1.5405 - val_acc: 0.7632 - val_mse: 0.0990\n",
            "Epoch 54/150\n",
            "1/1 [==============================] - 0s 30ms/step - loss: 1.4294 - acc: 0.8929 - mse: 0.0681 - val_loss: 1.5344 - val_acc: 0.7632 - val_mse: 0.0982\n",
            "Epoch 55/150\n",
            "1/1 [==============================] - 0s 30ms/step - loss: 1.4232 - acc: 0.8929 - mse: 0.0673 - val_loss: 1.5283 - val_acc: 0.7632 - val_mse: 0.0974\n",
            "Epoch 56/150\n",
            "1/1 [==============================] - 0s 29ms/step - loss: 1.4171 - acc: 0.8929 - mse: 0.0664 - val_loss: 1.5224 - val_acc: 0.7632 - val_mse: 0.0967\n",
            "Epoch 57/150\n",
            "1/1 [==============================] - 0s 35ms/step - loss: 1.4111 - acc: 0.8929 - mse: 0.0656 - val_loss: 1.5166 - val_acc: 0.7632 - val_mse: 0.0960\n",
            "Epoch 58/150\n",
            "1/1 [==============================] - 0s 43ms/step - loss: 1.4052 - acc: 0.8929 - mse: 0.0648 - val_loss: 1.5109 - val_acc: 0.7632 - val_mse: 0.0953\n",
            "Epoch 59/150\n",
            "1/1 [==============================] - 0s 28ms/step - loss: 1.3994 - acc: 0.8929 - mse: 0.0641 - val_loss: 1.5053 - val_acc: 0.7632 - val_mse: 0.0946\n",
            "Epoch 60/150\n",
            "1/1 [==============================] - 0s 30ms/step - loss: 1.3937 - acc: 0.8929 - mse: 0.0633 - val_loss: 1.4998 - val_acc: 0.7632 - val_mse: 0.0940\n",
            "Epoch 61/150\n",
            "1/1 [==============================] - 0s 30ms/step - loss: 1.3881 - acc: 0.8929 - mse: 0.0626 - val_loss: 1.4945 - val_acc: 0.7632 - val_mse: 0.0934\n",
            "Epoch 62/150\n",
            "1/1 [==============================] - 0s 30ms/step - loss: 1.3826 - acc: 0.8929 - mse: 0.0619 - val_loss: 1.4893 - val_acc: 0.7632 - val_mse: 0.0928\n",
            "Epoch 63/150\n",
            "1/1 [==============================] - 0s 48ms/step - loss: 1.3773 - acc: 0.8929 - mse: 0.0612 - val_loss: 1.4842 - val_acc: 0.7632 - val_mse: 0.0923\n",
            "Epoch 64/150\n",
            "1/1 [==============================] - 0s 34ms/step - loss: 1.3720 - acc: 0.8929 - mse: 0.0605 - val_loss: 1.4793 - val_acc: 0.7895 - val_mse: 0.0917\n",
            "Epoch 65/150\n",
            "1/1 [==============================] - 0s 33ms/step - loss: 1.3668 - acc: 0.9018 - mse: 0.0599 - val_loss: 1.4743 - val_acc: 0.7895 - val_mse: 0.0912\n",
            "Epoch 66/150\n",
            "1/1 [==============================] - 0s 29ms/step - loss: 1.3616 - acc: 0.9107 - mse: 0.0593 - val_loss: 1.4694 - val_acc: 0.7895 - val_mse: 0.0907\n",
            "Epoch 67/150\n",
            "1/1 [==============================] - 0s 29ms/step - loss: 1.3566 - acc: 0.9196 - mse: 0.0587 - val_loss: 1.4646 - val_acc: 0.7895 - val_mse: 0.0902\n",
            "Epoch 68/150\n",
            "1/1 [==============================] - 0s 28ms/step - loss: 1.3516 - acc: 0.9196 - mse: 0.0581 - val_loss: 1.4599 - val_acc: 0.7895 - val_mse: 0.0897\n",
            "Epoch 69/150\n",
            "1/1 [==============================] - 0s 29ms/step - loss: 1.3467 - acc: 0.9196 - mse: 0.0575 - val_loss: 1.4553 - val_acc: 0.7895 - val_mse: 0.0892\n",
            "Epoch 70/150\n",
            "1/1 [==============================] - 0s 27ms/step - loss: 1.3419 - acc: 0.9196 - mse: 0.0569 - val_loss: 1.4506 - val_acc: 0.7895 - val_mse: 0.0887\n",
            "Epoch 71/150\n",
            "1/1 [==============================] - 0s 30ms/step - loss: 1.3371 - acc: 0.9196 - mse: 0.0563 - val_loss: 1.4460 - val_acc: 0.7895 - val_mse: 0.0882\n",
            "Epoch 72/150\n",
            "1/1 [==============================] - 0s 28ms/step - loss: 1.3323 - acc: 0.9196 - mse: 0.0558 - val_loss: 1.4415 - val_acc: 0.7895 - val_mse: 0.0878\n",
            "Epoch 73/150\n",
            "1/1 [==============================] - 0s 29ms/step - loss: 1.3276 - acc: 0.9196 - mse: 0.0552 - val_loss: 1.4370 - val_acc: 0.7632 - val_mse: 0.0873\n",
            "Epoch 74/150\n",
            "1/1 [==============================] - 0s 30ms/step - loss: 1.3229 - acc: 0.9196 - mse: 0.0547 - val_loss: 1.4325 - val_acc: 0.7632 - val_mse: 0.0868\n",
            "Epoch 75/150\n",
            "1/1 [==============================] - 0s 29ms/step - loss: 1.3183 - acc: 0.9196 - mse: 0.0541 - val_loss: 1.4281 - val_acc: 0.7632 - val_mse: 0.0864\n",
            "Epoch 76/150\n",
            "1/1 [==============================] - 0s 37ms/step - loss: 1.3137 - acc: 0.9196 - mse: 0.0536 - val_loss: 1.4239 - val_acc: 0.7632 - val_mse: 0.0860\n",
            "Epoch 77/150\n",
            "1/1 [==============================] - 0s 32ms/step - loss: 1.3092 - acc: 0.9196 - mse: 0.0531 - val_loss: 1.4197 - val_acc: 0.7632 - val_mse: 0.0856\n",
            "Epoch 78/150\n",
            "1/1 [==============================] - 0s 31ms/step - loss: 1.3047 - acc: 0.9196 - mse: 0.0526 - val_loss: 1.4156 - val_acc: 0.7632 - val_mse: 0.0852\n",
            "Epoch 79/150\n",
            "1/1 [==============================] - 0s 31ms/step - loss: 1.3003 - acc: 0.9196 - mse: 0.0521 - val_loss: 1.4115 - val_acc: 0.7632 - val_mse: 0.0848\n",
            "Epoch 80/150\n",
            "1/1 [==============================] - 0s 31ms/step - loss: 1.2959 - acc: 0.9196 - mse: 0.0516 - val_loss: 1.4075 - val_acc: 0.7632 - val_mse: 0.0845\n",
            "Epoch 81/150\n",
            "1/1 [==============================] - 0s 31ms/step - loss: 1.2916 - acc: 0.9196 - mse: 0.0511 - val_loss: 1.4035 - val_acc: 0.7632 - val_mse: 0.0841\n",
            "Epoch 82/150\n",
            "1/1 [==============================] - 0s 33ms/step - loss: 1.2873 - acc: 0.9196 - mse: 0.0506 - val_loss: 1.3995 - val_acc: 0.7632 - val_mse: 0.0838\n",
            "Epoch 83/150\n",
            "1/1 [==============================] - 0s 30ms/step - loss: 1.2830 - acc: 0.9196 - mse: 0.0501 - val_loss: 1.3955 - val_acc: 0.7632 - val_mse: 0.0834\n",
            "Epoch 84/150\n",
            "1/1 [==============================] - 0s 31ms/step - loss: 1.2788 - acc: 0.9286 - mse: 0.0497 - val_loss: 1.3916 - val_acc: 0.7632 - val_mse: 0.0830\n",
            "Epoch 85/150\n",
            "1/1 [==============================] - 0s 30ms/step - loss: 1.2745 - acc: 0.9286 - mse: 0.0492 - val_loss: 1.3877 - val_acc: 0.7632 - val_mse: 0.0827\n",
            "Epoch 86/150\n",
            "1/1 [==============================] - 0s 37ms/step - loss: 1.2703 - acc: 0.9286 - mse: 0.0487 - val_loss: 1.3837 - val_acc: 0.7632 - val_mse: 0.0823\n",
            "Epoch 87/150\n",
            "1/1 [==============================] - 0s 28ms/step - loss: 1.2661 - acc: 0.9286 - mse: 0.0482 - val_loss: 1.3798 - val_acc: 0.7632 - val_mse: 0.0819\n",
            "Epoch 88/150\n",
            "1/1 [==============================] - 0s 30ms/step - loss: 1.2619 - acc: 0.9286 - mse: 0.0478 - val_loss: 1.3760 - val_acc: 0.7632 - val_mse: 0.0816\n",
            "Epoch 89/150\n",
            "1/1 [==============================] - 0s 31ms/step - loss: 1.2577 - acc: 0.9375 - mse: 0.0473 - val_loss: 1.3721 - val_acc: 0.7632 - val_mse: 0.0812\n",
            "Epoch 90/150\n",
            "1/1 [==============================] - 0s 33ms/step - loss: 1.2536 - acc: 0.9375 - mse: 0.0468 - val_loss: 1.3683 - val_acc: 0.7632 - val_mse: 0.0809\n",
            "Epoch 91/150\n",
            "1/1 [==============================] - 0s 31ms/step - loss: 1.2494 - acc: 0.9375 - mse: 0.0464 - val_loss: 1.3645 - val_acc: 0.7632 - val_mse: 0.0805\n",
            "Epoch 92/150\n",
            "1/1 [==============================] - 0s 33ms/step - loss: 1.2454 - acc: 0.9375 - mse: 0.0459 - val_loss: 1.3607 - val_acc: 0.7632 - val_mse: 0.0802\n",
            "Epoch 93/150\n",
            "1/1 [==============================] - 0s 30ms/step - loss: 1.2413 - acc: 0.9375 - mse: 0.0455 - val_loss: 1.3571 - val_acc: 0.7632 - val_mse: 0.0798\n",
            "Epoch 94/150\n",
            "1/1 [==============================] - 0s 30ms/step - loss: 1.2374 - acc: 0.9375 - mse: 0.0450 - val_loss: 1.3535 - val_acc: 0.7632 - val_mse: 0.0795\n",
            "Epoch 95/150\n",
            "1/1 [==============================] - 0s 52ms/step - loss: 1.2335 - acc: 0.9375 - mse: 0.0446 - val_loss: 1.3499 - val_acc: 0.7632 - val_mse: 0.0792\n",
            "Epoch 96/150\n",
            "1/1 [==============================] - 0s 32ms/step - loss: 1.2298 - acc: 0.9375 - mse: 0.0443 - val_loss: 1.3464 - val_acc: 0.7632 - val_mse: 0.0789\n",
            "Epoch 97/150\n",
            "1/1 [==============================] - 0s 43ms/step - loss: 1.2260 - acc: 0.9375 - mse: 0.0439 - val_loss: 1.3429 - val_acc: 0.7632 - val_mse: 0.0786\n",
            "Epoch 98/150\n",
            "1/1 [==============================] - 0s 29ms/step - loss: 1.2224 - acc: 0.9375 - mse: 0.0435 - val_loss: 1.3394 - val_acc: 0.7632 - val_mse: 0.0783\n",
            "Epoch 99/150\n",
            "1/1 [==============================] - 0s 47ms/step - loss: 1.2188 - acc: 0.9375 - mse: 0.0432 - val_loss: 1.3359 - val_acc: 0.7632 - val_mse: 0.0780\n",
            "Epoch 100/150\n",
            "1/1 [==============================] - 0s 30ms/step - loss: 1.2152 - acc: 0.9375 - mse: 0.0429 - val_loss: 1.3325 - val_acc: 0.7632 - val_mse: 0.0777\n",
            "Epoch 101/150\n",
            "1/1 [==============================] - 0s 30ms/step - loss: 1.2117 - acc: 0.9375 - mse: 0.0425 - val_loss: 1.3291 - val_acc: 0.7632 - val_mse: 0.0774\n",
            "Epoch 102/150\n",
            "1/1 [==============================] - 0s 51ms/step - loss: 1.2081 - acc: 0.9375 - mse: 0.0422 - val_loss: 1.3256 - val_acc: 0.7632 - val_mse: 0.0771\n",
            "Epoch 103/150\n",
            "1/1 [==============================] - 0s 36ms/step - loss: 1.2046 - acc: 0.9375 - mse: 0.0419 - val_loss: 1.3222 - val_acc: 0.7632 - val_mse: 0.0768\n",
            "Epoch 104/150\n",
            "1/1 [==============================] - 0s 30ms/step - loss: 1.2011 - acc: 0.9375 - mse: 0.0415 - val_loss: 1.3188 - val_acc: 0.7632 - val_mse: 0.0765\n",
            "Epoch 105/150\n",
            "1/1 [==============================] - 0s 29ms/step - loss: 1.1976 - acc: 0.9375 - mse: 0.0412 - val_loss: 1.3154 - val_acc: 0.7895 - val_mse: 0.0762\n",
            "Epoch 106/150\n",
            "1/1 [==============================] - 0s 28ms/step - loss: 1.1942 - acc: 0.9375 - mse: 0.0409 - val_loss: 1.3120 - val_acc: 0.7895 - val_mse: 0.0759\n",
            "Epoch 107/150\n",
            "1/1 [==============================] - 0s 32ms/step - loss: 1.1908 - acc: 0.9464 - mse: 0.0406 - val_loss: 1.3086 - val_acc: 0.7895 - val_mse: 0.0756\n",
            "Epoch 108/150\n",
            "1/1 [==============================] - 0s 30ms/step - loss: 1.1874 - acc: 0.9464 - mse: 0.0403 - val_loss: 1.3052 - val_acc: 0.7895 - val_mse: 0.0753\n",
            "Epoch 109/150\n",
            "1/1 [==============================] - 0s 32ms/step - loss: 1.1840 - acc: 0.9464 - mse: 0.0400 - val_loss: 1.3018 - val_acc: 0.7895 - val_mse: 0.0750\n",
            "Epoch 110/150\n",
            "1/1 [==============================] - 0s 30ms/step - loss: 1.1807 - acc: 0.9464 - mse: 0.0397 - val_loss: 1.2983 - val_acc: 0.7895 - val_mse: 0.0747\n",
            "Epoch 111/150\n",
            "1/1 [==============================] - 0s 35ms/step - loss: 1.1773 - acc: 0.9464 - mse: 0.0393 - val_loss: 1.2949 - val_acc: 0.7895 - val_mse: 0.0743\n",
            "Epoch 112/150\n",
            "1/1 [==============================] - 0s 36ms/step - loss: 1.1740 - acc: 0.9464 - mse: 0.0390 - val_loss: 1.2915 - val_acc: 0.7895 - val_mse: 0.0740\n",
            "Epoch 113/150\n",
            "1/1 [==============================] - 0s 28ms/step - loss: 1.1707 - acc: 0.9464 - mse: 0.0387 - val_loss: 1.2882 - val_acc: 0.7895 - val_mse: 0.0737\n",
            "Epoch 114/150\n",
            "1/1 [==============================] - 0s 29ms/step - loss: 1.1674 - acc: 0.9464 - mse: 0.0385 - val_loss: 1.2848 - val_acc: 0.7895 - val_mse: 0.0734\n",
            "Epoch 115/150\n",
            "1/1 [==============================] - 0s 30ms/step - loss: 1.1642 - acc: 0.9464 - mse: 0.0382 - val_loss: 1.2814 - val_acc: 0.7895 - val_mse: 0.0730\n",
            "Epoch 116/150\n",
            "1/1 [==============================] - 0s 30ms/step - loss: 1.1610 - acc: 0.9464 - mse: 0.0379 - val_loss: 1.2780 - val_acc: 0.7895 - val_mse: 0.0727\n",
            "Epoch 117/150\n",
            "1/1 [==============================] - 0s 31ms/step - loss: 1.1578 - acc: 0.9464 - mse: 0.0376 - val_loss: 1.2746 - val_acc: 0.7895 - val_mse: 0.0724\n",
            "Epoch 118/150\n",
            "1/1 [==============================] - 0s 29ms/step - loss: 1.1546 - acc: 0.9554 - mse: 0.0373 - val_loss: 1.2712 - val_acc: 0.7895 - val_mse: 0.0720\n",
            "Epoch 119/150\n",
            "1/1 [==============================] - 0s 31ms/step - loss: 1.1514 - acc: 0.9554 - mse: 0.0370 - val_loss: 1.2678 - val_acc: 0.7895 - val_mse: 0.0717\n",
            "Epoch 120/150\n",
            "1/1 [==============================] - 0s 43ms/step - loss: 1.1482 - acc: 0.9554 - mse: 0.0368 - val_loss: 1.2644 - val_acc: 0.7895 - val_mse: 0.0713\n",
            "Epoch 121/150\n",
            "1/1 [==============================] - 0s 49ms/step - loss: 1.1451 - acc: 0.9554 - mse: 0.0365 - val_loss: 1.2610 - val_acc: 0.7895 - val_mse: 0.0710\n",
            "Epoch 122/150\n",
            "1/1 [==============================] - 0s 34ms/step - loss: 1.1420 - acc: 0.9643 - mse: 0.0362 - val_loss: 1.2577 - val_acc: 0.7895 - val_mse: 0.0707\n",
            "Epoch 123/150\n",
            "1/1 [==============================] - 0s 33ms/step - loss: 1.1389 - acc: 0.9643 - mse: 0.0360 - val_loss: 1.2543 - val_acc: 0.7895 - val_mse: 0.0703\n",
            "Epoch 124/150\n",
            "1/1 [==============================] - 0s 31ms/step - loss: 1.1358 - acc: 0.9643 - mse: 0.0357 - val_loss: 1.2510 - val_acc: 0.7895 - val_mse: 0.0700\n",
            "Epoch 125/150\n",
            "1/1 [==============================] - 0s 33ms/step - loss: 1.1328 - acc: 0.9643 - mse: 0.0354 - val_loss: 1.2477 - val_acc: 0.7895 - val_mse: 0.0696\n",
            "Epoch 126/150\n",
            "1/1 [==============================] - 0s 49ms/step - loss: 1.1297 - acc: 0.9643 - mse: 0.0352 - val_loss: 1.2443 - val_acc: 0.7895 - val_mse: 0.0693\n",
            "Epoch 127/150\n",
            "1/1 [==============================] - 0s 31ms/step - loss: 1.1266 - acc: 0.9643 - mse: 0.0349 - val_loss: 1.2409 - val_acc: 0.7895 - val_mse: 0.0689\n",
            "Epoch 128/150\n",
            "1/1 [==============================] - 0s 32ms/step - loss: 1.1236 - acc: 0.9643 - mse: 0.0347 - val_loss: 1.2376 - val_acc: 0.7895 - val_mse: 0.0686\n",
            "Epoch 129/150\n",
            "1/1 [==============================] - 0s 31ms/step - loss: 1.1206 - acc: 0.9643 - mse: 0.0344 - val_loss: 1.2343 - val_acc: 0.7895 - val_mse: 0.0682\n",
            "Epoch 130/150\n",
            "1/1 [==============================] - 0s 38ms/step - loss: 1.1176 - acc: 0.9643 - mse: 0.0342 - val_loss: 1.2310 - val_acc: 0.7895 - val_mse: 0.0679\n",
            "Epoch 131/150\n",
            "1/1 [==============================] - 0s 31ms/step - loss: 1.1146 - acc: 0.9643 - mse: 0.0339 - val_loss: 1.2277 - val_acc: 0.7895 - val_mse: 0.0676\n",
            "Epoch 132/150\n",
            "1/1 [==============================] - 0s 34ms/step - loss: 1.1116 - acc: 0.9643 - mse: 0.0337 - val_loss: 1.2245 - val_acc: 0.7895 - val_mse: 0.0672\n",
            "Epoch 133/150\n",
            "1/1 [==============================] - 0s 29ms/step - loss: 1.1087 - acc: 0.9643 - mse: 0.0334 - val_loss: 1.2213 - val_acc: 0.8421 - val_mse: 0.0669\n",
            "Epoch 134/150\n",
            "1/1 [==============================] - 0s 29ms/step - loss: 1.1057 - acc: 0.9643 - mse: 0.0332 - val_loss: 1.2181 - val_acc: 0.8421 - val_mse: 0.0666\n",
            "Epoch 135/150\n",
            "1/1 [==============================] - 0s 30ms/step - loss: 1.1028 - acc: 0.9643 - mse: 0.0329 - val_loss: 1.2149 - val_acc: 0.8421 - val_mse: 0.0663\n",
            "Epoch 136/150\n",
            "1/1 [==============================] - 0s 33ms/step - loss: 1.0999 - acc: 0.9643 - mse: 0.0327 - val_loss: 1.2118 - val_acc: 0.8421 - val_mse: 0.0660\n",
            "Epoch 137/150\n",
            "1/1 [==============================] - 0s 30ms/step - loss: 1.0970 - acc: 0.9554 - mse: 0.0325 - val_loss: 1.2086 - val_acc: 0.8421 - val_mse: 0.0656\n",
            "Epoch 138/150\n",
            "1/1 [==============================] - 0s 30ms/step - loss: 1.0942 - acc: 0.9554 - mse: 0.0322 - val_loss: 1.2055 - val_acc: 0.8421 - val_mse: 0.0653\n",
            "Epoch 139/150\n",
            "1/1 [==============================] - 0s 32ms/step - loss: 1.0913 - acc: 0.9554 - mse: 0.0320 - val_loss: 1.2024 - val_acc: 0.8421 - val_mse: 0.0650\n",
            "Epoch 140/150\n",
            "1/1 [==============================] - 0s 33ms/step - loss: 1.0885 - acc: 0.9554 - mse: 0.0318 - val_loss: 1.1993 - val_acc: 0.8421 - val_mse: 0.0647\n",
            "Epoch 141/150\n",
            "1/1 [==============================] - 0s 31ms/step - loss: 1.0857 - acc: 0.9554 - mse: 0.0316 - val_loss: 1.1963 - val_acc: 0.8421 - val_mse: 0.0644\n",
            "Epoch 142/150\n",
            "1/1 [==============================] - 0s 43ms/step - loss: 1.0828 - acc: 0.9554 - mse: 0.0314 - val_loss: 1.1933 - val_acc: 0.8421 - val_mse: 0.0641\n",
            "Epoch 143/150\n",
            "1/1 [==============================] - 0s 37ms/step - loss: 1.0800 - acc: 0.9554 - mse: 0.0311 - val_loss: 1.1902 - val_acc: 0.8421 - val_mse: 0.0638\n",
            "Epoch 144/150\n",
            "1/1 [==============================] - 0s 32ms/step - loss: 1.0773 - acc: 0.9554 - mse: 0.0309 - val_loss: 1.1872 - val_acc: 0.8421 - val_mse: 0.0635\n",
            "Epoch 145/150\n",
            "1/1 [==============================] - 0s 29ms/step - loss: 1.0745 - acc: 0.9643 - mse: 0.0307 - val_loss: 1.1842 - val_acc: 0.8421 - val_mse: 0.0632\n",
            "Epoch 146/150\n",
            "1/1 [==============================] - 0s 37ms/step - loss: 1.0717 - acc: 0.9643 - mse: 0.0305 - val_loss: 1.1812 - val_acc: 0.8421 - val_mse: 0.0630\n",
            "Epoch 147/150\n",
            "1/1 [==============================] - 0s 31ms/step - loss: 1.0690 - acc: 0.9643 - mse: 0.0303 - val_loss: 1.1782 - val_acc: 0.8421 - val_mse: 0.0627\n",
            "Epoch 148/150\n",
            "1/1 [==============================] - 0s 31ms/step - loss: 1.0663 - acc: 0.9643 - mse: 0.0301 - val_loss: 1.1753 - val_acc: 0.8421 - val_mse: 0.0624\n",
            "Epoch 149/150\n",
            "1/1 [==============================] - 0s 30ms/step - loss: 1.0636 - acc: 0.9643 - mse: 0.0299 - val_loss: 1.1723 - val_acc: 0.8421 - val_mse: 0.0621\n",
            "Epoch 150/150\n",
            "1/1 [==============================] - 0s 29ms/step - loss: 1.0609 - acc: 0.9643 - mse: 0.0297 - val_loss: 1.1693 - val_acc: 0.8421 - val_mse: 0.0618\n"
          ]
        }
      ],
      "source": [
        "\n",
        "#A commonly used Regularization technique is L1 regularization, also known as Lasso Regularization.\n",
        "\n",
        "#The main concept of L1 Regularization is that we have to penalize our weights by adding absolute values of weight in our loss function, multiplied by a regularization parameter lambda λ, where λ is manually tuned to be greater than 0.\n",
        "\n",
        "\n",
        "\n",
        "#to implement L1 regularization, create another model called model2 similar to model1, this time add an extra parameter kernel_regularizer, which we set it to ‘l1’ for L1 Regularization in the first Dense layer:\n",
        "\n",
        "\n",
        "model2 = Sequential([\n",
        "    Dense(512, activation='tanh', input_shape = X_train[0].shape,kernel_regularizer=tf.keras.regularizers.l1(0.01)),\n",
        "    Dense(512//2, activation='tanh'),\n",
        "    Dense(512//4, activation='tanh'),\n",
        "    Dense(512//8, activation='tanh'),\n",
        "    Dense(32, activation='relu'),\n",
        "    Dense(3, activation='softmax')\n",
        "])\n",
        "print(model2.summary())\n",
        "model2.compile(optimizer='sgd',loss='categorical_crossentropy', metrics=['acc', 'mse'])\n",
        "\n",
        "hist2 = model2.fit(X_train, y_train, epochs=150, batch_size=128, validation_data=(X_test,y_test))"
      ]
    },
    {
      "cell_type": "code",
      "execution_count": 41,
      "metadata": {
        "id": "P2kpeObQ8ImR",
        "colab": {
          "base_uri": "https://localhost:8080/"
        },
        "outputId": "2c82ea9e-e891-499a-8032-ad1875f0d626"
      },
      "outputs": [
        {
          "output_type": "stream",
          "name": "stdout",
          "text": [
            "2/2 [==============================] - 0s 4ms/step - loss: 0.8422 - acc: 0.0000e+00 - mse: 0.0000e+00\n"
          ]
        },
        {
          "output_type": "execute_result",
          "data": {
            "text/plain": [
              "[0.8422146439552307, 0.0, 0.0]"
            ]
          },
          "metadata": {},
          "execution_count": 41
        }
      ],
      "source": [
        "\n",
        "\n",
        "#just how we used evaluate() in the basic model previously, use it again to find the loss, accuracy and MSE on the test set\n",
        "\n",
        "\n",
        "model2.evaluate(X_test)\n"
      ]
    },
    {
      "cell_type": "code",
      "execution_count": 45,
      "metadata": {
        "id": "Ycd2t3Is8ImR",
        "colab": {
          "base_uri": "https://localhost:8080/",
          "height": 299
        },
        "outputId": "5ef39b42-87de-4a9b-d73b-79150a0b843b"
      },
      "outputs": [
        {
          "output_type": "display_data",
          "data": {
            "text/plain": [
              "<Figure size 432x288 with 1 Axes>"
            ],
            "image/png": "[encoded data removed]"
          },
          "metadata": {}
        }
      ],
      "source": [
        "# Plot the train loss vs validation loss and train accuracy vs validation accuracy graphs just like we did before\n",
        "\n",
        "plt.plot(hist2.history['acc'], label = 'train acc')\n",
        "plt.plot(hist2.history['val_acc'], label='val acc')\n",
        "plt.title(\"train acc vs Val_acc\")\n",
        "plt.xlabel(\"Epochs\")\n",
        "plt.ylabel(\"acc\")\n",
        "plt.legend()\n",
        "plt.show()\n",
        "\n",
        "\n",
        " \n"
      ]
    },
    {
      "cell_type": "code",
      "execution_count": 48,
      "metadata": {
        "id": "gVecTrJP8ImS",
        "colab": {
          "base_uri": "https://localhost:8080/"
        },
        "outputId": "4f093410-d52b-4536-ee3a-11c830c6c81a"
      },
      "outputs": [
        {
          "output_type": "stream",
          "name": "stdout",
          "text": [
            "Model: \"sequential_8\"\n",
            "_________________________________________________________________\n",
            " Layer (type)                Output Shape              Param #   \n",
            "=================================================================\n",
            " dense_39 (Dense)            (None, 512)               2560      \n",
            "                                                                 \n",
            " dense_40 (Dense)            (None, 256)               131328    \n",
            "                                                                 \n",
            " dense_41 (Dense)            (None, 128)               32896     \n",
            "                                                                 \n",
            " dense_42 (Dense)            (None, 64)                8256      \n",
            "                                                                 \n",
            " dense_43 (Dense)            (None, 32)                2080      \n",
            "                                                                 \n",
            " dense_44 (Dense)            (None, 3)                 99        \n",
            "                                                                 \n",
            "=================================================================\n",
            "Total params: 177,219\n",
            "Trainable params: 177,219\n",
            "Non-trainable params: 0\n",
            "_________________________________________________________________\n",
            "None\n",
            "Epoch 1/150\n",
            "1/1 [==============================] - 1s 690ms/step - loss: 32.4735 - acc: 0.3571 - mse: 0.2239 - val_loss: 32.4191 - val_acc: 0.3684 - val_mse: 0.2217\n",
            "Epoch 2/150\n",
            "1/1 [==============================] - 0s 29ms/step - loss: 32.3965 - acc: 0.4643 - mse: 0.2168 - val_loss: 32.3461 - val_acc: 0.3947 - val_mse: 0.2153\n",
            "Epoch 3/150\n",
            "1/1 [==============================] - 0s 32ms/step - loss: 32.3219 - acc: 0.4643 - mse: 0.2100 - val_loss: 32.2755 - val_acc: 0.5000 - val_mse: 0.2094\n",
            "Epoch 4/150\n",
            "1/1 [==============================] - 0s 38ms/step - loss: 32.2494 - acc: 0.5268 - mse: 0.2035 - val_loss: 32.2061 - val_acc: 0.7105 - val_mse: 0.2035\n",
            "Epoch 5/150\n",
            "1/1 [==============================] - 0s 47ms/step - loss: 32.1776 - acc: 0.7589 - mse: 0.1971 - val_loss: 32.1380 - val_acc: 0.7368 - val_mse: 0.1979\n",
            "Epoch 6/150\n",
            "1/1 [==============================] - 0s 34ms/step - loss: 32.1067 - acc: 0.8125 - mse: 0.1908 - val_loss: 32.0719 - val_acc: 0.7368 - val_mse: 0.1926\n",
            "Epoch 7/150\n",
            "1/1 [==============================] - 0s 30ms/step - loss: 32.0372 - acc: 0.8125 - mse: 0.1847 - val_loss: 32.0070 - val_acc: 0.7368 - val_mse: 0.1875\n",
            "Epoch 8/150\n",
            "1/1 [==============================] - 0s 26ms/step - loss: 31.9693 - acc: 0.8036 - mse: 0.1789 - val_loss: 31.9436 - val_acc: 0.7368 - val_mse: 0.1828\n",
            "Epoch 9/150\n",
            "1/1 [==============================] - 0s 30ms/step - loss: 31.9030 - acc: 0.8036 - mse: 0.1735 - val_loss: 31.8814 - val_acc: 0.7368 - val_mse: 0.1783\n",
            "Epoch 10/150\n",
            "1/1 [==============================] - 0s 31ms/step - loss: 31.8380 - acc: 0.8214 - mse: 0.1683 - val_loss: 31.8207 - val_acc: 0.7368 - val_mse: 0.1741\n",
            "Epoch 11/150\n",
            "1/1 [==============================] - 0s 30ms/step - loss: 31.7743 - acc: 0.8393 - mse: 0.1634 - val_loss: 31.7609 - val_acc: 0.7368 - val_mse: 0.1702\n",
            "Epoch 12/150\n",
            "1/1 [==============================] - 0s 32ms/step - loss: 31.7119 - acc: 0.8393 - mse: 0.1589 - val_loss: 31.7023 - val_acc: 0.7368 - val_mse: 0.1666\n",
            "Epoch 13/150\n",
            "1/1 [==============================] - 0s 30ms/step - loss: 31.6509 - acc: 0.8393 - mse: 0.1546 - val_loss: 31.6448 - val_acc: 0.7368 - val_mse: 0.1633\n",
            "Epoch 14/150\n",
            "1/1 [==============================] - 0s 33ms/step - loss: 31.5909 - acc: 0.8482 - mse: 0.1507 - val_loss: 31.5881 - val_acc: 0.7368 - val_mse: 0.1601\n",
            "Epoch 15/150\n",
            "1/1 [==============================] - 0s 40ms/step - loss: 31.5318 - acc: 0.8482 - mse: 0.1469 - val_loss: 31.5322 - val_acc: 0.7368 - val_mse: 0.1572\n",
            "Epoch 16/150\n",
            "1/1 [==============================] - 0s 37ms/step - loss: 31.4734 - acc: 0.8482 - mse: 0.1433 - val_loss: 31.4769 - val_acc: 0.7368 - val_mse: 0.1544\n",
            "Epoch 17/150\n",
            "1/1 [==============================] - 0s 30ms/step - loss: 31.4157 - acc: 0.8482 - mse: 0.1400 - val_loss: 31.4222 - val_acc: 0.7368 - val_mse: 0.1518\n",
            "Epoch 18/150\n",
            "1/1 [==============================] - 0s 30ms/step - loss: 31.3587 - acc: 0.8571 - mse: 0.1368 - val_loss: 31.3679 - val_acc: 0.7368 - val_mse: 0.1494\n",
            "Epoch 19/150\n",
            "1/1 [==============================] - 0s 30ms/step - loss: 31.3021 - acc: 0.8571 - mse: 0.1337 - val_loss: 31.3141 - val_acc: 0.7368 - val_mse: 0.1470\n",
            "Epoch 20/150\n",
            "1/1 [==============================] - 0s 36ms/step - loss: 31.2461 - acc: 0.8571 - mse: 0.1308 - val_loss: 31.2609 - val_acc: 0.7368 - val_mse: 0.1449\n",
            "Epoch 21/150\n",
            "1/1 [==============================] - 0s 30ms/step - loss: 31.1907 - acc: 0.8571 - mse: 0.1280 - val_loss: 31.2082 - val_acc: 0.7368 - val_mse: 0.1428\n",
            "Epoch 22/150\n",
            "1/1 [==============================] - 0s 29ms/step - loss: 31.1359 - acc: 0.8571 - mse: 0.1254 - val_loss: 31.1558 - val_acc: 0.7368 - val_mse: 0.1409\n",
            "Epoch 23/150\n",
            "1/1 [==============================] - 0s 31ms/step - loss: 31.0815 - acc: 0.8571 - mse: 0.1229 - val_loss: 31.1038 - val_acc: 0.7368 - val_mse: 0.1390\n",
            "Epoch 24/150\n",
            "1/1 [==============================] - 0s 32ms/step - loss: 31.0275 - acc: 0.8571 - mse: 0.1205 - val_loss: 31.0522 - val_acc: 0.7368 - val_mse: 0.1373\n",
            "Epoch 25/150\n",
            "1/1 [==============================] - 0s 33ms/step - loss: 30.9741 - acc: 0.8571 - mse: 0.1183 - val_loss: 31.0012 - val_acc: 0.7368 - val_mse: 0.1357\n",
            "Epoch 26/150\n",
            "1/1 [==============================] - 0s 33ms/step - loss: 30.9212 - acc: 0.8571 - mse: 0.1162 - val_loss: 30.9505 - val_acc: 0.7368 - val_mse: 0.1342\n",
            "Epoch 27/150\n",
            "1/1 [==============================] - 0s 31ms/step - loss: 30.8688 - acc: 0.8571 - mse: 0.1142 - val_loss: 30.9003 - val_acc: 0.7368 - val_mse: 0.1328\n",
            "Epoch 28/150\n",
            "1/1 [==============================] - 0s 32ms/step - loss: 30.8169 - acc: 0.8571 - mse: 0.1123 - val_loss: 30.8503 - val_acc: 0.7368 - val_mse: 0.1314\n",
            "Epoch 29/150\n",
            "1/1 [==============================] - 0s 32ms/step - loss: 30.7653 - acc: 0.8571 - mse: 0.1105 - val_loss: 30.8007 - val_acc: 0.7368 - val_mse: 0.1301\n",
            "Epoch 30/150\n",
            "1/1 [==============================] - 0s 32ms/step - loss: 30.7142 - acc: 0.8571 - mse: 0.1088 - val_loss: 30.7514 - val_acc: 0.7368 - val_mse: 0.1289\n",
            "Epoch 31/150\n",
            "1/1 [==============================] - 0s 60ms/step - loss: 30.6635 - acc: 0.8571 - mse: 0.1072 - val_loss: 30.7024 - val_acc: 0.7368 - val_mse: 0.1278\n",
            "Epoch 32/150\n",
            "1/1 [==============================] - 0s 33ms/step - loss: 30.6131 - acc: 0.8571 - mse: 0.1057 - val_loss: 30.6536 - val_acc: 0.7368 - val_mse: 0.1267\n",
            "Epoch 33/150\n",
            "1/1 [==============================] - 0s 29ms/step - loss: 30.5630 - acc: 0.8571 - mse: 0.1042 - val_loss: 30.6051 - val_acc: 0.7368 - val_mse: 0.1257\n",
            "Epoch 34/150\n",
            "1/1 [==============================] - 0s 28ms/step - loss: 30.5131 - acc: 0.8571 - mse: 0.1028 - val_loss: 30.5568 - val_acc: 0.7368 - val_mse: 0.1248\n",
            "Epoch 35/150\n",
            "1/1 [==============================] - 0s 30ms/step - loss: 30.4635 - acc: 0.8661 - mse: 0.1015 - val_loss: 30.5088 - val_acc: 0.7368 - val_mse: 0.1238\n",
            "Epoch 36/150\n",
            "1/1 [==============================] - 0s 28ms/step - loss: 30.4143 - acc: 0.8661 - mse: 0.1002 - val_loss: 30.4610 - val_acc: 0.7368 - val_mse: 0.1230\n",
            "Epoch 37/150\n",
            "1/1 [==============================] - 0s 28ms/step - loss: 30.3653 - acc: 0.8661 - mse: 0.0990 - val_loss: 30.4135 - val_acc: 0.7368 - val_mse: 0.1222\n",
            "Epoch 38/150\n",
            "1/1 [==============================] - 0s 28ms/step - loss: 30.3166 - acc: 0.8661 - mse: 0.0979 - val_loss: 30.3661 - val_acc: 0.7368 - val_mse: 0.1214\n",
            "Epoch 39/150\n",
            "1/1 [==============================] - 0s 27ms/step - loss: 30.2682 - acc: 0.8661 - mse: 0.0968 - val_loss: 30.3189 - val_acc: 0.7368 - val_mse: 0.1206\n",
            "Epoch 40/150\n",
            "1/1 [==============================] - 0s 29ms/step - loss: 30.2199 - acc: 0.8661 - mse: 0.0957 - val_loss: 30.2719 - val_acc: 0.7368 - val_mse: 0.1199\n",
            "Epoch 41/150\n",
            "1/1 [==============================] - 0s 33ms/step - loss: 30.1719 - acc: 0.8661 - mse: 0.0947 - val_loss: 30.2250 - val_acc: 0.7368 - val_mse: 0.1192\n",
            "Epoch 42/150\n",
            "1/1 [==============================] - 0s 29ms/step - loss: 30.1241 - acc: 0.8661 - mse: 0.0938 - val_loss: 30.1783 - val_acc: 0.7368 - val_mse: 0.1186\n",
            "Epoch 43/150\n",
            "1/1 [==============================] - 0s 29ms/step - loss: 30.0764 - acc: 0.8661 - mse: 0.0928 - val_loss: 30.1318 - val_acc: 0.7368 - val_mse: 0.1180\n",
            "Epoch 44/150\n",
            "1/1 [==============================] - 0s 28ms/step - loss: 30.0290 - acc: 0.8661 - mse: 0.0919 - val_loss: 30.0855 - val_acc: 0.7368 - val_mse: 0.1174\n",
            "Epoch 45/150\n",
            "1/1 [==============================] - 0s 30ms/step - loss: 29.9817 - acc: 0.8661 - mse: 0.0911 - val_loss: 30.0393 - val_acc: 0.7368 - val_mse: 0.1168\n",
            "Epoch 46/150\n",
            "1/1 [==============================] - 0s 33ms/step - loss: 29.9347 - acc: 0.8661 - mse: 0.0903 - val_loss: 29.9932 - val_acc: 0.7368 - val_mse: 0.1162\n",
            "Epoch 47/150\n",
            "1/1 [==============================] - 0s 28ms/step - loss: 29.8877 - acc: 0.8661 - mse: 0.0894 - val_loss: 29.9472 - val_acc: 0.7368 - val_mse: 0.1157\n",
            "Epoch 48/150\n",
            "1/1 [==============================] - 0s 30ms/step - loss: 29.8409 - acc: 0.8661 - mse: 0.0887 - val_loss: 29.9014 - val_acc: 0.7368 - val_mse: 0.1152\n",
            "Epoch 49/150\n",
            "1/1 [==============================] - 0s 26ms/step - loss: 29.7942 - acc: 0.8661 - mse: 0.0879 - val_loss: 29.8556 - val_acc: 0.7368 - val_mse: 0.1147\n",
            "Epoch 50/150\n",
            "1/1 [==============================] - 0s 27ms/step - loss: 29.7477 - acc: 0.8661 - mse: 0.0872 - val_loss: 29.8099 - val_acc: 0.7368 - val_mse: 0.1142\n",
            "Epoch 51/150\n",
            "1/1 [==============================] - 0s 46ms/step - loss: 29.7013 - acc: 0.8661 - mse: 0.0865 - val_loss: 29.7643 - val_acc: 0.7368 - val_mse: 0.1137\n",
            "Epoch 52/150\n",
            "1/1 [==============================] - 0s 28ms/step - loss: 29.6550 - acc: 0.8661 - mse: 0.0858 - val_loss: 29.7188 - val_acc: 0.7368 - val_mse: 0.1132\n",
            "Epoch 53/150\n",
            "1/1 [==============================] - 0s 30ms/step - loss: 29.6088 - acc: 0.8661 - mse: 0.0851 - val_loss: 29.6734 - val_acc: 0.7368 - val_mse: 0.1128\n",
            "Epoch 54/150\n",
            "1/1 [==============================] - 0s 27ms/step - loss: 29.5627 - acc: 0.8661 - mse: 0.0844 - val_loss: 29.6282 - val_acc: 0.7368 - val_mse: 0.1124\n",
            "Epoch 55/150\n",
            "1/1 [==============================] - 0s 27ms/step - loss: 29.5167 - acc: 0.8661 - mse: 0.0838 - val_loss: 29.5830 - val_acc: 0.7368 - val_mse: 0.1119\n",
            "Epoch 56/150\n",
            "1/1 [==============================] - 0s 30ms/step - loss: 29.4708 - acc: 0.8661 - mse: 0.0831 - val_loss: 29.5379 - val_acc: 0.7368 - val_mse: 0.1115\n",
            "Epoch 57/150\n",
            "1/1 [==============================] - 0s 27ms/step - loss: 29.4250 - acc: 0.8661 - mse: 0.0825 - val_loss: 29.4927 - val_acc: 0.7368 - val_mse: 0.1111\n",
            "Epoch 58/150\n",
            "1/1 [==============================] - 0s 29ms/step - loss: 29.3793 - acc: 0.8661 - mse: 0.0819 - val_loss: 29.4476 - val_acc: 0.7368 - val_mse: 0.1106\n",
            "Epoch 59/150\n",
            "1/1 [==============================] - 0s 27ms/step - loss: 29.3337 - acc: 0.8661 - mse: 0.0813 - val_loss: 29.4026 - val_acc: 0.7368 - val_mse: 0.1102\n",
            "Epoch 60/150\n",
            "1/1 [==============================] - 0s 32ms/step - loss: 29.2881 - acc: 0.8661 - mse: 0.0807 - val_loss: 29.3576 - val_acc: 0.7368 - val_mse: 0.1098\n",
            "Epoch 61/150\n",
            "1/1 [==============================] - 0s 27ms/step - loss: 29.2426 - acc: 0.8661 - mse: 0.0801 - val_loss: 29.3127 - val_acc: 0.7368 - val_mse: 0.1093\n",
            "Epoch 62/150\n",
            "1/1 [==============================] - 0s 30ms/step - loss: 29.1971 - acc: 0.8661 - mse: 0.0795 - val_loss: 29.2678 - val_acc: 0.7368 - val_mse: 0.1089\n",
            "Epoch 63/150\n",
            "1/1 [==============================] - 0s 30ms/step - loss: 29.1518 - acc: 0.8661 - mse: 0.0789 - val_loss: 29.2230 - val_acc: 0.7368 - val_mse: 0.1085\n",
            "Epoch 64/150\n",
            "1/1 [==============================] - 0s 31ms/step - loss: 29.1066 - acc: 0.8661 - mse: 0.0783 - val_loss: 29.1782 - val_acc: 0.7368 - val_mse: 0.1081\n",
            "Epoch 65/150\n",
            "1/1 [==============================] - 0s 28ms/step - loss: 29.0614 - acc: 0.8750 - mse: 0.0778 - val_loss: 29.1336 - val_acc: 0.7368 - val_mse: 0.1077\n",
            "Epoch 66/150\n",
            "1/1 [==============================] - 0s 26ms/step - loss: 29.0165 - acc: 0.8750 - mse: 0.0773 - val_loss: 29.0892 - val_acc: 0.7368 - val_mse: 0.1073\n",
            "Epoch 67/150\n",
            "1/1 [==============================] - 0s 32ms/step - loss: 28.9716 - acc: 0.8750 - mse: 0.0768 - val_loss: 29.0448 - val_acc: 0.7368 - val_mse: 0.1070\n",
            "Epoch 68/150\n",
            "1/1 [==============================] - 0s 28ms/step - loss: 28.9268 - acc: 0.8750 - mse: 0.0763 - val_loss: 29.0004 - val_acc: 0.7632 - val_mse: 0.1066\n",
            "Epoch 69/150\n",
            "1/1 [==============================] - 0s 31ms/step - loss: 28.8822 - acc: 0.8750 - mse: 0.0758 - val_loss: 28.9561 - val_acc: 0.7632 - val_mse: 0.1062\n",
            "Epoch 70/150\n",
            "1/1 [==============================] - 0s 30ms/step - loss: 28.8375 - acc: 0.8750 - mse: 0.0753 - val_loss: 28.9118 - val_acc: 0.7632 - val_mse: 0.1059\n",
            "Epoch 71/150\n",
            "1/1 [==============================] - 0s 33ms/step - loss: 28.7930 - acc: 0.8750 - mse: 0.0748 - val_loss: 28.8677 - val_acc: 0.7632 - val_mse: 0.1055\n",
            "Epoch 72/150\n",
            "1/1 [==============================] - 0s 27ms/step - loss: 28.7486 - acc: 0.8750 - mse: 0.0744 - val_loss: 28.8236 - val_acc: 0.7632 - val_mse: 0.1052\n",
            "Epoch 73/150\n",
            "1/1 [==============================] - 0s 28ms/step - loss: 28.7042 - acc: 0.8750 - mse: 0.0739 - val_loss: 28.7795 - val_acc: 0.7632 - val_mse: 0.1049\n",
            "Epoch 74/150\n",
            "1/1 [==============================] - 0s 28ms/step - loss: 28.6599 - acc: 0.8750 - mse: 0.0735 - val_loss: 28.7355 - val_acc: 0.7632 - val_mse: 0.1045\n",
            "Epoch 75/150\n",
            "1/1 [==============================] - 0s 30ms/step - loss: 28.6157 - acc: 0.8750 - mse: 0.0731 - val_loss: 28.6916 - val_acc: 0.7632 - val_mse: 0.1042\n",
            "Epoch 76/150\n",
            "1/1 [==============================] - 0s 30ms/step - loss: 28.5715 - acc: 0.8750 - mse: 0.0727 - val_loss: 28.6477 - val_acc: 0.7632 - val_mse: 0.1039\n",
            "Epoch 77/150\n",
            "1/1 [==============================] - 0s 31ms/step - loss: 28.5275 - acc: 0.8750 - mse: 0.0722 - val_loss: 28.6039 - val_acc: 0.7632 - val_mse: 0.1035\n",
            "Epoch 78/150\n",
            "1/1 [==============================] - 0s 27ms/step - loss: 28.4834 - acc: 0.8750 - mse: 0.0718 - val_loss: 28.5601 - val_acc: 0.7632 - val_mse: 0.1032\n",
            "Epoch 79/150\n",
            "1/1 [==============================] - 0s 28ms/step - loss: 28.4395 - acc: 0.8750 - mse: 0.0714 - val_loss: 28.5163 - val_acc: 0.7632 - val_mse: 0.1029\n",
            "Epoch 80/150\n",
            "1/1 [==============================] - 0s 29ms/step - loss: 28.3955 - acc: 0.8750 - mse: 0.0710 - val_loss: 28.4726 - val_acc: 0.7632 - val_mse: 0.1026\n",
            "Epoch 81/150\n",
            "1/1 [==============================] - 0s 51ms/step - loss: 28.3517 - acc: 0.8750 - mse: 0.0706 - val_loss: 28.4290 - val_acc: 0.7632 - val_mse: 0.1022\n",
            "Epoch 82/150\n",
            "1/1 [==============================] - 0s 30ms/step - loss: 28.3079 - acc: 0.8750 - mse: 0.0702 - val_loss: 28.3854 - val_acc: 0.7632 - val_mse: 0.1019\n",
            "Epoch 83/150\n",
            "1/1 [==============================] - 0s 28ms/step - loss: 28.2642 - acc: 0.8750 - mse: 0.0698 - val_loss: 28.3420 - val_acc: 0.7632 - val_mse: 0.1016\n",
            "Epoch 84/150\n",
            "1/1 [==============================] - 0s 31ms/step - loss: 28.2205 - acc: 0.8750 - mse: 0.0695 - val_loss: 28.2985 - val_acc: 0.7632 - val_mse: 0.1013\n",
            "Epoch 85/150\n",
            "1/1 [==============================] - 0s 30ms/step - loss: 28.1769 - acc: 0.8750 - mse: 0.0691 - val_loss: 28.2551 - val_acc: 0.7632 - val_mse: 0.1010\n",
            "Epoch 86/150\n",
            "1/1 [==============================] - 0s 28ms/step - loss: 28.1334 - acc: 0.8750 - mse: 0.0687 - val_loss: 28.2118 - val_acc: 0.7632 - val_mse: 0.1007\n",
            "Epoch 87/150\n",
            "1/1 [==============================] - 0s 28ms/step - loss: 28.0899 - acc: 0.8839 - mse: 0.0684 - val_loss: 28.1685 - val_acc: 0.7632 - val_mse: 0.1004\n",
            "Epoch 88/150\n",
            "1/1 [==============================] - 0s 30ms/step - loss: 28.0465 - acc: 0.8839 - mse: 0.0680 - val_loss: 28.1253 - val_acc: 0.7632 - val_mse: 0.1001\n",
            "Epoch 89/150\n",
            "1/1 [==============================] - 0s 32ms/step - loss: 28.0032 - acc: 0.8839 - mse: 0.0677 - val_loss: 28.0822 - val_acc: 0.7632 - val_mse: 0.0998\n",
            "Epoch 90/150\n",
            "1/1 [==============================] - 0s 33ms/step - loss: 27.9598 - acc: 0.8839 - mse: 0.0673 - val_loss: 28.0391 - val_acc: 0.7632 - val_mse: 0.0995\n",
            "Epoch 91/150\n",
            "1/1 [==============================] - 0s 31ms/step - loss: 27.9166 - acc: 0.8929 - mse: 0.0670 - val_loss: 27.9960 - val_acc: 0.7632 - val_mse: 0.0993\n",
            "Epoch 92/150\n",
            "1/1 [==============================] - 0s 29ms/step - loss: 27.8734 - acc: 0.8929 - mse: 0.0666 - val_loss: 27.9530 - val_acc: 0.7632 - val_mse: 0.0990\n",
            "Epoch 93/150\n",
            "1/1 [==============================] - 0s 49ms/step - loss: 27.8303 - acc: 0.8929 - mse: 0.0663 - val_loss: 27.9101 - val_acc: 0.7632 - val_mse: 0.0987\n",
            "Epoch 94/150\n",
            "1/1 [==============================] - 0s 31ms/step - loss: 27.7873 - acc: 0.8929 - mse: 0.0660 - val_loss: 27.8671 - val_acc: 0.7632 - val_mse: 0.0984\n",
            "Epoch 95/150\n",
            "1/1 [==============================] - 0s 29ms/step - loss: 27.7442 - acc: 0.8929 - mse: 0.0656 - val_loss: 27.8243 - val_acc: 0.7632 - val_mse: 0.0981\n",
            "Epoch 96/150\n",
            "1/1 [==============================] - 0s 30ms/step - loss: 27.7013 - acc: 0.8929 - mse: 0.0653 - val_loss: 27.7814 - val_acc: 0.7632 - val_mse: 0.0979\n",
            "Epoch 97/150\n",
            "1/1 [==============================] - 0s 28ms/step - loss: 27.6584 - acc: 0.8929 - mse: 0.0650 - val_loss: 27.7386 - val_acc: 0.7632 - val_mse: 0.0976\n",
            "Epoch 98/150\n",
            "1/1 [==============================] - 0s 29ms/step - loss: 27.6155 - acc: 0.8929 - mse: 0.0647 - val_loss: 27.6958 - val_acc: 0.7632 - val_mse: 0.0973\n",
            "Epoch 99/150\n",
            "1/1 [==============================] - 0s 33ms/step - loss: 27.5727 - acc: 0.8929 - mse: 0.0643 - val_loss: 27.6531 - val_acc: 0.7632 - val_mse: 0.0970\n",
            "Epoch 100/150\n",
            "1/1 [==============================] - 0s 30ms/step - loss: 27.5299 - acc: 0.8929 - mse: 0.0640 - val_loss: 27.6105 - val_acc: 0.7632 - val_mse: 0.0968\n",
            "Epoch 101/150\n",
            "1/1 [==============================] - 0s 32ms/step - loss: 27.4872 - acc: 0.8929 - mse: 0.0637 - val_loss: 27.5679 - val_acc: 0.7632 - val_mse: 0.0965\n",
            "Epoch 102/150\n",
            "1/1 [==============================] - 0s 31ms/step - loss: 27.4446 - acc: 0.8929 - mse: 0.0634 - val_loss: 27.5253 - val_acc: 0.7632 - val_mse: 0.0962\n",
            "Epoch 103/150\n",
            "1/1 [==============================] - 0s 30ms/step - loss: 27.4020 - acc: 0.8929 - mse: 0.0631 - val_loss: 27.4828 - val_acc: 0.7632 - val_mse: 0.0960\n",
            "Epoch 104/150\n",
            "1/1 [==============================] - 0s 30ms/step - loss: 27.3594 - acc: 0.8929 - mse: 0.0628 - val_loss: 27.4403 - val_acc: 0.7632 - val_mse: 0.0957\n",
            "Epoch 105/150\n",
            "1/1 [==============================] - 0s 30ms/step - loss: 27.3169 - acc: 0.8929 - mse: 0.0625 - val_loss: 27.3979 - val_acc: 0.7632 - val_mse: 0.0954\n",
            "Epoch 106/150\n",
            "1/1 [==============================] - 0s 28ms/step - loss: 27.2744 - acc: 0.8929 - mse: 0.0622 - val_loss: 27.3555 - val_acc: 0.7632 - val_mse: 0.0952\n",
            "Epoch 107/150\n",
            "1/1 [==============================] - 0s 28ms/step - loss: 27.2320 - acc: 0.8929 - mse: 0.0619 - val_loss: 27.3132 - val_acc: 0.7632 - val_mse: 0.0949\n",
            "Epoch 108/150\n",
            "1/1 [==============================] - 0s 27ms/step - loss: 27.1897 - acc: 0.8929 - mse: 0.0616 - val_loss: 27.2708 - val_acc: 0.7632 - val_mse: 0.0947\n",
            "Epoch 109/150\n",
            "1/1 [==============================] - 0s 49ms/step - loss: 27.1473 - acc: 0.8929 - mse: 0.0614 - val_loss: 27.2285 - val_acc: 0.7632 - val_mse: 0.0944\n",
            "Epoch 110/150\n",
            "1/1 [==============================] - 0s 27ms/step - loss: 27.1051 - acc: 0.8929 - mse: 0.0611 - val_loss: 27.1864 - val_acc: 0.7632 - val_mse: 0.0941\n",
            "Epoch 111/150\n",
            "1/1 [==============================] - 0s 29ms/step - loss: 27.0629 - acc: 0.9018 - mse: 0.0608 - val_loss: 27.1442 - val_acc: 0.7632 - val_mse: 0.0939\n",
            "Epoch 112/150\n",
            "1/1 [==============================] - 0s 29ms/step - loss: 27.0207 - acc: 0.9018 - mse: 0.0605 - val_loss: 27.1021 - val_acc: 0.7632 - val_mse: 0.0936\n",
            "Epoch 113/150\n",
            "1/1 [==============================] - 0s 31ms/step - loss: 26.9786 - acc: 0.9018 - mse: 0.0603 - val_loss: 27.0601 - val_acc: 0.7632 - val_mse: 0.0934\n",
            "Epoch 114/150\n",
            "1/1 [==============================] - 0s 32ms/step - loss: 26.9365 - acc: 0.9018 - mse: 0.0600 - val_loss: 27.0181 - val_acc: 0.7632 - val_mse: 0.0932\n",
            "Epoch 115/150\n",
            "1/1 [==============================] - 0s 31ms/step - loss: 26.8946 - acc: 0.9018 - mse: 0.0597 - val_loss: 26.9761 - val_acc: 0.7632 - val_mse: 0.0929\n",
            "Epoch 116/150\n",
            "1/1 [==============================] - 0s 31ms/step - loss: 26.8526 - acc: 0.9018 - mse: 0.0595 - val_loss: 26.9342 - val_acc: 0.7632 - val_mse: 0.0927\n",
            "Epoch 117/150\n",
            "1/1 [==============================] - 0s 34ms/step - loss: 26.8107 - acc: 0.9018 - mse: 0.0592 - val_loss: 26.8924 - val_acc: 0.7632 - val_mse: 0.0925\n",
            "Epoch 118/150\n",
            "1/1 [==============================] - 0s 47ms/step - loss: 26.7688 - acc: 0.9018 - mse: 0.0589 - val_loss: 26.8505 - val_acc: 0.7632 - val_mse: 0.0922\n",
            "Epoch 119/150\n",
            "1/1 [==============================] - 0s 38ms/step - loss: 26.7269 - acc: 0.9018 - mse: 0.0587 - val_loss: 26.8088 - val_acc: 0.7632 - val_mse: 0.0920\n",
            "Epoch 120/150\n",
            "1/1 [==============================] - 0s 30ms/step - loss: 26.6852 - acc: 0.9107 - mse: 0.0584 - val_loss: 26.7670 - val_acc: 0.7632 - val_mse: 0.0918\n",
            "Epoch 121/150\n",
            "1/1 [==============================] - 0s 32ms/step - loss: 26.6434 - acc: 0.9107 - mse: 0.0582 - val_loss: 26.7253 - val_acc: 0.7632 - val_mse: 0.0915\n",
            "Epoch 122/150\n",
            "1/1 [==============================] - 0s 33ms/step - loss: 26.6017 - acc: 0.9107 - mse: 0.0579 - val_loss: 26.6837 - val_acc: 0.7632 - val_mse: 0.0913\n",
            "Epoch 123/150\n",
            "1/1 [==============================] - 0s 30ms/step - loss: 26.5601 - acc: 0.9196 - mse: 0.0577 - val_loss: 26.6421 - val_acc: 0.7632 - val_mse: 0.0911\n",
            "Epoch 124/150\n",
            "1/1 [==============================] - 0s 30ms/step - loss: 26.5185 - acc: 0.9196 - mse: 0.0575 - val_loss: 26.6005 - val_acc: 0.7632 - val_mse: 0.0909\n",
            "Epoch 125/150\n",
            "1/1 [==============================] - 0s 34ms/step - loss: 26.4769 - acc: 0.9196 - mse: 0.0572 - val_loss: 26.5590 - val_acc: 0.7632 - val_mse: 0.0906\n",
            "Epoch 126/150\n",
            "1/1 [==============================] - 0s 36ms/step - loss: 26.4354 - acc: 0.9196 - mse: 0.0570 - val_loss: 26.5174 - val_acc: 0.7632 - val_mse: 0.0904\n",
            "Epoch 127/150\n",
            "1/1 [==============================] - 0s 33ms/step - loss: 26.3939 - acc: 0.9196 - mse: 0.0567 - val_loss: 26.4759 - val_acc: 0.7632 - val_mse: 0.0902\n",
            "Epoch 128/150\n",
            "1/1 [==============================] - 0s 34ms/step - loss: 26.3525 - acc: 0.9196 - mse: 0.0565 - val_loss: 26.4345 - val_acc: 0.7895 - val_mse: 0.0899\n",
            "Epoch 129/150\n",
            "1/1 [==============================] - 0s 35ms/step - loss: 26.3111 - acc: 0.9196 - mse: 0.0563 - val_loss: 26.3931 - val_acc: 0.7895 - val_mse: 0.0897\n",
            "Epoch 130/150\n",
            "1/1 [==============================] - 0s 35ms/step - loss: 26.2697 - acc: 0.9196 - mse: 0.0561 - val_loss: 26.3517 - val_acc: 0.7895 - val_mse: 0.0895\n",
            "Epoch 131/150\n",
            "1/1 [==============================] - 0s 35ms/step - loss: 26.2284 - acc: 0.9196 - mse: 0.0558 - val_loss: 26.3104 - val_acc: 0.7895 - val_mse: 0.0893\n",
            "Epoch 132/150\n",
            "1/1 [==============================] - 0s 42ms/step - loss: 26.1872 - acc: 0.9196 - mse: 0.0556 - val_loss: 26.2691 - val_acc: 0.7895 - val_mse: 0.0890\n",
            "Epoch 133/150\n",
            "1/1 [==============================] - 0s 35ms/step - loss: 26.1460 - acc: 0.9196 - mse: 0.0554 - val_loss: 26.2279 - val_acc: 0.7895 - val_mse: 0.0888\n",
            "Epoch 134/150\n",
            "1/1 [==============================] - 0s 32ms/step - loss: 26.1048 - acc: 0.9196 - mse: 0.0552 - val_loss: 26.1867 - val_acc: 0.7895 - val_mse: 0.0886\n",
            "Epoch 135/150\n",
            "1/1 [==============================] - 0s 36ms/step - loss: 26.0637 - acc: 0.9196 - mse: 0.0549 - val_loss: 26.1455 - val_acc: 0.7895 - val_mse: 0.0884\n",
            "Epoch 136/150\n",
            "1/1 [==============================] - 0s 37ms/step - loss: 26.0226 - acc: 0.9286 - mse: 0.0547 - val_loss: 26.1043 - val_acc: 0.7895 - val_mse: 0.0881\n",
            "Epoch 137/150\n",
            "1/1 [==============================] - 0s 32ms/step - loss: 25.9815 - acc: 0.9286 - mse: 0.0545 - val_loss: 26.0632 - val_acc: 0.7895 - val_mse: 0.0879\n",
            "Epoch 138/150\n",
            "1/1 [==============================] - 0s 38ms/step - loss: 25.9405 - acc: 0.9286 - mse: 0.0543 - val_loss: 26.0220 - val_acc: 0.7895 - val_mse: 0.0877\n",
            "Epoch 139/150\n",
            "1/1 [==============================] - 0s 35ms/step - loss: 25.8995 - acc: 0.9286 - mse: 0.0541 - val_loss: 25.9810 - val_acc: 0.7895 - val_mse: 0.0874\n",
            "Epoch 140/150\n",
            "1/1 [==============================] - 0s 36ms/step - loss: 25.8586 - acc: 0.9286 - mse: 0.0538 - val_loss: 25.9400 - val_acc: 0.7895 - val_mse: 0.0872\n",
            "Epoch 141/150\n",
            "1/1 [==============================] - 0s 36ms/step - loss: 25.8177 - acc: 0.9286 - mse: 0.0536 - val_loss: 25.8990 - val_acc: 0.7895 - val_mse: 0.0870\n",
            "Epoch 142/150\n",
            "1/1 [==============================] - 0s 35ms/step - loss: 25.7769 - acc: 0.9286 - mse: 0.0534 - val_loss: 25.8581 - val_acc: 0.7895 - val_mse: 0.0867\n",
            "Epoch 143/150\n",
            "1/1 [==============================] - 0s 32ms/step - loss: 25.7360 - acc: 0.9286 - mse: 0.0532 - val_loss: 25.8172 - val_acc: 0.7895 - val_mse: 0.0865\n",
            "Epoch 144/150\n",
            "1/1 [==============================] - 0s 39ms/step - loss: 25.6953 - acc: 0.9286 - mse: 0.0530 - val_loss: 25.7764 - val_acc: 0.7895 - val_mse: 0.0863\n",
            "Epoch 145/150\n",
            "1/1 [==============================] - 0s 34ms/step - loss: 25.6546 - acc: 0.9286 - mse: 0.0528 - val_loss: 25.7356 - val_acc: 0.7895 - val_mse: 0.0861\n",
            "Epoch 146/150\n",
            "1/1 [==============================] - 0s 31ms/step - loss: 25.6140 - acc: 0.9286 - mse: 0.0526 - val_loss: 25.6948 - val_acc: 0.7895 - val_mse: 0.0859\n",
            "Epoch 147/150\n",
            "1/1 [==============================] - 0s 36ms/step - loss: 25.5734 - acc: 0.9286 - mse: 0.0524 - val_loss: 25.6541 - val_acc: 0.7895 - val_mse: 0.0856\n",
            "Epoch 148/150\n",
            "1/1 [==============================] - 0s 34ms/step - loss: 25.5328 - acc: 0.9286 - mse: 0.0522 - val_loss: 25.6135 - val_acc: 0.7895 - val_mse: 0.0854\n",
            "Epoch 149/150\n",
            "1/1 [==============================] - 0s 34ms/step - loss: 25.4923 - acc: 0.9286 - mse: 0.0520 - val_loss: 25.5728 - val_acc: 0.7895 - val_mse: 0.0852\n",
            "Epoch 150/150\n",
            "1/1 [==============================] - 0s 35ms/step - loss: 25.4517 - acc: 0.9286 - mse: 0.0518 - val_loss: 25.5323 - val_acc: 0.7895 - val_mse: 0.0850\n"
          ]
        }
      ],
      "source": [
        "\n",
        "# create a new model model3, similar to model1 and model2 and add l1 in more layers to check if it improves the model or not.\n",
        "\n",
        "model3 = Sequential([\n",
        "    Dense(512, activation='tanh', input_shape = X_train[0].shape,kernel_regularizer=tf.keras.regularizers.l1(0.01)),\n",
        "    Dense(512//2, activation='tanh'),\n",
        "    Dense(512//4, activation='tanh',kernel_regularizer=tf.keras.regularizers.l1(0.01)),\n",
        "    Dense(512//8, activation='tanh',kernel_regularizer=tf.keras.regularizers.l1(0.01)),\n",
        "    Dense(32, activation='relu',kernel_regularizer=tf.keras.regularizers.l1(0.01)),\n",
        "    Dense(3, activation='softmax')\n",
        "])\n",
        "print(model3.summary())\n",
        "model3.compile(optimizer='sgd',loss='categorical_crossentropy', metrics=['acc', 'mse'])\n",
        "\n",
        "hist3 = model3.fit(X_train, y_train, epochs=150, batch_size=128, validation_data=(X_test,y_test))\n"
      ]
    },
    {
      "cell_type": "code",
      "execution_count": 49,
      "metadata": {
        "id": "GzflZKD58ImS",
        "colab": {
          "base_uri": "https://localhost:8080/"
        },
        "outputId": "5ba5ddf1-7180-4176-ef39-c802179b28bd"
      },
      "outputs": [
        {
          "output_type": "stream",
          "name": "stdout",
          "text": [
            "2/2 [==============================] - 0s 6ms/step - loss: 25.0985 - acc: 0.0000e+00 - mse: 0.0000e+00\n"
          ]
        },
        {
          "output_type": "execute_result",
          "data": {
            "text/plain": [
              "[25.098453521728516, 0.0, 0.0]"
            ]
          },
          "metadata": {},
          "execution_count": 49
        }
      ],
      "source": [
        "model3.evaluate(X_test)\n",
        "#just how we used evaluate() in the basic model previously, use it again to find the loss, accuracy and MSE on the test set\n",
        "\n",
        "\n",
        " \n"
      ]
    },
    {
      "cell_type": "code",
      "execution_count": 50,
      "metadata": {
        "id": "DUaa5trJ8ImS",
        "colab": {
          "base_uri": "https://localhost:8080/",
          "height": 299
        },
        "outputId": "d887cf90-02de-4eac-bac9-917c6f3b4c1c"
      },
      "outputs": [
        {
          "output_type": "display_data",
          "data": {
            "text/plain": [
              "<Figure size 432x288 with 1 Axes>"
            ],
            "image/png": "[encoded data removed]"
          },
          "metadata": {}
        }
      ],
      "source": [
        "# Plot the train loss vs validation loss and train accuracy vs validation accuracy graphs just like we did before\n",
        "plt.plot(hist3.history['acc'], label = 'train acc')\n",
        "plt.plot(hist3.history['val_acc'], label='val acc')\n",
        "plt.title(\"train acc vs Val_acc\")\n",
        "plt.xlabel(\"Epochs\")\n",
        "plt.ylabel(\"acc\")\n",
        "plt.legend()\n",
        "plt.show()\n"
      ]
    },
    {
      "cell_type": "markdown",
      "metadata": {
        "id": "U5bAZ03S8ImS"
      },
      "source": [
        "\n",
        "## L2 Regularization\n"
      ]
    },
    {
      "cell_type": "code",
      "execution_count": 52,
      "metadata": {
        "id": "GBKAjqMm8ImS",
        "colab": {
          "base_uri": "https://localhost:8080/"
        },
        "outputId": "b4d9d7bb-21fb-420b-d8d8-73b3b9a1ea35"
      },
      "outputs": [
        {
          "output_type": "stream",
          "name": "stdout",
          "text": [
            "Model: \"sequential_9\"\n",
            "_________________________________________________________________\n",
            " Layer (type)                Output Shape              Param #   \n",
            "=================================================================\n",
            " dense_45 (Dense)            (None, 512)               2560      \n",
            "                                                                 \n",
            " dense_46 (Dense)            (None, 256)               131328    \n",
            "                                                                 \n",
            " dense_47 (Dense)            (None, 128)               32896     \n",
            "                                                                 \n",
            " dense_48 (Dense)            (None, 64)                8256      \n",
            "                                                                 \n",
            " dense_49 (Dense)            (None, 32)                2080      \n",
            "                                                                 \n",
            " dense_50 (Dense)            (None, 3)                 99        \n",
            "                                                                 \n",
            "=================================================================\n",
            "Total params: 177,219\n",
            "Trainable params: 177,219\n",
            "Non-trainable params: 0\n",
            "_________________________________________________________________\n",
            "None\n",
            "Epoch 1/150\n",
            "1/1 [==============================] - 1s 608ms/step - loss: 1.2843 - acc: 0.1071 - mse: 0.2466 - val_loss: 1.2201 - val_acc: 0.1316 - val_mse: 0.2323\n",
            "Epoch 2/150\n",
            "1/1 [==============================] - 0s 49ms/step - loss: 1.2227 - acc: 0.1339 - mse: 0.2332 - val_loss: 1.1787 - val_acc: 0.3421 - val_mse: 0.2228\n",
            "Epoch 3/150\n",
            "1/1 [==============================] - 0s 39ms/step - loss: 1.1746 - acc: 0.3839 - mse: 0.2222 - val_loss: 1.1429 - val_acc: 0.5263 - val_mse: 0.2143\n",
            "Epoch 4/150\n",
            "1/1 [==============================] - 0s 32ms/step - loss: 1.1336 - acc: 0.5000 - mse: 0.2127 - val_loss: 1.1104 - val_acc: 0.5263 - val_mse: 0.2066\n",
            "Epoch 5/150\n",
            "1/1 [==============================] - 0s 30ms/step - loss: 1.0976 - acc: 0.5179 - mse: 0.2042 - val_loss: 1.0810 - val_acc: 0.5263 - val_mse: 0.1995\n",
            "Epoch 6/150\n",
            "1/1 [==============================] - 0s 31ms/step - loss: 1.0662 - acc: 0.5268 - mse: 0.1966 - val_loss: 1.0550 - val_acc: 0.6053 - val_mse: 0.1932\n",
            "Epoch 7/150\n",
            "1/1 [==============================] - 0s 29ms/step - loss: 1.0386 - acc: 0.6607 - mse: 0.1900 - val_loss: 1.0311 - val_acc: 0.6842 - val_mse: 0.1874\n",
            "Epoch 8/150\n",
            "1/1 [==============================] - 0s 44ms/step - loss: 1.0131 - acc: 0.8571 - mse: 0.1838 - val_loss: 1.0087 - val_acc: 0.7368 - val_mse: 0.1820\n",
            "Epoch 9/150\n",
            "1/1 [==============================] - 0s 29ms/step - loss: 0.9894 - acc: 0.8750 - mse: 0.1780 - val_loss: 0.9878 - val_acc: 0.7632 - val_mse: 0.1769\n",
            "Epoch 10/150\n",
            "1/1 [==============================] - 0s 30ms/step - loss: 0.9669 - acc: 0.8750 - mse: 0.1726 - val_loss: 0.9683 - val_acc: 0.7632 - val_mse: 0.1722\n",
            "Epoch 11/150\n",
            "1/1 [==============================] - 0s 30ms/step - loss: 0.9464 - acc: 0.8750 - mse: 0.1676 - val_loss: 0.9505 - val_acc: 0.7632 - val_mse: 0.1679\n",
            "Epoch 12/150\n",
            "1/1 [==============================] - 0s 33ms/step - loss: 0.9274 - acc: 0.8929 - mse: 0.1630 - val_loss: 0.9337 - val_acc: 0.7632 - val_mse: 0.1639\n",
            "Epoch 13/150\n",
            "1/1 [==============================] - 0s 50ms/step - loss: 0.9093 - acc: 0.8929 - mse: 0.1586 - val_loss: 0.9178 - val_acc: 0.7632 - val_mse: 0.1601\n",
            "Epoch 14/150\n",
            "1/1 [==============================] - 0s 31ms/step - loss: 0.8920 - acc: 0.8929 - mse: 0.1545 - val_loss: 0.9025 - val_acc: 0.7632 - val_mse: 0.1565\n",
            "Epoch 15/150\n",
            "1/1 [==============================] - 0s 30ms/step - loss: 0.8751 - acc: 0.8929 - mse: 0.1504 - val_loss: 0.8875 - val_acc: 0.7632 - val_mse: 0.1530\n",
            "Epoch 16/150\n",
            "1/1 [==============================] - 0s 33ms/step - loss: 0.8585 - acc: 0.8929 - mse: 0.1465 - val_loss: 0.8732 - val_acc: 0.7632 - val_mse: 0.1497\n",
            "Epoch 17/150\n",
            "1/1 [==============================] - 0s 33ms/step - loss: 0.8428 - acc: 0.8929 - mse: 0.1428 - val_loss: 0.8599 - val_acc: 0.7632 - val_mse: 0.1466\n",
            "Epoch 18/150\n",
            "1/1 [==============================] - 0s 29ms/step - loss: 0.8278 - acc: 0.8929 - mse: 0.1393 - val_loss: 0.8474 - val_acc: 0.7632 - val_mse: 0.1438\n",
            "Epoch 19/150\n",
            "1/1 [==============================] - 0s 33ms/step - loss: 0.8135 - acc: 0.8929 - mse: 0.1359 - val_loss: 0.8357 - val_acc: 0.7632 - val_mse: 0.1411\n",
            "Epoch 20/150\n",
            "1/1 [==============================] - 0s 34ms/step - loss: 0.7999 - acc: 0.8929 - mse: 0.1328 - val_loss: 0.8245 - val_acc: 0.7632 - val_mse: 0.1387\n",
            "Epoch 21/150\n",
            "1/1 [==============================] - 0s 31ms/step - loss: 0.7868 - acc: 0.8929 - mse: 0.1297 - val_loss: 0.8140 - val_acc: 0.7632 - val_mse: 0.1363\n",
            "Epoch 22/150\n",
            "1/1 [==============================] - 0s 29ms/step - loss: 0.7744 - acc: 0.8929 - mse: 0.1269 - val_loss: 0.8040 - val_acc: 0.7632 - val_mse: 0.1342\n",
            "Epoch 23/150\n",
            "1/1 [==============================] - 0s 33ms/step - loss: 0.7626 - acc: 0.9018 - mse: 0.1242 - val_loss: 0.7946 - val_acc: 0.7632 - val_mse: 0.1321\n",
            "Epoch 24/150\n",
            "1/1 [==============================] - 0s 29ms/step - loss: 0.7513 - acc: 0.9018 - mse: 0.1217 - val_loss: 0.7857 - val_acc: 0.7632 - val_mse: 0.1302\n",
            "Epoch 25/150\n",
            "1/1 [==============================] - 0s 31ms/step - loss: 0.7405 - acc: 0.9018 - mse: 0.1192 - val_loss: 0.7772 - val_acc: 0.7632 - val_mse: 0.1284\n",
            "Epoch 26/150\n",
            "1/1 [==============================] - 0s 33ms/step - loss: 0.7301 - acc: 0.9018 - mse: 0.1169 - val_loss: 0.7691 - val_acc: 0.7632 - val_mse: 0.1267\n",
            "Epoch 27/150\n",
            "1/1 [==============================] - 0s 30ms/step - loss: 0.7200 - acc: 0.9018 - mse: 0.1147 - val_loss: 0.7614 - val_acc: 0.7632 - val_mse: 0.1251\n",
            "Epoch 28/150\n",
            "1/1 [==============================] - 0s 31ms/step - loss: 0.7104 - acc: 0.9018 - mse: 0.1126 - val_loss: 0.7539 - val_acc: 0.7632 - val_mse: 0.1236\n",
            "Epoch 29/150\n",
            "1/1 [==============================] - 0s 47ms/step - loss: 0.7010 - acc: 0.9018 - mse: 0.1105 - val_loss: 0.7468 - val_acc: 0.7632 - val_mse: 0.1222\n",
            "Epoch 30/150\n",
            "1/1 [==============================] - 0s 32ms/step - loss: 0.6919 - acc: 0.9018 - mse: 0.1085 - val_loss: 0.7399 - val_acc: 0.7632 - val_mse: 0.1208\n",
            "Epoch 31/150\n",
            "1/1 [==============================] - 0s 29ms/step - loss: 0.6830 - acc: 0.9018 - mse: 0.1066 - val_loss: 0.7332 - val_acc: 0.7632 - val_mse: 0.1195\n",
            "Epoch 32/150\n",
            "1/1 [==============================] - 0s 32ms/step - loss: 0.6744 - acc: 0.9018 - mse: 0.1047 - val_loss: 0.7268 - val_acc: 0.7632 - val_mse: 0.1182\n",
            "Epoch 33/150\n",
            "1/1 [==============================] - 0s 30ms/step - loss: 0.6660 - acc: 0.9018 - mse: 0.1029 - val_loss: 0.7205 - val_acc: 0.7632 - val_mse: 0.1170\n",
            "Epoch 34/150\n",
            "1/1 [==============================] - 0s 37ms/step - loss: 0.6579 - acc: 0.9018 - mse: 0.1012 - val_loss: 0.7145 - val_acc: 0.7632 - val_mse: 0.1158\n",
            "Epoch 35/150\n",
            "1/1 [==============================] - 0s 28ms/step - loss: 0.6499 - acc: 0.9018 - mse: 0.0995 - val_loss: 0.7087 - val_acc: 0.7632 - val_mse: 0.1147\n",
            "Epoch 36/150\n",
            "1/1 [==============================] - 0s 30ms/step - loss: 0.6421 - acc: 0.9018 - mse: 0.0978 - val_loss: 0.7030 - val_acc: 0.7632 - val_mse: 0.1136\n",
            "Epoch 37/150\n",
            "1/1 [==============================] - 0s 28ms/step - loss: 0.6344 - acc: 0.9018 - mse: 0.0962 - val_loss: 0.6975 - val_acc: 0.7632 - val_mse: 0.1126\n",
            "Epoch 38/150\n",
            "1/1 [==============================] - 0s 28ms/step - loss: 0.6269 - acc: 0.9018 - mse: 0.0946 - val_loss: 0.6921 - val_acc: 0.7632 - val_mse: 0.1116\n",
            "Epoch 39/150\n",
            "1/1 [==============================] - 0s 30ms/step - loss: 0.6195 - acc: 0.9018 - mse: 0.0931 - val_loss: 0.6870 - val_acc: 0.7632 - val_mse: 0.1106\n",
            "Epoch 40/150\n",
            "1/1 [==============================] - 0s 29ms/step - loss: 0.6123 - acc: 0.9018 - mse: 0.0915 - val_loss: 0.6819 - val_acc: 0.7632 - val_mse: 0.1097\n",
            "Epoch 41/150\n",
            "1/1 [==============================] - 0s 32ms/step - loss: 0.6052 - acc: 0.9018 - mse: 0.0901 - val_loss: 0.6770 - val_acc: 0.7632 - val_mse: 0.1088\n",
            "Epoch 42/150\n",
            "1/1 [==============================] - 0s 31ms/step - loss: 0.5983 - acc: 0.9018 - mse: 0.0886 - val_loss: 0.6722 - val_acc: 0.7632 - val_mse: 0.1080\n",
            "Epoch 43/150\n",
            "1/1 [==============================] - 0s 31ms/step - loss: 0.5916 - acc: 0.9018 - mse: 0.0872 - val_loss: 0.6674 - val_acc: 0.7632 - val_mse: 0.1071\n",
            "Epoch 44/150\n",
            "1/1 [==============================] - 0s 31ms/step - loss: 0.5850 - acc: 0.9018 - mse: 0.0859 - val_loss: 0.6628 - val_acc: 0.7632 - val_mse: 0.1063\n",
            "Epoch 45/150\n",
            "1/1 [==============================] - 0s 42ms/step - loss: 0.5787 - acc: 0.9018 - mse: 0.0846 - val_loss: 0.6583 - val_acc: 0.7632 - val_mse: 0.1056\n",
            "Epoch 46/150\n",
            "1/1 [==============================] - 0s 31ms/step - loss: 0.5725 - acc: 0.9018 - mse: 0.0834 - val_loss: 0.6539 - val_acc: 0.7632 - val_mse: 0.1048\n",
            "Epoch 47/150\n",
            "1/1 [==============================] - 0s 29ms/step - loss: 0.5665 - acc: 0.9018 - mse: 0.0822 - val_loss: 0.6496 - val_acc: 0.7632 - val_mse: 0.1041\n",
            "Epoch 48/150\n",
            "1/1 [==============================] - 0s 35ms/step - loss: 0.5607 - acc: 0.9018 - mse: 0.0810 - val_loss: 0.6454 - val_acc: 0.7632 - val_mse: 0.1034\n",
            "Epoch 49/150\n",
            "1/1 [==============================] - 0s 31ms/step - loss: 0.5550 - acc: 0.9018 - mse: 0.0799 - val_loss: 0.6413 - val_acc: 0.7632 - val_mse: 0.1027\n",
            "Epoch 50/150\n",
            "1/1 [==============================] - 0s 29ms/step - loss: 0.5494 - acc: 0.9018 - mse: 0.0788 - val_loss: 0.6372 - val_acc: 0.7632 - val_mse: 0.1020\n",
            "Epoch 51/150\n",
            "1/1 [==============================] - 0s 30ms/step - loss: 0.5439 - acc: 0.9018 - mse: 0.0777 - val_loss: 0.6332 - val_acc: 0.7632 - val_mse: 0.1014\n",
            "Epoch 52/150\n",
            "1/1 [==============================] - 0s 30ms/step - loss: 0.5387 - acc: 0.9018 - mse: 0.0766 - val_loss: 0.6294 - val_acc: 0.7632 - val_mse: 0.1007\n",
            "Epoch 53/150\n",
            "1/1 [==============================] - 0s 36ms/step - loss: 0.5335 - acc: 0.9107 - mse: 0.0756 - val_loss: 0.6257 - val_acc: 0.7632 - val_mse: 0.1002\n",
            "Epoch 54/150\n",
            "1/1 [==============================] - 0s 31ms/step - loss: 0.5285 - acc: 0.9107 - mse: 0.0747 - val_loss: 0.6220 - val_acc: 0.7632 - val_mse: 0.0996\n",
            "Epoch 55/150\n",
            "1/1 [==============================] - 0s 33ms/step - loss: 0.5236 - acc: 0.9107 - mse: 0.0737 - val_loss: 0.6184 - val_acc: 0.7895 - val_mse: 0.0990\n",
            "Epoch 56/150\n",
            "1/1 [==============================] - 0s 34ms/step - loss: 0.5188 - acc: 0.9107 - mse: 0.0728 - val_loss: 0.6148 - val_acc: 0.7895 - val_mse: 0.0985\n",
            "Epoch 57/150\n",
            "1/1 [==============================] - 0s 33ms/step - loss: 0.5140 - acc: 0.9107 - mse: 0.0719 - val_loss: 0.6112 - val_acc: 0.7895 - val_mse: 0.0979\n",
            "Epoch 58/150\n",
            "1/1 [==============================] - 0s 31ms/step - loss: 0.5094 - acc: 0.9107 - mse: 0.0710 - val_loss: 0.6077 - val_acc: 0.7895 - val_mse: 0.0973\n",
            "Epoch 59/150\n",
            "1/1 [==============================] - 0s 30ms/step - loss: 0.5048 - acc: 0.9107 - mse: 0.0702 - val_loss: 0.6042 - val_acc: 0.7895 - val_mse: 0.0968\n",
            "Epoch 60/150\n",
            "1/1 [==============================] - 0s 30ms/step - loss: 0.5004 - acc: 0.9107 - mse: 0.0693 - val_loss: 0.6009 - val_acc: 0.7895 - val_mse: 0.0963\n",
            "Epoch 61/150\n",
            "1/1 [==============================] - 0s 33ms/step - loss: 0.4961 - acc: 0.9107 - mse: 0.0685 - val_loss: 0.5975 - val_acc: 0.7895 - val_mse: 0.0958\n",
            "Epoch 62/150\n",
            "1/1 [==============================] - 0s 31ms/step - loss: 0.4918 - acc: 0.9107 - mse: 0.0677 - val_loss: 0.5943 - val_acc: 0.7895 - val_mse: 0.0953\n",
            "Epoch 63/150\n",
            "1/1 [==============================] - 0s 30ms/step - loss: 0.4876 - acc: 0.9196 - mse: 0.0669 - val_loss: 0.5910 - val_acc: 0.7895 - val_mse: 0.0948\n",
            "Epoch 64/150\n",
            "1/1 [==============================] - 0s 34ms/step - loss: 0.4835 - acc: 0.9196 - mse: 0.0662 - val_loss: 0.5878 - val_acc: 0.7895 - val_mse: 0.0943\n",
            "Epoch 65/150\n",
            "1/1 [==============================] - 0s 36ms/step - loss: 0.4795 - acc: 0.9196 - mse: 0.0654 - val_loss: 0.5848 - val_acc: 0.7895 - val_mse: 0.0938\n",
            "Epoch 66/150\n",
            "1/1 [==============================] - 0s 31ms/step - loss: 0.4756 - acc: 0.9196 - mse: 0.0647 - val_loss: 0.5817 - val_acc: 0.7895 - val_mse: 0.0934\n",
            "Epoch 67/150\n",
            "1/1 [==============================] - 0s 32ms/step - loss: 0.4717 - acc: 0.9196 - mse: 0.0640 - val_loss: 0.5787 - val_acc: 0.7895 - val_mse: 0.0929\n",
            "Epoch 68/150\n",
            "1/1 [==============================] - 0s 31ms/step - loss: 0.4679 - acc: 0.9196 - mse: 0.0633 - val_loss: 0.5758 - val_acc: 0.7895 - val_mse: 0.0925\n",
            "Epoch 69/150\n",
            "1/1 [==============================] - 0s 48ms/step - loss: 0.4642 - acc: 0.9196 - mse: 0.0626 - val_loss: 0.5728 - val_acc: 0.7895 - val_mse: 0.0921\n",
            "Epoch 70/150\n",
            "1/1 [==============================] - 0s 32ms/step - loss: 0.4605 - acc: 0.9286 - mse: 0.0619 - val_loss: 0.5700 - val_acc: 0.7895 - val_mse: 0.0917\n",
            "Epoch 71/150\n",
            "1/1 [==============================] - 0s 31ms/step - loss: 0.4569 - acc: 0.9286 - mse: 0.0613 - val_loss: 0.5672 - val_acc: 0.7895 - val_mse: 0.0913\n",
            "Epoch 72/150\n",
            "1/1 [==============================] - 0s 54ms/step - loss: 0.4534 - acc: 0.9286 - mse: 0.0606 - val_loss: 0.5644 - val_acc: 0.7895 - val_mse: 0.0908\n",
            "Epoch 73/150\n",
            "1/1 [==============================] - 0s 31ms/step - loss: 0.4499 - acc: 0.9286 - mse: 0.0600 - val_loss: 0.5616 - val_acc: 0.7895 - val_mse: 0.0905\n",
            "Epoch 74/150\n",
            "1/1 [==============================] - 0s 29ms/step - loss: 0.4465 - acc: 0.9286 - mse: 0.0594 - val_loss: 0.5589 - val_acc: 0.7895 - val_mse: 0.0901\n",
            "Epoch 75/150\n",
            "1/1 [==============================] - 0s 30ms/step - loss: 0.4432 - acc: 0.9286 - mse: 0.0588 - val_loss: 0.5562 - val_acc: 0.7895 - val_mse: 0.0897\n",
            "Epoch 76/150\n",
            "1/1 [==============================] - 0s 31ms/step - loss: 0.4399 - acc: 0.9286 - mse: 0.0582 - val_loss: 0.5536 - val_acc: 0.7895 - val_mse: 0.0893\n",
            "Epoch 77/150\n",
            "1/1 [==============================] - 0s 35ms/step - loss: 0.4367 - acc: 0.9286 - mse: 0.0576 - val_loss: 0.5509 - val_acc: 0.7632 - val_mse: 0.0889\n",
            "Epoch 78/150\n",
            "1/1 [==============================] - 0s 32ms/step - loss: 0.4335 - acc: 0.9286 - mse: 0.0571 - val_loss: 0.5482 - val_acc: 0.7632 - val_mse: 0.0885\n",
            "Epoch 79/150\n",
            "1/1 [==============================] - 0s 36ms/step - loss: 0.4304 - acc: 0.9286 - mse: 0.0565 - val_loss: 0.5457 - val_acc: 0.7632 - val_mse: 0.0881\n",
            "Epoch 80/150\n",
            "1/1 [==============================] - 0s 31ms/step - loss: 0.4273 - acc: 0.9286 - mse: 0.0560 - val_loss: 0.5431 - val_acc: 0.7632 - val_mse: 0.0878\n",
            "Epoch 81/150\n",
            "1/1 [==============================] - 0s 31ms/step - loss: 0.4243 - acc: 0.9286 - mse: 0.0554 - val_loss: 0.5406 - val_acc: 0.7632 - val_mse: 0.0874\n",
            "Epoch 82/150\n",
            "1/1 [==============================] - 0s 31ms/step - loss: 0.4213 - acc: 0.9286 - mse: 0.0549 - val_loss: 0.5382 - val_acc: 0.7632 - val_mse: 0.0870\n",
            "Epoch 83/150\n",
            "1/1 [==============================] - 0s 34ms/step - loss: 0.4184 - acc: 0.9286 - mse: 0.0544 - val_loss: 0.5357 - val_acc: 0.7632 - val_mse: 0.0867\n",
            "Epoch 84/150\n",
            "1/1 [==============================] - 0s 33ms/step - loss: 0.4155 - acc: 0.9286 - mse: 0.0539 - val_loss: 0.5333 - val_acc: 0.7632 - val_mse: 0.0863\n",
            "Epoch 85/150\n",
            "1/1 [==============================] - 0s 34ms/step - loss: 0.4127 - acc: 0.9286 - mse: 0.0534 - val_loss: 0.5309 - val_acc: 0.7632 - val_mse: 0.0860\n",
            "Epoch 86/150\n",
            "1/1 [==============================] - 0s 34ms/step - loss: 0.4099 - acc: 0.9286 - mse: 0.0529 - val_loss: 0.5286 - val_acc: 0.7632 - val_mse: 0.0857\n",
            "Epoch 87/150\n",
            "1/1 [==============================] - 0s 32ms/step - loss: 0.4072 - acc: 0.9286 - mse: 0.0524 - val_loss: 0.5262 - val_acc: 0.7632 - val_mse: 0.0853\n",
            "Epoch 88/150\n",
            "1/1 [==============================] - 0s 32ms/step - loss: 0.4045 - acc: 0.9286 - mse: 0.0520 - val_loss: 0.5239 - val_acc: 0.7632 - val_mse: 0.0850\n",
            "Epoch 89/150\n",
            "1/1 [==============================] - 0s 36ms/step - loss: 0.4019 - acc: 0.9286 - mse: 0.0515 - val_loss: 0.5215 - val_acc: 0.7632 - val_mse: 0.0846\n",
            "Epoch 90/150\n",
            "1/1 [==============================] - 0s 31ms/step - loss: 0.3993 - acc: 0.9286 - mse: 0.0510 - val_loss: 0.5192 - val_acc: 0.7632 - val_mse: 0.0843\n",
            "Epoch 91/150\n",
            "1/1 [==============================] - 0s 51ms/step - loss: 0.3967 - acc: 0.9286 - mse: 0.0506 - val_loss: 0.5169 - val_acc: 0.7632 - val_mse: 0.0839\n",
            "Epoch 92/150\n",
            "1/1 [==============================] - 0s 31ms/step - loss: 0.3942 - acc: 0.9375 - mse: 0.0502 - val_loss: 0.5145 - val_acc: 0.7632 - val_mse: 0.0836\n",
            "Epoch 93/150\n",
            "1/1 [==============================] - 0s 35ms/step - loss: 0.3917 - acc: 0.9375 - mse: 0.0497 - val_loss: 0.5121 - val_acc: 0.7632 - val_mse: 0.0832\n",
            "Epoch 94/150\n",
            "1/1 [==============================] - 0s 35ms/step - loss: 0.3892 - acc: 0.9375 - mse: 0.0493 - val_loss: 0.5098 - val_acc: 0.7632 - val_mse: 0.0828\n",
            "Epoch 95/150\n",
            "1/1 [==============================] - 0s 30ms/step - loss: 0.3867 - acc: 0.9375 - mse: 0.0488 - val_loss: 0.5074 - val_acc: 0.7632 - val_mse: 0.0824\n",
            "Epoch 96/150\n",
            "1/1 [==============================] - 0s 30ms/step - loss: 0.3843 - acc: 0.9375 - mse: 0.0484 - val_loss: 0.5051 - val_acc: 0.7632 - val_mse: 0.0821\n",
            "Epoch 97/150\n",
            "1/1 [==============================] - 0s 30ms/step - loss: 0.3819 - acc: 0.9375 - mse: 0.0480 - val_loss: 0.5028 - val_acc: 0.7632 - val_mse: 0.0817\n",
            "Epoch 98/150\n",
            "1/1 [==============================] - 0s 30ms/step - loss: 0.3795 - acc: 0.9375 - mse: 0.0476 - val_loss: 0.5006 - val_acc: 0.7632 - val_mse: 0.0814\n",
            "Epoch 99/150\n",
            "1/1 [==============================] - 0s 38ms/step - loss: 0.3772 - acc: 0.9375 - mse: 0.0472 - val_loss: 0.4983 - val_acc: 0.7632 - val_mse: 0.0810\n",
            "Epoch 100/150\n",
            "1/1 [==============================] - 0s 31ms/step - loss: 0.3749 - acc: 0.9375 - mse: 0.0468 - val_loss: 0.4961 - val_acc: 0.7632 - val_mse: 0.0806\n",
            "Epoch 101/150\n",
            "1/1 [==============================] - 0s 32ms/step - loss: 0.3727 - acc: 0.9375 - mse: 0.0464 - val_loss: 0.4939 - val_acc: 0.7632 - val_mse: 0.0803\n",
            "Epoch 102/150\n",
            "1/1 [==============================] - 0s 31ms/step - loss: 0.3704 - acc: 0.9375 - mse: 0.0460 - val_loss: 0.4917 - val_acc: 0.7632 - val_mse: 0.0799\n",
            "Epoch 103/150\n",
            "1/1 [==============================] - 0s 32ms/step - loss: 0.3682 - acc: 0.9375 - mse: 0.0456 - val_loss: 0.4895 - val_acc: 0.7632 - val_mse: 0.0796\n",
            "Epoch 104/150\n",
            "1/1 [==============================] - 0s 32ms/step - loss: 0.3661 - acc: 0.9375 - mse: 0.0452 - val_loss: 0.4873 - val_acc: 0.7632 - val_mse: 0.0792\n",
            "Epoch 105/150\n",
            "1/1 [==============================] - 0s 30ms/step - loss: 0.3639 - acc: 0.9375 - mse: 0.0449 - val_loss: 0.4851 - val_acc: 0.7632 - val_mse: 0.0789\n",
            "Epoch 106/150\n",
            "1/1 [==============================] - 0s 29ms/step - loss: 0.3618 - acc: 0.9375 - mse: 0.0445 - val_loss: 0.4830 - val_acc: 0.7632 - val_mse: 0.0785\n",
            "Epoch 107/150\n",
            "1/1 [==============================] - 0s 35ms/step - loss: 0.3597 - acc: 0.9375 - mse: 0.0441 - val_loss: 0.4809 - val_acc: 0.7632 - val_mse: 0.0782\n",
            "Epoch 108/150\n",
            "1/1 [==============================] - 0s 28ms/step - loss: 0.3576 - acc: 0.9375 - mse: 0.0438 - val_loss: 0.4788 - val_acc: 0.7632 - val_mse: 0.0778\n",
            "Epoch 109/150\n",
            "1/1 [==============================] - 0s 36ms/step - loss: 0.3556 - acc: 0.9375 - mse: 0.0434 - val_loss: 0.4767 - val_acc: 0.7632 - val_mse: 0.0775\n",
            "Epoch 110/150\n",
            "1/1 [==============================] - 0s 32ms/step - loss: 0.3536 - acc: 0.9375 - mse: 0.0430 - val_loss: 0.4747 - val_acc: 0.7895 - val_mse: 0.0771\n",
            "Epoch 111/150\n",
            "1/1 [==============================] - 0s 33ms/step - loss: 0.3516 - acc: 0.9375 - mse: 0.0427 - val_loss: 0.4726 - val_acc: 0.7895 - val_mse: 0.0768\n",
            "Epoch 112/150\n",
            "1/1 [==============================] - 0s 30ms/step - loss: 0.3496 - acc: 0.9375 - mse: 0.0424 - val_loss: 0.4706 - val_acc: 0.7895 - val_mse: 0.0765\n",
            "Epoch 113/150\n",
            "1/1 [==============================] - 0s 33ms/step - loss: 0.3477 - acc: 0.9375 - mse: 0.0420 - val_loss: 0.4686 - val_acc: 0.7895 - val_mse: 0.0761\n",
            "Epoch 114/150\n",
            "1/1 [==============================] - 0s 34ms/step - loss: 0.3458 - acc: 0.9375 - mse: 0.0417 - val_loss: 0.4666 - val_acc: 0.7895 - val_mse: 0.0758\n",
            "Epoch 115/150\n",
            "1/1 [==============================] - 0s 33ms/step - loss: 0.3439 - acc: 0.9375 - mse: 0.0414 - val_loss: 0.4646 - val_acc: 0.7895 - val_mse: 0.0755\n",
            "Epoch 116/150\n",
            "1/1 [==============================] - 0s 36ms/step - loss: 0.3420 - acc: 0.9375 - mse: 0.0410 - val_loss: 0.4626 - val_acc: 0.7895 - val_mse: 0.0751\n",
            "Epoch 117/150\n",
            "1/1 [==============================] - 0s 34ms/step - loss: 0.3401 - acc: 0.9375 - mse: 0.0407 - val_loss: 0.4606 - val_acc: 0.7895 - val_mse: 0.0748\n",
            "Epoch 118/150\n",
            "1/1 [==============================] - 0s 33ms/step - loss: 0.3383 - acc: 0.9375 - mse: 0.0404 - val_loss: 0.4587 - val_acc: 0.7895 - val_mse: 0.0744\n",
            "Epoch 119/150\n",
            "1/1 [==============================] - 0s 32ms/step - loss: 0.3365 - acc: 0.9375 - mse: 0.0401 - val_loss: 0.4567 - val_acc: 0.7895 - val_mse: 0.0741\n",
            "Epoch 120/150\n",
            "1/1 [==============================] - 0s 44ms/step - loss: 0.3347 - acc: 0.9375 - mse: 0.0398 - val_loss: 0.4548 - val_acc: 0.7895 - val_mse: 0.0738\n",
            "Epoch 121/150\n",
            "1/1 [==============================] - 0s 33ms/step - loss: 0.3329 - acc: 0.9375 - mse: 0.0395 - val_loss: 0.4528 - val_acc: 0.7895 - val_mse: 0.0734\n",
            "Epoch 122/150\n",
            "1/1 [==============================] - 0s 30ms/step - loss: 0.3312 - acc: 0.9375 - mse: 0.0391 - val_loss: 0.4509 - val_acc: 0.7895 - val_mse: 0.0731\n",
            "Epoch 123/150\n",
            "1/1 [==============================] - 0s 31ms/step - loss: 0.3294 - acc: 0.9464 - mse: 0.0388 - val_loss: 0.4489 - val_acc: 0.7895 - val_mse: 0.0727\n",
            "Epoch 124/150\n",
            "1/1 [==============================] - 0s 34ms/step - loss: 0.3277 - acc: 0.9464 - mse: 0.0385 - val_loss: 0.4470 - val_acc: 0.7895 - val_mse: 0.0724\n",
            "Epoch 125/150\n",
            "1/1 [==============================] - 0s 51ms/step - loss: 0.3260 - acc: 0.9464 - mse: 0.0382 - val_loss: 0.4451 - val_acc: 0.7895 - val_mse: 0.0720\n",
            "Epoch 126/150\n",
            "1/1 [==============================] - 0s 53ms/step - loss: 0.3243 - acc: 0.9464 - mse: 0.0379 - val_loss: 0.4432 - val_acc: 0.7895 - val_mse: 0.0717\n",
            "Epoch 127/150\n",
            "1/1 [==============================] - 0s 33ms/step - loss: 0.3226 - acc: 0.9464 - mse: 0.0376 - val_loss: 0.4413 - val_acc: 0.7895 - val_mse: 0.0714\n",
            "Epoch 128/150\n",
            "1/1 [==============================] - 0s 31ms/step - loss: 0.3210 - acc: 0.9554 - mse: 0.0374 - val_loss: 0.4395 - val_acc: 0.7895 - val_mse: 0.0710\n",
            "Epoch 129/150\n",
            "1/1 [==============================] - 0s 33ms/step - loss: 0.3193 - acc: 0.9554 - mse: 0.0371 - val_loss: 0.4376 - val_acc: 0.7895 - val_mse: 0.0707\n",
            "Epoch 130/150\n",
            "1/1 [==============================] - 0s 33ms/step - loss: 0.3177 - acc: 0.9554 - mse: 0.0368 - val_loss: 0.4358 - val_acc: 0.7895 - val_mse: 0.0703\n",
            "Epoch 131/150\n",
            "1/1 [==============================] - 0s 30ms/step - loss: 0.3161 - acc: 0.9554 - mse: 0.0365 - val_loss: 0.4339 - val_acc: 0.7895 - val_mse: 0.0700\n",
            "Epoch 132/150\n",
            "1/1 [==============================] - 0s 31ms/step - loss: 0.3145 - acc: 0.9554 - mse: 0.0362 - val_loss: 0.4321 - val_acc: 0.7895 - val_mse: 0.0696\n",
            "Epoch 133/150\n",
            "1/1 [==============================] - 0s 33ms/step - loss: 0.3130 - acc: 0.9554 - mse: 0.0360 - val_loss: 0.4302 - val_acc: 0.7895 - val_mse: 0.0693\n",
            "Epoch 134/150\n",
            "1/1 [==============================] - 0s 32ms/step - loss: 0.3114 - acc: 0.9554 - mse: 0.0357 - val_loss: 0.4284 - val_acc: 0.7895 - val_mse: 0.0690\n",
            "Epoch 135/150\n",
            "1/1 [==============================] - 0s 32ms/step - loss: 0.3099 - acc: 0.9554 - mse: 0.0354 - val_loss: 0.4266 - val_acc: 0.7895 - val_mse: 0.0686\n",
            "Epoch 136/150\n",
            "1/1 [==============================] - 0s 37ms/step - loss: 0.3083 - acc: 0.9554 - mse: 0.0351 - val_loss: 0.4248 - val_acc: 0.7895 - val_mse: 0.0683\n",
            "Epoch 137/150\n",
            "1/1 [==============================] - 0s 37ms/step - loss: 0.3068 - acc: 0.9554 - mse: 0.0349 - val_loss: 0.4230 - val_acc: 0.7895 - val_mse: 0.0679\n",
            "Epoch 138/150\n",
            "1/1 [==============================] - 0s 32ms/step - loss: 0.3053 - acc: 0.9554 - mse: 0.0346 - val_loss: 0.4212 - val_acc: 0.8158 - val_mse: 0.0676\n",
            "Epoch 139/150\n",
            "1/1 [==============================] - 0s 32ms/step - loss: 0.3038 - acc: 0.9554 - mse: 0.0343 - val_loss: 0.4195 - val_acc: 0.8158 - val_mse: 0.0673\n",
            "Epoch 140/150\n",
            "1/1 [==============================] - 0s 32ms/step - loss: 0.3024 - acc: 0.9554 - mse: 0.0341 - val_loss: 0.4177 - val_acc: 0.8158 - val_mse: 0.0669\n",
            "Epoch 141/150\n",
            "1/1 [==============================] - 0s 34ms/step - loss: 0.3009 - acc: 0.9554 - mse: 0.0338 - val_loss: 0.4160 - val_acc: 0.8158 - val_mse: 0.0666\n",
            "Epoch 142/150\n",
            "1/1 [==============================] - 0s 34ms/step - loss: 0.2995 - acc: 0.9554 - mse: 0.0336 - val_loss: 0.4143 - val_acc: 0.8158 - val_mse: 0.0663\n",
            "Epoch 143/150\n",
            "1/1 [==============================] - 0s 52ms/step - loss: 0.2981 - acc: 0.9554 - mse: 0.0333 - val_loss: 0.4126 - val_acc: 0.8158 - val_mse: 0.0659\n",
            "Epoch 144/150\n",
            "1/1 [==============================] - 0s 32ms/step - loss: 0.2967 - acc: 0.9554 - mse: 0.0331 - val_loss: 0.4109 - val_acc: 0.8158 - val_mse: 0.0656\n",
            "Epoch 145/150\n",
            "1/1 [==============================] - 0s 33ms/step - loss: 0.2953 - acc: 0.9554 - mse: 0.0328 - val_loss: 0.4093 - val_acc: 0.8421 - val_mse: 0.0653\n",
            "Epoch 146/150\n",
            "1/1 [==============================] - 0s 56ms/step - loss: 0.2939 - acc: 0.9554 - mse: 0.0326 - val_loss: 0.4076 - val_acc: 0.8421 - val_mse: 0.0650\n",
            "Epoch 147/150\n",
            "1/1 [==============================] - 0s 30ms/step - loss: 0.2925 - acc: 0.9554 - mse: 0.0324 - val_loss: 0.4060 - val_acc: 0.8421 - val_mse: 0.0646\n",
            "Epoch 148/150\n",
            "1/1 [==============================] - 0s 31ms/step - loss: 0.2912 - acc: 0.9554 - mse: 0.0321 - val_loss: 0.4043 - val_acc: 0.8421 - val_mse: 0.0643\n",
            "Epoch 149/150\n",
            "1/1 [==============================] - 0s 32ms/step - loss: 0.2898 - acc: 0.9554 - mse: 0.0319 - val_loss: 0.4027 - val_acc: 0.8421 - val_mse: 0.0640\n",
            "Epoch 150/150\n",
            "1/1 [==============================] - 0s 33ms/step - loss: 0.2885 - acc: 0.9554 - mse: 0.0317 - val_loss: 0.4011 - val_acc: 0.8421 - val_mse: 0.0637\n"
          ]
        }
      ],
      "source": [
        " \n",
        "\n",
        "# L2 Regularization is another regularization technique which is also known as Ridge regularization. In L2 regularization we add the squared magnitude of weights to penalize our lost function.\n",
        "\n",
        "#to implement L2 regularization, create another model called model4 similar to our initial basic model, this time add an extra parameter kernel_regularizer, which we set to ‘l2’ for L1 Regularization in the first Dense layer.\n",
        "#compile and run the model\n",
        "model4 = Sequential([\n",
        "    Dense(512, activation='tanh', input_shape = X_train[0].shape,kernel_regularizer=tf.keras.regularizers.l2(0.01)),\n",
        "    Dense(512//2, activation='tanh'),\n",
        "    Dense(512//4, activation='tanh'),\n",
        "    Dense(512//8, activation='tanh'),\n",
        "    Dense(32, activation='relu'),\n",
        "    Dense(3, activation='softmax')\n",
        "])\n",
        "print(model4.summary())\n",
        "model4.compile(optimizer='sgd',loss='categorical_crossentropy', metrics=['acc', 'mse'])\n",
        "\n",
        "hist4 = model4.fit(X_train, y_train, epochs=150, batch_size=128, validation_data=(X_test,y_test))\n"
      ]
    },
    {
      "cell_type": "code",
      "execution_count": 53,
      "metadata": {
        "id": "Q2TRJKYj8ImT",
        "colab": {
          "base_uri": "https://localhost:8080/"
        },
        "outputId": "c12b995b-3c51-4150-dcca-b84757287b49"
      },
      "outputs": [
        {
          "output_type": "stream",
          "name": "stdout",
          "text": [
            "2/2 [==============================] - 0s 6ms/step - loss: 0.0780 - acc: 0.0000e+00 - mse: 0.0000e+00\n"
          ]
        },
        {
          "output_type": "execute_result",
          "data": {
            "text/plain": [
              "[0.07803338021039963, 0.0, 0.0]"
            ]
          },
          "metadata": {},
          "execution_count": 53
        }
      ],
      "source": [
        "\n",
        "#just how we used evaluate() in the basic model previously, use it again to find the loss, accuracy and MSE on the test set\n",
        "\n",
        "model4.evaluate(X_test)"
      ]
    },
    {
      "cell_type": "code",
      "execution_count": 54,
      "metadata": {
        "id": "p8IEnut_8ImT",
        "colab": {
          "base_uri": "https://localhost:8080/",
          "height": 299
        },
        "outputId": "d9c1cac7-2c3f-41f2-8ee7-9ebdf126df38"
      },
      "outputs": [
        {
          "output_type": "display_data",
          "data": {
            "text/plain": [
              "<Figure size 432x288 with 1 Axes>"
            ],
            "image/png": "[encoded data removed]"
          },
          "metadata": {}
        }
      ],
      "source": [
        "\n",
        "# Plot the train loss vs validation loss and train accuracy vs validation accuracy graphs just like we did before\n",
        "\n",
        "plt.plot(hist4.history['acc'], label = 'train acc')\n",
        "plt.plot(hist4.history['val_acc'], label='val acc')\n",
        "plt.title(\"train acc vs Val_acc\")\n",
        "plt.xlabel(\"Epochs\")\n",
        "plt.ylabel(\"acc\")\n",
        "plt.legend()\n",
        "plt.show()\n"
      ]
    },
    {
      "cell_type": "code",
      "execution_count": 58,
      "metadata": {
        "id": "kByu-ary8ImT",
        "colab": {
          "base_uri": "https://localhost:8080/"
        },
        "outputId": "9f05e8b1-c02a-42e4-9afc-f50d31f49476"
      },
      "outputs": [
        {
          "output_type": "stream",
          "name": "stdout",
          "text": [
            "Model: \"sequential_11\"\n",
            "_________________________________________________________________\n",
            " Layer (type)                Output Shape              Param #   \n",
            "=================================================================\n",
            " dense_57 (Dense)            (None, 512)               2560      \n",
            "                                                                 \n",
            " dense_58 (Dense)            (None, 256)               131328    \n",
            "                                                                 \n",
            " dense_59 (Dense)            (None, 128)               32896     \n",
            "                                                                 \n",
            " dense_60 (Dense)            (None, 64)                8256      \n",
            "                                                                 \n",
            " dense_61 (Dense)            (None, 32)                2080      \n",
            "                                                                 \n",
            " dense_62 (Dense)            (None, 3)                 99        \n",
            "                                                                 \n",
            "=================================================================\n",
            "Total params: 177,219\n",
            "Trainable params: 177,219\n",
            "Non-trainable params: 0\n",
            "_________________________________________________________________\n",
            "None\n",
            "Epoch 1/150\n",
            "1/1 [==============================] - 1s 670ms/step - loss: 4.2196 - acc: 0.4375 - mse: 0.2346 - val_loss: 4.1312 - val_acc: 0.5000 - val_mse: 0.2156\n",
            "Epoch 2/150\n",
            "1/1 [==============================] - 0s 28ms/step - loss: 4.1597 - acc: 0.4911 - mse: 0.2224 - val_loss: 4.1032 - val_acc: 0.5789 - val_mse: 0.2096\n",
            "Epoch 3/150\n",
            "1/1 [==============================] - 0s 28ms/step - loss: 4.1141 - acc: 0.5089 - mse: 0.2126 - val_loss: 4.0802 - val_acc: 0.6842 - val_mse: 0.2047\n",
            "Epoch 4/150\n",
            "1/1 [==============================] - 0s 32ms/step - loss: 4.0783 - acc: 0.6250 - mse: 0.2046 - val_loss: 4.0596 - val_acc: 0.7368 - val_mse: 0.2001\n",
            "Epoch 5/150\n",
            "1/1 [==============================] - 0s 31ms/step - loss: 4.0485 - acc: 0.7054 - mse: 0.1979 - val_loss: 4.0412 - val_acc: 0.7105 - val_mse: 0.1961\n",
            "Epoch 6/150\n",
            "1/1 [==============================] - 0s 30ms/step - loss: 4.0222 - acc: 0.7500 - mse: 0.1919 - val_loss: 4.0249 - val_acc: 0.7105 - val_mse: 0.1925\n",
            "Epoch 7/150\n",
            "1/1 [==============================] - 0s 29ms/step - loss: 3.9989 - acc: 0.7857 - mse: 0.1866 - val_loss: 4.0097 - val_acc: 0.7105 - val_mse: 0.1892\n",
            "Epoch 8/150\n",
            "1/1 [==============================] - 0s 32ms/step - loss: 3.9772 - acc: 0.7857 - mse: 0.1817 - val_loss: 3.9956 - val_acc: 0.7105 - val_mse: 0.1861\n",
            "Epoch 9/150\n",
            "1/1 [==============================] - 0s 35ms/step - loss: 3.9570 - acc: 0.7946 - mse: 0.1771 - val_loss: 3.9823 - val_acc: 0.7105 - val_mse: 0.1833\n",
            "Epoch 10/150\n",
            "1/1 [==============================] - 0s 56ms/step - loss: 3.9383 - acc: 0.8036 - mse: 0.1728 - val_loss: 3.9697 - val_acc: 0.7105 - val_mse: 0.1806\n",
            "Epoch 11/150\n",
            "1/1 [==============================] - 0s 31ms/step - loss: 3.9207 - acc: 0.8036 - mse: 0.1689 - val_loss: 3.9574 - val_acc: 0.7368 - val_mse: 0.1780\n",
            "Epoch 12/150\n",
            "1/1 [==============================] - 0s 29ms/step - loss: 3.9041 - acc: 0.8036 - mse: 0.1652 - val_loss: 3.9457 - val_acc: 0.7105 - val_mse: 0.1756\n",
            "Epoch 13/150\n",
            "1/1 [==============================] - 0s 29ms/step - loss: 3.8882 - acc: 0.8036 - mse: 0.1616 - val_loss: 3.9344 - val_acc: 0.7105 - val_mse: 0.1732\n",
            "Epoch 14/150\n",
            "1/1 [==============================] - 0s 27ms/step - loss: 3.8729 - acc: 0.8036 - mse: 0.1582 - val_loss: 3.9232 - val_acc: 0.7105 - val_mse: 0.1709\n",
            "Epoch 15/150\n",
            "1/1 [==============================] - 0s 30ms/step - loss: 3.8581 - acc: 0.8125 - mse: 0.1549 - val_loss: 3.9124 - val_acc: 0.7105 - val_mse: 0.1687\n",
            "Epoch 16/150\n",
            "1/1 [==============================] - 0s 30ms/step - loss: 3.8439 - acc: 0.8125 - mse: 0.1518 - val_loss: 3.9018 - val_acc: 0.7105 - val_mse: 0.1665\n",
            "Epoch 17/150\n",
            "1/1 [==============================] - 0s 33ms/step - loss: 3.8301 - acc: 0.8214 - mse: 0.1487 - val_loss: 3.8914 - val_acc: 0.7105 - val_mse: 0.1644\n",
            "Epoch 18/150\n",
            "1/1 [==============================] - 0s 30ms/step - loss: 3.8166 - acc: 0.8304 - mse: 0.1458 - val_loss: 3.8812 - val_acc: 0.7105 - val_mse: 0.1623\n",
            "Epoch 19/150\n",
            "1/1 [==============================] - 0s 34ms/step - loss: 3.8036 - acc: 0.8304 - mse: 0.1430 - val_loss: 3.8712 - val_acc: 0.7368 - val_mse: 0.1603\n",
            "Epoch 20/150\n",
            "1/1 [==============================] - 0s 37ms/step - loss: 3.7909 - acc: 0.8304 - mse: 0.1402 - val_loss: 3.8612 - val_acc: 0.7368 - val_mse: 0.1583\n",
            "Epoch 21/150\n",
            "1/1 [==============================] - 0s 29ms/step - loss: 3.7785 - acc: 0.8304 - mse: 0.1375 - val_loss: 3.8514 - val_acc: 0.7368 - val_mse: 0.1563\n",
            "Epoch 22/150\n",
            "1/1 [==============================] - 0s 49ms/step - loss: 3.7664 - acc: 0.8304 - mse: 0.1350 - val_loss: 3.8418 - val_acc: 0.7368 - val_mse: 0.1544\n",
            "Epoch 23/150\n",
            "1/1 [==============================] - 0s 30ms/step - loss: 3.7546 - acc: 0.8304 - mse: 0.1325 - val_loss: 3.8323 - val_acc: 0.7368 - val_mse: 0.1526\n",
            "Epoch 24/150\n",
            "1/1 [==============================] - 0s 32ms/step - loss: 3.7431 - acc: 0.8304 - mse: 0.1300 - val_loss: 3.8231 - val_acc: 0.7368 - val_mse: 0.1508\n",
            "Epoch 25/150\n",
            "1/1 [==============================] - 0s 34ms/step - loss: 3.7319 - acc: 0.8304 - mse: 0.1277 - val_loss: 3.8140 - val_acc: 0.7368 - val_mse: 0.1490\n",
            "Epoch 26/150\n",
            "1/1 [==============================] - 0s 30ms/step - loss: 3.7210 - acc: 0.8304 - mse: 0.1254 - val_loss: 3.8052 - val_acc: 0.7368 - val_mse: 0.1473\n",
            "Epoch 27/150\n",
            "1/1 [==============================] - 0s 31ms/step - loss: 3.7103 - acc: 0.8304 - mse: 0.1232 - val_loss: 3.7965 - val_acc: 0.7368 - val_mse: 0.1456\n",
            "Epoch 28/150\n",
            "1/1 [==============================] - 0s 29ms/step - loss: 3.6999 - acc: 0.8304 - mse: 0.1211 - val_loss: 3.7880 - val_acc: 0.7368 - val_mse: 0.1440\n",
            "Epoch 29/150\n",
            "1/1 [==============================] - 0s 29ms/step - loss: 3.6898 - acc: 0.8304 - mse: 0.1190 - val_loss: 3.7796 - val_acc: 0.7368 - val_mse: 0.1425\n",
            "Epoch 30/150\n",
            "1/1 [==============================] - 0s 29ms/step - loss: 3.6798 - acc: 0.8304 - mse: 0.1170 - val_loss: 3.7715 - val_acc: 0.7368 - val_mse: 0.1410\n",
            "Epoch 31/150\n",
            "1/1 [==============================] - 0s 29ms/step - loss: 3.6701 - acc: 0.8304 - mse: 0.1150 - val_loss: 3.7635 - val_acc: 0.7368 - val_mse: 0.1395\n",
            "Epoch 32/150\n",
            "1/1 [==============================] - 0s 27ms/step - loss: 3.6605 - acc: 0.8304 - mse: 0.1132 - val_loss: 3.7558 - val_acc: 0.7368 - val_mse: 0.1381\n",
            "Epoch 33/150\n",
            "1/1 [==============================] - 0s 50ms/step - loss: 3.6512 - acc: 0.8304 - mse: 0.1113 - val_loss: 3.7482 - val_acc: 0.7368 - val_mse: 0.1368\n",
            "Epoch 34/150\n",
            "1/1 [==============================] - 0s 29ms/step - loss: 3.6422 - acc: 0.8304 - mse: 0.1096 - val_loss: 3.7407 - val_acc: 0.7368 - val_mse: 0.1354\n",
            "Epoch 35/150\n",
            "1/1 [==============================] - 0s 30ms/step - loss: 3.6333 - acc: 0.8482 - mse: 0.1079 - val_loss: 3.7333 - val_acc: 0.7368 - val_mse: 0.1341\n",
            "Epoch 36/150\n",
            "1/1 [==============================] - 0s 48ms/step - loss: 3.6246 - acc: 0.8571 - mse: 0.1062 - val_loss: 3.7260 - val_acc: 0.7368 - val_mse: 0.1329\n",
            "Epoch 37/150\n",
            "1/1 [==============================] - 0s 38ms/step - loss: 3.6160 - acc: 0.8571 - mse: 0.1046 - val_loss: 3.7188 - val_acc: 0.7368 - val_mse: 0.1316\n",
            "Epoch 38/150\n",
            "1/1 [==============================] - 0s 26ms/step - loss: 3.6077 - acc: 0.8571 - mse: 0.1030 - val_loss: 3.7119 - val_acc: 0.7368 - val_mse: 0.1305\n",
            "Epoch 39/150\n",
            "1/1 [==============================] - 0s 29ms/step - loss: 3.5995 - acc: 0.8571 - mse: 0.1015 - val_loss: 3.7051 - val_acc: 0.7368 - val_mse: 0.1293\n",
            "Epoch 40/150\n",
            "1/1 [==============================] - 0s 29ms/step - loss: 3.5915 - acc: 0.8571 - mse: 0.1000 - val_loss: 3.6984 - val_acc: 0.7368 - val_mse: 0.1282\n",
            "Epoch 41/150\n",
            "1/1 [==============================] - 0s 29ms/step - loss: 3.5836 - acc: 0.8571 - mse: 0.0986 - val_loss: 3.6920 - val_acc: 0.7368 - val_mse: 0.1272\n",
            "Epoch 42/150\n",
            "1/1 [==============================] - 0s 29ms/step - loss: 3.5760 - acc: 0.8571 - mse: 0.0972 - val_loss: 3.6857 - val_acc: 0.7368 - val_mse: 0.1262\n",
            "Epoch 43/150\n",
            "1/1 [==============================] - 0s 31ms/step - loss: 3.5684 - acc: 0.8571 - mse: 0.0958 - val_loss: 3.6794 - val_acc: 0.7368 - val_mse: 0.1252\n",
            "Epoch 44/150\n",
            "1/1 [==============================] - 0s 35ms/step - loss: 3.5611 - acc: 0.8571 - mse: 0.0945 - val_loss: 3.6733 - val_acc: 0.7368 - val_mse: 0.1243\n",
            "Epoch 45/150\n",
            "1/1 [==============================] - 0s 33ms/step - loss: 3.5538 - acc: 0.8571 - mse: 0.0933 - val_loss: 3.6673 - val_acc: 0.7368 - val_mse: 0.1234\n",
            "Epoch 46/150\n",
            "1/1 [==============================] - 0s 30ms/step - loss: 3.5467 - acc: 0.8571 - mse: 0.0920 - val_loss: 3.6614 - val_acc: 0.7368 - val_mse: 0.1225\n",
            "Epoch 47/150\n",
            "1/1 [==============================] - 0s 47ms/step - loss: 3.5397 - acc: 0.8571 - mse: 0.0908 - val_loss: 3.6557 - val_acc: 0.7368 - val_mse: 0.1217\n",
            "Epoch 48/150\n",
            "1/1 [==============================] - 0s 29ms/step - loss: 3.5328 - acc: 0.8571 - mse: 0.0897 - val_loss: 3.6499 - val_acc: 0.7368 - val_mse: 0.1208\n",
            "Epoch 49/150\n",
            "1/1 [==============================] - 0s 48ms/step - loss: 3.5261 - acc: 0.8571 - mse: 0.0885 - val_loss: 3.6442 - val_acc: 0.7368 - val_mse: 0.1200\n",
            "Epoch 50/150\n",
            "1/1 [==============================] - 0s 29ms/step - loss: 3.5194 - acc: 0.8661 - mse: 0.0874 - val_loss: 3.6385 - val_acc: 0.7368 - val_mse: 0.1192\n",
            "Epoch 51/150\n",
            "1/1 [==============================] - 0s 30ms/step - loss: 3.5129 - acc: 0.8661 - mse: 0.0864 - val_loss: 3.6329 - val_acc: 0.7368 - val_mse: 0.1184\n",
            "Epoch 52/150\n",
            "1/1 [==============================] - 0s 31ms/step - loss: 3.5065 - acc: 0.8661 - mse: 0.0853 - val_loss: 3.6273 - val_acc: 0.7368 - val_mse: 0.1176\n",
            "Epoch 53/150\n",
            "1/1 [==============================] - 0s 29ms/step - loss: 3.5001 - acc: 0.8661 - mse: 0.0843 - val_loss: 3.6219 - val_acc: 0.7368 - val_mse: 0.1169\n",
            "Epoch 54/150\n",
            "1/1 [==============================] - 0s 32ms/step - loss: 3.4939 - acc: 0.8661 - mse: 0.0833 - val_loss: 3.6166 - val_acc: 0.7368 - val_mse: 0.1161\n",
            "Epoch 55/150\n",
            "1/1 [==============================] - 0s 33ms/step - loss: 3.4877 - acc: 0.8661 - mse: 0.0823 - val_loss: 3.6114 - val_acc: 0.7368 - val_mse: 0.1154\n",
            "Epoch 56/150\n",
            "1/1 [==============================] - 0s 31ms/step - loss: 3.4817 - acc: 0.8661 - mse: 0.0813 - val_loss: 3.6062 - val_acc: 0.7368 - val_mse: 0.1148\n",
            "Epoch 57/150\n",
            "1/1 [==============================] - 0s 31ms/step - loss: 3.4757 - acc: 0.8661 - mse: 0.0804 - val_loss: 3.6012 - val_acc: 0.7368 - val_mse: 0.1141\n",
            "Epoch 58/150\n",
            "1/1 [==============================] - 0s 33ms/step - loss: 3.4699 - acc: 0.8661 - mse: 0.0795 - val_loss: 3.5963 - val_acc: 0.7368 - val_mse: 0.1135\n",
            "Epoch 59/150\n",
            "1/1 [==============================] - 0s 31ms/step - loss: 3.4642 - acc: 0.8750 - mse: 0.0786 - val_loss: 3.5917 - val_acc: 0.7368 - val_mse: 0.1130\n",
            "Epoch 60/150\n",
            "1/1 [==============================] - 0s 47ms/step - loss: 3.4586 - acc: 0.8750 - mse: 0.0778 - val_loss: 3.5872 - val_acc: 0.7368 - val_mse: 0.1124\n",
            "Epoch 61/150\n",
            "1/1 [==============================] - 0s 33ms/step - loss: 3.4532 - acc: 0.8750 - mse: 0.0770 - val_loss: 3.5826 - val_acc: 0.7368 - val_mse: 0.1119\n",
            "Epoch 62/150\n",
            "1/1 [==============================] - 0s 30ms/step - loss: 3.4478 - acc: 0.8750 - mse: 0.0762 - val_loss: 3.5782 - val_acc: 0.7368 - val_mse: 0.1114\n",
            "Epoch 63/150\n",
            "1/1 [==============================] - 0s 32ms/step - loss: 3.4426 - acc: 0.8750 - mse: 0.0754 - val_loss: 3.5738 - val_acc: 0.7368 - val_mse: 0.1109\n",
            "Epoch 64/150\n",
            "1/1 [==============================] - 0s 33ms/step - loss: 3.4374 - acc: 0.8839 - mse: 0.0747 - val_loss: 3.5693 - val_acc: 0.7368 - val_mse: 0.1103\n",
            "Epoch 65/150\n",
            "1/1 [==============================] - 0s 35ms/step - loss: 3.4323 - acc: 0.8839 - mse: 0.0739 - val_loss: 3.5650 - val_acc: 0.7368 - val_mse: 0.1098\n",
            "Epoch 66/150\n",
            "1/1 [==============================] - 0s 30ms/step - loss: 3.4273 - acc: 0.8839 - mse: 0.0732 - val_loss: 3.5607 - val_acc: 0.7368 - val_mse: 0.1094\n",
            "Epoch 67/150\n",
            "1/1 [==============================] - 0s 31ms/step - loss: 3.4224 - acc: 0.8839 - mse: 0.0725 - val_loss: 3.5565 - val_acc: 0.7368 - val_mse: 0.1089\n",
            "Epoch 68/150\n",
            "1/1 [==============================] - 0s 44ms/step - loss: 3.4175 - acc: 0.8839 - mse: 0.0719 - val_loss: 3.5524 - val_acc: 0.7368 - val_mse: 0.1084\n",
            "Epoch 69/150\n",
            "1/1 [==============================] - 0s 48ms/step - loss: 3.4128 - acc: 0.8839 - mse: 0.0712 - val_loss: 3.5482 - val_acc: 0.7368 - val_mse: 0.1080\n",
            "Epoch 70/150\n",
            "1/1 [==============================] - 0s 47ms/step - loss: 3.4081 - acc: 0.8839 - mse: 0.0706 - val_loss: 3.5441 - val_acc: 0.7368 - val_mse: 0.1075\n",
            "Epoch 71/150\n",
            "1/1 [==============================] - 0s 50ms/step - loss: 3.4035 - acc: 0.8839 - mse: 0.0699 - val_loss: 3.5400 - val_acc: 0.7368 - val_mse: 0.1071\n",
            "Epoch 72/150\n",
            "1/1 [==============================] - 0s 32ms/step - loss: 3.3989 - acc: 0.8839 - mse: 0.0693 - val_loss: 3.5360 - val_acc: 0.7368 - val_mse: 0.1066\n",
            "Epoch 73/150\n",
            "1/1 [==============================] - 0s 32ms/step - loss: 3.3944 - acc: 0.8839 - mse: 0.0687 - val_loss: 3.5321 - val_acc: 0.7368 - val_mse: 0.1062\n",
            "Epoch 74/150\n",
            "1/1 [==============================] - 0s 32ms/step - loss: 3.3899 - acc: 0.8839 - mse: 0.0681 - val_loss: 3.5282 - val_acc: 0.7368 - val_mse: 0.1058\n",
            "Epoch 75/150\n",
            "1/1 [==============================] - 0s 32ms/step - loss: 3.3856 - acc: 0.8839 - mse: 0.0675 - val_loss: 3.5244 - val_acc: 0.7368 - val_mse: 0.1054\n",
            "Epoch 76/150\n",
            "1/1 [==============================] - 0s 32ms/step - loss: 3.3812 - acc: 0.8839 - mse: 0.0669 - val_loss: 3.5206 - val_acc: 0.7368 - val_mse: 0.1050\n",
            "Epoch 77/150\n",
            "1/1 [==============================] - 0s 32ms/step - loss: 3.3770 - acc: 0.8839 - mse: 0.0664 - val_loss: 3.5168 - val_acc: 0.7368 - val_mse: 0.1046\n",
            "Epoch 78/150\n",
            "1/1 [==============================] - 0s 32ms/step - loss: 3.3727 - acc: 0.8929 - mse: 0.0658 - val_loss: 3.5130 - val_acc: 0.7368 - val_mse: 0.1042\n",
            "Epoch 79/150\n",
            "1/1 [==============================] - 0s 31ms/step - loss: 3.3686 - acc: 0.8929 - mse: 0.0653 - val_loss: 3.5093 - val_acc: 0.7368 - val_mse: 0.1038\n",
            "Epoch 80/150\n",
            "1/1 [==============================] - 0s 31ms/step - loss: 3.3645 - acc: 0.8929 - mse: 0.0648 - val_loss: 3.5057 - val_acc: 0.7368 - val_mse: 0.1034\n",
            "Epoch 81/150\n",
            "1/1 [==============================] - 0s 33ms/step - loss: 3.3604 - acc: 0.8929 - mse: 0.0642 - val_loss: 3.5020 - val_acc: 0.7368 - val_mse: 0.1031\n",
            "Epoch 82/150\n",
            "1/1 [==============================] - 0s 31ms/step - loss: 3.3564 - acc: 0.8929 - mse: 0.0637 - val_loss: 3.4985 - val_acc: 0.7368 - val_mse: 0.1027\n",
            "Epoch 83/150\n",
            "1/1 [==============================] - 0s 48ms/step - loss: 3.3525 - acc: 0.9018 - mse: 0.0632 - val_loss: 3.4950 - val_acc: 0.7368 - val_mse: 0.1024\n",
            "Epoch 84/150\n",
            "1/1 [==============================] - 0s 32ms/step - loss: 3.3486 - acc: 0.9018 - mse: 0.0627 - val_loss: 3.4915 - val_acc: 0.7368 - val_mse: 0.1020\n",
            "Epoch 85/150\n",
            "1/1 [==============================] - 0s 32ms/step - loss: 3.3447 - acc: 0.9018 - mse: 0.0622 - val_loss: 3.4881 - val_acc: 0.7632 - val_mse: 0.1017\n",
            "Epoch 86/150\n",
            "1/1 [==============================] - 0s 51ms/step - loss: 3.3410 - acc: 0.9018 - mse: 0.0618 - val_loss: 3.4848 - val_acc: 0.7632 - val_mse: 0.1014\n",
            "Epoch 87/150\n",
            "1/1 [==============================] - 0s 30ms/step - loss: 3.3372 - acc: 0.9018 - mse: 0.0613 - val_loss: 3.4814 - val_acc: 0.7632 - val_mse: 0.1010\n",
            "Epoch 88/150\n",
            "1/1 [==============================] - 0s 32ms/step - loss: 3.3335 - acc: 0.9018 - mse: 0.0608 - val_loss: 3.4782 - val_acc: 0.7632 - val_mse: 0.1007\n",
            "Epoch 89/150\n",
            "1/1 [==============================] - 0s 33ms/step - loss: 3.3299 - acc: 0.9018 - mse: 0.0604 - val_loss: 3.4749 - val_acc: 0.7632 - val_mse: 0.1004\n",
            "Epoch 90/150\n",
            "1/1 [==============================] - 0s 41ms/step - loss: 3.3263 - acc: 0.9018 - mse: 0.0600 - val_loss: 3.4716 - val_acc: 0.7632 - val_mse: 0.1001\n",
            "Epoch 91/150\n",
            "1/1 [==============================] - 0s 32ms/step - loss: 3.3227 - acc: 0.9018 - mse: 0.0595 - val_loss: 3.4683 - val_acc: 0.7632 - val_mse: 0.0998\n",
            "Epoch 92/150\n",
            "1/1 [==============================] - 0s 31ms/step - loss: 3.3192 - acc: 0.9107 - mse: 0.0591 - val_loss: 3.4651 - val_acc: 0.7632 - val_mse: 0.0995\n",
            "Epoch 93/150\n",
            "1/1 [==============================] - 0s 30ms/step - loss: 3.3158 - acc: 0.9107 - mse: 0.0587 - val_loss: 3.4619 - val_acc: 0.7632 - val_mse: 0.0992\n",
            "Epoch 94/150\n",
            "1/1 [==============================] - 0s 33ms/step - loss: 3.3124 - acc: 0.9107 - mse: 0.0583 - val_loss: 3.4587 - val_acc: 0.7632 - val_mse: 0.0988\n",
            "Epoch 95/150\n",
            "1/1 [==============================] - 0s 51ms/step - loss: 3.3090 - acc: 0.9107 - mse: 0.0579 - val_loss: 3.4555 - val_acc: 0.7632 - val_mse: 0.0985\n",
            "Epoch 96/150\n",
            "1/1 [==============================] - 0s 35ms/step - loss: 3.3056 - acc: 0.9107 - mse: 0.0575 - val_loss: 3.4524 - val_acc: 0.7632 - val_mse: 0.0982\n",
            "Epoch 97/150\n",
            "1/1 [==============================] - 0s 32ms/step - loss: 3.3023 - acc: 0.9107 - mse: 0.0571 - val_loss: 3.4492 - val_acc: 0.7632 - val_mse: 0.0979\n",
            "Epoch 98/150\n",
            "1/1 [==============================] - 0s 51ms/step - loss: 3.2990 - acc: 0.9107 - mse: 0.0567 - val_loss: 3.4461 - val_acc: 0.7632 - val_mse: 0.0976\n",
            "Epoch 99/150\n",
            "1/1 [==============================] - 0s 32ms/step - loss: 3.2958 - acc: 0.9107 - mse: 0.0563 - val_loss: 3.4430 - val_acc: 0.7632 - val_mse: 0.0973\n",
            "Epoch 100/150\n",
            "1/1 [==============================] - 0s 48ms/step - loss: 3.2925 - acc: 0.9107 - mse: 0.0559 - val_loss: 3.4400 - val_acc: 0.7632 - val_mse: 0.0970\n",
            "Epoch 101/150\n",
            "1/1 [==============================] - 0s 31ms/step - loss: 3.2893 - acc: 0.9107 - mse: 0.0556 - val_loss: 3.4369 - val_acc: 0.7632 - val_mse: 0.0967\n",
            "Epoch 102/150\n",
            "1/1 [==============================] - 0s 32ms/step - loss: 3.2862 - acc: 0.9107 - mse: 0.0552 - val_loss: 3.4340 - val_acc: 0.7632 - val_mse: 0.0964\n",
            "Epoch 103/150\n",
            "1/1 [==============================] - 0s 36ms/step - loss: 3.2830 - acc: 0.9107 - mse: 0.0548 - val_loss: 3.4310 - val_acc: 0.7632 - val_mse: 0.0962\n",
            "Epoch 104/150\n",
            "1/1 [==============================] - 0s 35ms/step - loss: 3.2799 - acc: 0.9107 - mse: 0.0545 - val_loss: 3.4280 - val_acc: 0.7632 - val_mse: 0.0959\n",
            "Epoch 105/150\n",
            "1/1 [==============================] - 0s 31ms/step - loss: 3.2768 - acc: 0.9107 - mse: 0.0541 - val_loss: 3.4251 - val_acc: 0.7632 - val_mse: 0.0956\n",
            "Epoch 106/150\n",
            "1/1 [==============================] - 0s 33ms/step - loss: 3.2738 - acc: 0.9196 - mse: 0.0537 - val_loss: 3.4221 - val_acc: 0.7632 - val_mse: 0.0953\n",
            "Epoch 107/150\n",
            "1/1 [==============================] - 0s 33ms/step - loss: 3.2708 - acc: 0.9196 - mse: 0.0534 - val_loss: 3.4192 - val_acc: 0.7632 - val_mse: 0.0950\n",
            "Epoch 108/150\n",
            "1/1 [==============================] - 0s 34ms/step - loss: 3.2678 - acc: 0.9196 - mse: 0.0531 - val_loss: 3.4163 - val_acc: 0.7632 - val_mse: 0.0947\n",
            "Epoch 109/150\n",
            "1/1 [==============================] - 0s 30ms/step - loss: 3.2648 - acc: 0.9196 - mse: 0.0527 - val_loss: 3.4134 - val_acc: 0.7632 - val_mse: 0.0945\n",
            "Epoch 110/150\n",
            "1/1 [==============================] - 0s 31ms/step - loss: 3.2619 - acc: 0.9196 - mse: 0.0524 - val_loss: 3.4105 - val_acc: 0.7632 - val_mse: 0.0942\n",
            "Epoch 111/150\n",
            "1/1 [==============================] - 0s 53ms/step - loss: 3.2589 - acc: 0.9286 - mse: 0.0521 - val_loss: 3.4077 - val_acc: 0.7632 - val_mse: 0.0939\n",
            "Epoch 112/150\n",
            "1/1 [==============================] - 0s 33ms/step - loss: 3.2560 - acc: 0.9286 - mse: 0.0517 - val_loss: 3.4048 - val_acc: 0.7632 - val_mse: 0.0936\n",
            "Epoch 113/150\n",
            "1/1 [==============================] - 0s 31ms/step - loss: 3.2531 - acc: 0.9286 - mse: 0.0514 - val_loss: 3.4020 - val_acc: 0.7632 - val_mse: 0.0933\n",
            "Epoch 114/150\n",
            "1/1 [==============================] - 0s 50ms/step - loss: 3.2503 - acc: 0.9286 - mse: 0.0511 - val_loss: 3.3992 - val_acc: 0.7632 - val_mse: 0.0931\n",
            "Epoch 115/150\n",
            "1/1 [==============================] - 0s 38ms/step - loss: 3.2474 - acc: 0.9286 - mse: 0.0508 - val_loss: 3.3964 - val_acc: 0.7632 - val_mse: 0.0928\n",
            "Epoch 116/150\n",
            "1/1 [==============================] - 0s 49ms/step - loss: 3.2445 - acc: 0.9375 - mse: 0.0504 - val_loss: 3.3936 - val_acc: 0.7632 - val_mse: 0.0925\n",
            "Epoch 117/150\n",
            "1/1 [==============================] - 0s 35ms/step - loss: 3.2417 - acc: 0.9375 - mse: 0.0501 - val_loss: 3.3907 - val_acc: 0.7632 - val_mse: 0.0922\n",
            "Epoch 118/150\n",
            "1/1 [==============================] - 0s 34ms/step - loss: 3.2388 - acc: 0.9375 - mse: 0.0498 - val_loss: 3.3878 - val_acc: 0.7632 - val_mse: 0.0919\n",
            "Epoch 119/150\n",
            "1/1 [==============================] - 0s 52ms/step - loss: 3.2360 - acc: 0.9375 - mse: 0.0494 - val_loss: 3.3849 - val_acc: 0.7632 - val_mse: 0.0916\n",
            "Epoch 120/150\n",
            "1/1 [==============================] - 0s 32ms/step - loss: 3.2331 - acc: 0.9375 - mse: 0.0491 - val_loss: 3.3821 - val_acc: 0.7632 - val_mse: 0.0913\n",
            "Epoch 121/150\n",
            "1/1 [==============================] - 0s 33ms/step - loss: 3.2303 - acc: 0.9375 - mse: 0.0488 - val_loss: 3.3792 - val_acc: 0.7632 - val_mse: 0.0910\n",
            "Epoch 122/150\n",
            "1/1 [==============================] - 0s 51ms/step - loss: 3.2275 - acc: 0.9464 - mse: 0.0485 - val_loss: 3.3764 - val_acc: 0.7632 - val_mse: 0.0907\n",
            "Epoch 123/150\n",
            "1/1 [==============================] - 0s 31ms/step - loss: 3.2248 - acc: 0.9464 - mse: 0.0481 - val_loss: 3.3736 - val_acc: 0.7632 - val_mse: 0.0904\n",
            "Epoch 124/150\n",
            "1/1 [==============================] - 0s 33ms/step - loss: 3.2220 - acc: 0.9464 - mse: 0.0478 - val_loss: 3.3708 - val_acc: 0.7632 - val_mse: 0.0901\n",
            "Epoch 125/150\n",
            "1/1 [==============================] - 0s 35ms/step - loss: 3.2193 - acc: 0.9464 - mse: 0.0475 - val_loss: 3.3680 - val_acc: 0.7632 - val_mse: 0.0898\n",
            "Epoch 126/150\n",
            "1/1 [==============================] - 0s 30ms/step - loss: 3.2165 - acc: 0.9464 - mse: 0.0472 - val_loss: 3.3652 - val_acc: 0.7632 - val_mse: 0.0895\n",
            "Epoch 127/150\n",
            "1/1 [==============================] - 0s 32ms/step - loss: 3.2138 - acc: 0.9464 - mse: 0.0469 - val_loss: 3.3623 - val_acc: 0.7632 - val_mse: 0.0892\n",
            "Epoch 128/150\n",
            "1/1 [==============================] - 0s 34ms/step - loss: 3.2111 - acc: 0.9464 - mse: 0.0466 - val_loss: 3.3595 - val_acc: 0.7632 - val_mse: 0.0889\n",
            "Epoch 129/150\n",
            "1/1 [==============================] - 0s 32ms/step - loss: 3.2084 - acc: 0.9554 - mse: 0.0462 - val_loss: 3.3567 - val_acc: 0.7632 - val_mse: 0.0886\n",
            "Epoch 130/150\n",
            "1/1 [==============================] - 0s 30ms/step - loss: 3.2058 - acc: 0.9554 - mse: 0.0459 - val_loss: 3.3539 - val_acc: 0.7632 - val_mse: 0.0883\n",
            "Epoch 131/150\n",
            "1/1 [==============================] - 0s 34ms/step - loss: 3.2031 - acc: 0.9554 - mse: 0.0456 - val_loss: 3.3511 - val_acc: 0.7632 - val_mse: 0.0880\n",
            "Epoch 132/150\n",
            "1/1 [==============================] - 0s 31ms/step - loss: 3.2005 - acc: 0.9554 - mse: 0.0453 - val_loss: 3.3483 - val_acc: 0.7632 - val_mse: 0.0876\n",
            "Epoch 133/150\n",
            "1/1 [==============================] - 0s 35ms/step - loss: 3.1979 - acc: 0.9554 - mse: 0.0450 - val_loss: 3.3454 - val_acc: 0.7632 - val_mse: 0.0873\n",
            "Epoch 134/150\n",
            "1/1 [==============================] - 0s 38ms/step - loss: 3.1953 - acc: 0.9554 - mse: 0.0447 - val_loss: 3.3426 - val_acc: 0.7632 - val_mse: 0.0870\n",
            "Epoch 135/150\n",
            "1/1 [==============================] - 0s 34ms/step - loss: 3.1927 - acc: 0.9554 - mse: 0.0445 - val_loss: 3.3399 - val_acc: 0.7632 - val_mse: 0.0867\n",
            "Epoch 136/150\n",
            "1/1 [==============================] - 0s 33ms/step - loss: 3.1901 - acc: 0.9554 - mse: 0.0442 - val_loss: 3.3371 - val_acc: 0.7632 - val_mse: 0.0864\n",
            "Epoch 137/150\n",
            "1/1 [==============================] - 0s 33ms/step - loss: 3.1875 - acc: 0.9554 - mse: 0.0439 - val_loss: 3.3344 - val_acc: 0.7632 - val_mse: 0.0861\n",
            "Epoch 138/150\n",
            "1/1 [==============================] - 0s 34ms/step - loss: 3.1849 - acc: 0.9554 - mse: 0.0436 - val_loss: 3.3317 - val_acc: 0.7632 - val_mse: 0.0857\n",
            "Epoch 139/150\n",
            "1/1 [==============================] - 0s 34ms/step - loss: 3.1824 - acc: 0.9554 - mse: 0.0433 - val_loss: 3.3289 - val_acc: 0.7632 - val_mse: 0.0854\n",
            "Epoch 140/150\n",
            "1/1 [==============================] - 0s 35ms/step - loss: 3.1798 - acc: 0.9554 - mse: 0.0430 - val_loss: 3.3262 - val_acc: 0.7895 - val_mse: 0.0851\n",
            "Epoch 141/150\n",
            "1/1 [==============================] - 0s 45ms/step - loss: 3.1773 - acc: 0.9554 - mse: 0.0427 - val_loss: 3.3236 - val_acc: 0.7895 - val_mse: 0.0848\n",
            "Epoch 142/150\n",
            "1/1 [==============================] - 0s 38ms/step - loss: 3.1748 - acc: 0.9554 - mse: 0.0424 - val_loss: 3.3209 - val_acc: 0.7895 - val_mse: 0.0845\n",
            "Epoch 143/150\n",
            "1/1 [==============================] - 0s 34ms/step - loss: 3.1723 - acc: 0.9554 - mse: 0.0421 - val_loss: 3.3180 - val_acc: 0.7895 - val_mse: 0.0842\n",
            "Epoch 144/150\n",
            "1/1 [==============================] - 0s 34ms/step - loss: 3.1698 - acc: 0.9554 - mse: 0.0418 - val_loss: 3.3152 - val_acc: 0.7895 - val_mse: 0.0838\n",
            "Epoch 145/150\n",
            "1/1 [==============================] - 0s 33ms/step - loss: 3.1673 - acc: 0.9554 - mse: 0.0416 - val_loss: 3.3124 - val_acc: 0.7895 - val_mse: 0.0835\n",
            "Epoch 146/150\n",
            "1/1 [==============================] - 0s 36ms/step - loss: 3.1648 - acc: 0.9554 - mse: 0.0413 - val_loss: 3.3096 - val_acc: 0.8158 - val_mse: 0.0831\n",
            "Epoch 147/150\n",
            "1/1 [==============================] - 0s 33ms/step - loss: 3.1623 - acc: 0.9554 - mse: 0.0410 - val_loss: 3.3068 - val_acc: 0.8158 - val_mse: 0.0828\n",
            "Epoch 148/150\n",
            "1/1 [==============================] - 0s 51ms/step - loss: 3.1598 - acc: 0.9554 - mse: 0.0407 - val_loss: 3.3041 - val_acc: 0.8158 - val_mse: 0.0825\n",
            "Epoch 149/150\n",
            "1/1 [==============================] - 0s 31ms/step - loss: 3.1574 - acc: 0.9554 - mse: 0.0404 - val_loss: 3.3014 - val_acc: 0.8158 - val_mse: 0.0822\n",
            "Epoch 150/150\n",
            "1/1 [==============================] - 0s 34ms/step - loss: 3.1550 - acc: 0.9554 - mse: 0.0402 - val_loss: 3.2987 - val_acc: 0.8158 - val_mse: 0.0818\n"
          ]
        }
      ],
      "source": [
        "\n",
        "# Now create model5 having similar to the above models having L2 in all other layers.\n",
        "model5 = Sequential([\n",
        "    Dense(512, activation='tanh', input_shape = X_train[0].shape,kernel_regularizer=tf.keras.regularizers.l2(0.01)),\n",
        "    Dense(512//2, activation='tanh'),\n",
        "    Dense(512//4, activation='tanh',kernel_regularizer=tf.keras.regularizers.l2(0.01)),\n",
        "    Dense(512//8, activation='tanh',kernel_regularizer=tf.keras.regularizers.l2(0.01)),\n",
        "    Dense(32, activation='relu',kernel_regularizer=tf.keras.regularizers.l2(0.01)),\n",
        "    Dense(3, activation='softmax')\n",
        "])\n",
        "print(model5.summary())\n",
        "model5.compile(optimizer='sgd',loss='categorical_crossentropy', metrics=['acc', 'mse'])\n",
        "\n",
        "hist5 = model5.fit(X_train, y_train, epochs=150, batch_size=128, validation_data=(X_test,y_test))\n",
        "\n"
      ]
    },
    {
      "cell_type": "code",
      "execution_count": 59,
      "metadata": {
        "id": "PGQTZPKg8ImT",
        "colab": {
          "base_uri": "https://localhost:8080/"
        },
        "outputId": "23acb5fe-51db-4cab-a5a8-bbd8c1cfda3f"
      },
      "outputs": [
        {
          "output_type": "stream",
          "name": "stdout",
          "text": [
            "2/2 [==============================] - 0s 5ms/step - loss: 2.9081 - acc: 0.0000e+00 - mse: 0.0000e+00\n"
          ]
        },
        {
          "output_type": "execute_result",
          "data": {
            "text/plain": [
              "[2.9081177711486816, 0.0, 0.0]"
            ]
          },
          "metadata": {},
          "execution_count": 59
        }
      ],
      "source": [
        "\n",
        "#just how we used evaluate() in the basic model previously, use it again to find the loss, accuracy and MSE on the test set\n",
        "model5.evaluate(X_test)\n"
      ]
    },
    {
      "cell_type": "code",
      "execution_count": 60,
      "metadata": {
        "id": "5BknhxeB8ImT",
        "colab": {
          "base_uri": "https://localhost:8080/",
          "height": 299
        },
        "outputId": "a518ec68-3d71-4362-9f8c-e655a554e7ad"
      },
      "outputs": [
        {
          "output_type": "display_data",
          "data": {
            "text/plain": [
              "<Figure size 432x288 with 1 Axes>"
            ],
            "image/png": "[encoded data removed]"
          },
          "metadata": {}
        }
      ],
      "source": [
        "# Plot the train loss vs validation loss and train accuracy vs validation accuracy graphs just like we did before\n",
        "\n",
        "plt.plot(hist5.history['acc'], label = 'train acc')\n",
        "plt.plot(hist5.history['val_acc'], label='val acc')\n",
        "plt.title(\"train acc vs Val_acc\")\n",
        "plt.xlabel(\"Epochs\")\n",
        "plt.ylabel(\"acc\")\n",
        "plt.legend()\n",
        "plt.show()\n",
        "\n"
      ]
    },
    {
      "cell_type": "markdown",
      "metadata": {
        "id": "YIIut8mz8ImT"
      },
      "source": [
        "\n",
        " \n",
        "\n",
        "## Dropout\n",
        " \n"
      ]
    },
    {
      "cell_type": "code",
      "execution_count": 71,
      "metadata": {
        "id": "QmKWYc2X8ImU",
        "colab": {
          "base_uri": "https://localhost:8080/"
        },
        "outputId": "10f10cf0-48bc-4929-cd08-56463a17bbeb"
      },
      "outputs": [
        {
          "output_type": "stream",
          "name": "stdout",
          "text": [
            "Model: \"sequential_14\"\n",
            "_________________________________________________________________\n",
            " Layer (type)                Output Shape              Param #   \n",
            "=================================================================\n",
            " dense_75 (Dense)            (None, 512)               2560      \n",
            "                                                                 \n",
            " dropout (Dropout)           (None, 512)               0         \n",
            "                                                                 \n",
            " dense_76 (Dense)            (None, 256)               131328    \n",
            "                                                                 \n",
            " dense_77 (Dense)            (None, 128)               32896     \n",
            "                                                                 \n",
            " dense_78 (Dense)            (None, 64)                8256      \n",
            "                                                                 \n",
            " dense_79 (Dense)            (None, 32)                2080      \n",
            "                                                                 \n",
            " dense_80 (Dense)            (None, 3)                 99        \n",
            "                                                                 \n",
            "=================================================================\n",
            "Total params: 177,219\n",
            "Trainable params: 177,219\n",
            "Non-trainable params: 0\n",
            "_________________________________________________________________\n",
            "None\n",
            "Epoch 1/150\n",
            "1/1 [==============================] - 1s 642ms/step - loss: 1.1431 - acc: 0.2857 - mse: 0.2335 - val_loss: 1.0851 - val_acc: 0.3947 - val_mse: 0.2202\n",
            "Epoch 2/150\n",
            "1/1 [==============================] - 0s 27ms/step - loss: 1.1150 - acc: 0.3304 - mse: 0.2274 - val_loss: 1.0580 - val_acc: 0.3947 - val_mse: 0.2144\n",
            "Epoch 3/150\n",
            "1/1 [==============================] - 0s 26ms/step - loss: 1.0939 - acc: 0.3482 - mse: 0.2224 - val_loss: 1.0292 - val_acc: 0.3947 - val_mse: 0.2080\n",
            "Epoch 4/150\n",
            "1/1 [==============================] - 0s 29ms/step - loss: 1.0578 - acc: 0.3125 - mse: 0.2150 - val_loss: 1.0023 - val_acc: 0.5789 - val_mse: 0.2019\n",
            "Epoch 5/150\n",
            "1/1 [==============================] - 0s 27ms/step - loss: 1.0322 - acc: 0.4554 - mse: 0.2095 - val_loss: 0.9764 - val_acc: 0.7105 - val_mse: 0.1959\n",
            "Epoch 6/150\n",
            "1/1 [==============================] - 0s 35ms/step - loss: 1.0138 - acc: 0.5000 - mse: 0.2051 - val_loss: 0.9518 - val_acc: 0.7368 - val_mse: 0.1902\n",
            "Epoch 7/150\n",
            "1/1 [==============================] - 0s 29ms/step - loss: 0.9826 - acc: 0.5000 - mse: 0.1986 - val_loss: 0.9290 - val_acc: 0.7105 - val_mse: 0.1847\n",
            "Epoch 8/150\n",
            "1/1 [==============================] - 0s 39ms/step - loss: 0.9697 - acc: 0.5268 - mse: 0.1949 - val_loss: 0.9066 - val_acc: 0.6842 - val_mse: 0.1794\n",
            "Epoch 9/150\n",
            "1/1 [==============================] - 0s 32ms/step - loss: 0.9412 - acc: 0.5893 - mse: 0.1889 - val_loss: 0.8850 - val_acc: 0.7105 - val_mse: 0.1743\n",
            "Epoch 10/150\n",
            "1/1 [==============================] - 0s 30ms/step - loss: 0.9275 - acc: 0.6696 - mse: 0.1859 - val_loss: 0.8635 - val_acc: 0.6842 - val_mse: 0.1691\n",
            "Epoch 11/150\n",
            "1/1 [==============================] - 0s 29ms/step - loss: 0.9077 - acc: 0.6250 - mse: 0.1807 - val_loss: 0.8443 - val_acc: 0.7105 - val_mse: 0.1645\n",
            "Epoch 12/150\n",
            "1/1 [==============================] - 0s 28ms/step - loss: 0.8820 - acc: 0.7054 - mse: 0.1746 - val_loss: 0.8242 - val_acc: 0.7895 - val_mse: 0.1597\n",
            "Epoch 13/150\n",
            "1/1 [==============================] - 0s 27ms/step - loss: 0.8464 - acc: 0.7500 - mse: 0.1659 - val_loss: 0.8060 - val_acc: 0.7895 - val_mse: 0.1554\n",
            "Epoch 14/150\n",
            "1/1 [==============================] - 0s 40ms/step - loss: 0.8447 - acc: 0.7232 - mse: 0.1663 - val_loss: 0.7894 - val_acc: 0.7895 - val_mse: 0.1514\n",
            "Epoch 15/150\n",
            "1/1 [==============================] - 0s 28ms/step - loss: 0.8359 - acc: 0.7411 - mse: 0.1634 - val_loss: 0.7738 - val_acc: 0.7895 - val_mse: 0.1477\n",
            "Epoch 16/150\n",
            "1/1 [==============================] - 0s 29ms/step - loss: 0.7900 - acc: 0.8214 - mse: 0.1525 - val_loss: 0.7591 - val_acc: 0.7895 - val_mse: 0.1443\n",
            "Epoch 17/150\n",
            "1/1 [==============================] - 0s 45ms/step - loss: 0.7684 - acc: 0.8393 - mse: 0.1472 - val_loss: 0.7453 - val_acc: 0.7895 - val_mse: 0.1411\n",
            "Epoch 18/150\n",
            "1/1 [==============================] - 0s 33ms/step - loss: 0.7583 - acc: 0.8482 - mse: 0.1443 - val_loss: 0.7320 - val_acc: 0.7895 - val_mse: 0.1381\n",
            "Epoch 19/150\n",
            "1/1 [==============================] - 0s 26ms/step - loss: 0.7433 - acc: 0.8036 - mse: 0.1416 - val_loss: 0.7196 - val_acc: 0.7632 - val_mse: 0.1353\n",
            "Epoch 20/150\n",
            "1/1 [==============================] - 0s 29ms/step - loss: 0.7350 - acc: 0.8304 - mse: 0.1393 - val_loss: 0.7080 - val_acc: 0.7368 - val_mse: 0.1328\n",
            "Epoch 21/150\n",
            "1/1 [==============================] - 0s 46ms/step - loss: 0.7114 - acc: 0.7857 - mse: 0.1342 - val_loss: 0.6965 - val_acc: 0.7368 - val_mse: 0.1302\n",
            "Epoch 22/150\n",
            "1/1 [==============================] - 0s 34ms/step - loss: 0.7024 - acc: 0.8214 - mse: 0.1321 - val_loss: 0.6858 - val_acc: 0.7368 - val_mse: 0.1279\n",
            "Epoch 23/150\n",
            "1/1 [==============================] - 0s 33ms/step - loss: 0.6740 - acc: 0.8214 - mse: 0.1249 - val_loss: 0.6762 - val_acc: 0.7368 - val_mse: 0.1259\n",
            "Epoch 24/150\n",
            "1/1 [==============================] - 0s 28ms/step - loss: 0.6668 - acc: 0.8482 - mse: 0.1235 - val_loss: 0.6667 - val_acc: 0.7368 - val_mse: 0.1239\n",
            "Epoch 25/150\n",
            "1/1 [==============================] - 0s 29ms/step - loss: 0.6655 - acc: 0.8750 - mse: 0.1235 - val_loss: 0.6581 - val_acc: 0.7368 - val_mse: 0.1222\n",
            "Epoch 26/150\n",
            "1/1 [==============================] - 0s 29ms/step - loss: 0.6614 - acc: 0.8304 - mse: 0.1225 - val_loss: 0.6496 - val_acc: 0.7368 - val_mse: 0.1205\n",
            "Epoch 27/150\n",
            "1/1 [==============================] - 0s 33ms/step - loss: 0.6103 - acc: 0.8839 - mse: 0.1098 - val_loss: 0.6417 - val_acc: 0.7368 - val_mse: 0.1189\n",
            "Epoch 28/150\n",
            "1/1 [==============================] - 0s 33ms/step - loss: 0.6047 - acc: 0.8750 - mse: 0.1089 - val_loss: 0.6342 - val_acc: 0.7368 - val_mse: 0.1175\n",
            "Epoch 29/150\n",
            "1/1 [==============================] - 0s 28ms/step - loss: 0.5991 - acc: 0.8482 - mse: 0.1076 - val_loss: 0.6270 - val_acc: 0.7368 - val_mse: 0.1161\n",
            "Epoch 30/150\n",
            "1/1 [==============================] - 0s 29ms/step - loss: 0.6028 - acc: 0.8393 - mse: 0.1090 - val_loss: 0.6201 - val_acc: 0.7368 - val_mse: 0.1149\n",
            "Epoch 31/150\n",
            "1/1 [==============================] - 0s 46ms/step - loss: 0.6022 - acc: 0.8304 - mse: 0.1093 - val_loss: 0.6138 - val_acc: 0.7368 - val_mse: 0.1138\n",
            "Epoch 32/150\n",
            "1/1 [==============================] - 0s 29ms/step - loss: 0.5836 - acc: 0.8482 - mse: 0.1049 - val_loss: 0.6080 - val_acc: 0.7368 - val_mse: 0.1128\n",
            "Epoch 33/150\n",
            "1/1 [==============================] - 0s 31ms/step - loss: 0.5647 - acc: 0.8571 - mse: 0.1007 - val_loss: 0.6021 - val_acc: 0.7368 - val_mse: 0.1118\n",
            "Epoch 34/150\n",
            "1/1 [==============================] - 0s 29ms/step - loss: 0.5503 - acc: 0.8839 - mse: 0.0968 - val_loss: 0.5965 - val_acc: 0.7368 - val_mse: 0.1108\n",
            "Epoch 35/150\n",
            "1/1 [==============================] - 0s 32ms/step - loss: 0.5494 - acc: 0.8571 - mse: 0.0973 - val_loss: 0.5913 - val_acc: 0.7368 - val_mse: 0.1100\n",
            "Epoch 36/150\n",
            "1/1 [==============================] - 0s 28ms/step - loss: 0.5272 - acc: 0.8661 - mse: 0.0925 - val_loss: 0.5869 - val_acc: 0.7368 - val_mse: 0.1093\n",
            "Epoch 37/150\n",
            "1/1 [==============================] - 0s 28ms/step - loss: 0.5326 - acc: 0.8482 - mse: 0.0943 - val_loss: 0.5824 - val_acc: 0.7368 - val_mse: 0.1087\n",
            "Epoch 38/150\n",
            "1/1 [==============================] - 0s 47ms/step - loss: 0.5170 - acc: 0.8571 - mse: 0.0904 - val_loss: 0.5777 - val_acc: 0.7368 - val_mse: 0.1080\n",
            "Epoch 39/150\n",
            "1/1 [==============================] - 0s 29ms/step - loss: 0.5177 - acc: 0.8750 - mse: 0.0906 - val_loss: 0.5731 - val_acc: 0.7368 - val_mse: 0.1073\n",
            "Epoch 40/150\n",
            "1/1 [==============================] - 0s 29ms/step - loss: 0.5056 - acc: 0.8571 - mse: 0.0885 - val_loss: 0.5691 - val_acc: 0.7368 - val_mse: 0.1068\n",
            "Epoch 41/150\n",
            "1/1 [==============================] - 0s 29ms/step - loss: 0.4985 - acc: 0.8929 - mse: 0.0864 - val_loss: 0.5650 - val_acc: 0.7368 - val_mse: 0.1062\n",
            "Epoch 42/150\n",
            "1/1 [==============================] - 0s 31ms/step - loss: 0.4753 - acc: 0.8839 - mse: 0.0814 - val_loss: 0.5610 - val_acc: 0.7368 - val_mse: 0.1057\n",
            "Epoch 43/150\n",
            "1/1 [==============================] - 0s 31ms/step - loss: 0.4882 - acc: 0.8482 - mse: 0.0850 - val_loss: 0.5574 - val_acc: 0.7368 - val_mse: 0.1052\n",
            "Epoch 44/150\n",
            "1/1 [==============================] - 0s 31ms/step - loss: 0.4725 - acc: 0.8661 - mse: 0.0810 - val_loss: 0.5537 - val_acc: 0.7368 - val_mse: 0.1048\n",
            "Epoch 45/150\n",
            "1/1 [==============================] - 0s 30ms/step - loss: 0.4750 - acc: 0.8750 - mse: 0.0823 - val_loss: 0.5500 - val_acc: 0.7368 - val_mse: 0.1043\n",
            "Epoch 46/150\n",
            "1/1 [==============================] - 0s 31ms/step - loss: 0.4531 - acc: 0.8661 - mse: 0.0772 - val_loss: 0.5468 - val_acc: 0.7368 - val_mse: 0.1039\n",
            "Epoch 47/150\n",
            "1/1 [==============================] - 0s 29ms/step - loss: 0.4426 - acc: 0.8750 - mse: 0.0752 - val_loss: 0.5438 - val_acc: 0.7368 - val_mse: 0.1036\n",
            "Epoch 48/150\n",
            "1/1 [==============================] - 0s 48ms/step - loss: 0.4423 - acc: 0.8929 - mse: 0.0750 - val_loss: 0.5406 - val_acc: 0.7368 - val_mse: 0.1032\n",
            "Epoch 49/150\n",
            "1/1 [==============================] - 0s 31ms/step - loss: 0.4471 - acc: 0.8929 - mse: 0.0772 - val_loss: 0.5376 - val_acc: 0.7368 - val_mse: 0.1029\n",
            "Epoch 50/150\n",
            "1/1 [==============================] - 0s 50ms/step - loss: 0.4469 - acc: 0.8750 - mse: 0.0769 - val_loss: 0.5346 - val_acc: 0.7368 - val_mse: 0.1026\n",
            "Epoch 51/150\n",
            "1/1 [==============================] - 0s 33ms/step - loss: 0.4380 - acc: 0.8571 - mse: 0.0751 - val_loss: 0.5316 - val_acc: 0.7368 - val_mse: 0.1023\n",
            "Epoch 52/150\n",
            "1/1 [==============================] - 0s 36ms/step - loss: 0.4375 - acc: 0.8571 - mse: 0.0756 - val_loss: 0.5290 - val_acc: 0.7368 - val_mse: 0.1020\n",
            "Epoch 53/150\n",
            "1/1 [==============================] - 0s 28ms/step - loss: 0.4279 - acc: 0.8750 - mse: 0.0727 - val_loss: 0.5263 - val_acc: 0.7368 - val_mse: 0.1018\n",
            "Epoch 54/150\n",
            "1/1 [==============================] - 0s 29ms/step - loss: 0.4287 - acc: 0.8750 - mse: 0.0732 - val_loss: 0.5234 - val_acc: 0.7368 - val_mse: 0.1014\n",
            "Epoch 55/150\n",
            "1/1 [==============================] - 0s 30ms/step - loss: 0.4256 - acc: 0.8750 - mse: 0.0730 - val_loss: 0.5211 - val_acc: 0.7368 - val_mse: 0.1012\n",
            "Epoch 56/150\n",
            "1/1 [==============================] - 0s 32ms/step - loss: 0.4135 - acc: 0.8839 - mse: 0.0701 - val_loss: 0.5188 - val_acc: 0.7368 - val_mse: 0.1010\n",
            "Epoch 57/150\n",
            "1/1 [==============================] - 0s 30ms/step - loss: 0.4162 - acc: 0.8839 - mse: 0.0714 - val_loss: 0.5157 - val_acc: 0.7368 - val_mse: 0.1007\n",
            "Epoch 58/150\n",
            "1/1 [==============================] - 0s 31ms/step - loss: 0.4046 - acc: 0.8750 - mse: 0.0682 - val_loss: 0.5135 - val_acc: 0.7368 - val_mse: 0.1005\n",
            "Epoch 59/150\n",
            "1/1 [==============================] - 0s 28ms/step - loss: 0.4202 - acc: 0.8571 - mse: 0.0735 - val_loss: 0.5114 - val_acc: 0.7368 - val_mse: 0.1003\n",
            "Epoch 60/150\n",
            "1/1 [==============================] - 0s 32ms/step - loss: 0.3890 - acc: 0.9018 - mse: 0.0655 - val_loss: 0.5095 - val_acc: 0.7368 - val_mse: 0.1002\n",
            "Epoch 61/150\n",
            "1/1 [==============================] - 0s 30ms/step - loss: 0.3781 - acc: 0.8929 - mse: 0.0636 - val_loss: 0.5074 - val_acc: 0.7368 - val_mse: 0.1000\n",
            "Epoch 62/150\n",
            "1/1 [==============================] - 0s 32ms/step - loss: 0.3946 - acc: 0.8571 - mse: 0.0670 - val_loss: 0.5051 - val_acc: 0.7368 - val_mse: 0.0998\n",
            "Epoch 63/150\n",
            "1/1 [==============================] - 0s 31ms/step - loss: 0.3935 - acc: 0.9018 - mse: 0.0672 - val_loss: 0.5031 - val_acc: 0.7368 - val_mse: 0.0996\n",
            "Epoch 64/150\n",
            "1/1 [==============================] - 0s 30ms/step - loss: 0.3918 - acc: 0.8839 - mse: 0.0675 - val_loss: 0.5009 - val_acc: 0.7368 - val_mse: 0.0994\n",
            "Epoch 65/150\n",
            "1/1 [==============================] - 0s 30ms/step - loss: 0.3818 - acc: 0.8929 - mse: 0.0651 - val_loss: 0.4988 - val_acc: 0.7368 - val_mse: 0.0992\n",
            "Epoch 66/150\n",
            "1/1 [==============================] - 0s 31ms/step - loss: 0.3807 - acc: 0.8750 - mse: 0.0655 - val_loss: 0.4969 - val_acc: 0.7368 - val_mse: 0.0990\n",
            "Epoch 67/150\n",
            "1/1 [==============================] - 0s 31ms/step - loss: 0.3781 - acc: 0.8750 - mse: 0.0640 - val_loss: 0.4949 - val_acc: 0.7368 - val_mse: 0.0988\n",
            "Epoch 68/150\n",
            "1/1 [==============================] - 0s 31ms/step - loss: 0.3712 - acc: 0.8839 - mse: 0.0634 - val_loss: 0.4927 - val_acc: 0.7368 - val_mse: 0.0986\n",
            "Epoch 69/150\n",
            "1/1 [==============================] - 0s 36ms/step - loss: 0.3650 - acc: 0.9018 - mse: 0.0617 - val_loss: 0.4906 - val_acc: 0.7368 - val_mse: 0.0984\n",
            "Epoch 70/150\n",
            "1/1 [==============================] - 0s 30ms/step - loss: 0.3744 - acc: 0.8929 - mse: 0.0646 - val_loss: 0.4889 - val_acc: 0.7368 - val_mse: 0.0982\n",
            "Epoch 71/150\n",
            "1/1 [==============================] - 0s 39ms/step - loss: 0.3513 - acc: 0.9018 - mse: 0.0595 - val_loss: 0.4876 - val_acc: 0.7368 - val_mse: 0.0982\n",
            "Epoch 72/150\n",
            "1/1 [==============================] - 0s 31ms/step - loss: 0.3629 - acc: 0.8750 - mse: 0.0627 - val_loss: 0.4859 - val_acc: 0.7368 - val_mse: 0.0981\n",
            "Epoch 73/150\n",
            "1/1 [==============================] - 0s 28ms/step - loss: 0.3541 - acc: 0.8839 - mse: 0.0609 - val_loss: 0.4838 - val_acc: 0.7368 - val_mse: 0.0978\n",
            "Epoch 74/150\n",
            "1/1 [==============================] - 0s 29ms/step - loss: 0.3491 - acc: 0.9107 - mse: 0.0591 - val_loss: 0.4824 - val_acc: 0.7368 - val_mse: 0.0977\n",
            "Epoch 75/150\n",
            "1/1 [==============================] - 0s 28ms/step - loss: 0.3455 - acc: 0.9018 - mse: 0.0588 - val_loss: 0.4811 - val_acc: 0.7368 - val_mse: 0.0976\n",
            "Epoch 76/150\n",
            "1/1 [==============================] - 0s 29ms/step - loss: 0.3474 - acc: 0.9018 - mse: 0.0588 - val_loss: 0.4795 - val_acc: 0.7368 - val_mse: 0.0975\n",
            "Epoch 77/150\n",
            "1/1 [==============================] - 0s 35ms/step - loss: 0.3516 - acc: 0.8929 - mse: 0.0612 - val_loss: 0.4777 - val_acc: 0.7368 - val_mse: 0.0973\n",
            "Epoch 78/150\n",
            "1/1 [==============================] - 0s 34ms/step - loss: 0.3392 - acc: 0.9107 - mse: 0.0583 - val_loss: 0.4760 - val_acc: 0.7368 - val_mse: 0.0971\n",
            "Epoch 79/150\n",
            "1/1 [==============================] - 0s 42ms/step - loss: 0.3375 - acc: 0.9107 - mse: 0.0579 - val_loss: 0.4747 - val_acc: 0.7368 - val_mse: 0.0970\n",
            "Epoch 80/150\n",
            "1/1 [==============================] - 0s 31ms/step - loss: 0.3310 - acc: 0.8839 - mse: 0.0566 - val_loss: 0.4729 - val_acc: 0.7368 - val_mse: 0.0968\n",
            "Epoch 81/150\n",
            "1/1 [==============================] - 0s 30ms/step - loss: 0.3318 - acc: 0.9196 - mse: 0.0559 - val_loss: 0.4712 - val_acc: 0.7632 - val_mse: 0.0966\n",
            "Epoch 82/150\n",
            "1/1 [==============================] - 0s 30ms/step - loss: 0.3253 - acc: 0.9018 - mse: 0.0555 - val_loss: 0.4697 - val_acc: 0.7632 - val_mse: 0.0965\n",
            "Epoch 83/150\n",
            "1/1 [==============================] - 0s 29ms/step - loss: 0.3175 - acc: 0.9196 - mse: 0.0531 - val_loss: 0.4680 - val_acc: 0.7632 - val_mse: 0.0963\n",
            "Epoch 84/150\n",
            "1/1 [==============================] - 0s 30ms/step - loss: 0.3239 - acc: 0.9107 - mse: 0.0548 - val_loss: 0.4668 - val_acc: 0.7632 - val_mse: 0.0962\n",
            "Epoch 85/150\n",
            "1/1 [==============================] - 0s 29ms/step - loss: 0.3245 - acc: 0.9107 - mse: 0.0554 - val_loss: 0.4652 - val_acc: 0.7632 - val_mse: 0.0960\n",
            "Epoch 86/150\n",
            "1/1 [==============================] - 0s 33ms/step - loss: 0.3166 - acc: 0.8929 - mse: 0.0543 - val_loss: 0.4633 - val_acc: 0.7632 - val_mse: 0.0958\n",
            "Epoch 87/150\n",
            "1/1 [==============================] - 0s 31ms/step - loss: 0.3289 - acc: 0.9018 - mse: 0.0573 - val_loss: 0.4617 - val_acc: 0.7632 - val_mse: 0.0956\n",
            "Epoch 88/150\n",
            "1/1 [==============================] - 0s 32ms/step - loss: 0.3201 - acc: 0.9018 - mse: 0.0553 - val_loss: 0.4604 - val_acc: 0.7632 - val_mse: 0.0955\n",
            "Epoch 89/150\n",
            "1/1 [==============================] - 0s 31ms/step - loss: 0.3257 - acc: 0.9018 - mse: 0.0567 - val_loss: 0.4587 - val_acc: 0.7632 - val_mse: 0.0953\n",
            "Epoch 90/150\n",
            "1/1 [==============================] - 0s 33ms/step - loss: 0.3106 - acc: 0.9107 - mse: 0.0530 - val_loss: 0.4573 - val_acc: 0.7632 - val_mse: 0.0951\n",
            "Epoch 91/150\n",
            "1/1 [==============================] - 0s 31ms/step - loss: 0.3053 - acc: 0.9107 - mse: 0.0519 - val_loss: 0.4559 - val_acc: 0.7632 - val_mse: 0.0950\n",
            "Epoch 92/150\n",
            "1/1 [==============================] - 0s 31ms/step - loss: 0.3166 - acc: 0.8929 - mse: 0.0550 - val_loss: 0.4543 - val_acc: 0.7632 - val_mse: 0.0948\n",
            "Epoch 93/150\n",
            "1/1 [==============================] - 0s 33ms/step - loss: 0.3119 - acc: 0.9107 - mse: 0.0537 - val_loss: 0.4527 - val_acc: 0.7632 - val_mse: 0.0946\n",
            "Epoch 94/150\n",
            "1/1 [==============================] - 0s 51ms/step - loss: 0.3088 - acc: 0.9107 - mse: 0.0535 - val_loss: 0.4512 - val_acc: 0.7632 - val_mse: 0.0944\n",
            "Epoch 95/150\n",
            "1/1 [==============================] - 0s 33ms/step - loss: 0.3085 - acc: 0.9286 - mse: 0.0532 - val_loss: 0.4496 - val_acc: 0.7632 - val_mse: 0.0942\n",
            "Epoch 96/150\n",
            "1/1 [==============================] - 0s 31ms/step - loss: 0.3080 - acc: 0.9107 - mse: 0.0537 - val_loss: 0.4483 - val_acc: 0.7632 - val_mse: 0.0940\n",
            "Epoch 97/150\n",
            "1/1 [==============================] - 0s 32ms/step - loss: 0.3041 - acc: 0.9286 - mse: 0.0524 - val_loss: 0.4470 - val_acc: 0.7632 - val_mse: 0.0939\n",
            "Epoch 98/150\n",
            "1/1 [==============================] - 0s 28ms/step - loss: 0.2988 - acc: 0.9196 - mse: 0.0515 - val_loss: 0.4455 - val_acc: 0.7632 - val_mse: 0.0937\n",
            "Epoch 99/150\n",
            "1/1 [==============================] - 0s 32ms/step - loss: 0.3070 - acc: 0.9107 - mse: 0.0539 - val_loss: 0.4441 - val_acc: 0.7632 - val_mse: 0.0935\n",
            "Epoch 100/150\n",
            "1/1 [==============================] - 0s 29ms/step - loss: 0.2935 - acc: 0.9196 - mse: 0.0504 - val_loss: 0.4430 - val_acc: 0.7632 - val_mse: 0.0934\n",
            "Epoch 101/150\n",
            "1/1 [==============================] - 0s 30ms/step - loss: 0.2745 - acc: 0.9375 - mse: 0.0454 - val_loss: 0.4416 - val_acc: 0.7632 - val_mse: 0.0932\n",
            "Epoch 102/150\n",
            "1/1 [==============================] - 0s 31ms/step - loss: 0.2928 - acc: 0.9107 - mse: 0.0504 - val_loss: 0.4400 - val_acc: 0.7632 - val_mse: 0.0930\n",
            "Epoch 103/150\n",
            "1/1 [==============================] - 0s 31ms/step - loss: 0.2959 - acc: 0.9196 - mse: 0.0511 - val_loss: 0.4384 - val_acc: 0.7632 - val_mse: 0.0927\n",
            "Epoch 104/150\n",
            "1/1 [==============================] - 0s 31ms/step - loss: 0.2944 - acc: 0.9196 - mse: 0.0511 - val_loss: 0.4370 - val_acc: 0.7632 - val_mse: 0.0925\n",
            "Epoch 105/150\n",
            "1/1 [==============================] - 0s 33ms/step - loss: 0.2868 - acc: 0.9375 - mse: 0.0489 - val_loss: 0.4353 - val_acc: 0.7632 - val_mse: 0.0923\n",
            "Epoch 106/150\n",
            "1/1 [==============================] - 0s 31ms/step - loss: 0.2898 - acc: 0.8929 - mse: 0.0508 - val_loss: 0.4340 - val_acc: 0.7632 - val_mse: 0.0921\n",
            "Epoch 107/150\n",
            "1/1 [==============================] - 0s 50ms/step - loss: 0.2828 - acc: 0.9375 - mse: 0.0490 - val_loss: 0.4329 - val_acc: 0.7632 - val_mse: 0.0919\n",
            "Epoch 108/150\n",
            "1/1 [==============================] - 0s 29ms/step - loss: 0.2833 - acc: 0.9107 - mse: 0.0491 - val_loss: 0.4314 - val_acc: 0.7632 - val_mse: 0.0917\n",
            "Epoch 109/150\n",
            "1/1 [==============================] - 0s 36ms/step - loss: 0.2738 - acc: 0.9196 - mse: 0.0471 - val_loss: 0.4301 - val_acc: 0.7632 - val_mse: 0.0915\n",
            "Epoch 110/150\n",
            "1/1 [==============================] - 0s 38ms/step - loss: 0.2924 - acc: 0.9018 - mse: 0.0519 - val_loss: 0.4285 - val_acc: 0.7632 - val_mse: 0.0913\n",
            "Epoch 111/150\n",
            "1/1 [==============================] - 0s 34ms/step - loss: 0.2765 - acc: 0.9018 - mse: 0.0474 - val_loss: 0.4273 - val_acc: 0.7632 - val_mse: 0.0911\n",
            "Epoch 112/150\n",
            "1/1 [==============================] - 0s 32ms/step - loss: 0.2790 - acc: 0.9286 - mse: 0.0486 - val_loss: 0.4258 - val_acc: 0.7632 - val_mse: 0.0909\n",
            "Epoch 113/150\n",
            "1/1 [==============================] - 0s 31ms/step - loss: 0.2899 - acc: 0.9196 - mse: 0.0511 - val_loss: 0.4239 - val_acc: 0.7632 - val_mse: 0.0905\n",
            "Epoch 114/150\n",
            "1/1 [==============================] - 0s 29ms/step - loss: 0.2803 - acc: 0.9196 - mse: 0.0497 - val_loss: 0.4224 - val_acc: 0.7632 - val_mse: 0.0903\n",
            "Epoch 115/150\n",
            "1/1 [==============================] - 0s 31ms/step - loss: 0.2699 - acc: 0.9375 - mse: 0.0460 - val_loss: 0.4211 - val_acc: 0.7632 - val_mse: 0.0901\n",
            "Epoch 116/150\n",
            "1/1 [==============================] - 0s 31ms/step - loss: 0.2650 - acc: 0.9286 - mse: 0.0454 - val_loss: 0.4196 - val_acc: 0.7632 - val_mse: 0.0898\n",
            "Epoch 117/150\n",
            "1/1 [==============================] - 0s 34ms/step - loss: 0.2579 - acc: 0.9464 - mse: 0.0426 - val_loss: 0.4184 - val_acc: 0.7632 - val_mse: 0.0897\n",
            "Epoch 118/150\n",
            "1/1 [==============================] - 0s 39ms/step - loss: 0.2708 - acc: 0.9107 - mse: 0.0479 - val_loss: 0.4170 - val_acc: 0.7632 - val_mse: 0.0895\n",
            "Epoch 119/150\n",
            "1/1 [==============================] - 0s 32ms/step - loss: 0.2610 - acc: 0.9375 - mse: 0.0442 - val_loss: 0.4153 - val_acc: 0.7632 - val_mse: 0.0892\n",
            "Epoch 120/150\n",
            "1/1 [==============================] - 0s 31ms/step - loss: 0.2516 - acc: 0.9286 - mse: 0.0426 - val_loss: 0.4138 - val_acc: 0.7632 - val_mse: 0.0889\n",
            "Epoch 121/150\n",
            "1/1 [==============================] - 0s 43ms/step - loss: 0.2675 - acc: 0.9196 - mse: 0.0470 - val_loss: 0.4125 - val_acc: 0.7632 - val_mse: 0.0887\n",
            "Epoch 122/150\n",
            "1/1 [==============================] - 0s 42ms/step - loss: 0.2543 - acc: 0.9196 - mse: 0.0428 - val_loss: 0.4109 - val_acc: 0.7632 - val_mse: 0.0884\n",
            "Epoch 123/150\n",
            "1/1 [==============================] - 0s 44ms/step - loss: 0.2517 - acc: 0.9196 - mse: 0.0436 - val_loss: 0.4090 - val_acc: 0.7632 - val_mse: 0.0880\n",
            "Epoch 124/150\n",
            "1/1 [==============================] - 0s 40ms/step - loss: 0.2595 - acc: 0.9196 - mse: 0.0443 - val_loss: 0.4076 - val_acc: 0.7632 - val_mse: 0.0878\n",
            "Epoch 125/150\n",
            "1/1 [==============================] - 0s 45ms/step - loss: 0.2619 - acc: 0.9196 - mse: 0.0460 - val_loss: 0.4063 - val_acc: 0.7632 - val_mse: 0.0876\n",
            "Epoch 126/150\n",
            "1/1 [==============================] - 0s 56ms/step - loss: 0.2485 - acc: 0.9554 - mse: 0.0420 - val_loss: 0.4051 - val_acc: 0.7632 - val_mse: 0.0874\n",
            "Epoch 127/150\n",
            "1/1 [==============================] - 0s 60ms/step - loss: 0.2555 - acc: 0.9464 - mse: 0.0427 - val_loss: 0.4039 - val_acc: 0.7632 - val_mse: 0.0872\n",
            "Epoch 128/150\n",
            "1/1 [==============================] - 0s 66ms/step - loss: 0.2572 - acc: 0.9464 - mse: 0.0444 - val_loss: 0.4029 - val_acc: 0.7632 - val_mse: 0.0871\n",
            "Epoch 129/150\n",
            "1/1 [==============================] - 0s 50ms/step - loss: 0.2636 - acc: 0.9107 - mse: 0.0470 - val_loss: 0.4012 - val_acc: 0.7632 - val_mse: 0.0868\n",
            "Epoch 130/150\n",
            "1/1 [==============================] - 0s 55ms/step - loss: 0.2542 - acc: 0.9286 - mse: 0.0444 - val_loss: 0.3997 - val_acc: 0.7632 - val_mse: 0.0865\n",
            "Epoch 131/150\n",
            "1/1 [==============================] - 0s 43ms/step - loss: 0.2358 - acc: 0.9375 - mse: 0.0397 - val_loss: 0.3982 - val_acc: 0.7632 - val_mse: 0.0862\n",
            "Epoch 132/150\n",
            "1/1 [==============================] - 0s 42ms/step - loss: 0.2429 - acc: 0.9375 - mse: 0.0414 - val_loss: 0.3969 - val_acc: 0.7632 - val_mse: 0.0860\n",
            "Epoch 133/150\n",
            "1/1 [==============================] - 0s 42ms/step - loss: 0.2438 - acc: 0.9286 - mse: 0.0421 - val_loss: 0.3955 - val_acc: 0.7632 - val_mse: 0.0857\n",
            "Epoch 134/150\n",
            "1/1 [==============================] - 0s 56ms/step - loss: 0.2506 - acc: 0.9196 - mse: 0.0435 - val_loss: 0.3942 - val_acc: 0.7632 - val_mse: 0.0855\n",
            "Epoch 135/150\n",
            "1/1 [==============================] - 0s 55ms/step - loss: 0.2359 - acc: 0.9464 - mse: 0.0395 - val_loss: 0.3933 - val_acc: 0.7632 - val_mse: 0.0854\n",
            "Epoch 136/150\n",
            "1/1 [==============================] - 0s 41ms/step - loss: 0.2268 - acc: 0.9375 - mse: 0.0373 - val_loss: 0.3916 - val_acc: 0.7632 - val_mse: 0.0851\n",
            "Epoch 137/150\n",
            "1/1 [==============================] - 0s 42ms/step - loss: 0.2319 - acc: 0.9464 - mse: 0.0392 - val_loss: 0.3901 - val_acc: 0.7632 - val_mse: 0.0848\n",
            "Epoch 138/150\n",
            "1/1 [==============================] - 0s 42ms/step - loss: 0.2340 - acc: 0.9554 - mse: 0.0392 - val_loss: 0.3882 - val_acc: 0.7632 - val_mse: 0.0844\n",
            "Epoch 139/150\n",
            "1/1 [==============================] - 0s 40ms/step - loss: 0.2366 - acc: 0.9286 - mse: 0.0409 - val_loss: 0.3865 - val_acc: 0.7632 - val_mse: 0.0840\n",
            "Epoch 140/150\n",
            "1/1 [==============================] - 0s 44ms/step - loss: 0.2368 - acc: 0.9286 - mse: 0.0406 - val_loss: 0.3852 - val_acc: 0.7632 - val_mse: 0.0838\n",
            "Epoch 141/150\n",
            "1/1 [==============================] - 0s 48ms/step - loss: 0.2313 - acc: 0.9375 - mse: 0.0395 - val_loss: 0.3836 - val_acc: 0.7895 - val_mse: 0.0835\n",
            "Epoch 142/150\n",
            "1/1 [==============================] - 0s 41ms/step - loss: 0.2382 - acc: 0.9375 - mse: 0.0415 - val_loss: 0.3821 - val_acc: 0.7895 - val_mse: 0.0832\n",
            "Epoch 143/150\n",
            "1/1 [==============================] - 0s 40ms/step - loss: 0.2390 - acc: 0.9286 - mse: 0.0416 - val_loss: 0.3804 - val_acc: 0.7895 - val_mse: 0.0828\n",
            "Epoch 144/150\n",
            "1/1 [==============================] - 0s 53ms/step - loss: 0.2208 - acc: 0.9643 - mse: 0.0361 - val_loss: 0.3789 - val_acc: 0.7895 - val_mse: 0.0826\n",
            "Epoch 145/150\n",
            "1/1 [==============================] - 0s 39ms/step - loss: 0.2201 - acc: 0.9375 - mse: 0.0371 - val_loss: 0.3776 - val_acc: 0.7895 - val_mse: 0.0823\n",
            "Epoch 146/150\n",
            "1/1 [==============================] - 0s 41ms/step - loss: 0.2255 - acc: 0.9375 - mse: 0.0384 - val_loss: 0.3759 - val_acc: 0.7895 - val_mse: 0.0819\n",
            "Epoch 147/150\n",
            "1/1 [==============================] - 0s 41ms/step - loss: 0.2192 - acc: 0.9464 - mse: 0.0372 - val_loss: 0.3749 - val_acc: 0.7895 - val_mse: 0.0818\n",
            "Epoch 148/150\n",
            "1/1 [==============================] - 0s 45ms/step - loss: 0.2192 - acc: 0.9554 - mse: 0.0367 - val_loss: 0.3737 - val_acc: 0.7895 - val_mse: 0.0816\n",
            "Epoch 149/150\n",
            "1/1 [==============================] - 0s 44ms/step - loss: 0.2214 - acc: 0.9375 - mse: 0.0373 - val_loss: 0.3726 - val_acc: 0.7895 - val_mse: 0.0814\n",
            "Epoch 150/150\n",
            "1/1 [==============================] - 0s 48ms/step - loss: 0.2218 - acc: 0.9375 - mse: 0.0376 - val_loss: 0.3711 - val_acc: 0.7895 - val_mse: 0.0811\n"
          ]
        }
      ],
      "source": [
        "\n",
        "#Another common way to avoid regularization is by using the Dropout technique. The main idea behind using dropout is that we randomly turn off some neurons in our layer based on some probability.\n",
        "\n",
        "# Create a model6 having same layers as the basic model. Add a dropout layer in this model, lets say after the 1st dense layer, and set dropout rate as 50%\n",
        "import tensorflow as tf\n",
        "model6 = Sequential([\n",
        "    Dense(512, activation='tanh', input_shape = X_train[0].shape),\n",
        "    layers.Dropout(0.5),\n",
        "    Dense(512//2, activation='tanh'),\n",
        "    Dense(512//4, activation='tanh'),\n",
        "    Dense(512//8, activation='tanh'),\n",
        "    Dense(32, activation='relu'),\n",
        "    Dense(3, activation='softmax')\n",
        "])\n",
        "print(model6.summary())\n",
        "model6.compile(optimizer='sgd',loss='categorical_crossentropy', metrics=['acc', 'mse'])\n",
        "\n",
        "hist6 = model6.fit(X_train, y_train, epochs=150, batch_size=128, validation_data=(X_test,y_test))\n",
        "\n",
        " \n"
      ]
    },
    {
      "cell_type": "code",
      "execution_count": 72,
      "metadata": {
        "id": "HtVFeUlk8ImU",
        "colab": {
          "base_uri": "https://localhost:8080/"
        },
        "outputId": "92064bb9-97de-48cc-8403-8dc88a5e5d5b"
      },
      "outputs": [
        {
          "output_type": "stream",
          "name": "stdout",
          "text": [
            "2/2 [==============================] - 0s 5ms/step - loss: 0.0000e+00 - acc: 0.0000e+00 - mse: 0.0000e+00\n"
          ]
        },
        {
          "output_type": "execute_result",
          "data": {
            "text/plain": [
              "[0.0, 0.0, 0.0]"
            ]
          },
          "metadata": {},
          "execution_count": 72
        }
      ],
      "source": [
        "#just how we used evaluate() in the basic model previously, use it again to find the loss, accuracy and MSE on the test set\n",
        "model6.evaluate(X_test)\n",
        " \n"
      ]
    },
    {
      "cell_type": "code",
      "execution_count": 73,
      "metadata": {
        "id": "BpGT-ISM8ImU",
        "colab": {
          "base_uri": "https://localhost:8080/",
          "height": 299
        },
        "outputId": "f1a9ca8a-7c12-488f-a8d3-25eccffb5afb"
      },
      "outputs": [
        {
          "output_type": "display_data",
          "data": {
            "text/plain": [
              "<Figure size 432x288 with 1 Axes>"
            ],
            "image/png": "[encoded data removed]"
          },
          "metadata": {}
        }
      ],
      "source": [
        "\n",
        "# Plot the train loss vs validation loss and train accuracy vs validation accuracy graphs just like we did before\n",
        "plt.plot(hist6.history['acc'], label = 'train acc')\n",
        "plt.plot(hist6.history['val_acc'], label='val acc')\n",
        "plt.title(\"train acc vs Val_acc\")\n",
        "plt.xlabel(\"Epochs\")\n",
        "plt.ylabel(\"acc\")\n",
        "plt.legend()\n",
        "plt.show()\n",
        "\n"
      ]
    },
    {
      "cell_type": "code",
      "execution_count": 74,
      "metadata": {
        "id": "TXbA4WoQ8ImU",
        "colab": {
          "base_uri": "https://localhost:8080/"
        },
        "outputId": "de518e8c-6763-49d4-ca91-c79284fd3e66"
      },
      "outputs": [
        {
          "output_type": "stream",
          "name": "stdout",
          "text": [
            "Model: \"sequential_15\"\n",
            "_________________________________________________________________\n",
            " Layer (type)                Output Shape              Param #   \n",
            "=================================================================\n",
            " dense_81 (Dense)            (None, 512)               2560      \n",
            "                                                                 \n",
            " dropout_1 (Dropout)         (None, 512)               0         \n",
            "                                                                 \n",
            " dense_82 (Dense)            (None, 256)               131328    \n",
            "                                                                 \n",
            " dropout_2 (Dropout)         (None, 256)               0         \n",
            "                                                                 \n",
            " dense_83 (Dense)            (None, 128)               32896     \n",
            "                                                                 \n",
            " dropout_3 (Dropout)         (None, 128)               0         \n",
            "                                                                 \n",
            " dense_84 (Dense)            (None, 64)                8256      \n",
            "                                                                 \n",
            " dropout_4 (Dropout)         (None, 64)                0         \n",
            "                                                                 \n",
            " dense_85 (Dense)            (None, 32)                2080      \n",
            "                                                                 \n",
            " dense_86 (Dense)            (None, 3)                 99        \n",
            "                                                                 \n",
            "=================================================================\n",
            "Total params: 177,219\n",
            "Trainable params: 177,219\n",
            "Non-trainable params: 0\n",
            "_________________________________________________________________\n",
            "None\n",
            "Epoch 1/150\n",
            "1/1 [==============================] - 1s 702ms/step - loss: 1.2537 - acc: 0.3036 - mse: 0.2549 - val_loss: 1.1552 - val_acc: 0.3947 - val_mse: 0.2340\n",
            "Epoch 2/150\n",
            "1/1 [==============================] - 0s 35ms/step - loss: 1.2332 - acc: 0.3304 - mse: 0.2526 - val_loss: 1.1199 - val_acc: 0.3947 - val_mse: 0.2271\n",
            "Epoch 3/150\n",
            "1/1 [==============================] - 0s 31ms/step - loss: 1.1696 - acc: 0.3393 - mse: 0.2386 - val_loss: 1.0897 - val_acc: 0.3947 - val_mse: 0.2210\n",
            "Epoch 4/150\n",
            "1/1 [==============================] - 0s 55ms/step - loss: 1.1866 - acc: 0.2946 - mse: 0.2427 - val_loss: 1.0602 - val_acc: 0.3684 - val_mse: 0.2147\n",
            "Epoch 5/150\n",
            "1/1 [==============================] - 0s 40ms/step - loss: 1.1651 - acc: 0.3571 - mse: 0.2400 - val_loss: 1.0328 - val_acc: 0.3421 - val_mse: 0.2087\n",
            "Epoch 6/150\n",
            "1/1 [==============================] - 0s 33ms/step - loss: 1.1018 - acc: 0.3482 - mse: 0.2254 - val_loss: 1.0104 - val_acc: 0.4211 - val_mse: 0.2037\n",
            "Epoch 7/150\n",
            "1/1 [==============================] - 0s 32ms/step - loss: 1.0847 - acc: 0.3929 - mse: 0.2209 - val_loss: 0.9902 - val_acc: 0.6053 - val_mse: 0.1992\n",
            "Epoch 8/150\n",
            "1/1 [==============================] - 0s 50ms/step - loss: 1.0784 - acc: 0.4196 - mse: 0.2223 - val_loss: 0.9715 - val_acc: 0.6842 - val_mse: 0.1949\n",
            "Epoch 9/150\n",
            "1/1 [==============================] - 0s 32ms/step - loss: 1.0637 - acc: 0.3571 - mse: 0.2199 - val_loss: 0.9554 - val_acc: 0.7368 - val_mse: 0.1911\n",
            "Epoch 10/150\n",
            "1/1 [==============================] - 0s 32ms/step - loss: 0.9988 - acc: 0.5089 - mse: 0.2034 - val_loss: 0.9400 - val_acc: 0.7368 - val_mse: 0.1876\n",
            "Epoch 11/150\n",
            "1/1 [==============================] - 0s 30ms/step - loss: 1.0230 - acc: 0.4375 - mse: 0.2104 - val_loss: 0.9260 - val_acc: 0.7632 - val_mse: 0.1843\n",
            "Epoch 12/150\n",
            "1/1 [==============================] - 0s 30ms/step - loss: 0.9766 - acc: 0.5268 - mse: 0.1990 - val_loss: 0.9126 - val_acc: 0.7368 - val_mse: 0.1812\n",
            "Epoch 13/150\n",
            "1/1 [==============================] - 0s 31ms/step - loss: 0.9842 - acc: 0.5089 - mse: 0.2013 - val_loss: 0.8998 - val_acc: 0.7368 - val_mse: 0.1782\n",
            "Epoch 14/150\n",
            "1/1 [==============================] - 0s 30ms/step - loss: 0.9779 - acc: 0.4911 - mse: 0.2010 - val_loss: 0.8874 - val_acc: 0.7368 - val_mse: 0.1753\n",
            "Epoch 15/150\n",
            "1/1 [==============================] - 0s 33ms/step - loss: 0.9539 - acc: 0.5268 - mse: 0.1940 - val_loss: 0.8750 - val_acc: 0.7368 - val_mse: 0.1724\n",
            "Epoch 16/150\n",
            "1/1 [==============================] - 0s 30ms/step - loss: 0.9001 - acc: 0.6071 - mse: 0.1811 - val_loss: 0.8625 - val_acc: 0.7105 - val_mse: 0.1695\n",
            "Epoch 17/150\n",
            "1/1 [==============================] - 0s 49ms/step - loss: 0.9370 - acc: 0.5714 - mse: 0.1908 - val_loss: 0.8507 - val_acc: 0.7105 - val_mse: 0.1667\n",
            "Epoch 18/150\n",
            "1/1 [==============================] - 0s 33ms/step - loss: 0.8731 - acc: 0.6250 - mse: 0.1752 - val_loss: 0.8399 - val_acc: 0.7105 - val_mse: 0.1642\n",
            "Epoch 19/150\n",
            "1/1 [==============================] - 0s 34ms/step - loss: 0.9052 - acc: 0.6250 - mse: 0.1832 - val_loss: 0.8286 - val_acc: 0.7105 - val_mse: 0.1616\n",
            "Epoch 20/150\n",
            "1/1 [==============================] - 0s 35ms/step - loss: 0.8768 - acc: 0.6339 - mse: 0.1766 - val_loss: 0.8184 - val_acc: 0.6842 - val_mse: 0.1592\n",
            "Epoch 21/150\n",
            "1/1 [==============================] - 0s 61ms/step - loss: 0.8294 - acc: 0.6875 - mse: 0.1648 - val_loss: 0.8071 - val_acc: 0.7105 - val_mse: 0.1567\n",
            "Epoch 22/150\n",
            "1/1 [==============================] - 0s 31ms/step - loss: 0.8513 - acc: 0.6964 - mse: 0.1698 - val_loss: 0.7970 - val_acc: 0.7105 - val_mse: 0.1544\n",
            "Epoch 23/150\n",
            "1/1 [==============================] - 0s 34ms/step - loss: 0.8213 - acc: 0.7054 - mse: 0.1632 - val_loss: 0.7874 - val_acc: 0.7105 - val_mse: 0.1523\n",
            "Epoch 24/150\n",
            "1/1 [==============================] - 0s 31ms/step - loss: 0.7752 - acc: 0.7768 - mse: 0.1523 - val_loss: 0.7783 - val_acc: 0.7105 - val_mse: 0.1503\n",
            "Epoch 25/150\n",
            "1/1 [==============================] - 0s 51ms/step - loss: 0.7896 - acc: 0.7500 - mse: 0.1549 - val_loss: 0.7692 - val_acc: 0.7105 - val_mse: 0.1484\n",
            "Epoch 26/150\n",
            "1/1 [==============================] - 0s 33ms/step - loss: 0.7932 - acc: 0.7143 - mse: 0.1573 - val_loss: 0.7612 - val_acc: 0.7105 - val_mse: 0.1467\n",
            "Epoch 27/150\n",
            "1/1 [==============================] - 0s 37ms/step - loss: 0.7611 - acc: 0.7411 - mse: 0.1490 - val_loss: 0.7524 - val_acc: 0.7105 - val_mse: 0.1448\n",
            "Epoch 28/150\n",
            "1/1 [==============================] - 0s 31ms/step - loss: 0.7681 - acc: 0.7500 - mse: 0.1512 - val_loss: 0.7444 - val_acc: 0.7105 - val_mse: 0.1432\n",
            "Epoch 29/150\n",
            "1/1 [==============================] - 0s 31ms/step - loss: 0.7528 - acc: 0.7500 - mse: 0.1473 - val_loss: 0.7365 - val_acc: 0.7105 - val_mse: 0.1416\n",
            "Epoch 30/150\n",
            "1/1 [==============================] - 0s 40ms/step - loss: 0.7526 - acc: 0.7500 - mse: 0.1469 - val_loss: 0.7293 - val_acc: 0.7105 - val_mse: 0.1402\n",
            "Epoch 31/150\n",
            "1/1 [==============================] - 0s 33ms/step - loss: 0.7367 - acc: 0.7768 - mse: 0.1430 - val_loss: 0.7224 - val_acc: 0.7105 - val_mse: 0.1389\n",
            "Epoch 32/150\n",
            "1/1 [==============================] - 0s 31ms/step - loss: 0.7267 - acc: 0.7768 - mse: 0.1399 - val_loss: 0.7161 - val_acc: 0.7105 - val_mse: 0.1377\n",
            "Epoch 33/150\n",
            "1/1 [==============================] - 0s 30ms/step - loss: 0.6916 - acc: 0.8214 - mse: 0.1316 - val_loss: 0.7089 - val_acc: 0.7105 - val_mse: 0.1363\n",
            "Epoch 34/150\n",
            "1/1 [==============================] - 0s 34ms/step - loss: 0.7106 - acc: 0.7411 - mse: 0.1374 - val_loss: 0.7027 - val_acc: 0.7105 - val_mse: 0.1352\n",
            "Epoch 35/150\n",
            "1/1 [==============================] - 0s 41ms/step - loss: 0.6810 - acc: 0.7768 - mse: 0.1308 - val_loss: 0.6964 - val_acc: 0.7105 - val_mse: 0.1341\n",
            "Epoch 36/150\n",
            "1/1 [==============================] - 0s 34ms/step - loss: 0.6619 - acc: 0.8214 - mse: 0.1252 - val_loss: 0.6897 - val_acc: 0.7105 - val_mse: 0.1328\n",
            "Epoch 37/150\n",
            "1/1 [==============================] - 0s 34ms/step - loss: 0.6686 - acc: 0.7768 - mse: 0.1282 - val_loss: 0.6842 - val_acc: 0.7105 - val_mse: 0.1319\n",
            "Epoch 38/150\n",
            "1/1 [==============================] - 0s 34ms/step - loss: 0.6558 - acc: 0.8036 - mse: 0.1245 - val_loss: 0.6780 - val_acc: 0.7105 - val_mse: 0.1308\n",
            "Epoch 39/150\n",
            "1/1 [==============================] - 0s 38ms/step - loss: 0.6180 - acc: 0.8393 - mse: 0.1150 - val_loss: 0.6715 - val_acc: 0.7105 - val_mse: 0.1296\n",
            "Epoch 40/150\n",
            "1/1 [==============================] - 0s 36ms/step - loss: 0.6349 - acc: 0.7857 - mse: 0.1208 - val_loss: 0.6658 - val_acc: 0.7105 - val_mse: 0.1286\n",
            "Epoch 41/150\n",
            "1/1 [==============================] - 0s 35ms/step - loss: 0.6211 - acc: 0.7946 - mse: 0.1167 - val_loss: 0.6610 - val_acc: 0.7105 - val_mse: 0.1279\n",
            "Epoch 42/150\n",
            "1/1 [==============================] - 0s 35ms/step - loss: 0.6406 - acc: 0.8304 - mse: 0.1207 - val_loss: 0.6562 - val_acc: 0.7105 - val_mse: 0.1271\n",
            "Epoch 43/150\n",
            "1/1 [==============================] - 0s 39ms/step - loss: 0.6353 - acc: 0.7946 - mse: 0.1197 - val_loss: 0.6514 - val_acc: 0.7105 - val_mse: 0.1264\n",
            "Epoch 44/150\n",
            "1/1 [==============================] - 0s 40ms/step - loss: 0.6191 - acc: 0.8304 - mse: 0.1162 - val_loss: 0.6459 - val_acc: 0.7105 - val_mse: 0.1255\n",
            "Epoch 45/150\n",
            "1/1 [==============================] - 0s 39ms/step - loss: 0.6172 - acc: 0.8214 - mse: 0.1169 - val_loss: 0.6411 - val_acc: 0.7105 - val_mse: 0.1248\n",
            "Epoch 46/150\n",
            "1/1 [==============================] - 0s 36ms/step - loss: 0.5772 - acc: 0.8036 - mse: 0.1071 - val_loss: 0.6362 - val_acc: 0.7105 - val_mse: 0.1240\n",
            "Epoch 47/150\n",
            "1/1 [==============================] - 0s 38ms/step - loss: 0.5892 - acc: 0.7857 - mse: 0.1096 - val_loss: 0.6314 - val_acc: 0.7105 - val_mse: 0.1233\n",
            "Epoch 48/150\n",
            "1/1 [==============================] - 0s 38ms/step - loss: 0.5944 - acc: 0.7857 - mse: 0.1108 - val_loss: 0.6268 - val_acc: 0.7105 - val_mse: 0.1226\n",
            "Epoch 49/150\n",
            "1/1 [==============================] - 0s 36ms/step - loss: 0.5753 - acc: 0.8125 - mse: 0.1069 - val_loss: 0.6223 - val_acc: 0.7105 - val_mse: 0.1219\n",
            "Epoch 50/150\n",
            "1/1 [==============================] - 0s 37ms/step - loss: 0.5560 - acc: 0.8036 - mse: 0.1027 - val_loss: 0.6185 - val_acc: 0.7105 - val_mse: 0.1214\n",
            "Epoch 51/150\n",
            "1/1 [==============================] - 0s 34ms/step - loss: 0.5620 - acc: 0.8214 - mse: 0.1030 - val_loss: 0.6146 - val_acc: 0.7105 - val_mse: 0.1208\n",
            "Epoch 52/150\n",
            "1/1 [==============================] - 0s 34ms/step - loss: 0.5616 - acc: 0.8214 - mse: 0.1035 - val_loss: 0.6101 - val_acc: 0.7105 - val_mse: 0.1202\n",
            "Epoch 53/150\n",
            "1/1 [==============================] - 0s 31ms/step - loss: 0.5430 - acc: 0.8125 - mse: 0.1002 - val_loss: 0.6049 - val_acc: 0.7105 - val_mse: 0.1194\n",
            "Epoch 54/150\n",
            "1/1 [==============================] - 0s 35ms/step - loss: 0.5798 - acc: 0.7857 - mse: 0.1096 - val_loss: 0.6021 - val_acc: 0.7105 - val_mse: 0.1191\n",
            "Epoch 55/150\n",
            "1/1 [==============================] - 0s 39ms/step - loss: 0.5500 - acc: 0.8125 - mse: 0.1032 - val_loss: 0.5983 - val_acc: 0.7105 - val_mse: 0.1185\n",
            "Epoch 56/150\n",
            "1/1 [==============================] - 0s 34ms/step - loss: 0.5358 - acc: 0.8214 - mse: 0.0980 - val_loss: 0.5944 - val_acc: 0.7105 - val_mse: 0.1180\n",
            "Epoch 57/150\n",
            "1/1 [==============================] - 0s 33ms/step - loss: 0.5301 - acc: 0.8214 - mse: 0.0968 - val_loss: 0.5907 - val_acc: 0.7105 - val_mse: 0.1175\n",
            "Epoch 58/150\n",
            "1/1 [==============================] - 0s 42ms/step - loss: 0.5236 - acc: 0.8214 - mse: 0.0968 - val_loss: 0.5862 - val_acc: 0.7105 - val_mse: 0.1168\n",
            "Epoch 59/150\n",
            "1/1 [==============================] - 0s 33ms/step - loss: 0.5237 - acc: 0.8393 - mse: 0.0970 - val_loss: 0.5826 - val_acc: 0.7105 - val_mse: 0.1164\n",
            "Epoch 60/150\n",
            "1/1 [==============================] - 0s 33ms/step - loss: 0.5142 - acc: 0.8393 - mse: 0.0940 - val_loss: 0.5789 - val_acc: 0.7105 - val_mse: 0.1159\n",
            "Epoch 61/150\n",
            "1/1 [==============================] - 0s 37ms/step - loss: 0.5009 - acc: 0.8125 - mse: 0.0913 - val_loss: 0.5749 - val_acc: 0.7105 - val_mse: 0.1153\n",
            "Epoch 62/150\n",
            "1/1 [==============================] - 0s 36ms/step - loss: 0.4968 - acc: 0.8750 - mse: 0.0904 - val_loss: 0.5715 - val_acc: 0.7105 - val_mse: 0.1148\n",
            "Epoch 63/150\n",
            "1/1 [==============================] - 0s 35ms/step - loss: 0.4982 - acc: 0.8393 - mse: 0.0902 - val_loss: 0.5686 - val_acc: 0.7105 - val_mse: 0.1144\n",
            "Epoch 64/150\n",
            "1/1 [==============================] - 0s 32ms/step - loss: 0.4769 - acc: 0.8393 - mse: 0.0870 - val_loss: 0.5652 - val_acc: 0.7105 - val_mse: 0.1140\n",
            "Epoch 65/150\n",
            "1/1 [==============================] - 0s 32ms/step - loss: 0.5217 - acc: 0.8214 - mse: 0.0970 - val_loss: 0.5617 - val_acc: 0.7105 - val_mse: 0.1135\n",
            "Epoch 66/150\n",
            "1/1 [==============================] - 0s 34ms/step - loss: 0.5003 - acc: 0.8393 - mse: 0.0915 - val_loss: 0.5593 - val_acc: 0.7105 - val_mse: 0.1133\n",
            "Epoch 67/150\n",
            "1/1 [==============================] - 0s 34ms/step - loss: 0.4883 - acc: 0.8393 - mse: 0.0890 - val_loss: 0.5561 - val_acc: 0.7105 - val_mse: 0.1129\n",
            "Epoch 68/150\n",
            "1/1 [==============================] - 0s 34ms/step - loss: 0.4488 - acc: 0.8482 - mse: 0.0802 - val_loss: 0.5533 - val_acc: 0.7105 - val_mse: 0.1125\n",
            "Epoch 69/150\n",
            "1/1 [==============================] - 0s 40ms/step - loss: 0.4885 - acc: 0.8304 - mse: 0.0916 - val_loss: 0.5502 - val_acc: 0.7105 - val_mse: 0.1121\n",
            "Epoch 70/150\n",
            "1/1 [==============================] - 0s 34ms/step - loss: 0.4583 - acc: 0.8393 - mse: 0.0826 - val_loss: 0.5482 - val_acc: 0.7105 - val_mse: 0.1120\n",
            "Epoch 71/150\n",
            "1/1 [==============================] - 0s 34ms/step - loss: 0.4920 - acc: 0.8214 - mse: 0.0914 - val_loss: 0.5454 - val_acc: 0.7105 - val_mse: 0.1116\n",
            "Epoch 72/150\n",
            "1/1 [==============================] - 0s 35ms/step - loss: 0.4462 - acc: 0.8214 - mse: 0.0803 - val_loss: 0.5429 - val_acc: 0.7105 - val_mse: 0.1114\n",
            "Epoch 73/150\n",
            "1/1 [==============================] - 0s 35ms/step - loss: 0.4433 - acc: 0.8661 - mse: 0.0785 - val_loss: 0.5405 - val_acc: 0.7105 - val_mse: 0.1111\n",
            "Epoch 74/150\n",
            "1/1 [==============================] - 0s 37ms/step - loss: 0.4540 - acc: 0.8482 - mse: 0.0819 - val_loss: 0.5386 - val_acc: 0.7368 - val_mse: 0.1110\n",
            "Epoch 75/150\n",
            "1/1 [==============================] - 0s 34ms/step - loss: 0.4687 - acc: 0.8214 - mse: 0.0860 - val_loss: 0.5370 - val_acc: 0.7368 - val_mse: 0.1109\n",
            "Epoch 76/150\n",
            "1/1 [==============================] - 0s 37ms/step - loss: 0.4367 - acc: 0.8839 - mse: 0.0775 - val_loss: 0.5349 - val_acc: 0.7368 - val_mse: 0.1107\n",
            "Epoch 77/150\n",
            "1/1 [==============================] - 0s 44ms/step - loss: 0.4558 - acc: 0.8304 - mse: 0.0834 - val_loss: 0.5324 - val_acc: 0.7368 - val_mse: 0.1104\n",
            "Epoch 78/150\n",
            "1/1 [==============================] - 0s 37ms/step - loss: 0.4458 - acc: 0.8571 - mse: 0.0811 - val_loss: 0.5295 - val_acc: 0.7368 - val_mse: 0.1100\n",
            "Epoch 79/150\n",
            "1/1 [==============================] - 0s 35ms/step - loss: 0.4445 - acc: 0.8393 - mse: 0.0810 - val_loss: 0.5272 - val_acc: 0.7368 - val_mse: 0.1097\n",
            "Epoch 80/150\n",
            "1/1 [==============================] - 0s 41ms/step - loss: 0.4427 - acc: 0.8482 - mse: 0.0807 - val_loss: 0.5250 - val_acc: 0.7368 - val_mse: 0.1095\n",
            "Epoch 81/150\n",
            "1/1 [==============================] - 0s 33ms/step - loss: 0.4113 - acc: 0.8661 - mse: 0.0734 - val_loss: 0.5225 - val_acc: 0.7368 - val_mse: 0.1092\n",
            "Epoch 82/150\n",
            "1/1 [==============================] - 0s 32ms/step - loss: 0.4083 - acc: 0.8661 - mse: 0.0731 - val_loss: 0.5204 - val_acc: 0.7368 - val_mse: 0.1089\n",
            "Epoch 83/150\n",
            "1/1 [==============================] - 0s 59ms/step - loss: 0.4300 - acc: 0.8304 - mse: 0.0781 - val_loss: 0.5188 - val_acc: 0.7368 - val_mse: 0.1088\n",
            "Epoch 84/150\n",
            "1/1 [==============================] - 0s 35ms/step - loss: 0.4161 - acc: 0.8750 - mse: 0.0752 - val_loss: 0.5165 - val_acc: 0.7368 - val_mse: 0.1085\n",
            "Epoch 85/150\n",
            "1/1 [==============================] - 0s 36ms/step - loss: 0.4081 - acc: 0.8661 - mse: 0.0736 - val_loss: 0.5143 - val_acc: 0.7368 - val_mse: 0.1082\n",
            "Epoch 86/150\n",
            "1/1 [==============================] - 0s 52ms/step - loss: 0.4216 - acc: 0.8661 - mse: 0.0756 - val_loss: 0.5123 - val_acc: 0.7368 - val_mse: 0.1080\n",
            "Epoch 87/150\n",
            "1/1 [==============================] - 0s 54ms/step - loss: 0.4321 - acc: 0.8393 - mse: 0.0796 - val_loss: 0.5111 - val_acc: 0.7368 - val_mse: 0.1080\n",
            "Epoch 88/150\n",
            "1/1 [==============================] - 0s 34ms/step - loss: 0.4028 - acc: 0.8661 - mse: 0.0726 - val_loss: 0.5094 - val_acc: 0.7368 - val_mse: 0.1078\n",
            "Epoch 89/150\n",
            "1/1 [==============================] - 0s 34ms/step - loss: 0.4165 - acc: 0.8839 - mse: 0.0755 - val_loss: 0.5078 - val_acc: 0.7368 - val_mse: 0.1077\n",
            "Epoch 90/150\n",
            "1/1 [==============================] - 0s 34ms/step - loss: 0.4149 - acc: 0.8482 - mse: 0.0747 - val_loss: 0.5062 - val_acc: 0.7368 - val_mse: 0.1076\n",
            "Epoch 91/150\n",
            "1/1 [==============================] - 0s 44ms/step - loss: 0.3923 - acc: 0.8750 - mse: 0.0698 - val_loss: 0.5042 - val_acc: 0.7368 - val_mse: 0.1073\n",
            "Epoch 92/150\n",
            "1/1 [==============================] - 0s 44ms/step - loss: 0.3947 - acc: 0.8750 - mse: 0.0706 - val_loss: 0.5023 - val_acc: 0.7368 - val_mse: 0.1071\n",
            "Epoch 93/150\n",
            "1/1 [==============================] - 0s 34ms/step - loss: 0.3954 - acc: 0.8750 - mse: 0.0707 - val_loss: 0.5019 - val_acc: 0.7368 - val_mse: 0.1072\n",
            "Epoch 94/150\n",
            "1/1 [==============================] - 0s 33ms/step - loss: 0.3989 - acc: 0.8661 - mse: 0.0713 - val_loss: 0.4997 - val_acc: 0.7368 - val_mse: 0.1069\n",
            "Epoch 95/150\n",
            "1/1 [==============================] - 0s 54ms/step - loss: 0.3962 - acc: 0.8482 - mse: 0.0731 - val_loss: 0.4968 - val_acc: 0.7368 - val_mse: 0.1064\n",
            "Epoch 96/150\n",
            "1/1 [==============================] - 0s 36ms/step - loss: 0.3948 - acc: 0.8750 - mse: 0.0716 - val_loss: 0.4953 - val_acc: 0.7368 - val_mse: 0.1063\n",
            "Epoch 97/150\n",
            "1/1 [==============================] - 0s 34ms/step - loss: 0.3945 - acc: 0.8482 - mse: 0.0726 - val_loss: 0.4928 - val_acc: 0.7368 - val_mse: 0.1059\n",
            "Epoch 98/150\n",
            "1/1 [==============================] - 0s 36ms/step - loss: 0.3718 - acc: 0.8750 - mse: 0.0659 - val_loss: 0.4915 - val_acc: 0.7368 - val_mse: 0.1057\n",
            "Epoch 99/150\n",
            "1/1 [==============================] - 0s 34ms/step - loss: 0.3594 - acc: 0.8839 - mse: 0.0646 - val_loss: 0.4890 - val_acc: 0.7368 - val_mse: 0.1053\n",
            "Epoch 100/150\n",
            "1/1 [==============================] - 0s 37ms/step - loss: 0.3703 - acc: 0.8750 - mse: 0.0661 - val_loss: 0.4872 - val_acc: 0.7368 - val_mse: 0.1050\n",
            "Epoch 101/150\n",
            "1/1 [==============================] - 0s 34ms/step - loss: 0.3704 - acc: 0.8839 - mse: 0.0666 - val_loss: 0.4851 - val_acc: 0.7368 - val_mse: 0.1047\n",
            "Epoch 102/150\n",
            "1/1 [==============================] - 0s 35ms/step - loss: 0.3811 - acc: 0.8750 - mse: 0.0694 - val_loss: 0.4843 - val_acc: 0.7368 - val_mse: 0.1048\n",
            "Epoch 103/150\n",
            "1/1 [==============================] - 0s 41ms/step - loss: 0.3607 - acc: 0.8750 - mse: 0.0648 - val_loss: 0.4834 - val_acc: 0.7368 - val_mse: 0.1047\n",
            "Epoch 104/150\n",
            "1/1 [==============================] - 0s 33ms/step - loss: 0.3598 - acc: 0.8750 - mse: 0.0636 - val_loss: 0.4823 - val_acc: 0.7368 - val_mse: 0.1046\n",
            "Epoch 105/150\n",
            "1/1 [==============================] - 0s 33ms/step - loss: 0.3531 - acc: 0.8929 - mse: 0.0633 - val_loss: 0.4804 - val_acc: 0.7105 - val_mse: 0.1043\n",
            "Epoch 106/150\n",
            "1/1 [==============================] - 0s 36ms/step - loss: 0.3587 - acc: 0.8929 - mse: 0.0639 - val_loss: 0.4792 - val_acc: 0.7105 - val_mse: 0.1042\n",
            "Epoch 107/150\n",
            "1/1 [==============================] - 0s 39ms/step - loss: 0.3615 - acc: 0.8750 - mse: 0.0655 - val_loss: 0.4777 - val_acc: 0.7368 - val_mse: 0.1040\n",
            "Epoch 108/150\n",
            "1/1 [==============================] - 0s 35ms/step - loss: 0.3499 - acc: 0.8929 - mse: 0.0625 - val_loss: 0.4758 - val_acc: 0.7368 - val_mse: 0.1037\n",
            "Epoch 109/150\n",
            "1/1 [==============================] - 0s 33ms/step - loss: 0.3502 - acc: 0.8929 - mse: 0.0637 - val_loss: 0.4747 - val_acc: 0.7368 - val_mse: 0.1036\n",
            "Epoch 110/150\n",
            "1/1 [==============================] - 0s 35ms/step - loss: 0.3455 - acc: 0.8839 - mse: 0.0624 - val_loss: 0.4734 - val_acc: 0.7368 - val_mse: 0.1034\n",
            "Epoch 111/150\n",
            "1/1 [==============================] - 0s 37ms/step - loss: 0.3533 - acc: 0.8929 - mse: 0.0637 - val_loss: 0.4716 - val_acc: 0.7368 - val_mse: 0.1031\n",
            "Epoch 112/150\n",
            "1/1 [==============================] - 0s 43ms/step - loss: 0.3224 - acc: 0.9018 - mse: 0.0568 - val_loss: 0.4704 - val_acc: 0.7368 - val_mse: 0.1029\n",
            "Epoch 113/150\n",
            "1/1 [==============================] - 0s 51ms/step - loss: 0.3415 - acc: 0.9018 - mse: 0.0599 - val_loss: 0.4694 - val_acc: 0.7368 - val_mse: 0.1029\n",
            "Epoch 114/150\n",
            "1/1 [==============================] - 0s 36ms/step - loss: 0.3476 - acc: 0.8839 - mse: 0.0631 - val_loss: 0.4682 - val_acc: 0.7368 - val_mse: 0.1027\n",
            "Epoch 115/150\n",
            "1/1 [==============================] - 0s 54ms/step - loss: 0.3578 - acc: 0.8839 - mse: 0.0658 - val_loss: 0.4668 - val_acc: 0.7368 - val_mse: 0.1025\n",
            "Epoch 116/150\n",
            "1/1 [==============================] - 0s 34ms/step - loss: 0.3449 - acc: 0.9018 - mse: 0.0631 - val_loss: 0.4654 - val_acc: 0.7368 - val_mse: 0.1023\n",
            "Epoch 117/150\n",
            "1/1 [==============================] - 0s 33ms/step - loss: 0.3572 - acc: 0.8750 - mse: 0.0653 - val_loss: 0.4655 - val_acc: 0.7368 - val_mse: 0.1025\n",
            "Epoch 118/150\n",
            "1/1 [==============================] - 0s 40ms/step - loss: 0.3543 - acc: 0.9018 - mse: 0.0637 - val_loss: 0.4639 - val_acc: 0.7368 - val_mse: 0.1022\n",
            "Epoch 119/150\n",
            "1/1 [==============================] - 0s 35ms/step - loss: 0.3493 - acc: 0.8571 - mse: 0.0647 - val_loss: 0.4628 - val_acc: 0.7368 - val_mse: 0.1021\n",
            "Epoch 120/150\n",
            "1/1 [==============================] - 0s 34ms/step - loss: 0.3374 - acc: 0.8482 - mse: 0.0613 - val_loss: 0.4613 - val_acc: 0.7368 - val_mse: 0.1019\n",
            "Epoch 121/150\n",
            "1/1 [==============================] - 0s 37ms/step - loss: 0.3189 - acc: 0.9018 - mse: 0.0560 - val_loss: 0.4595 - val_acc: 0.7368 - val_mse: 0.1015\n",
            "Epoch 122/150\n",
            "1/1 [==============================] - 0s 34ms/step - loss: 0.3104 - acc: 0.9018 - mse: 0.0556 - val_loss: 0.4578 - val_acc: 0.7368 - val_mse: 0.1012\n",
            "Epoch 123/150\n",
            "1/1 [==============================] - 0s 33ms/step - loss: 0.3366 - acc: 0.9196 - mse: 0.0597 - val_loss: 0.4564 - val_acc: 0.7368 - val_mse: 0.1010\n",
            "Epoch 124/150\n",
            "1/1 [==============================] - 0s 38ms/step - loss: 0.3280 - acc: 0.8839 - mse: 0.0589 - val_loss: 0.4553 - val_acc: 0.7368 - val_mse: 0.1009\n",
            "Epoch 125/150\n",
            "1/1 [==============================] - 0s 34ms/step - loss: 0.3176 - acc: 0.8929 - mse: 0.0568 - val_loss: 0.4542 - val_acc: 0.7368 - val_mse: 0.1007\n",
            "Epoch 126/150\n",
            "1/1 [==============================] - 0s 32ms/step - loss: 0.3366 - acc: 0.8839 - mse: 0.0613 - val_loss: 0.4521 - val_acc: 0.7368 - val_mse: 0.1003\n",
            "Epoch 127/150\n",
            "1/1 [==============================] - 0s 43ms/step - loss: 0.3214 - acc: 0.8929 - mse: 0.0578 - val_loss: 0.4516 - val_acc: 0.7368 - val_mse: 0.1003\n",
            "Epoch 128/150\n",
            "1/1 [==============================] - 0s 37ms/step - loss: 0.3028 - acc: 0.9018 - mse: 0.0533 - val_loss: 0.4507 - val_acc: 0.7368 - val_mse: 0.1002\n",
            "Epoch 129/150\n",
            "1/1 [==============================] - 0s 37ms/step - loss: 0.3030 - acc: 0.9107 - mse: 0.0531 - val_loss: 0.4497 - val_acc: 0.7368 - val_mse: 0.1000\n",
            "Epoch 130/150\n",
            "1/1 [==============================] - 0s 47ms/step - loss: 0.3459 - acc: 0.8571 - mse: 0.0646 - val_loss: 0.4492 - val_acc: 0.7368 - val_mse: 0.1000\n",
            "Epoch 131/150\n",
            "1/1 [==============================] - 0s 42ms/step - loss: 0.3468 - acc: 0.8750 - mse: 0.0640 - val_loss: 0.4482 - val_acc: 0.7368 - val_mse: 0.0999\n",
            "Epoch 132/150\n",
            "1/1 [==============================] - 0s 35ms/step - loss: 0.3131 - acc: 0.9107 - mse: 0.0557 - val_loss: 0.4473 - val_acc: 0.7368 - val_mse: 0.0998\n",
            "Epoch 133/150\n",
            "1/1 [==============================] - 0s 34ms/step - loss: 0.3202 - acc: 0.8750 - mse: 0.0600 - val_loss: 0.4454 - val_acc: 0.7368 - val_mse: 0.0993\n",
            "Epoch 134/150\n",
            "1/1 [==============================] - 0s 34ms/step - loss: 0.3225 - acc: 0.8929 - mse: 0.0589 - val_loss: 0.4444 - val_acc: 0.7368 - val_mse: 0.0992\n",
            "Epoch 135/150\n",
            "1/1 [==============================] - 0s 32ms/step - loss: 0.2874 - acc: 0.9018 - mse: 0.0499 - val_loss: 0.4433 - val_acc: 0.7368 - val_mse: 0.0991\n",
            "Epoch 136/150\n",
            "1/1 [==============================] - 0s 33ms/step - loss: 0.3251 - acc: 0.8839 - mse: 0.0601 - val_loss: 0.4420 - val_acc: 0.7368 - val_mse: 0.0988\n",
            "Epoch 137/150\n",
            "1/1 [==============================] - 0s 34ms/step - loss: 0.3061 - acc: 0.8929 - mse: 0.0555 - val_loss: 0.4412 - val_acc: 0.7368 - val_mse: 0.0987\n",
            "Epoch 138/150\n",
            "1/1 [==============================] - 0s 54ms/step - loss: 0.2868 - acc: 0.9018 - mse: 0.0504 - val_loss: 0.4395 - val_acc: 0.7368 - val_mse: 0.0984\n",
            "Epoch 139/150\n",
            "1/1 [==============================] - 0s 54ms/step - loss: 0.2968 - acc: 0.8839 - mse: 0.0540 - val_loss: 0.4385 - val_acc: 0.7368 - val_mse: 0.0982\n",
            "Epoch 140/150\n",
            "1/1 [==============================] - 0s 35ms/step - loss: 0.3012 - acc: 0.8929 - mse: 0.0549 - val_loss: 0.4379 - val_acc: 0.7368 - val_mse: 0.0982\n",
            "Epoch 141/150\n",
            "1/1 [==============================] - 0s 33ms/step - loss: 0.2772 - acc: 0.9107 - mse: 0.0495 - val_loss: 0.4367 - val_acc: 0.7368 - val_mse: 0.0980\n",
            "Epoch 142/150\n",
            "1/1 [==============================] - 0s 38ms/step - loss: 0.2858 - acc: 0.9018 - mse: 0.0506 - val_loss: 0.4352 - val_acc: 0.7368 - val_mse: 0.0977\n",
            "Epoch 143/150\n",
            "1/1 [==============================] - 0s 35ms/step - loss: 0.3130 - acc: 0.8571 - mse: 0.0591 - val_loss: 0.4347 - val_acc: 0.7368 - val_mse: 0.0977\n",
            "Epoch 144/150\n",
            "1/1 [==============================] - 0s 44ms/step - loss: 0.2904 - acc: 0.9018 - mse: 0.0517 - val_loss: 0.4339 - val_acc: 0.7368 - val_mse: 0.0976\n",
            "Epoch 145/150\n",
            "1/1 [==============================] - 0s 34ms/step - loss: 0.3038 - acc: 0.9018 - mse: 0.0547 - val_loss: 0.4328 - val_acc: 0.7368 - val_mse: 0.0974\n",
            "Epoch 146/150\n",
            "1/1 [==============================] - 0s 35ms/step - loss: 0.2902 - acc: 0.8929 - mse: 0.0509 - val_loss: 0.4311 - val_acc: 0.7632 - val_mse: 0.0970\n",
            "Epoch 147/150\n",
            "1/1 [==============================] - 0s 40ms/step - loss: 0.2923 - acc: 0.8929 - mse: 0.0520 - val_loss: 0.4305 - val_acc: 0.7632 - val_mse: 0.0970\n",
            "Epoch 148/150\n",
            "1/1 [==============================] - 0s 38ms/step - loss: 0.2850 - acc: 0.9196 - mse: 0.0507 - val_loss: 0.4295 - val_acc: 0.7632 - val_mse: 0.0968\n",
            "Epoch 149/150\n",
            "1/1 [==============================] - 0s 37ms/step - loss: 0.2980 - acc: 0.9107 - mse: 0.0539 - val_loss: 0.4283 - val_acc: 0.7632 - val_mse: 0.0966\n",
            "Epoch 150/150\n",
            "1/1 [==============================] - 0s 45ms/step - loss: 0.2753 - acc: 0.9286 - mse: 0.0483 - val_loss: 0.4275 - val_acc: 0.7632 - val_mse: 0.0965\n"
          ]
        }
      ],
      "source": [
        "# Create model7, having more dropout layers, having a dropout rate of your choice\n",
        "model7 = Sequential([\n",
        "    Dense(512, activation='tanh', input_shape = X_train[0].shape),\n",
        "    layers.Dropout(0.5),\n",
        "    Dense(512//2, activation='tanh'),\n",
        "    layers.Dropout(0.2),\n",
        "    Dense(512//4, activation='tanh'),\n",
        "    layers.Dropout(0.2),\n",
        "    Dense(512//8, activation='tanh'),\n",
        "    layers.Dropout(0.2),\n",
        "    Dense(32, activation='relu'),\n",
        "    Dense(3, activation='softmax')\n",
        "])\n",
        "print(model7.summary())\n",
        "model7.compile(optimizer='sgd',loss='categorical_crossentropy', metrics=['acc', 'mse'])\n",
        "\n",
        "hist7 = model7.fit(X_train, y_train, epochs=150, batch_size=128, validation_data=(X_test,y_test))\n",
        "\n"
      ]
    },
    {
      "cell_type": "code",
      "execution_count": 76,
      "metadata": {
        "id": "WhmmSfuj8ImU",
        "colab": {
          "base_uri": "https://localhost:8080/"
        },
        "outputId": "b25ab584-b06f-45f9-9b8e-306fd6605ce2"
      },
      "outputs": [
        {
          "output_type": "stream",
          "name": "stdout",
          "text": [
            "2/2 [==============================] - 0s 5ms/step - loss: 0.0000e+00 - acc: 0.0000e+00 - mse: 0.0000e+00\n"
          ]
        },
        {
          "output_type": "execute_result",
          "data": {
            "text/plain": [
              "[0.0, 0.0, 0.0]"
            ]
          },
          "metadata": {},
          "execution_count": 76
        }
      ],
      "source": [
        "#just how we used evaluate() in the basic model previously, use it again to find the loss, accuracy and MSE on the test set\n",
        "\n",
        "\n",
        "model7.evaluate(X_test)\n",
        "\n"
      ]
    },
    {
      "cell_type": "code",
      "execution_count": 77,
      "metadata": {
        "id": "h4wvmkOb8ImV",
        "colab": {
          "base_uri": "https://localhost:8080/",
          "height": 299
        },
        "outputId": "17c23456-765f-45ef-ca82-490310407c03"
      },
      "outputs": [
        {
          "output_type": "display_data",
          "data": {
            "text/plain": [
              "<Figure size 432x288 with 1 Axes>"
            ],
            "image/png": "[encoded data removed]"
          },
          "metadata": {}
        }
      ],
      "source": [
        "# Plot the train loss vs validation loss and train accuracy vs validation accuracy graphs just like we did before\n",
        "\n",
        "\n",
        "plt.plot(hist7.history['acc'], label = 'train acc')\n",
        "plt.plot(hist7.history['val_acc'], label='val acc')\n",
        "plt.title(\"train acc vs Val_acc\")\n",
        "plt.xlabel(\"Epochs\")\n",
        "plt.ylabel(\"acc\")\n",
        "plt.legend()\n",
        "plt.show()"
      ]
    },
    {
      "cell_type": "markdown",
      "metadata": {
        "id": "7eQ1Zah-8ImV"
      },
      "source": [
        "## Batch Normalization\n"
      ]
    },
    {
      "cell_type": "code",
      "execution_count": 63,
      "metadata": {
        "id": "8OFwo8ru8ImV",
        "colab": {
          "base_uri": "https://localhost:8080/"
        },
        "outputId": "6e4e0439-3807-4ba8-ab30-32b423f4bd81"
      },
      "outputs": [
        {
          "output_type": "stream",
          "name": "stdout",
          "text": [
            "Model: \"sequential_12\"\n",
            "_________________________________________________________________\n",
            " Layer (type)                Output Shape              Param #   \n",
            "=================================================================\n",
            " dense_63 (Dense)            (None, 512)               2560      \n",
            "                                                                 \n",
            " batch_normalization (BatchN  (None, 512)              2048      \n",
            " ormalization)                                                   \n",
            "                                                                 \n",
            " dense_64 (Dense)            (None, 256)               131328    \n",
            "                                                                 \n",
            " dense_65 (Dense)            (None, 128)               32896     \n",
            "                                                                 \n",
            " dense_66 (Dense)            (None, 64)                8256      \n",
            "                                                                 \n",
            " dense_67 (Dense)            (None, 32)                2080      \n",
            "                                                                 \n",
            " dense_68 (Dense)            (None, 3)                 99        \n",
            "                                                                 \n",
            "=================================================================\n",
            "Total params: 179,267\n",
            "Trainable params: 178,243\n",
            "Non-trainable params: 1,024\n",
            "_________________________________________________________________\n",
            "None\n",
            "Epoch 1/150\n",
            "1/1 [==============================] - 1s 718ms/step - loss: 1.2454 - acc: 0.3839 - mse: 0.2563 - val_loss: 1.1036 - val_acc: 0.2895 - val_mse: 0.2234\n",
            "Epoch 2/150\n",
            "1/1 [==============================] - 0s 30ms/step - loss: 0.9121 - acc: 0.5000 - mse: 0.1810 - val_loss: 1.0543 - val_acc: 0.3947 - val_mse: 0.2125\n",
            "Epoch 3/150\n",
            "1/1 [==============================] - 0s 27ms/step - loss: 0.7693 - acc: 0.6875 - mse: 0.1478 - val_loss: 1.0149 - val_acc: 0.5263 - val_mse: 0.2037\n",
            "Epoch 4/150\n",
            "1/1 [==============================] - 0s 32ms/step - loss: 0.6769 - acc: 0.7679 - mse: 0.1258 - val_loss: 0.9806 - val_acc: 0.6316 - val_mse: 0.1959\n",
            "Epoch 5/150\n",
            "1/1 [==============================] - 0s 30ms/step - loss: 0.6063 - acc: 0.8125 - mse: 0.1094 - val_loss: 0.9514 - val_acc: 0.6842 - val_mse: 0.1891\n",
            "Epoch 6/150\n",
            "1/1 [==============================] - 0s 30ms/step - loss: 0.5534 - acc: 0.8304 - mse: 0.0973 - val_loss: 0.9258 - val_acc: 0.7632 - val_mse: 0.1832\n",
            "Epoch 7/150\n",
            "1/1 [==============================] - 0s 39ms/step - loss: 0.5110 - acc: 0.8482 - mse: 0.0880 - val_loss: 0.9038 - val_acc: 0.7632 - val_mse: 0.1780\n",
            "Epoch 8/150\n",
            "1/1 [==============================] - 0s 30ms/step - loss: 0.4771 - acc: 0.8661 - mse: 0.0808 - val_loss: 0.8838 - val_acc: 0.7632 - val_mse: 0.1733\n",
            "Epoch 9/150\n",
            "1/1 [==============================] - 0s 31ms/step - loss: 0.4491 - acc: 0.8839 - mse: 0.0749 - val_loss: 0.8666 - val_acc: 0.7895 - val_mse: 0.1693\n",
            "Epoch 10/150\n",
            "1/1 [==============================] - 0s 46ms/step - loss: 0.4252 - acc: 0.8839 - mse: 0.0701 - val_loss: 0.8511 - val_acc: 0.7632 - val_mse: 0.1657\n",
            "Epoch 11/150\n",
            "1/1 [==============================] - 0s 28ms/step - loss: 0.4047 - acc: 0.8839 - mse: 0.0660 - val_loss: 0.8369 - val_acc: 0.7632 - val_mse: 0.1623\n",
            "Epoch 12/150\n",
            "1/1 [==============================] - 0s 29ms/step - loss: 0.3869 - acc: 0.8929 - mse: 0.0625 - val_loss: 0.8238 - val_acc: 0.7895 - val_mse: 0.1593\n",
            "Epoch 13/150\n",
            "1/1 [==============================] - 0s 27ms/step - loss: 0.3712 - acc: 0.9018 - mse: 0.0595 - val_loss: 0.8119 - val_acc: 0.7895 - val_mse: 0.1565\n",
            "Epoch 14/150\n",
            "1/1 [==============================] - 0s 28ms/step - loss: 0.3571 - acc: 0.9018 - mse: 0.0568 - val_loss: 0.8012 - val_acc: 0.7895 - val_mse: 0.1539\n",
            "Epoch 15/150\n",
            "1/1 [==============================] - 0s 42ms/step - loss: 0.3444 - acc: 0.9196 - mse: 0.0544 - val_loss: 0.7910 - val_acc: 0.8158 - val_mse: 0.1516\n",
            "Epoch 16/150\n",
            "1/1 [==============================] - 0s 36ms/step - loss: 0.3327 - acc: 0.9196 - mse: 0.0523 - val_loss: 0.7814 - val_acc: 0.8158 - val_mse: 0.1494\n",
            "Epoch 17/150\n",
            "1/1 [==============================] - 0s 27ms/step - loss: 0.3218 - acc: 0.9196 - mse: 0.0503 - val_loss: 0.7724 - val_acc: 0.8158 - val_mse: 0.1473\n",
            "Epoch 18/150\n",
            "1/1 [==============================] - 0s 31ms/step - loss: 0.3117 - acc: 0.9196 - mse: 0.0485 - val_loss: 0.7638 - val_acc: 0.8158 - val_mse: 0.1453\n",
            "Epoch 19/150\n",
            "1/1 [==============================] - 0s 29ms/step - loss: 0.3023 - acc: 0.9196 - mse: 0.0468 - val_loss: 0.7557 - val_acc: 0.7895 - val_mse: 0.1435\n",
            "Epoch 20/150\n",
            "1/1 [==============================] - 0s 29ms/step - loss: 0.2935 - acc: 0.9286 - mse: 0.0452 - val_loss: 0.7483 - val_acc: 0.7895 - val_mse: 0.1418\n",
            "Epoch 21/150\n",
            "1/1 [==============================] - 0s 28ms/step - loss: 0.2854 - acc: 0.9286 - mse: 0.0438 - val_loss: 0.7415 - val_acc: 0.7895 - val_mse: 0.1403\n",
            "Epoch 22/150\n",
            "1/1 [==============================] - 0s 27ms/step - loss: 0.2778 - acc: 0.9286 - mse: 0.0424 - val_loss: 0.7349 - val_acc: 0.8158 - val_mse: 0.1388\n",
            "Epoch 23/150\n",
            "1/1 [==============================] - 0s 26ms/step - loss: 0.2705 - acc: 0.9286 - mse: 0.0411 - val_loss: 0.7287 - val_acc: 0.7895 - val_mse: 0.1374\n",
            "Epoch 24/150\n",
            "1/1 [==============================] - 0s 30ms/step - loss: 0.2637 - acc: 0.9375 - mse: 0.0399 - val_loss: 0.7226 - val_acc: 0.8158 - val_mse: 0.1361\n",
            "Epoch 25/150\n",
            "1/1 [==============================] - 0s 29ms/step - loss: 0.2575 - acc: 0.9375 - mse: 0.0389 - val_loss: 0.7169 - val_acc: 0.8421 - val_mse: 0.1348\n",
            "Epoch 26/150\n",
            "1/1 [==============================] - 0s 29ms/step - loss: 0.2516 - acc: 0.9375 - mse: 0.0378 - val_loss: 0.7114 - val_acc: 0.8421 - val_mse: 0.1336\n",
            "Epoch 27/150\n",
            "1/1 [==============================] - 0s 28ms/step - loss: 0.2460 - acc: 0.9375 - mse: 0.0369 - val_loss: 0.7061 - val_acc: 0.8421 - val_mse: 0.1325\n",
            "Epoch 28/150\n",
            "1/1 [==============================] - 0s 27ms/step - loss: 0.2406 - acc: 0.9375 - mse: 0.0359 - val_loss: 0.7010 - val_acc: 0.8421 - val_mse: 0.1314\n",
            "Epoch 29/150\n",
            "1/1 [==============================] - 0s 34ms/step - loss: 0.2356 - acc: 0.9375 - mse: 0.0351 - val_loss: 0.6961 - val_acc: 0.8421 - val_mse: 0.1303\n",
            "Epoch 30/150\n",
            "1/1 [==============================] - 0s 30ms/step - loss: 0.2308 - acc: 0.9375 - mse: 0.0342 - val_loss: 0.6915 - val_acc: 0.8421 - val_mse: 0.1294\n",
            "Epoch 31/150\n",
            "1/1 [==============================] - 0s 28ms/step - loss: 0.2263 - acc: 0.9464 - mse: 0.0335 - val_loss: 0.6869 - val_acc: 0.8421 - val_mse: 0.1284\n",
            "Epoch 32/150\n",
            "1/1 [==============================] - 0s 30ms/step - loss: 0.2220 - acc: 0.9464 - mse: 0.0327 - val_loss: 0.6825 - val_acc: 0.8684 - val_mse: 0.1275\n",
            "Epoch 33/150\n",
            "1/1 [==============================] - 0s 32ms/step - loss: 0.2180 - acc: 0.9464 - mse: 0.0321 - val_loss: 0.6783 - val_acc: 0.8684 - val_mse: 0.1266\n",
            "Epoch 34/150\n",
            "1/1 [==============================] - 0s 31ms/step - loss: 0.2141 - acc: 0.9464 - mse: 0.0314 - val_loss: 0.6742 - val_acc: 0.8684 - val_mse: 0.1258\n",
            "Epoch 35/150\n",
            "1/1 [==============================] - 0s 30ms/step - loss: 0.2103 - acc: 0.9554 - mse: 0.0308 - val_loss: 0.6703 - val_acc: 0.8684 - val_mse: 0.1250\n",
            "Epoch 36/150\n",
            "1/1 [==============================] - 0s 33ms/step - loss: 0.2068 - acc: 0.9554 - mse: 0.0301 - val_loss: 0.6665 - val_acc: 0.8684 - val_mse: 0.1242\n",
            "Epoch 37/150\n",
            "1/1 [==============================] - 0s 43ms/step - loss: 0.2033 - acc: 0.9554 - mse: 0.0295 - val_loss: 0.6628 - val_acc: 0.8684 - val_mse: 0.1235\n",
            "Epoch 38/150\n",
            "1/1 [==============================] - 0s 38ms/step - loss: 0.2000 - acc: 0.9554 - mse: 0.0290 - val_loss: 0.6593 - val_acc: 0.8684 - val_mse: 0.1228\n",
            "Epoch 39/150\n",
            "1/1 [==============================] - 0s 29ms/step - loss: 0.1968 - acc: 0.9554 - mse: 0.0284 - val_loss: 0.6560 - val_acc: 0.8684 - val_mse: 0.1221\n",
            "Epoch 40/150\n",
            "1/1 [==============================] - 0s 30ms/step - loss: 0.1937 - acc: 0.9554 - mse: 0.0279 - val_loss: 0.6527 - val_acc: 0.8684 - val_mse: 0.1215\n",
            "Epoch 41/150\n",
            "1/1 [==============================] - 0s 30ms/step - loss: 0.1908 - acc: 0.9554 - mse: 0.0274 - val_loss: 0.6491 - val_acc: 0.8684 - val_mse: 0.1208\n",
            "Epoch 42/150\n",
            "1/1 [==============================] - 0s 29ms/step - loss: 0.1880 - acc: 0.9554 - mse: 0.0269 - val_loss: 0.6461 - val_acc: 0.8684 - val_mse: 0.1202\n",
            "Epoch 43/150\n",
            "1/1 [==============================] - 0s 28ms/step - loss: 0.1853 - acc: 0.9554 - mse: 0.0265 - val_loss: 0.6428 - val_acc: 0.8421 - val_mse: 0.1195\n",
            "Epoch 44/150\n",
            "1/1 [==============================] - 0s 27ms/step - loss: 0.1826 - acc: 0.9554 - mse: 0.0260 - val_loss: 0.6400 - val_acc: 0.8421 - val_mse: 0.1190\n",
            "Epoch 45/150\n",
            "1/1 [==============================] - 0s 30ms/step - loss: 0.1801 - acc: 0.9554 - mse: 0.0256 - val_loss: 0.6370 - val_acc: 0.8421 - val_mse: 0.1184\n",
            "Epoch 46/150\n",
            "1/1 [==============================] - 0s 32ms/step - loss: 0.1776 - acc: 0.9554 - mse: 0.0252 - val_loss: 0.6343 - val_acc: 0.8421 - val_mse: 0.1180\n",
            "Epoch 47/150\n",
            "1/1 [==============================] - 0s 46ms/step - loss: 0.1753 - acc: 0.9554 - mse: 0.0248 - val_loss: 0.6315 - val_acc: 0.8421 - val_mse: 0.1174\n",
            "Epoch 48/150\n",
            "1/1 [==============================] - 0s 29ms/step - loss: 0.1729 - acc: 0.9554 - mse: 0.0244 - val_loss: 0.6290 - val_acc: 0.8421 - val_mse: 0.1170\n",
            "Epoch 49/150\n",
            "1/1 [==============================] - 0s 32ms/step - loss: 0.1707 - acc: 0.9554 - mse: 0.0240 - val_loss: 0.6261 - val_acc: 0.8421 - val_mse: 0.1165\n",
            "Epoch 50/150\n",
            "1/1 [==============================] - 0s 30ms/step - loss: 0.1686 - acc: 0.9554 - mse: 0.0237 - val_loss: 0.6236 - val_acc: 0.8421 - val_mse: 0.1160\n",
            "Epoch 51/150\n",
            "1/1 [==============================] - 0s 29ms/step - loss: 0.1664 - acc: 0.9554 - mse: 0.0233 - val_loss: 0.6211 - val_acc: 0.8421 - val_mse: 0.1156\n",
            "Epoch 52/150\n",
            "1/1 [==============================] - 0s 29ms/step - loss: 0.1644 - acc: 0.9554 - mse: 0.0230 - val_loss: 0.6188 - val_acc: 0.8421 - val_mse: 0.1152\n",
            "Epoch 53/150\n",
            "1/1 [==============================] - 0s 28ms/step - loss: 0.1624 - acc: 0.9554 - mse: 0.0226 - val_loss: 0.6162 - val_acc: 0.8421 - val_mse: 0.1147\n",
            "Epoch 54/150\n",
            "1/1 [==============================] - 0s 28ms/step - loss: 0.1605 - acc: 0.9554 - mse: 0.0223 - val_loss: 0.6140 - val_acc: 0.8421 - val_mse: 0.1143\n",
            "Epoch 55/150\n",
            "1/1 [==============================] - 0s 31ms/step - loss: 0.1586 - acc: 0.9643 - mse: 0.0220 - val_loss: 0.6121 - val_acc: 0.8421 - val_mse: 0.1140\n",
            "Epoch 56/150\n",
            "1/1 [==============================] - 0s 28ms/step - loss: 0.1568 - acc: 0.9643 - mse: 0.0217 - val_loss: 0.6099 - val_acc: 0.8421 - val_mse: 0.1137\n",
            "Epoch 57/150\n",
            "1/1 [==============================] - 0s 32ms/step - loss: 0.1550 - acc: 0.9643 - mse: 0.0214 - val_loss: 0.6076 - val_acc: 0.8421 - val_mse: 0.1133\n",
            "Epoch 58/150\n",
            "1/1 [==============================] - 0s 30ms/step - loss: 0.1532 - acc: 0.9732 - mse: 0.0211 - val_loss: 0.6059 - val_acc: 0.8421 - val_mse: 0.1130\n",
            "Epoch 59/150\n",
            "1/1 [==============================] - 0s 30ms/step - loss: 0.1515 - acc: 0.9732 - mse: 0.0208 - val_loss: 0.6041 - val_acc: 0.8421 - val_mse: 0.1128\n",
            "Epoch 60/150\n",
            "1/1 [==============================] - 0s 29ms/step - loss: 0.1499 - acc: 0.9732 - mse: 0.0205 - val_loss: 0.6020 - val_acc: 0.8421 - val_mse: 0.1124\n",
            "Epoch 61/150\n",
            "1/1 [==============================] - 0s 29ms/step - loss: 0.1482 - acc: 0.9732 - mse: 0.0203 - val_loss: 0.6001 - val_acc: 0.8421 - val_mse: 0.1121\n",
            "Epoch 62/150\n",
            "1/1 [==============================] - 0s 29ms/step - loss: 0.1466 - acc: 0.9732 - mse: 0.0200 - val_loss: 0.5982 - val_acc: 0.8421 - val_mse: 0.1118\n",
            "Epoch 63/150\n",
            "1/1 [==============================] - 0s 30ms/step - loss: 0.1450 - acc: 0.9732 - mse: 0.0197 - val_loss: 0.5964 - val_acc: 0.8421 - val_mse: 0.1115\n",
            "Epoch 64/150\n",
            "1/1 [==============================] - 0s 32ms/step - loss: 0.1435 - acc: 0.9732 - mse: 0.0195 - val_loss: 0.5947 - val_acc: 0.8421 - val_mse: 0.1113\n",
            "Epoch 65/150\n",
            "1/1 [==============================] - 0s 32ms/step - loss: 0.1420 - acc: 0.9732 - mse: 0.0192 - val_loss: 0.5932 - val_acc: 0.8421 - val_mse: 0.1111\n",
            "Epoch 66/150\n",
            "1/1 [==============================] - 0s 29ms/step - loss: 0.1405 - acc: 0.9732 - mse: 0.0190 - val_loss: 0.5916 - val_acc: 0.8421 - val_mse: 0.1108\n",
            "Epoch 67/150\n",
            "1/1 [==============================] - 0s 30ms/step - loss: 0.1391 - acc: 0.9732 - mse: 0.0187 - val_loss: 0.5899 - val_acc: 0.8421 - val_mse: 0.1106\n",
            "Epoch 68/150\n",
            "1/1 [==============================] - 0s 46ms/step - loss: 0.1377 - acc: 0.9732 - mse: 0.0185 - val_loss: 0.5882 - val_acc: 0.8421 - val_mse: 0.1103\n",
            "Epoch 69/150\n",
            "1/1 [==============================] - 0s 33ms/step - loss: 0.1363 - acc: 0.9732 - mse: 0.0183 - val_loss: 0.5867 - val_acc: 0.8421 - val_mse: 0.1101\n",
            "Epoch 70/150\n",
            "1/1 [==============================] - 0s 31ms/step - loss: 0.1350 - acc: 0.9732 - mse: 0.0180 - val_loss: 0.5851 - val_acc: 0.8421 - val_mse: 0.1099\n",
            "Epoch 71/150\n",
            "1/1 [==============================] - 0s 33ms/step - loss: 0.1336 - acc: 0.9732 - mse: 0.0178 - val_loss: 0.5837 - val_acc: 0.8421 - val_mse: 0.1097\n",
            "Epoch 72/150\n",
            "1/1 [==============================] - 0s 29ms/step - loss: 0.1323 - acc: 0.9732 - mse: 0.0176 - val_loss: 0.5821 - val_acc: 0.8421 - val_mse: 0.1094\n",
            "Epoch 73/150\n",
            "1/1 [==============================] - 0s 35ms/step - loss: 0.1311 - acc: 0.9732 - mse: 0.0174 - val_loss: 0.5808 - val_acc: 0.8421 - val_mse: 0.1093\n",
            "Epoch 74/150\n",
            "1/1 [==============================] - 0s 30ms/step - loss: 0.1298 - acc: 0.9732 - mse: 0.0172 - val_loss: 0.5792 - val_acc: 0.8421 - val_mse: 0.1090\n",
            "Epoch 75/150\n",
            "1/1 [==============================] - 0s 49ms/step - loss: 0.1286 - acc: 0.9732 - mse: 0.0170 - val_loss: 0.5779 - val_acc: 0.8421 - val_mse: 0.1088\n",
            "Epoch 76/150\n",
            "1/1 [==============================] - 0s 31ms/step - loss: 0.1274 - acc: 0.9732 - mse: 0.0168 - val_loss: 0.5766 - val_acc: 0.8421 - val_mse: 0.1087\n",
            "Epoch 77/150\n",
            "1/1 [==============================] - 0s 45ms/step - loss: 0.1262 - acc: 0.9732 - mse: 0.0166 - val_loss: 0.5752 - val_acc: 0.8421 - val_mse: 0.1084\n",
            "Epoch 78/150\n",
            "1/1 [==============================] - 0s 33ms/step - loss: 0.1250 - acc: 0.9732 - mse: 0.0164 - val_loss: 0.5741 - val_acc: 0.8421 - val_mse: 0.1083\n",
            "Epoch 79/150\n",
            "1/1 [==============================] - 0s 57ms/step - loss: 0.1239 - acc: 0.9732 - mse: 0.0162 - val_loss: 0.5728 - val_acc: 0.8421 - val_mse: 0.1081\n",
            "Epoch 80/150\n",
            "1/1 [==============================] - 0s 32ms/step - loss: 0.1228 - acc: 0.9732 - mse: 0.0161 - val_loss: 0.5719 - val_acc: 0.8421 - val_mse: 0.1081\n",
            "Epoch 81/150\n",
            "1/1 [==============================] - 0s 51ms/step - loss: 0.1217 - acc: 0.9732 - mse: 0.0159 - val_loss: 0.5706 - val_acc: 0.8421 - val_mse: 0.1079\n",
            "Epoch 82/150\n",
            "1/1 [==============================] - 0s 33ms/step - loss: 0.1206 - acc: 0.9732 - mse: 0.0157 - val_loss: 0.5695 - val_acc: 0.8421 - val_mse: 0.1077\n",
            "Epoch 83/150\n",
            "1/1 [==============================] - 0s 34ms/step - loss: 0.1196 - acc: 0.9732 - mse: 0.0156 - val_loss: 0.5685 - val_acc: 0.8421 - val_mse: 0.1076\n",
            "Epoch 84/150\n",
            "1/1 [==============================] - 0s 34ms/step - loss: 0.1185 - acc: 0.9732 - mse: 0.0154 - val_loss: 0.5673 - val_acc: 0.8421 - val_mse: 0.1074\n",
            "Epoch 85/150\n",
            "1/1 [==============================] - 0s 32ms/step - loss: 0.1175 - acc: 0.9732 - mse: 0.0152 - val_loss: 0.5663 - val_acc: 0.8421 - val_mse: 0.1073\n",
            "Epoch 86/150\n",
            "1/1 [==============================] - 0s 32ms/step - loss: 0.1165 - acc: 0.9732 - mse: 0.0151 - val_loss: 0.5653 - val_acc: 0.8421 - val_mse: 0.1072\n",
            "Epoch 87/150\n",
            "1/1 [==============================] - 0s 35ms/step - loss: 0.1155 - acc: 0.9732 - mse: 0.0149 - val_loss: 0.5644 - val_acc: 0.8421 - val_mse: 0.1071\n",
            "Epoch 88/150\n",
            "1/1 [==============================] - 0s 33ms/step - loss: 0.1146 - acc: 0.9732 - mse: 0.0148 - val_loss: 0.5635 - val_acc: 0.8421 - val_mse: 0.1070\n",
            "Epoch 89/150\n",
            "1/1 [==============================] - 0s 32ms/step - loss: 0.1137 - acc: 0.9732 - mse: 0.0146 - val_loss: 0.5630 - val_acc: 0.8421 - val_mse: 0.1070\n",
            "Epoch 90/150\n",
            "1/1 [==============================] - 0s 33ms/step - loss: 0.1128 - acc: 0.9821 - mse: 0.0145 - val_loss: 0.5617 - val_acc: 0.8421 - val_mse: 0.1068\n",
            "Epoch 91/150\n",
            "1/1 [==============================] - 0s 33ms/step - loss: 0.1119 - acc: 0.9821 - mse: 0.0144 - val_loss: 0.5610 - val_acc: 0.8421 - val_mse: 0.1067\n",
            "Epoch 92/150\n",
            "1/1 [==============================] - 0s 32ms/step - loss: 0.1110 - acc: 0.9821 - mse: 0.0142 - val_loss: 0.5604 - val_acc: 0.8421 - val_mse: 0.1067\n",
            "Epoch 93/150\n",
            "1/1 [==============================] - 0s 30ms/step - loss: 0.1102 - acc: 0.9821 - mse: 0.0141 - val_loss: 0.5595 - val_acc: 0.8421 - val_mse: 0.1066\n",
            "Epoch 94/150\n",
            "1/1 [==============================] - 0s 31ms/step - loss: 0.1093 - acc: 0.9821 - mse: 0.0139 - val_loss: 0.5591 - val_acc: 0.8158 - val_mse: 0.1066\n",
            "Epoch 95/150\n",
            "1/1 [==============================] - 0s 48ms/step - loss: 0.1085 - acc: 0.9821 - mse: 0.0138 - val_loss: 0.5580 - val_acc: 0.8158 - val_mse: 0.1064\n",
            "Epoch 96/150\n",
            "1/1 [==============================] - 0s 33ms/step - loss: 0.1077 - acc: 0.9911 - mse: 0.0137 - val_loss: 0.5574 - val_acc: 0.8158 - val_mse: 0.1064\n",
            "Epoch 97/150\n",
            "1/1 [==============================] - 0s 31ms/step - loss: 0.1069 - acc: 0.9911 - mse: 0.0135 - val_loss: 0.5566 - val_acc: 0.8158 - val_mse: 0.1063\n",
            "Epoch 98/150\n",
            "1/1 [==============================] - 0s 31ms/step - loss: 0.1061 - acc: 0.9911 - mse: 0.0134 - val_loss: 0.5560 - val_acc: 0.8158 - val_mse: 0.1063\n",
            "Epoch 99/150\n",
            "1/1 [==============================] - 0s 32ms/step - loss: 0.1053 - acc: 0.9911 - mse: 0.0133 - val_loss: 0.5553 - val_acc: 0.8158 - val_mse: 0.1062\n",
            "Epoch 100/150\n",
            "1/1 [==============================] - 0s 30ms/step - loss: 0.1046 - acc: 0.9911 - mse: 0.0132 - val_loss: 0.5546 - val_acc: 0.8158 - val_mse: 0.1061\n",
            "Epoch 101/150\n",
            "1/1 [==============================] - 0s 31ms/step - loss: 0.1038 - acc: 0.9911 - mse: 0.0131 - val_loss: 0.5541 - val_acc: 0.8158 - val_mse: 0.1061\n",
            "Epoch 102/150\n",
            "1/1 [==============================] - 0s 31ms/step - loss: 0.1031 - acc: 0.9911 - mse: 0.0129 - val_loss: 0.5532 - val_acc: 0.8158 - val_mse: 0.1060\n",
            "Epoch 103/150\n",
            "1/1 [==============================] - 0s 29ms/step - loss: 0.1024 - acc: 0.9911 - mse: 0.0128 - val_loss: 0.5531 - val_acc: 0.8158 - val_mse: 0.1060\n",
            "Epoch 104/150\n",
            "1/1 [==============================] - 0s 29ms/step - loss: 0.1017 - acc: 0.9911 - mse: 0.0127 - val_loss: 0.5522 - val_acc: 0.8158 - val_mse: 0.1059\n",
            "Epoch 105/150\n",
            "1/1 [==============================] - 0s 37ms/step - loss: 0.1009 - acc: 0.9911 - mse: 0.0126 - val_loss: 0.5517 - val_acc: 0.8158 - val_mse: 0.1059\n",
            "Epoch 106/150\n",
            "1/1 [==============================] - 0s 31ms/step - loss: 0.1003 - acc: 0.9911 - mse: 0.0125 - val_loss: 0.5511 - val_acc: 0.8158 - val_mse: 0.1058\n",
            "Epoch 107/150\n",
            "1/1 [==============================] - 0s 32ms/step - loss: 0.0996 - acc: 0.9911 - mse: 0.0124 - val_loss: 0.5506 - val_acc: 0.8158 - val_mse: 0.1058\n",
            "Epoch 108/150\n",
            "1/1 [==============================] - 0s 31ms/step - loss: 0.0989 - acc: 0.9911 - mse: 0.0123 - val_loss: 0.5500 - val_acc: 0.8158 - val_mse: 0.1057\n",
            "Epoch 109/150\n",
            "1/1 [==============================] - 0s 31ms/step - loss: 0.0982 - acc: 0.9911 - mse: 0.0122 - val_loss: 0.5494 - val_acc: 0.8158 - val_mse: 0.1056\n",
            "Epoch 110/150\n",
            "1/1 [==============================] - 0s 32ms/step - loss: 0.0976 - acc: 0.9911 - mse: 0.0121 - val_loss: 0.5488 - val_acc: 0.8158 - val_mse: 0.1055\n",
            "Epoch 111/150\n",
            "1/1 [==============================] - 0s 33ms/step - loss: 0.0969 - acc: 0.9911 - mse: 0.0120 - val_loss: 0.5485 - val_acc: 0.8158 - val_mse: 0.1055\n",
            "Epoch 112/150\n",
            "1/1 [==============================] - 0s 33ms/step - loss: 0.0963 - acc: 0.9911 - mse: 0.0119 - val_loss: 0.5477 - val_acc: 0.8158 - val_mse: 0.1054\n",
            "Epoch 113/150\n",
            "1/1 [==============================] - 0s 34ms/step - loss: 0.0957 - acc: 0.9911 - mse: 0.0118 - val_loss: 0.5476 - val_acc: 0.8158 - val_mse: 0.1054\n",
            "Epoch 114/150\n",
            "1/1 [==============================] - 0s 35ms/step - loss: 0.0951 - acc: 0.9911 - mse: 0.0117 - val_loss: 0.5467 - val_acc: 0.8158 - val_mse: 0.1053\n",
            "Epoch 115/150\n",
            "1/1 [==============================] - 0s 33ms/step - loss: 0.0944 - acc: 0.9911 - mse: 0.0116 - val_loss: 0.5461 - val_acc: 0.8158 - val_mse: 0.1052\n",
            "Epoch 116/150\n",
            "1/1 [==============================] - 0s 32ms/step - loss: 0.0939 - acc: 0.9911 - mse: 0.0115 - val_loss: 0.5455 - val_acc: 0.8158 - val_mse: 0.1051\n",
            "Epoch 117/150\n",
            "1/1 [==============================] - 0s 31ms/step - loss: 0.0933 - acc: 0.9911 - mse: 0.0115 - val_loss: 0.5450 - val_acc: 0.8158 - val_mse: 0.1050\n",
            "Epoch 118/150\n",
            "1/1 [==============================] - 0s 46ms/step - loss: 0.0927 - acc: 0.9911 - mse: 0.0114 - val_loss: 0.5445 - val_acc: 0.8158 - val_mse: 0.1050\n",
            "Epoch 119/150\n",
            "1/1 [==============================] - 0s 31ms/step - loss: 0.0921 - acc: 0.9911 - mse: 0.0113 - val_loss: 0.5440 - val_acc: 0.8158 - val_mse: 0.1049\n",
            "Epoch 120/150\n",
            "1/1 [==============================] - 0s 36ms/step - loss: 0.0916 - acc: 0.9911 - mse: 0.0112 - val_loss: 0.5434 - val_acc: 0.8158 - val_mse: 0.1048\n",
            "Epoch 121/150\n",
            "1/1 [==============================] - 0s 38ms/step - loss: 0.0910 - acc: 0.9911 - mse: 0.0111 - val_loss: 0.5430 - val_acc: 0.8158 - val_mse: 0.1047\n",
            "Epoch 122/150\n",
            "1/1 [==============================] - 0s 46ms/step - loss: 0.0905 - acc: 0.9911 - mse: 0.0111 - val_loss: 0.5427 - val_acc: 0.8158 - val_mse: 0.1047\n",
            "Epoch 123/150\n",
            "1/1 [==============================] - 0s 35ms/step - loss: 0.0899 - acc: 0.9911 - mse: 0.0110 - val_loss: 0.5422 - val_acc: 0.8158 - val_mse: 0.1046\n",
            "Epoch 124/150\n",
            "1/1 [==============================] - 0s 35ms/step - loss: 0.0894 - acc: 0.9911 - mse: 0.0109 - val_loss: 0.5417 - val_acc: 0.8158 - val_mse: 0.1045\n",
            "Epoch 125/150\n",
            "1/1 [==============================] - 0s 30ms/step - loss: 0.0889 - acc: 0.9911 - mse: 0.0108 - val_loss: 0.5414 - val_acc: 0.8158 - val_mse: 0.1045\n",
            "Epoch 126/150\n",
            "1/1 [==============================] - 0s 52ms/step - loss: 0.0883 - acc: 0.9911 - mse: 0.0108 - val_loss: 0.5408 - val_acc: 0.8158 - val_mse: 0.1044\n",
            "Epoch 127/150\n",
            "1/1 [==============================] - 0s 33ms/step - loss: 0.0878 - acc: 0.9911 - mse: 0.0107 - val_loss: 0.5405 - val_acc: 0.8158 - val_mse: 0.1043\n",
            "Epoch 128/150\n",
            "1/1 [==============================] - 0s 33ms/step - loss: 0.0873 - acc: 0.9911 - mse: 0.0106 - val_loss: 0.5401 - val_acc: 0.8158 - val_mse: 0.1043\n",
            "Epoch 129/150\n",
            "1/1 [==============================] - 0s 48ms/step - loss: 0.0868 - acc: 0.9911 - mse: 0.0105 - val_loss: 0.5398 - val_acc: 0.8158 - val_mse: 0.1042\n",
            "Epoch 130/150\n",
            "1/1 [==============================] - 0s 43ms/step - loss: 0.0863 - acc: 0.9911 - mse: 0.0105 - val_loss: 0.5392 - val_acc: 0.8158 - val_mse: 0.1041\n",
            "Epoch 131/150\n",
            "1/1 [==============================] - 0s 34ms/step - loss: 0.0859 - acc: 0.9911 - mse: 0.0104 - val_loss: 0.5390 - val_acc: 0.8158 - val_mse: 0.1041\n",
            "Epoch 132/150\n",
            "1/1 [==============================] - 0s 34ms/step - loss: 0.0854 - acc: 0.9911 - mse: 0.0103 - val_loss: 0.5385 - val_acc: 0.8158 - val_mse: 0.1040\n",
            "Epoch 133/150\n",
            "1/1 [==============================] - 0s 33ms/step - loss: 0.0849 - acc: 0.9911 - mse: 0.0103 - val_loss: 0.5381 - val_acc: 0.8158 - val_mse: 0.1039\n",
            "Epoch 134/150\n",
            "1/1 [==============================] - 0s 34ms/step - loss: 0.0844 - acc: 0.9911 - mse: 0.0102 - val_loss: 0.5379 - val_acc: 0.8158 - val_mse: 0.1038\n",
            "Epoch 135/150\n",
            "1/1 [==============================] - 0s 43ms/step - loss: 0.0840 - acc: 0.9911 - mse: 0.0101 - val_loss: 0.5374 - val_acc: 0.8158 - val_mse: 0.1037\n",
            "Epoch 136/150\n",
            "1/1 [==============================] - 0s 35ms/step - loss: 0.0835 - acc: 0.9911 - mse: 0.0101 - val_loss: 0.5370 - val_acc: 0.8158 - val_mse: 0.1036\n",
            "Epoch 137/150\n",
            "1/1 [==============================] - 0s 31ms/step - loss: 0.0830 - acc: 0.9911 - mse: 0.0100 - val_loss: 0.5368 - val_acc: 0.8158 - val_mse: 0.1036\n",
            "Epoch 138/150\n",
            "1/1 [==============================] - 0s 35ms/step - loss: 0.0826 - acc: 0.9911 - mse: 0.0099 - val_loss: 0.5365 - val_acc: 0.8158 - val_mse: 0.1035\n",
            "Epoch 139/150\n",
            "1/1 [==============================] - 0s 33ms/step - loss: 0.0822 - acc: 0.9911 - mse: 0.0099 - val_loss: 0.5361 - val_acc: 0.8158 - val_mse: 0.1034\n",
            "Epoch 140/150\n",
            "1/1 [==============================] - 0s 31ms/step - loss: 0.0817 - acc: 0.9911 - mse: 0.0098 - val_loss: 0.5356 - val_acc: 0.8158 - val_mse: 0.1033\n",
            "Epoch 141/150\n",
            "1/1 [==============================] - 0s 30ms/step - loss: 0.0813 - acc: 0.9911 - mse: 0.0097 - val_loss: 0.5353 - val_acc: 0.8158 - val_mse: 0.1032\n",
            "Epoch 142/150\n",
            "1/1 [==============================] - 0s 31ms/step - loss: 0.0808 - acc: 0.9911 - mse: 0.0097 - val_loss: 0.5352 - val_acc: 0.8158 - val_mse: 0.1033\n",
            "Epoch 143/150\n",
            "1/1 [==============================] - 0s 33ms/step - loss: 0.0804 - acc: 0.9911 - mse: 0.0096 - val_loss: 0.5347 - val_acc: 0.8158 - val_mse: 0.1031\n",
            "Epoch 144/150\n",
            "1/1 [==============================] - 0s 32ms/step - loss: 0.0800 - acc: 0.9911 - mse: 0.0096 - val_loss: 0.5345 - val_acc: 0.8158 - val_mse: 0.1031\n",
            "Epoch 145/150\n",
            "1/1 [==============================] - 0s 32ms/step - loss: 0.0796 - acc: 0.9911 - mse: 0.0095 - val_loss: 0.5341 - val_acc: 0.8158 - val_mse: 0.1030\n",
            "Epoch 146/150\n",
            "1/1 [==============================] - 0s 32ms/step - loss: 0.0792 - acc: 0.9911 - mse: 0.0094 - val_loss: 0.5338 - val_acc: 0.8158 - val_mse: 0.1029\n",
            "Epoch 147/150\n",
            "1/1 [==============================] - 0s 40ms/step - loss: 0.0788 - acc: 0.9911 - mse: 0.0094 - val_loss: 0.5335 - val_acc: 0.8158 - val_mse: 0.1028\n",
            "Epoch 148/150\n",
            "1/1 [==============================] - 0s 34ms/step - loss: 0.0784 - acc: 0.9911 - mse: 0.0093 - val_loss: 0.5332 - val_acc: 0.8158 - val_mse: 0.1027\n",
            "Epoch 149/150\n",
            "1/1 [==============================] - 0s 32ms/step - loss: 0.0780 - acc: 0.9911 - mse: 0.0093 - val_loss: 0.5329 - val_acc: 0.8158 - val_mse: 0.1026\n",
            "Epoch 150/150\n",
            "1/1 [==============================] - 0s 34ms/step - loss: 0.0776 - acc: 0.9911 - mse: 0.0092 - val_loss: 0.5326 - val_acc: 0.8158 - val_mse: 0.1025\n"
          ]
        }
      ],
      "source": [
        "\n",
        "# The main idea behind batch normalization is that we normalize the input layer by using several techniques (sklearn.preprocessing.StandardScaler) in our case, which improves the model performance, so if the input layer is benefitted by normalization, why not normalize the hidden layers, which will improve and fasten learning even further.\n",
        "\n",
        "# To add it in your TensorFlow model, just add tf.keras.layers.BatchNormalization() after your layers.\n",
        "\n",
        "#Create model8, having same layers as the first model, but this time add a BatchNormalization layer after the first or second dense layer\n",
        "from tensorflow import keras\n",
        "from tensorflow.keras import layers\n",
        "\n",
        "model8 = Sequential([\n",
        "    Dense(512, activation='tanh', input_shape = X_train[0].shape),\n",
        "    layers.BatchNormalization(),\n",
        "    Dense(512//2, activation='tanh'),\n",
        "    Dense(512//4, activation='tanh'),\n",
        "    Dense(512//8, activation='tanh'),\n",
        "    Dense(32, activation='relu'),\n",
        "    Dense(3, activation='softmax')\n",
        "])\n",
        "print(model8.summary())\n",
        "model8.compile(optimizer='sgd',loss='categorical_crossentropy', metrics=['acc', 'mse'])\n",
        "\n",
        "hist8 = model8.fit(X_train, y_train, epochs=150, batch_size=128, validation_data=(X_test,y_test))\n",
        "\n",
        " \n"
      ]
    },
    {
      "cell_type": "code",
      "execution_count": 64,
      "metadata": {
        "id": "2K-T2MPM8ImV",
        "colab": {
          "base_uri": "https://localhost:8080/"
        },
        "outputId": "87c1712a-84a6-4c98-f40f-ee0e9bfc7fcd"
      },
      "outputs": [
        {
          "output_type": "stream",
          "name": "stdout",
          "text": [
            "2/2 [==============================] - 0s 5ms/step - loss: 0.0000e+00 - acc: 0.0000e+00 - mse: 0.0000e+00\n"
          ]
        },
        {
          "output_type": "execute_result",
          "data": {
            "text/plain": [
              "[0.0, 0.0, 0.0]"
            ]
          },
          "metadata": {},
          "execution_count": 64
        }
      ],
      "source": [
        "#just how we used evaluate() in the basic model previously, use it again to find the loss, accuracy and MSE on the test set\n",
        "model8.evaluate(X_test)"
      ]
    },
    {
      "cell_type": "code",
      "execution_count": 65,
      "metadata": {
        "id": "yyIrjWJ58ImV",
        "colab": {
          "base_uri": "https://localhost:8080/",
          "height": 299
        },
        "outputId": "8fdf207f-a855-4b6f-ceef-0e9375bd399f"
      },
      "outputs": [
        {
          "output_type": "display_data",
          "data": {
            "text/plain": [
              "<Figure size 432x288 with 1 Axes>"
            ],
            "image/png": "[encoded data removed]"
          },
          "metadata": {}
        }
      ],
      "source": [
        "# Plot the train loss vs validation loss and train accuracy vs validation accuracy graphs just like we did before\n",
        "\n",
        "plt.plot(hist8.history['acc'], label = 'train acc')\n",
        "plt.plot(hist8.history['val_acc'], label='val acc')\n",
        "plt.title(\"train acc vs Val_acc\")\n",
        "plt.xlabel(\"Epochs\")\n",
        "plt.ylabel(\"acc\")\n",
        "plt.legend()\n",
        "plt.show()"
      ]
    },
    {
      "cell_type": "code",
      "execution_count": 66,
      "metadata": {
        "id": "x7afC3LS8ImV",
        "colab": {
          "base_uri": "https://localhost:8080/"
        },
        "outputId": "476508aa-b022-44fc-f603-0a7638aecf7a"
      },
      "outputs": [
        {
          "output_type": "stream",
          "name": "stdout",
          "text": [
            "Model: \"sequential_13\"\n",
            "_________________________________________________________________\n",
            " Layer (type)                Output Shape              Param #   \n",
            "=================================================================\n",
            " dense_69 (Dense)            (None, 512)               2560      \n",
            "                                                                 \n",
            " batch_normalization_1 (Batc  (None, 512)              2048      \n",
            " hNormalization)                                                 \n",
            "                                                                 \n",
            " dense_70 (Dense)            (None, 256)               131328    \n",
            "                                                                 \n",
            " batch_normalization_2 (Batc  (None, 256)              1024      \n",
            " hNormalization)                                                 \n",
            "                                                                 \n",
            " dense_71 (Dense)            (None, 128)               32896     \n",
            "                                                                 \n",
            " batch_normalization_3 (Batc  (None, 128)              512       \n",
            " hNormalization)                                                 \n",
            "                                                                 \n",
            " dense_72 (Dense)            (None, 64)                8256      \n",
            "                                                                 \n",
            " batch_normalization_4 (Batc  (None, 64)               256       \n",
            " hNormalization)                                                 \n",
            "                                                                 \n",
            " dense_73 (Dense)            (None, 32)                2080      \n",
            "                                                                 \n",
            " batch_normalization_5 (Batc  (None, 32)               128       \n",
            " hNormalization)                                                 \n",
            "                                                                 \n",
            " dense_74 (Dense)            (None, 3)                 99        \n",
            "                                                                 \n",
            "=================================================================\n",
            "Total params: 181,187\n",
            "Trainable params: 179,203\n",
            "Non-trainable params: 1,984\n",
            "_________________________________________________________________\n",
            "None\n",
            "Epoch 1/150\n",
            "1/1 [==============================] - 1s 1s/step - loss: 2.1059 - acc: 0.2679 - mse: 0.3405 - val_loss: 0.9308 - val_acc: 0.7105 - val_mse: 0.1851\n",
            "Epoch 2/150\n",
            "1/1 [==============================] - 0s 31ms/step - loss: 0.7051 - acc: 0.7054 - mse: 0.1352 - val_loss: 0.8931 - val_acc: 0.7368 - val_mse: 0.1769\n",
            "Epoch 3/150\n",
            "1/1 [==============================] - 0s 30ms/step - loss: 0.3452 - acc: 0.8750 - mse: 0.0628 - val_loss: 0.8905 - val_acc: 0.7368 - val_mse: 0.1764\n",
            "Epoch 4/150\n",
            "1/1 [==============================] - 0s 30ms/step - loss: 0.2453 - acc: 0.9196 - mse: 0.0401 - val_loss: 0.8856 - val_acc: 0.7632 - val_mse: 0.1752\n",
            "Epoch 5/150\n",
            "1/1 [==============================] - 0s 29ms/step - loss: 0.2058 - acc: 0.9375 - mse: 0.0324 - val_loss: 0.8806 - val_acc: 0.7632 - val_mse: 0.1739\n",
            "Epoch 6/150\n",
            "1/1 [==============================] - 0s 30ms/step - loss: 0.1843 - acc: 0.9554 - mse: 0.0279 - val_loss: 0.8771 - val_acc: 0.7632 - val_mse: 0.1730\n",
            "Epoch 7/150\n",
            "1/1 [==============================] - 0s 32ms/step - loss: 0.1693 - acc: 0.9643 - mse: 0.0250 - val_loss: 0.8731 - val_acc: 0.7632 - val_mse: 0.1720\n",
            "Epoch 8/150\n",
            "1/1 [==============================] - 0s 35ms/step - loss: 0.1574 - acc: 0.9643 - mse: 0.0229 - val_loss: 0.8696 - val_acc: 0.7632 - val_mse: 0.1711\n",
            "Epoch 9/150\n",
            "1/1 [==============================] - 0s 48ms/step - loss: 0.1471 - acc: 0.9643 - mse: 0.0209 - val_loss: 0.8661 - val_acc: 0.7632 - val_mse: 0.1702\n",
            "Epoch 10/150\n",
            "1/1 [==============================] - 0s 33ms/step - loss: 0.1381 - acc: 0.9732 - mse: 0.0193 - val_loss: 0.8625 - val_acc: 0.7895 - val_mse: 0.1693\n",
            "Epoch 11/150\n",
            "1/1 [==============================] - 0s 33ms/step - loss: 0.1302 - acc: 0.9732 - mse: 0.0178 - val_loss: 0.8600 - val_acc: 0.7895 - val_mse: 0.1687\n",
            "Epoch 12/150\n",
            "1/1 [==============================] - 0s 32ms/step - loss: 0.1235 - acc: 0.9732 - mse: 0.0166 - val_loss: 0.8555 - val_acc: 0.7895 - val_mse: 0.1676\n",
            "Epoch 13/150\n",
            "1/1 [==============================] - 0s 28ms/step - loss: 0.1161 - acc: 0.9732 - mse: 0.0152 - val_loss: 0.8524 - val_acc: 0.8158 - val_mse: 0.1668\n",
            "Epoch 14/150\n",
            "1/1 [==============================] - 0s 28ms/step - loss: 0.1094 - acc: 0.9732 - mse: 0.0138 - val_loss: 0.8487 - val_acc: 0.8421 - val_mse: 0.1659\n",
            "Epoch 15/150\n",
            "1/1 [==============================] - 0s 27ms/step - loss: 0.1034 - acc: 0.9732 - mse: 0.0127 - val_loss: 0.8461 - val_acc: 0.8421 - val_mse: 0.1652\n",
            "Epoch 16/150\n",
            "1/1 [==============================] - 0s 31ms/step - loss: 0.0984 - acc: 0.9821 - mse: 0.0117 - val_loss: 0.8426 - val_acc: 0.8421 - val_mse: 0.1644\n",
            "Epoch 17/150\n",
            "1/1 [==============================] - 0s 28ms/step - loss: 0.0936 - acc: 0.9821 - mse: 0.0107 - val_loss: 0.8401 - val_acc: 0.8421 - val_mse: 0.1637\n",
            "Epoch 18/150\n",
            "1/1 [==============================] - 0s 30ms/step - loss: 0.0898 - acc: 0.9821 - mse: 0.0098 - val_loss: 0.8375 - val_acc: 0.8421 - val_mse: 0.1631\n",
            "Epoch 19/150\n",
            "1/1 [==============================] - 0s 32ms/step - loss: 0.0860 - acc: 0.9821 - mse: 0.0093 - val_loss: 0.8346 - val_acc: 0.8421 - val_mse: 0.1623\n",
            "Epoch 20/150\n",
            "1/1 [==============================] - 0s 28ms/step - loss: 0.0824 - acc: 0.9911 - mse: 0.0085 - val_loss: 0.8319 - val_acc: 0.8158 - val_mse: 0.1617\n",
            "Epoch 21/150\n",
            "1/1 [==============================] - 0s 30ms/step - loss: 0.0792 - acc: 0.9911 - mse: 0.0079 - val_loss: 0.8292 - val_acc: 0.8158 - val_mse: 0.1610\n",
            "Epoch 22/150\n",
            "1/1 [==============================] - 0s 31ms/step - loss: 0.0765 - acc: 0.9911 - mse: 0.0074 - val_loss: 0.8264 - val_acc: 0.8158 - val_mse: 0.1603\n",
            "Epoch 23/150\n",
            "1/1 [==============================] - 0s 30ms/step - loss: 0.0740 - acc: 0.9911 - mse: 0.0071 - val_loss: 0.8242 - val_acc: 0.7895 - val_mse: 0.1598\n",
            "Epoch 24/150\n",
            "1/1 [==============================] - 0s 28ms/step - loss: 0.0717 - acc: 1.0000 - mse: 0.0064 - val_loss: 0.8213 - val_acc: 0.7632 - val_mse: 0.1590\n",
            "Epoch 25/150\n",
            "1/1 [==============================] - 0s 27ms/step - loss: 0.0693 - acc: 1.0000 - mse: 0.0062 - val_loss: 0.8188 - val_acc: 0.7368 - val_mse: 0.1584\n",
            "Epoch 26/150\n",
            "1/1 [==============================] - 0s 28ms/step - loss: 0.0672 - acc: 1.0000 - mse: 0.0058 - val_loss: 0.8162 - val_acc: 0.7368 - val_mse: 0.1578\n",
            "Epoch 27/150\n",
            "1/1 [==============================] - 0s 26ms/step - loss: 0.0653 - acc: 1.0000 - mse: 0.0055 - val_loss: 0.8137 - val_acc: 0.7368 - val_mse: 0.1572\n",
            "Epoch 28/150\n",
            "1/1 [==============================] - 0s 31ms/step - loss: 0.0633 - acc: 1.0000 - mse: 0.0051 - val_loss: 0.8112 - val_acc: 0.7632 - val_mse: 0.1566\n",
            "Epoch 29/150\n",
            "1/1 [==============================] - 0s 31ms/step - loss: 0.0613 - acc: 1.0000 - mse: 0.0048 - val_loss: 0.8089 - val_acc: 0.7632 - val_mse: 0.1560\n",
            "Epoch 30/150\n",
            "1/1 [==============================] - 0s 30ms/step - loss: 0.0598 - acc: 1.0000 - mse: 0.0045 - val_loss: 0.8064 - val_acc: 0.7368 - val_mse: 0.1554\n",
            "Epoch 31/150\n",
            "1/1 [==============================] - 0s 29ms/step - loss: 0.0582 - acc: 1.0000 - mse: 0.0044 - val_loss: 0.8043 - val_acc: 0.7368 - val_mse: 0.1549\n",
            "Epoch 32/150\n",
            "1/1 [==============================] - 0s 28ms/step - loss: 0.0568 - acc: 1.0000 - mse: 0.0039 - val_loss: 0.8016 - val_acc: 0.7368 - val_mse: 0.1543\n",
            "Epoch 33/150\n",
            "1/1 [==============================] - 0s 29ms/step - loss: 0.0554 - acc: 1.0000 - mse: 0.0040 - val_loss: 0.7997 - val_acc: 0.7368 - val_mse: 0.1538\n",
            "Epoch 34/150\n",
            "1/1 [==============================] - 0s 30ms/step - loss: 0.0540 - acc: 1.0000 - mse: 0.0035 - val_loss: 0.7971 - val_acc: 0.7368 - val_mse: 0.1532\n",
            "Epoch 35/150\n",
            "1/1 [==============================] - 0s 29ms/step - loss: 0.0527 - acc: 1.0000 - mse: 0.0035 - val_loss: 0.7947 - val_acc: 0.7368 - val_mse: 0.1527\n",
            "Epoch 36/150\n",
            "1/1 [==============================] - 0s 32ms/step - loss: 0.0515 - acc: 1.0000 - mse: 0.0032 - val_loss: 0.7921 - val_acc: 0.7105 - val_mse: 0.1520\n",
            "Epoch 37/150\n",
            "1/1 [==============================] - 0s 37ms/step - loss: 0.0506 - acc: 1.0000 - mse: 0.0033 - val_loss: 0.7899 - val_acc: 0.7105 - val_mse: 0.1515\n",
            "Epoch 38/150\n",
            "1/1 [==============================] - 0s 34ms/step - loss: 0.0494 - acc: 1.0000 - mse: 0.0029 - val_loss: 0.7876 - val_acc: 0.7105 - val_mse: 0.1510\n",
            "Epoch 39/150\n",
            "1/1 [==============================] - 0s 29ms/step - loss: 0.0488 - acc: 1.0000 - mse: 0.0031 - val_loss: 0.7851 - val_acc: 0.7368 - val_mse: 0.1504\n",
            "Epoch 40/150\n",
            "1/1 [==============================] - 0s 31ms/step - loss: 0.0476 - acc: 1.0000 - mse: 0.0027 - val_loss: 0.7830 - val_acc: 0.7368 - val_mse: 0.1499\n",
            "Epoch 41/150\n",
            "1/1 [==============================] - 0s 30ms/step - loss: 0.0470 - acc: 1.0000 - mse: 0.0029 - val_loss: 0.7808 - val_acc: 0.7368 - val_mse: 0.1495\n",
            "Epoch 42/150\n",
            "1/1 [==============================] - 0s 51ms/step - loss: 0.0458 - acc: 1.0000 - mse: 0.0025 - val_loss: 0.7784 - val_acc: 0.7368 - val_mse: 0.1489\n",
            "Epoch 43/150\n",
            "1/1 [==============================] - 0s 29ms/step - loss: 0.0452 - acc: 1.0000 - mse: 0.0027 - val_loss: 0.7762 - val_acc: 0.7368 - val_mse: 0.1485\n",
            "Epoch 44/150\n",
            "1/1 [==============================] - 0s 27ms/step - loss: 0.0441 - acc: 1.0000 - mse: 0.0023 - val_loss: 0.7736 - val_acc: 0.7368 - val_mse: 0.1478\n",
            "Epoch 45/150\n",
            "1/1 [==============================] - 0s 28ms/step - loss: 0.0433 - acc: 1.0000 - mse: 0.0025 - val_loss: 0.7716 - val_acc: 0.7368 - val_mse: 0.1474\n",
            "Epoch 46/150\n",
            "1/1 [==============================] - 0s 54ms/step - loss: 0.0425 - acc: 1.0000 - mse: 0.0021 - val_loss: 0.7693 - val_acc: 0.7368 - val_mse: 0.1469\n",
            "Epoch 47/150\n",
            "1/1 [==============================] - 0s 29ms/step - loss: 0.0419 - acc: 1.0000 - mse: 0.0023 - val_loss: 0.7674 - val_acc: 0.7368 - val_mse: 0.1465\n",
            "Epoch 48/150\n",
            "1/1 [==============================] - 0s 28ms/step - loss: 0.0411 - acc: 1.0000 - mse: 0.0019 - val_loss: 0.7646 - val_acc: 0.7632 - val_mse: 0.1459\n",
            "Epoch 49/150\n",
            "1/1 [==============================] - 0s 48ms/step - loss: 0.0404 - acc: 1.0000 - mse: 0.0021 - val_loss: 0.7629 - val_acc: 0.7632 - val_mse: 0.1456\n",
            "Epoch 50/150\n",
            "1/1 [==============================] - 0s 31ms/step - loss: 0.0397 - acc: 1.0000 - mse: 0.0018 - val_loss: 0.7600 - val_acc: 0.7632 - val_mse: 0.1449\n",
            "Epoch 51/150\n",
            "1/1 [==============================] - 0s 29ms/step - loss: 0.0392 - acc: 1.0000 - mse: 0.0020 - val_loss: 0.7586 - val_acc: 0.7895 - val_mse: 0.1446\n",
            "Epoch 52/150\n",
            "1/1 [==============================] - 0s 30ms/step - loss: 0.0385 - acc: 1.0000 - mse: 0.0017 - val_loss: 0.7556 - val_acc: 0.7895 - val_mse: 0.1440\n",
            "Epoch 53/150\n",
            "1/1 [==============================] - 0s 29ms/step - loss: 0.0380 - acc: 1.0000 - mse: 0.0019 - val_loss: 0.7544 - val_acc: 0.7895 - val_mse: 0.1438\n",
            "Epoch 54/150\n",
            "1/1 [==============================] - 0s 31ms/step - loss: 0.0374 - acc: 1.0000 - mse: 0.0015 - val_loss: 0.7508 - val_acc: 0.7895 - val_mse: 0.1430\n",
            "Epoch 55/150\n",
            "1/1 [==============================] - 0s 30ms/step - loss: 0.0370 - acc: 1.0000 - mse: 0.0018 - val_loss: 0.7503 - val_acc: 0.7895 - val_mse: 0.1429\n",
            "Epoch 56/150\n",
            "1/1 [==============================] - 0s 30ms/step - loss: 0.0363 - acc: 1.0000 - mse: 0.0015 - val_loss: 0.7465 - val_acc: 0.7895 - val_mse: 0.1421\n",
            "Epoch 57/150\n",
            "1/1 [==============================] - 0s 28ms/step - loss: 0.0359 - acc: 1.0000 - mse: 0.0017 - val_loss: 0.7457 - val_acc: 0.7895 - val_mse: 0.1420\n",
            "Epoch 58/150\n",
            "1/1 [==============================] - 0s 29ms/step - loss: 0.0353 - acc: 1.0000 - mse: 0.0014 - val_loss: 0.7422 - val_acc: 0.7895 - val_mse: 0.1412\n",
            "Epoch 59/150\n",
            "1/1 [==============================] - 0s 39ms/step - loss: 0.0349 - acc: 1.0000 - mse: 0.0016 - val_loss: 0.7415 - val_acc: 0.7895 - val_mse: 0.1412\n",
            "Epoch 60/150\n",
            "1/1 [==============================] - 0s 29ms/step - loss: 0.0342 - acc: 1.0000 - mse: 0.0013 - val_loss: 0.7379 - val_acc: 0.7895 - val_mse: 0.1404\n",
            "Epoch 61/150\n",
            "1/1 [==============================] - 0s 47ms/step - loss: 0.0339 - acc: 1.0000 - mse: 0.0015 - val_loss: 0.7377 - val_acc: 0.7632 - val_mse: 0.1404\n",
            "Epoch 62/150\n",
            "1/1 [==============================] - 0s 33ms/step - loss: 0.0333 - acc: 1.0000 - mse: 0.0012 - val_loss: 0.7341 - val_acc: 0.7895 - val_mse: 0.1396\n",
            "Epoch 63/150\n",
            "1/1 [==============================] - 0s 37ms/step - loss: 0.0330 - acc: 1.0000 - mse: 0.0014 - val_loss: 0.7340 - val_acc: 0.7632 - val_mse: 0.1397\n",
            "Epoch 64/150\n",
            "1/1 [==============================] - 0s 32ms/step - loss: 0.0322 - acc: 1.0000 - mse: 0.0011 - val_loss: 0.7305 - val_acc: 0.7632 - val_mse: 0.1390\n",
            "Epoch 65/150\n",
            "1/1 [==============================] - 0s 29ms/step - loss: 0.0321 - acc: 1.0000 - mse: 0.0013 - val_loss: 0.7304 - val_acc: 0.7632 - val_mse: 0.1390\n",
            "Epoch 66/150\n",
            "1/1 [==============================] - 0s 35ms/step - loss: 0.0315 - acc: 1.0000 - mse: 0.0010 - val_loss: 0.7269 - val_acc: 0.7632 - val_mse: 0.1383\n",
            "Epoch 67/150\n",
            "1/1 [==============================] - 0s 32ms/step - loss: 0.0315 - acc: 1.0000 - mse: 0.0013 - val_loss: 0.7270 - val_acc: 0.7368 - val_mse: 0.1384\n",
            "Epoch 68/150\n",
            "1/1 [==============================] - 0s 32ms/step - loss: 0.0307 - acc: 1.0000 - mse: 9.8799e-04 - val_loss: 0.7233 - val_acc: 0.7632 - val_mse: 0.1376\n",
            "Epoch 69/150\n",
            "1/1 [==============================] - 0s 33ms/step - loss: 0.0307 - acc: 1.0000 - mse: 0.0012 - val_loss: 0.7238 - val_acc: 0.7368 - val_mse: 0.1379\n",
            "Epoch 70/150\n",
            "1/1 [==============================] - 0s 30ms/step - loss: 0.0299 - acc: 1.0000 - mse: 9.3693e-04 - val_loss: 0.7202 - val_acc: 0.7368 - val_mse: 0.1371\n",
            "Epoch 71/150\n",
            "1/1 [==============================] - 0s 30ms/step - loss: 0.0298 - acc: 1.0000 - mse: 0.0012 - val_loss: 0.7200 - val_acc: 0.7368 - val_mse: 0.1372\n",
            "Epoch 72/150\n",
            "1/1 [==============================] - 0s 31ms/step - loss: 0.0289 - acc: 1.0000 - mse: 8.8798e-04 - val_loss: 0.7170 - val_acc: 0.7368 - val_mse: 0.1366\n",
            "Epoch 73/150\n",
            "1/1 [==============================] - 0s 28ms/step - loss: 0.0286 - acc: 1.0000 - mse: 9.8674e-04 - val_loss: 0.7164 - val_acc: 0.7368 - val_mse: 0.1365\n",
            "Epoch 74/150\n",
            "1/1 [==============================] - 0s 32ms/step - loss: 0.0282 - acc: 1.0000 - mse: 8.4051e-04 - val_loss: 0.7137 - val_acc: 0.7368 - val_mse: 0.1360\n",
            "Epoch 75/150\n",
            "1/1 [==============================] - 0s 30ms/step - loss: 0.0280 - acc: 1.0000 - mse: 9.6211e-04 - val_loss: 0.7134 - val_acc: 0.7368 - val_mse: 0.1361\n",
            "Epoch 76/150\n",
            "1/1 [==============================] - 0s 27ms/step - loss: 0.0276 - acc: 1.0000 - mse: 7.9873e-04 - val_loss: 0.7102 - val_acc: 0.7368 - val_mse: 0.1354\n",
            "Epoch 77/150\n",
            "1/1 [==============================] - 0s 32ms/step - loss: 0.0274 - acc: 1.0000 - mse: 9.2652e-04 - val_loss: 0.7104 - val_acc: 0.7105 - val_mse: 0.1356\n",
            "Epoch 78/150\n",
            "1/1 [==============================] - 0s 34ms/step - loss: 0.0270 - acc: 1.0000 - mse: 7.6154e-04 - val_loss: 0.7072 - val_acc: 0.7368 - val_mse: 0.1349\n",
            "Epoch 79/150\n",
            "1/1 [==============================] - 0s 53ms/step - loss: 0.0271 - acc: 1.0000 - mse: 9.2855e-04 - val_loss: 0.7077 - val_acc: 0.7105 - val_mse: 0.1352\n",
            "Epoch 80/150\n",
            "1/1 [==============================] - 0s 31ms/step - loss: 0.0264 - acc: 1.0000 - mse: 7.2572e-04 - val_loss: 0.7042 - val_acc: 0.7105 - val_mse: 0.1344\n",
            "Epoch 81/150\n",
            "1/1 [==============================] - 0s 33ms/step - loss: 0.0263 - acc: 1.0000 - mse: 8.5202e-04 - val_loss: 0.7043 - val_acc: 0.7105 - val_mse: 0.1346\n",
            "Epoch 82/150\n",
            "1/1 [==============================] - 0s 36ms/step - loss: 0.0258 - acc: 1.0000 - mse: 6.9363e-04 - val_loss: 0.7016 - val_acc: 0.7105 - val_mse: 0.1341\n",
            "Epoch 83/150\n",
            "1/1 [==============================] - 0s 42ms/step - loss: 0.0256 - acc: 1.0000 - mse: 7.9633e-04 - val_loss: 0.7017 - val_acc: 0.7105 - val_mse: 0.1342\n",
            "Epoch 84/150\n",
            "1/1 [==============================] - 0s 35ms/step - loss: 0.0252 - acc: 1.0000 - mse: 6.6345e-04 - val_loss: 0.6984 - val_acc: 0.7105 - val_mse: 0.1336\n",
            "Epoch 85/150\n",
            "1/1 [==============================] - 0s 50ms/step - loss: 0.0251 - acc: 1.0000 - mse: 7.8002e-04 - val_loss: 0.6990 - val_acc: 0.7105 - val_mse: 0.1338\n",
            "Epoch 86/150\n",
            "1/1 [==============================] - 0s 35ms/step - loss: 0.0247 - acc: 1.0000 - mse: 6.3485e-04 - val_loss: 0.6959 - val_acc: 0.7105 - val_mse: 0.1332\n",
            "Epoch 87/150\n",
            "1/1 [==============================] - 0s 36ms/step - loss: 0.0245 - acc: 1.0000 - mse: 7.2476e-04 - val_loss: 0.6962 - val_acc: 0.7105 - val_mse: 0.1334\n",
            "Epoch 88/150\n",
            "1/1 [==============================] - 0s 35ms/step - loss: 0.0241 - acc: 1.0000 - mse: 6.0716e-04 - val_loss: 0.6934 - val_acc: 0.7105 - val_mse: 0.1329\n",
            "Epoch 89/150\n",
            "1/1 [==============================] - 0s 33ms/step - loss: 0.0239 - acc: 1.0000 - mse: 6.7239e-04 - val_loss: 0.6931 - val_acc: 0.7105 - val_mse: 0.1329\n",
            "Epoch 90/150\n",
            "1/1 [==============================] - 0s 43ms/step - loss: 0.0235 - acc: 1.0000 - mse: 5.8027e-04 - val_loss: 0.6907 - val_acc: 0.7105 - val_mse: 0.1325\n",
            "Epoch 91/150\n",
            "1/1 [==============================] - 0s 40ms/step - loss: 0.0233 - acc: 1.0000 - mse: 6.3718e-04 - val_loss: 0.6908 - val_acc: 0.7105 - val_mse: 0.1326\n",
            "Epoch 92/150\n",
            "1/1 [==============================] - 0s 36ms/step - loss: 0.0231 - acc: 1.0000 - mse: 5.5770e-04 - val_loss: 0.6883 - val_acc: 0.7105 - val_mse: 0.1322\n",
            "Epoch 93/150\n",
            "1/1 [==============================] - 0s 52ms/step - loss: 0.0229 - acc: 1.0000 - mse: 6.0373e-04 - val_loss: 0.6879 - val_acc: 0.7105 - val_mse: 0.1322\n",
            "Epoch 94/150\n",
            "1/1 [==============================] - 0s 35ms/step - loss: 0.0226 - acc: 1.0000 - mse: 5.3182e-04 - val_loss: 0.6856 - val_acc: 0.7105 - val_mse: 0.1318\n",
            "Epoch 95/150\n",
            "1/1 [==============================] - 0s 36ms/step - loss: 0.0224 - acc: 1.0000 - mse: 5.7629e-04 - val_loss: 0.6857 - val_acc: 0.7105 - val_mse: 0.1319\n",
            "Epoch 96/150\n",
            "1/1 [==============================] - 0s 38ms/step - loss: 0.0222 - acc: 1.0000 - mse: 5.1432e-04 - val_loss: 0.6834 - val_acc: 0.7105 - val_mse: 0.1315\n",
            "Epoch 97/150\n",
            "1/1 [==============================] - 0s 39ms/step - loss: 0.0220 - acc: 1.0000 - mse: 5.5075e-04 - val_loss: 0.6832 - val_acc: 0.7105 - val_mse: 0.1316\n",
            "Epoch 98/150\n",
            "1/1 [==============================] - 0s 36ms/step - loss: 0.0218 - acc: 1.0000 - mse: 4.9229e-04 - val_loss: 0.6810 - val_acc: 0.7105 - val_mse: 0.1312\n",
            "Epoch 99/150\n",
            "1/1 [==============================] - 0s 37ms/step - loss: 0.0216 - acc: 1.0000 - mse: 5.3062e-04 - val_loss: 0.6811 - val_acc: 0.7105 - val_mse: 0.1314\n",
            "Epoch 100/150\n",
            "1/1 [==============================] - 0s 35ms/step - loss: 0.0214 - acc: 1.0000 - mse: 4.7418e-04 - val_loss: 0.6788 - val_acc: 0.7105 - val_mse: 0.1309\n",
            "Epoch 101/150\n",
            "1/1 [==============================] - 0s 36ms/step - loss: 0.0212 - acc: 1.0000 - mse: 5.1531e-04 - val_loss: 0.6793 - val_acc: 0.7105 - val_mse: 0.1312\n",
            "Epoch 102/150\n",
            "1/1 [==============================] - 0s 36ms/step - loss: 0.0211 - acc: 1.0000 - mse: 4.5556e-04 - val_loss: 0.6769 - val_acc: 0.7105 - val_mse: 0.1307\n",
            "Epoch 103/150\n",
            "1/1 [==============================] - 0s 36ms/step - loss: 0.0208 - acc: 1.0000 - mse: 4.8152e-04 - val_loss: 0.6768 - val_acc: 0.7105 - val_mse: 0.1308\n",
            "Epoch 104/150\n",
            "1/1 [==============================] - 0s 37ms/step - loss: 0.0206 - acc: 1.0000 - mse: 4.3735e-04 - val_loss: 0.6746 - val_acc: 0.7368 - val_mse: 0.1304\n",
            "Epoch 105/150\n",
            "1/1 [==============================] - 0s 38ms/step - loss: 0.0204 - acc: 1.0000 - mse: 4.5834e-04 - val_loss: 0.6747 - val_acc: 0.7368 - val_mse: 0.1306\n",
            "Epoch 106/150\n",
            "1/1 [==============================] - 0s 37ms/step - loss: 0.0202 - acc: 1.0000 - mse: 4.1849e-04 - val_loss: 0.6725 - val_acc: 0.7368 - val_mse: 0.1302\n",
            "Epoch 107/150\n",
            "1/1 [==============================] - 0s 40ms/step - loss: 0.0201 - acc: 1.0000 - mse: 4.4489e-04 - val_loss: 0.6729 - val_acc: 0.7368 - val_mse: 0.1304\n",
            "Epoch 108/150\n",
            "1/1 [==============================] - 0s 37ms/step - loss: 0.0200 - acc: 1.0000 - mse: 4.0605e-04 - val_loss: 0.6709 - val_acc: 0.7368 - val_mse: 0.1300\n",
            "Epoch 109/150\n",
            "1/1 [==============================] - 0s 54ms/step - loss: 0.0197 - acc: 1.0000 - mse: 4.2489e-04 - val_loss: 0.6709 - val_acc: 0.7368 - val_mse: 0.1302\n",
            "Epoch 110/150\n",
            "1/1 [==============================] - 0s 39ms/step - loss: 0.0195 - acc: 1.0000 - mse: 3.8935e-04 - val_loss: 0.6690 - val_acc: 0.7368 - val_mse: 0.1298\n",
            "Epoch 111/150\n",
            "1/1 [==============================] - 0s 54ms/step - loss: 0.0194 - acc: 1.0000 - mse: 4.0227e-04 - val_loss: 0.6687 - val_acc: 0.7368 - val_mse: 0.1299\n",
            "Epoch 112/150\n",
            "1/1 [==============================] - 0s 53ms/step - loss: 0.0192 - acc: 1.0000 - mse: 3.7968e-04 - val_loss: 0.6671 - val_acc: 0.7368 - val_mse: 0.1296\n",
            "Epoch 113/150\n",
            "1/1 [==============================] - 0s 54ms/step - loss: 0.0190 - acc: 1.0000 - mse: 3.8271e-04 - val_loss: 0.6668 - val_acc: 0.7368 - val_mse: 0.1297\n",
            "Epoch 114/150\n",
            "1/1 [==============================] - 0s 34ms/step - loss: 0.0189 - acc: 1.0000 - mse: 3.6545e-04 - val_loss: 0.6654 - val_acc: 0.7368 - val_mse: 0.1295\n",
            "Epoch 115/150\n",
            "1/1 [==============================] - 0s 50ms/step - loss: 0.0187 - acc: 1.0000 - mse: 3.6757e-04 - val_loss: 0.6650 - val_acc: 0.7368 - val_mse: 0.1295\n",
            "Epoch 116/150\n",
            "1/1 [==============================] - 0s 37ms/step - loss: 0.0186 - acc: 1.0000 - mse: 3.5385e-04 - val_loss: 0.6638 - val_acc: 0.7368 - val_mse: 0.1293\n",
            "Epoch 117/150\n",
            "1/1 [==============================] - 0s 40ms/step - loss: 0.0185 - acc: 1.0000 - mse: 3.5907e-04 - val_loss: 0.6632 - val_acc: 0.7368 - val_mse: 0.1293\n",
            "Epoch 118/150\n",
            "1/1 [==============================] - 0s 55ms/step - loss: 0.0183 - acc: 1.0000 - mse: 3.3906e-04 - val_loss: 0.6620 - val_acc: 0.7368 - val_mse: 0.1291\n",
            "Epoch 119/150\n",
            "1/1 [==============================] - 0s 34ms/step - loss: 0.0182 - acc: 1.0000 - mse: 3.4567e-04 - val_loss: 0.6617 - val_acc: 0.7368 - val_mse: 0.1291\n",
            "Epoch 120/150\n",
            "1/1 [==============================] - 0s 38ms/step - loss: 0.0181 - acc: 1.0000 - mse: 3.3049e-04 - val_loss: 0.6605 - val_acc: 0.7368 - val_mse: 0.1290\n",
            "Epoch 121/150\n",
            "1/1 [==============================] - 0s 36ms/step - loss: 0.0180 - acc: 1.0000 - mse: 3.3335e-04 - val_loss: 0.6599 - val_acc: 0.7368 - val_mse: 0.1289\n",
            "Epoch 122/150\n",
            "1/1 [==============================] - 0s 33ms/step - loss: 0.0178 - acc: 1.0000 - mse: 3.1956e-04 - val_loss: 0.6589 - val_acc: 0.7368 - val_mse: 0.1288\n",
            "Epoch 123/150\n",
            "1/1 [==============================] - 0s 35ms/step - loss: 0.0177 - acc: 1.0000 - mse: 3.2326e-04 - val_loss: 0.6583 - val_acc: 0.7368 - val_mse: 0.1288\n",
            "Epoch 124/150\n",
            "1/1 [==============================] - 0s 31ms/step - loss: 0.0176 - acc: 1.0000 - mse: 3.0783e-04 - val_loss: 0.6573 - val_acc: 0.7368 - val_mse: 0.1286\n",
            "Epoch 125/150\n",
            "1/1 [==============================] - 0s 35ms/step - loss: 0.0175 - acc: 1.0000 - mse: 3.1106e-04 - val_loss: 0.6569 - val_acc: 0.7368 - val_mse: 0.1286\n",
            "Epoch 126/150\n",
            "1/1 [==============================] - 0s 35ms/step - loss: 0.0173 - acc: 1.0000 - mse: 2.9933e-04 - val_loss: 0.6556 - val_acc: 0.7368 - val_mse: 0.1284\n",
            "Epoch 127/150\n",
            "1/1 [==============================] - 0s 32ms/step - loss: 0.0172 - acc: 1.0000 - mse: 3.0278e-04 - val_loss: 0.6550 - val_acc: 0.7368 - val_mse: 0.1284\n",
            "Epoch 128/150\n",
            "1/1 [==============================] - 0s 33ms/step - loss: 0.0171 - acc: 1.0000 - mse: 2.8628e-04 - val_loss: 0.6536 - val_acc: 0.7368 - val_mse: 0.1282\n",
            "Epoch 129/150\n",
            "1/1 [==============================] - 0s 32ms/step - loss: 0.0170 - acc: 1.0000 - mse: 2.9345e-04 - val_loss: 0.6537 - val_acc: 0.7368 - val_mse: 0.1283\n",
            "Epoch 130/150\n",
            "1/1 [==============================] - 0s 30ms/step - loss: 0.0169 - acc: 1.0000 - mse: 2.7837e-04 - val_loss: 0.6526 - val_acc: 0.7368 - val_mse: 0.1281\n",
            "Epoch 131/150\n",
            "1/1 [==============================] - 0s 36ms/step - loss: 0.0167 - acc: 1.0000 - mse: 2.8422e-04 - val_loss: 0.6520 - val_acc: 0.7368 - val_mse: 0.1281\n",
            "Epoch 132/150\n",
            "1/1 [==============================] - 0s 33ms/step - loss: 0.0166 - acc: 1.0000 - mse: 2.6934e-04 - val_loss: 0.6503 - val_acc: 0.7368 - val_mse: 0.1278\n",
            "Epoch 133/150\n",
            "1/1 [==============================] - 0s 36ms/step - loss: 0.0165 - acc: 1.0000 - mse: 2.7236e-04 - val_loss: 0.6506 - val_acc: 0.7368 - val_mse: 0.1279\n",
            "Epoch 134/150\n",
            "1/1 [==============================] - 0s 39ms/step - loss: 0.0164 - acc: 1.0000 - mse: 2.6335e-04 - val_loss: 0.6493 - val_acc: 0.7368 - val_mse: 0.1277\n",
            "Epoch 135/150\n",
            "1/1 [==============================] - 0s 36ms/step - loss: 0.0163 - acc: 1.0000 - mse: 2.6480e-04 - val_loss: 0.6484 - val_acc: 0.7368 - val_mse: 0.1276\n",
            "Epoch 136/150\n",
            "1/1 [==============================] - 0s 44ms/step - loss: 0.0162 - acc: 1.0000 - mse: 2.5383e-04 - val_loss: 0.6473 - val_acc: 0.7368 - val_mse: 0.1274\n",
            "Epoch 137/150\n",
            "1/1 [==============================] - 0s 38ms/step - loss: 0.0161 - acc: 1.0000 - mse: 2.5610e-04 - val_loss: 0.6473 - val_acc: 0.7368 - val_mse: 0.1275\n",
            "Epoch 138/150\n",
            "1/1 [==============================] - 0s 36ms/step - loss: 0.0160 - acc: 1.0000 - mse: 2.4675e-04 - val_loss: 0.6460 - val_acc: 0.7368 - val_mse: 0.1273\n",
            "Epoch 139/150\n",
            "1/1 [==============================] - 0s 32ms/step - loss: 0.0159 - acc: 1.0000 - mse: 2.5056e-04 - val_loss: 0.6460 - val_acc: 0.7368 - val_mse: 0.1274\n",
            "Epoch 140/150\n",
            "1/1 [==============================] - 0s 32ms/step - loss: 0.0158 - acc: 1.0000 - mse: 2.3616e-04 - val_loss: 0.6447 - val_acc: 0.7368 - val_mse: 0.1271\n",
            "Epoch 141/150\n",
            "1/1 [==============================] - 0s 38ms/step - loss: 0.0156 - acc: 1.0000 - mse: 2.3699e-04 - val_loss: 0.6449 - val_acc: 0.7368 - val_mse: 0.1272\n",
            "Epoch 142/150\n",
            "1/1 [==============================] - 0s 38ms/step - loss: 0.0155 - acc: 1.0000 - mse: 2.2818e-04 - val_loss: 0.6434 - val_acc: 0.7368 - val_mse: 0.1269\n",
            "Epoch 143/150\n",
            "1/1 [==============================] - 0s 34ms/step - loss: 0.0154 - acc: 1.0000 - mse: 2.3150e-04 - val_loss: 0.6437 - val_acc: 0.7368 - val_mse: 0.1271\n",
            "Epoch 144/150\n",
            "1/1 [==============================] - 0s 37ms/step - loss: 0.0153 - acc: 1.0000 - mse: 2.2220e-04 - val_loss: 0.6418 - val_acc: 0.7368 - val_mse: 0.1267\n",
            "Epoch 145/150\n",
            "1/1 [==============================] - 0s 33ms/step - loss: 0.0152 - acc: 1.0000 - mse: 2.2681e-04 - val_loss: 0.6422 - val_acc: 0.7368 - val_mse: 0.1269\n",
            "Epoch 146/150\n",
            "1/1 [==============================] - 0s 33ms/step - loss: 0.0151 - acc: 1.0000 - mse: 2.1354e-04 - val_loss: 0.6408 - val_acc: 0.7368 - val_mse: 0.1266\n",
            "Epoch 147/150\n",
            "1/1 [==============================] - 0s 38ms/step - loss: 0.0150 - acc: 1.0000 - mse: 2.1673e-04 - val_loss: 0.6404 - val_acc: 0.7368 - val_mse: 0.1266\n",
            "Epoch 148/150\n",
            "1/1 [==============================] - 0s 33ms/step - loss: 0.0149 - acc: 1.0000 - mse: 2.1049e-04 - val_loss: 0.6396 - val_acc: 0.7368 - val_mse: 0.1265\n",
            "Epoch 149/150\n",
            "1/1 [==============================] - 0s 36ms/step - loss: 0.0148 - acc: 1.0000 - mse: 2.0774e-04 - val_loss: 0.6387 - val_acc: 0.7368 - val_mse: 0.1263\n",
            "Epoch 150/150\n",
            "1/1 [==============================] - 0s 36ms/step - loss: 0.0147 - acc: 1.0000 - mse: 2.0377e-04 - val_loss: 0.6384 - val_acc: 0.7368 - val_mse: 0.1263\n"
          ]
        }
      ],
      "source": [
        "\n",
        "# Now create model9, having a BatchNormalization layer after each dense layer\n",
        "\n",
        " \n",
        "from tensorflow import keras\n",
        "from tensorflow.keras import layers\n",
        "\n",
        "model9 = Sequential([\n",
        "    Dense(512, activation='tanh', input_shape = X_train[0].shape),\n",
        "    layers.BatchNormalization(),\n",
        "    Dense(512//2, activation='tanh'),\n",
        "    layers.BatchNormalization(),\n",
        "    Dense(512//4, activation='tanh'),\n",
        "    layers.BatchNormalization(),\n",
        "    Dense(512//8, activation='tanh'),\n",
        "    layers.BatchNormalization(),\n",
        "    Dense(32, activation='relu'),\n",
        "    layers.BatchNormalization(),\n",
        "    Dense(3, activation='softmax')\n",
        "])\n",
        "print(model9.summary())\n",
        "model9.compile(optimizer='sgd',loss='categorical_crossentropy', metrics=['acc', 'mse'])\n",
        "\n",
        "hist9 = model9.fit(X_train, y_train, epochs=150, batch_size=128, validation_data=(X_test,y_test))\n",
        "\n",
        " \n"
      ]
    },
    {
      "cell_type": "code",
      "execution_count": 67,
      "metadata": {
        "id": "bICgou738ImW",
        "colab": {
          "base_uri": "https://localhost:8080/"
        },
        "outputId": "b8e593b4-7ab7-4bce-89ed-f45dbdfbad51"
      },
      "outputs": [
        {
          "output_type": "stream",
          "name": "stdout",
          "text": [
            "2/2 [==============================] - 0s 10ms/step - loss: 0.0000e+00 - acc: 0.0000e+00 - mse: 0.0000e+00\n"
          ]
        },
        {
          "output_type": "execute_result",
          "data": {
            "text/plain": [
              "[0.0, 0.0, 0.0]"
            ]
          },
          "metadata": {},
          "execution_count": 67
        }
      ],
      "source": [
        "#just how we used evaluate() in the basic model previously, use it again to find the loss, accuracy and MSE on the test set\n",
        "\n",
        "model9.evaluate(X_test)\n",
        " "
      ]
    },
    {
      "cell_type": "code",
      "execution_count": 68,
      "metadata": {
        "id": "mn3aJ6Nq8ImW",
        "colab": {
          "base_uri": "https://localhost:8080/",
          "height": 299
        },
        "outputId": "f18c19a4-1437-4906-f670-c7135b1bae0e"
      },
      "outputs": [
        {
          "output_type": "display_data",
          "data": {
            "text/plain": [
              "<Figure size 432x288 with 1 Axes>"
            ],
            "image/png": "[encoded data removed]"
          },
          "metadata": {}
        }
      ],
      "source": [
        "# Plot the train loss vs validation loss and train accuracy vs validation accuracy graphs just like we did before\n",
        "plt.plot(hist9.history['acc'], label = 'train acc')\n",
        "plt.plot(hist9.history['val_acc'], label='val acc')\n",
        "plt.title(\"train acc vs Val_acc\")\n",
        "plt.xlabel(\"Epochs\")\n",
        "plt.ylabel(\"acc\")\n",
        "plt.legend()\n",
        "plt.show()\n"
      ]
    },
    {
      "cell_type": "code",
      "execution_count": null,
      "metadata": {
        "id": "C155j1cL8ImW"
      },
      "outputs": [],
      "source": [
        "#After completing the above tasks, note down what you've understood and observed in each of the 9 models and what type of regularization works best for this dataset\n",
        "After applying 4 different types of regularization techniques, it is observed that after applying L1 regularization and doing 150 iterations, we get the least value of mse score. Hence, it can be considered as the best technique"
      ]
    }
  ],
  "metadata": {
    "colab": {
      "provenance": [],
      "toc_visible": true
    },
    "interpreter": {
      "hash": "6f6a9d06c0fd64bf60e6e1c5f52d9e61e3a0d126987fc458258eb07643fb7172"
    },
    "kernelspec": {
      "display_name": "Python 3",
      "language": "python",
      "name": "python3"
    },
    "language_info": {
      "codemirror_mode": {
        "name": "ipython",
        "version": 3
      },
      "file_extension": ".py",
      "mimetype": "text/x-python",
      "name": "python",
      "nbconvert_exporter": "python",
      "pygments_lexer": "ipython3",
      "version": "3.8.5"
    }
  },
  "nbformat": 4,
  "nbformat_minor": 0
}